{
 "cells": [
  {
   "cell_type": "markdown",
   "metadata": {
    "application/vnd.databricks.v1+cell": {
     "cellMetadata": {},
     "inputWidgets": {},
     "nuid": "790b7cef-e343-4909-8173-478d0749607b",
     "showTitle": false,
     "title": ""
    }
   },
   "source": [
    "# Databricks System Tables Tutorial using Databricks Demo"
   ]
  },
  {
   "cell_type": "markdown",
   "metadata": {
    "application/vnd.databricks.v1+cell": {
     "cellMetadata": {},
     "inputWidgets": {},
     "nuid": "00cd3cb9-eaf2-4b0b-9fed-e3aeb785c254",
     "showTitle": false,
     "title": ""
    }
   },
   "source": [
    "Source: [Databricks Demos Website](https://www.databricks.com/resources/demos/tutorials/governance/system-tables?itm_data=demo_center)"
   ]
  },
  {
   "cell_type": "code",
   "execution_count": 0,
   "metadata": {
    "application/vnd.databricks.v1+cell": {
     "cellMetadata": {},
     "inputWidgets": {},
     "nuid": "008ec766-f032-4bec-8c72-ecdecc186252",
     "showTitle": false,
     "title": ""
    }
   },
   "outputs": [],
   "source": [
    "%pip install dbdemos"
   ]
  },
  {
   "cell_type": "code",
   "execution_count": 0,
   "metadata": {
    "application/vnd.databricks.v1+cell": {
     "cellMetadata": {},
     "inputWidgets": {},
     "nuid": "d42d5425-fda1-4e9a-8561-52478d14d7eb",
     "showTitle": false,
     "title": ""
    }
   },
   "outputs": [],
   "source": [
    "import dbdemos\n",
    "dbdemos.install('uc-04-system-tables')"
   ]
  },
  {
   "cell_type": "markdown",
   "metadata": {
    "application/vnd.databricks.v1+cell": {
     "cellMetadata": {},
     "inputWidgets": {},
     "nuid": "ed0561cc-e6c0-4db0-975e-72238f6d65ef",
     "showTitle": false,
     "title": ""
    }
   },
   "source": [
    "`Remember that running dbdemos will end in a series of deployments on the platform, from Databricks SQL cluster to DLT Pipelines depending on the demo being installed!`"
   ]
  },
  {
   "cell_type": "markdown",
   "metadata": {
    "application/vnd.databricks.v1+cell": {
     "cellMetadata": {},
     "inputWidgets": {},
     "nuid": "47fbf49c-cac8-42a9-9f92-5c4a10a04979",
     "showTitle": false,
     "title": ""
    }
   },
   "source": [
    "# System Tables"
   ]
  },
  {
   "cell_type": "markdown",
   "metadata": {
    "application/vnd.databricks.v1+cell": {
     "cellMetadata": {},
     "inputWidgets": {},
     "nuid": "470c364b-b18e-4624-804e-1fca3e3e75d5",
     "showTitle": false,
     "title": ""
    }
   },
   "source": [
    "### Audit Log System Table:\n",
    "\n",
    "###### Description: Includes records for all audit events across your Databricks account. For a list of available audit events, see Audit log reference.\n",
    "###### Location: `system.access.audit`\n",
    "\n",
    "| Column Name | Data Type | Description | Example |\n",
    "|-------------|-----------|-------------|---------|\n",
    "| `version`   | string    | Audit log schema version  | 2.0 |\n",
    "| `event_time` | timestamp | Timestamp | 2023-01-01T01:01:01.123 |\n",
    "| `event_date` | date | Calendar date the action took place | 2023-01-01 |\n",
    "| `workspace_id` | long | ID of the workspace | 1234567890123456 |\n",
    "| `source_ip_address` | string | IP address where the request originated | 10.30.0.242 |\n",
    "| `user_agent` | string | Origination of request | Apache-HttpClient/4.5.13 (Java/1.8.0_345) |\n",
    "| `session_id` | string | ID of the session where the request came from | 123456789 |\n",
    "| `user_identity` | string | Identity of user initiating request | {\"email\": \"user@domain.com\", \"subjectName\": null} |\n",
    "| `service_name` | string | Service name initiating request | unityCatalog |\n",
    "| `action_name` | string | Category of the event captured in audit log | getTable |\n",
    "| `request_id` | string | ID of request | ServiceMain-4529754264 |\n",
    "| `request_params` | map | Map of key values containing all the request parameters. Depends on request type | [[\"full_name_arg\", \"user.chat.messages\"], [\"workspace_id\", \"123456789\"], [\"metastore_id\", \"123456789\"]] |\n",
    "| `response` | struct | Struct of response return values | {\"statusCode\": 200, \"errorMessage\": null, \"result\": null} |\n",
    "| `audit_level` | string | Workspace or account level event | ACCOUNT_LEVEL |\n",
    "| `account_id` | string | ID of the account | 23e22ba4-87b9-4cc2-9770-d10b894bxx |\n",
    "| `event_id` | string | ID of the event | 34ac703c772f3549dcc8671f654950f0 |"
   ]
  },
  {
   "cell_type": "markdown",
   "metadata": {
    "application/vnd.databricks.v1+cell": {
     "cellMetadata": {},
     "inputWidgets": {},
     "nuid": "6ec0249d-6e1e-4abe-b6b5-9ec593a9704a",
     "showTitle": false,
     "title": ""
    }
   },
   "source": [
    "### Lineage System Table:\n",
    "\n",
    "###### Description: Includes a record for each read or write event on a Unity Catalog table or path and also record for each read or write event on a Unity Catalog column (but does not include events that do not have a source).\n",
    "###### Location: `system.access.table_lineage` & `system.access.column_lineage`\n",
    "\n",
    "| Column Name | Data Type | Description | Example |\n",
    "|-------------|-----------|-------------|---------|\n",
    "| `account_id` | string | The ID of the Databricks account. | 7af234db-66d7-4db3-bbf0-956098224879 |\n",
    "| `metastore_id` | string | The ID of the Unity Catalog metastore. | 5a31ba44-bbf4-4174-bf33-e1fa078e6765 | \n",
    "| `workspace_id` | string | The ID of the workspace | 123456789012345 |\n",
    "| `entity_type` | string | The type of entity the lineage transaction was captured from. The value is NOTEBOOK, JOB, PIPELINE, DBSQL_DASHBOARD, DBSQL_QUERY, OR NULL. | NOTEBOOK |\n",
    "| `entity_id` | string | The ID of the entity the lineage transaction was captured from. If entity_type is NULL, entity_id is NULL. | Notebook: 23098402394234 <br /> Job: 23098402394234  <br /> Databricks SQL query: e9cd8a31-de2f-4206-adfa-4f6605d68d88  <br /> Databricks SQL dashboard: e9cd8a31-de2f-4206-adfa-4f6605d68d88  <br /> Pipeline: e9cd8a31-de2f-4206-adfa-4f6605d68d88 |\n",
    "| `entity_run_id` | string | ID to describe the unique run of the entity, or NULL. This differs for each entity type:  <br /> Notebook: command_run_id  <br /> Job: job_run_id  <br /> Databricks SQL query: query_run_id  <br /> Databricks SQL dashboard: query_run_id  <br /> Pipeline: pipeline_update_id  <br /> If entity_type is NULL, entity_run_id is NULL.  |  Notebook: 23098402394234  <br /> Job: 23098402394234  <br /> Databricks SQL query: e9cd8a31-de2f-4206-adfa-4f6605d68d88  <br /> Databricks SQL dashboard: e9cd8a31-de2f-4206-adfa-4f6605d68d88  <br /> Pipeline: e9cd8a31-de2f-4206-adfa-4f6605d68d88\n",
    "| `source_table_full_name` | string | Three-part name to identify the source table. | catalog.schema.table |\n",
    "| `source_table_catalog` | string | The catalog of the source table. | catalog |\n",
    "| `source_table_schema` | string | The schema of the source table. | catalog.schema |\n",
    "| `source_table_name` | string | The name of the source table. | table |\n",
    "| `source_path` | string | Location in cloud storage of the source table, or the path if it’s reading from cloud storage directly. | s3://mybucket/table1 |\n",
    "| `source_type` | string | The type of the source. The value is TABLE, PATH, VIEW, or STREAMING_TABLE. | TABLE |\n",
    "| `source_column_name` | string | The name of the source column. | date |\n",
    "| `target_table_full_name` | string | Three-part name to identify the target table. | catalog.schema.table |\n",
    "| `target_table_catalog` | string | The catalog of the target table. | catalog |\n",
    "| `target_table_schema` | string | The schema of the target table. | catalog.schema |\n",
    "| `target_table_name` | string | The name of the target table. | table |\n",
    "| `target_path` | string | Location in cloud storage of the target table. | s3://mybucket/table1 |\n",
    "| `target_type` | string | The type of the target. The value is TABLE, PATH, VIEW,or STREAMING TABLE. | TABLE |\n",
    "| `target_column_name` | string | The name of the target column. | date |\n",
    "| `created_by` | string | The user who generated this lineage. This can be a Databricks username, a Databricks service principal ID, “System-User”, or NULL if the user information cannot be captured. | crampton.rods@email.com |\n",
    "| `event_time` | timestamp | The timestamp when the lineage was generated. | 2023-06-20T19:47:21.194+0000 |\n",
    "| `event_date` | date | The date when the lineage was generated. This is a partitioned column. | 2023-06-20 |"
   ]
  },
  {
   "cell_type": "markdown",
   "metadata": {
    "application/vnd.databricks.v1+cell": {
     "cellMetadata": {},
     "inputWidgets": {},
     "nuid": "085591b0-5155-4a8a-8c5d-0f4477408fc3",
     "showTitle": false,
     "title": ""
    }
   },
   "source": [
    "### Billable Usage System Table:\n",
    "\n",
    "###### Description: Includes records for all billable usage across your account. Each usage record is an hourly aggregate of a resource’s billable usage.\n",
    "###### Location: `system.billing.usage`\n",
    "\n",
    "| Column Name | Data Type | Description | Example |\n",
    "|-------------|-----------|-------------|---------|\n",
    "| `record_id` | string | Unique ID for this record | 11e22ba4-87b9-4cc2-9770-d10b894b7118 |\n",
    "| `account_id` | string | ID of the account this report was generated for | 23e22ba4-87b9-4cc2-9770-d10b894b7118 |\n",
    "| `workspace_id` | string | ID of the Workspace this usage was associated with | 1234567890123456 |\n",
    "| `sku_name` | string | Name of the SKU | STANDARD_ALL_PURPOSE_COMPUTE |\n",
    "| `cloud` | string | Cloud this usage is relevant for. Possible values are AWS, AZURE, and GCP. | AWS <br /> AZURE <br />GCP |\n",
    "| `usage_start_time` | timestamp | The start time relevant to this usage record | 2023-01-09 10:00:00.000 |\n",
    "| `usage_end_time` | timestamp | The end time relevant to this usage record | 2023-01-09 11:00:00.000 |\n",
    "| `usage_date` | date | Date of the usage record, this field can be used for faster aggregation by date | 2023-01-01 |\n",
    "| `custom_tags` | map | Tags applied by the users to this usage | { “env”: “production” } |\n",
    "| `usage_unit` | string | Unit this usage is measured in. Possible values include DBUs. | DBU |\n",
    "| `usage_quantity` | decimal | Number of units consumed for this record. | 259.2958 |\n",
    "| `usage_metadata` | struct | System-provided metadata about the usage, including IDs for compute resources and jobs (if applicable). | {cluster_id: 12345; instance_pool_id: null; warehouse_id: null; job_id: null; node_type: null} |"
   ]
  },
  {
   "cell_type": "markdown",
   "metadata": {
    "application/vnd.databricks.v1+cell": {
     "cellMetadata": {},
     "inputWidgets": {},
     "nuid": "ced18173-8cff-421c-94c0-8130990fcc66",
     "showTitle": false,
     "title": ""
    }
   },
   "source": [
    "### Pricing System Table:\n",
    "\n",
    "###### Description: A historical log of SKU pricing. A record gets added each time there is a change to a SKU price.\n",
    "###### Location: `system.billing.list_prices`\n",
    "\n",
    "| Column Name | Data Type | Description | Example |\n",
    "|-------------|-----------|-------------|---------|\n",
    "| `price_start_time` | timestamp | The time this price became effective | 2023-01-01T09:59:59.999Z |\n",
    "| `price_end_time` | timestamp | The time this price stopped being effective | 2023-01-01T09:59:59.999Z |\n",
    "| `account_id` | string | ID of the account this report was generated for | 1234567890123456 |\n",
    "| `sku_name` | string | Name of the SKU | STANDARD_ALL_PURPOSE_COMPUTE |\n",
    "| `cloud` | string | Cloud this usage is relevant for. Possible values are AWS, AZURE, and GCP. | AWS <br /> AZURE <br />GCP |\n",
    "| `currency_code` | string | The currency this price is expressed in | USD |\n",
    "| `usage_unit` | string | The unit of measurement that is monetized. | DBU |\n",
    "| `pricing` | struct | A structured data field that includes pricing info at the published list price rate. The key default will always return a single price that can be used for simple estimates. Some pricing models might also include additional keys that provide more detail. | {default: $0.10} |"
   ]
  },
  {
   "cell_type": "markdown",
   "metadata": {
    "application/vnd.databricks.v1+cell": {
     "cellMetadata": {},
     "inputWidgets": {},
     "nuid": "bf11ccf3-5d0f-4830-8ba5-7e5729b73644",
     "showTitle": false,
     "title": ""
    }
   },
   "source": [
    "### Clusters System Table:\n",
    "\n",
    "###### Description: A slow-changing dimension table that contains the full history of cluster configurations over time for any cluster.\n",
    "###### Location: `system.compute.clusters`\n",
    "\n",
    "| Column Name | Data Type | Description | Example |\n",
    "|-------------|-----------|-------------|---------|\n",
    "| `account_id` | string | ID of the account where this cluster was created. | 23e22ba4-87b9-4cc2-9770-d10b894b7118 |\n",
    "| `workspace_id` | string | ID of the workspace where this cluster was created. | 1234567890123456 |\n",
    "| `cluster_id` | string | ID of the cluster for which this record is associated. | 0000-123456-xxxxxxxx |\n",
    "| `cluster_name` | string | User defined name for the cluster. | My cluster |\n",
    "| `owned_by` | string | Username of the cluster owner. Defaults to the cluster creator, but can be changed through the Clusters API. | sample_user@email.com |\n",
    "| `create_time` | timestamp | Timestamp of the change to this compute definition. | 2023-01-09 11:00:00.000 |\n",
    "| `delete_time` | timestamp | Timestamp of when the cluster was deleted. The value is null if the cluster is not deleted. | 2023-01-09 11:00:00.000 |\n",
    "| `driver_node_type` | string | Driver node type name. This matches the instance type name from the cloud provider. | i3.xlarge |\n",
    "| `worker_node_type` | string | Worker node type name. This matches the instance type name from the cloud provider. | i3.xlarge |\n",
    "| `worker_count` | bigint | Number of workers. Defined for fixed-size clusters only. | 4 |\n",
    "| `min_autoscale_workers` | bigint | The set minimum number of workers. This field is valid only for autoscaling clusters. | 1 |\n",
    "| `max_autoscale_workers` | bigint | The set maximum number of workers. This field is valid only for autoscaling clusters. | 1 |\n",
    "| `auto_termination_minutes` | bigint | The configured autotermination duration. | 120 |\n",
    "| `enable_elastic_disk` | boolean | Autoscaling disk enablement status. | true |\n",
    "| `tags` | map | Default and user defined tags for the cluster. | {\"ResourceClass\":\"SingleNode\"} |\n",
    "| `cluster_source` | string | Indicates the creator for the cluster: UI, API, DLT, JOB, etc. | UI |\n",
    "| `init_scripts` | array | Set of paths for init scripts. | \"/Users/example@email.com/files/scripts/install-pyt |\n",
    "| `aws_attributes` | struct | AWS specific settings. | {<br>\"ebs_volume_count\": null<br>\"availability\": \"SPOT_WITH_FALLBACK\",<br>\"first_on_demand\": \"0\",<br>\"spot_bid_price_percent\": \"100\"<br>} |\n",
    "| `azure_attributes` | struct | Azure specific settings. | empty |\n",
    "| `gcp_attributes` | struct | GCP specific settings. This field will be empty. | empty |\n",
    "| `driver_instance_pool_id` | string | Instance pool ID if the driver is configured on top of an instance pool. | 1107-555555-crhod16-pool-DIdnjazB |\n",
    "| `worker_instance_pool_id` | string | Instance Pool ID if the worker is configured on top of an instance pool. | 1107-555555-crhod16-pool-DIdnjazB |\n",
    "| `dbr_version` | string | The Databricks Runtime of the cluster. | 14.x-snapshot-scala2.12 |\n",
    "| `change_time` | timestamp | Timestamp of change to the compute definition. | 2023-01-09 11:00:00.000 |\n",
    "| `change_date` | date | Change date. Used for retention. | 2023-01-09 |"
   ]
  },
  {
   "cell_type": "markdown",
   "metadata": {
    "application/vnd.databricks.v1+cell": {
     "cellMetadata": {},
     "inputWidgets": {},
     "nuid": "2d99a821-7506-40af-8ad4-953c1b7c6322",
     "showTitle": false,
     "title": ""
    }
   },
   "source": [
    "### Node Types System Table:\n",
    "\n",
    "###### Description: Captures the currently available node types with their basic hardware information.\n",
    "###### Location: `system.compute.node_types`\n",
    "\n",
    "| Column Name | Data Type | Description | Example |\n",
    "|-------------|-----------|-------------|---------|\n",
    "| `account_id` | string | ID of the account where this cluster was created. | 23e22ba4-87b9-4cc2-9770-d10b894b7118 |\n",
    "| `node_type_name` | string | Unique identifier for node type. | i3.xlarge |\n",
    "| `core_count` | double | Number of vCPUs for the instance. | 48.0 |\n",
    "| `memory_mb` | long | Total memory for the instance. | 393216 |\n",
    "| `gpu_count` | long | Number of GPUs for the instance. | 0 |"
   ]
  },
  {
   "cell_type": "markdown",
   "metadata": {
    "application/vnd.databricks.v1+cell": {
     "cellMetadata": {},
     "inputWidgets": {},
     "nuid": "fc74bcc8-c6a9-4ac4-be96-69858e02d797",
     "showTitle": false,
     "title": ""
    }
   },
   "source": [
    "### Marketplace Listing Access System Table:\n",
    "\n",
    "###### Description: Includes consumer info for completed request data or get data events on your listings.\n",
    "###### Location: `system.marketplace.listing_access_events`\n",
    "\n",
    "| Column Name | Data Type | Description |\n",
    "|-------------|-----------|-------------|\n",
    "| `account_id` | string | The account ID that hosts the listing. |\n",
    "| `metastore_id` | string | The metatore ID that hosts the listing. |\n",
    "| `metastore_cloud` | string | The cloud provider of the metastore that hosts the listing. |\n",
    "| `metastore_region` | string | The region of the metastore that hosts the listing. |\n",
    "| `provider_id` | string | The provider profile ID. |\n",
    "| `provider_name` | string | The provider profile name. |\n",
    "| `listing_id` | string | The listing ID. |\n",
    "| `listing_name` | string | The listing name. |\n",
    "| `consumer_delta_sharing_recipient_name` | string | The underlying Delta Sharing recipient name for the consumer. The value is null when the event_type is REQUEST_DATA. |\n",
    "| `consumer_delta_sharing_recipient_type` | string | Whether the consumer is on a Databricks account or not. Values will be either OPEN or DATABRICKS. |\n",
    "| `consumer_cloud` | string | The consumer’s cloud. Nullable if consumer_delta_sharing_recipient_type is OPEN. |\n",
    "| `consumer_region` | string | The consumer’s region. Nullable if consumer_delta_sharing_recipient_type is OPEN. |\n",
    "| `consumer_metastore_id` | string | The consumer’s metastore ID. Nullable if consumer_delta_sharing_recipient_type is OPEN. |\n",
    "| `consumer_email` | string | The consumer’s email address. PII. |\n",
    "| `consumer_name` | string | The consumer’s name. PII. |\n",
    "| `consumer_company` | string | The consumer’s company. |\n",
    "| `consumer_intended_use` | string | The consumer’s intended use of the listing. |\n",
    "| `consumer_comments` | string | Any additional comment the consumer left. |\n",
    "| `event_type` | string | The type of access. The value can be either REQUEST_DATA or GET_DATA. |\n",
    "| `event_date` | date | The UTC date the event happened. |\n",
    "| `event_time` | timestamp | The exact UTC timestamp when the event happened. |"
   ]
  },
  {
   "cell_type": "markdown",
   "metadata": {
    "application/vnd.databricks.v1+cell": {
     "cellMetadata": {},
     "inputWidgets": {},
     "nuid": "78de2fcc-8e49-4ec4-a06c-b6f8d908747b",
     "showTitle": false,
     "title": ""
    }
   },
   "source": [
    "### Predictive Optimization History System Table:\n",
    "\n",
    "###### Description: Tracks the operation history of the predictive optimization feature.\n",
    "###### Location: `system.storage.predictive_optimization_operations_history`\n",
    "\n",
    "| Column Name | Data Type | Description | Example |\n",
    "|-------------|-----------|-------------|---------|\n",
    "| `account_id` | string | ID of the account. | 11e22ba4-87b9-4cc2-9770-d10b894b7118 |\n",
    "| `workspace_id` | string | The ID of the workspace in which predictive optimization ran the operation. | 1234567890123456 |\n",
    "| `start_time` | timestamp | The time at which the operation started. | 2023-01-09 10:00:00.000 |\n",
    "| `end_time` | timestamp | The time at which the operation ended. | 2023-01-09 11:00:00.000 |\n",
    "| `metastore_name` | string | The name of the metastore to which the optimized table belongs. | metastore |\n",
    "| `catalog_name` | string | The name of the catalog to which the optimized table belongs. | catalog |\n",
    "| `schema_name` | string | The name of the schema to which the optimized table belongs. | schema |\n",
    "| `table_id` | string | The ID of the optimized table. | 138ebb4b-3757-41bb-9e18-52b38d3d2836 |\n",
    "| `table_name` | string | The name of the optimized table. | table1 |\n",
    "| `operation_type` | string | The optimization operation which was performed. The value will be COMPACTION or VACUUM. | COMPACTION |\n",
    "| `operation_id` | string | The ID for the optimization operation. | 4dad1136-6a8f-418f-8234-6855cfaff18f |\n",
    "| `operation_status` | string | The status of the optimization operation. The value will be SUCCESSFUL or FAILED: INTERNAL_ERROR. | SUCCESSFUL |\n",
    "| `operation_metrics` | map[string, string]` | Additional details about the specific optimization that was performed. For COMPACTION operations: (number_of_compacted_files, amount_of_data_compacted_bytes, number_of_output_files, amount_of_output_data_bytes) For VACUUM operations: (number_of_deleted_files, amount_of_data_deleted_bytes)` | {\"number_of_output_files\":\"100\", <br /> \"number_of_compacted_files\":\"1000\", <br /> \"amount_of_output_data_bytes\":\"4000\", <br /> \"amount_of_data_compacted_bytes\":\"10000\"}` |\n",
    "| `usage_unit` | string | The unit of usage that this operation incurred. Can only be one value: ESTIMATED_DBU. | ESTIMATED_DBU |\n",
    "| `usage_quantity` | decimal | The amount of the usage unit that was used by this operation. | 2.12 |"
   ]
  }
 ],
 "metadata": {
  "application/vnd.databricks.v1+notebook": {
   "dashboards": [],
   "language": "python",
   "notebookMetadata": {
    "pythonIndentUnit": 4
   },
   "notebookName": "Day 4 [Hero] - System Tables",
   "widgets": {}
  }
 },
 "nbformat": 4,
 "nbformat_minor": 0
}

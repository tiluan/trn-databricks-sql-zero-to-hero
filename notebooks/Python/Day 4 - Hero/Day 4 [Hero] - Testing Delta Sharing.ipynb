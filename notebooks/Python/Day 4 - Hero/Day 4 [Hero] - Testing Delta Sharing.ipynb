{
 "cells": [
  {
   "cell_type": "markdown",
   "metadata": {
    "application/vnd.databricks.v1+cell": {
     "cellMetadata": {},
     "inputWidgets": {},
     "nuid": "50489517-775c-43ff-a050-9cdd511c0059",
     "showTitle": false,
     "title": ""
    }
   },
   "source": [
    "## Important\n",
    "\n",
    "Unlike the other notebooks, this notebook was run on a Jupyter Notebook locally to test Delta Sharing access using Pandas, therefore it was not created as a Databricks Notebook and has no impact from Runtime versions."
   ]
  },
  {
   "cell_type": "code",
   "execution_count": 0,
   "metadata": {
    "application/vnd.databricks.v1+cell": {
     "cellMetadata": {},
     "inputWidgets": {},
     "nuid": "f30de089-2a43-4657-9470-07788117eb98",
     "showTitle": false,
     "title": ""
    }
   },
   "outputs": [],
   "source": [
    "profile_file = \"Downloads/config.share\""
   ]
  },
  {
   "cell_type": "code",
   "execution_count": 0,
   "metadata": {
    "application/vnd.databricks.v1+cell": {
     "cellMetadata": {},
     "inputWidgets": {},
     "nuid": "ee4fd492-8f09-47bb-834c-cd61a34ec41e",
     "showTitle": false,
     "title": ""
    }
   },
   "outputs": [],
   "source": [
    "import delta_sharing\n",
    "\n",
    "client = delta_sharing.SharingClient(\"Downloads/config.share\")\n",
    "\n",
    "client.list_all_tables()"
   ]
  },
  {
   "cell_type": "code",
   "execution_count": 0,
   "metadata": {
    "application/vnd.databricks.v1+cell": {
     "cellMetadata": {},
     "inputWidgets": {},
     "nuid": "6a1c4715-65e1-4919-a387-5ceba1d4a08d",
     "showTitle": false,
     "title": ""
    }
   },
   "outputs": [],
   "source": [
    "table_url = profile_file + \"#share_name.schema_name.table_name\""
   ]
  },
  {
   "cell_type": "code",
   "execution_count": 0,
   "metadata": {
    "application/vnd.databricks.v1+cell": {
     "cellMetadata": {},
     "inputWidgets": {},
     "nuid": "e81c86a5-69ae-4ef0-b32d-34d6a0419961",
     "showTitle": false,
     "title": ""
    }
   },
   "outputs": [],
   "source": [
    "delta_sharing.load_as_pandas(table_url, limit = 10)"
   ]
  }
 ],
 "metadata": {
  "application/vnd.databricks.v1+notebook": {
   "dashboards": [],
   "language": "python",
   "notebookMetadata": {
    "pythonIndentUnit": 4
   },
   "notebookName": "Day 4 [Hero] - Testing Delta Sharing",
   "widgets": {}
  },
  "kernelspec": {
   "display_name": "Python 3 (ipykernel)",
   "language": "python",
   "name": "python3"
  },
  "language_info": {
   "codemirror_mode": {
    "name": "ipython",
    "version": 3
   },
   "file_extension": ".py",
   "mimetype": "text/x-python",
   "name": "python",
   "nbconvert_exporter": "python",
   "pygments_lexer": "ipython3",
   "version": "3.10.12"
  }
 },
 "nbformat": 4,
 "nbformat_minor": 0
}

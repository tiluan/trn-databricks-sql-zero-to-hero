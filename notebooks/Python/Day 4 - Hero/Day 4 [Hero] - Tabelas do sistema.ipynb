{
 "cells": [
  {
   "cell_type": "markdown",
   "metadata": {
    "application/vnd.databricks.v1+cell": {
     "cellMetadata": {},
     "inputWidgets": {},
     "nuid": "790b7cef-e343-4909-8173-478d0749607b",
     "showTitle": false,
     "title": ""
    }
   },
   "source": [
    "# Tutorial de tabelas de sistema do Databricks usando demonstração do Databricks"
   ]
  },
  {
   "cell_type": "markdown",
   "metadata": {
    "application/vnd.databricks.v1+cell": {
     "cellMetadata": {},
     "inputWidgets": {},
     "nuid": "00cd3cb9-eaf2-4b0b-9fed-e3aeb785c254",
     "showTitle": false,
     "title": ""
    }
   },
   "source": [
    "Source: [Databricks Demos Website](https://www.databricks.com/resources/demos/tutorials/governance/system-tables?itm_data=demo_center)"
   ]
  },
  {
   "cell_type": "code",
   "execution_count": 0,
   "metadata": {
    "application/vnd.databricks.v1+cell": {
     "cellMetadata": {},
     "inputWidgets": {},
     "nuid": "008ec766-f032-4bec-8c72-ecdecc186252",
     "showTitle": false,
     "title": ""
    }
   },
   "outputs": [],
   "source": [
    "%pip install dbdemos"
   ]
  },
  {
   "cell_type": "code",
   "execution_count": 0,
   "metadata": {
    "application/vnd.databricks.v1+cell": {
     "cellMetadata": {},
     "inputWidgets": {},
     "nuid": "d42d5425-fda1-4e9a-8561-52478d14d7eb",
     "showTitle": false,
     "title": ""
    }
   },
   "outputs": [],
   "source": [
    "import dbdemos\n",
    "dbdemos.install('uc-04-system-tables')"
   ]
  },
  {
   "cell_type": "markdown",
   "metadata": {
    "application/vnd.databricks.v1+cell": {
     "cellMetadata": {},
     "inputWidgets": {},
     "nuid": "ed0561cc-e6c0-4db0-975e-72238f6d65ef",
     "showTitle": false,
     "title": ""
    }
   },
   "source": [
    "`Lembre-se de que a execução de dbdemos terminará em uma série de implantações na plataforma, desde o cluster Databricks SQL até DLT Pipelines, dependendo da demonstração que está sendo instalada!`"
   ]
  },
  {
   "cell_type": "markdown",
   "metadata": {
    "application/vnd.databricks.v1+cell": {
     "cellMetadata": {},
     "inputWidgets": {},
     "nuid": "47fbf49c-cac8-42a9-9f92-5c4a10a04979",
     "showTitle": false,
     "title": ""
    }
   },
   "source": [
    "# Tabelas do sistema"
   ]
  },
  {
   "cell_type": "markdown",
   "metadata": {
    "application/vnd.databricks.v1+cell": {
     "cellMetadata": {},
     "inputWidgets": {},
     "nuid": "470c364b-b18e-4624-804e-1fca3e3e75d5",
     "showTitle": false,
     "title": ""
    }
   },
   "source": [
    "### Tabela do sistema de log de auditoria:\n",
    "\n",
    "###### Descrição: Inclui registros para todos os eventos de auditoria em sua conta do Databricks. Para obter uma lista de eventos de auditoria disponíveis, consulte Referência do log de auditoria.\n",
    "###### Localização: `system.access.audit`\n",
    "\n",
    "| Nome da coluna | Tipo de dados | Descrição | Exemplo |\n",
    "|------------|-----------|-------------|--------- |\n",
    "| `version` | string | Versão do esquema do log de auditoria | 2.0 |\n",
    "| `event_time` | timestamp | Timestamp | 2023-01-01T01:01:01.123 |\n",
    "| `event_date` | date | Data do calendário em que a ação ocorreu | 01/01/2023 |\n",
    "| `workspace_id` | long | ID do espaço de trabalho | 1234567890123456 |\n",
    "| `source_ip_address` | string | Endereço IP de origem do pedido | 10.30.0.242 |\n",
    "| `user_agent` | string | Originação do pedido | Apache-HttpClient/4.5.13 (Java/1.8.0_345) |\n",
    "| `session_id` | string | ID da sessão de onde veio a solicitação | 123456789 |\n",
    "| `user_identity` | string | Identidade do utilizador que inicia o pedido | {\"email\": \"user@domain.com\", \"subjectName\": null} |\n",
    "| `service_name` | string | Nome do serviço iniciando solicitação | unidadeCatálogo |\n",
    "| `action_name` | string | Categoria do evento capturado no registo de auditoria | obterTabela |\n",
    "| `request_id` | string | ID do pedido | ServiçoPrincipal-4529754264 |\n",
    "| `request_params` | map | Mapa de valores-chave contendo todos os parâmetros da solicitação. Depende do tipo de solicitação | [[\"nome_completo_arg\", \"user.chat.messages\"], [\"workspace_id\", \"123456789\"], [\"metastore_id\", \"123456789\"]] |\n",
    "| `response` | struct | Estrutura dos valores de retorno da resposta | {\"statusCode\": 200, \"errorMessage\": nulo, \"resultado\": nulo} |\n",
    "| `audit_level` | string | Evento no nível do espaço de trabalho ou da conta | CONTA_LEVEL |\n",
    "| `account_id` | string | ID da conta | 23e22ba4-87b9-4cc2-9770-d10b894bxx |\n",
    "| `event_id` | string | ID do evento | 34ac703c772f3549dcc8671f654950f0 |"
   ]
  },
  {
   "cell_type": "markdown",
   "metadata": {
    "application/vnd.databricks.v1+cell": {
     "cellMetadata": {},
     "inputWidgets": {},
     "nuid": "6ec0249d-6e1e-4abe-b6b5-9ec593a9704a",
     "showTitle": false,
     "title": ""
    }
   },
   "source": [
    "### Tabela do sistema de linhagem:\n",
    "\n",
    "###### Descrição: Inclui um registro para cada evento de leitura ou gravação em uma tabela ou caminho do Catálogo do Unity e também um registro para cada evento de leitura ou gravação em uma coluna do Catálogo do Unity (mas não inclui eventos que não possuem uma origem ).\n",
    "###### Localização: `system.access.table_lineage` e `system.access.column_lineage`\n",
    "\n",
    "| Nome da coluna | Tipo de dados | Descrição | Exemplo |\n",
    "|------------|-----------|-------------|--------- |\n",
    "| `account_id` | string | O ID da conta do Databricks. | 7af234db-66d7-4db3-bbf0-956098224879 |\n",
    "| `metastore_id` | string | O ID do metastore do Catálogo do Unity. | 5a31ba44-bbf4-4174-bf33-e1fa078e6765 |\n",
    "| `workspace_ido` | string | O ID do espaço de trabalho | 123456789012345 |\n",
    "| `entity_type` | string | O tipo de entidade da qual a transação de linhagem foi capturada. O valor é NOTEBOOK, JOB, PIPELINE, DBSQL_DASHBOARD, DBSQL_QUERY ou NULL. | NOTEBOOK |\n",
    "| `entity_id` | string | O ID da entidade da qual a transação de linhagem foi capturada. Seentity_type for NULL,entity_id será NULL. Notebook: 23098402394234 <br /> Job: 23098402394234  <br /> Databricks SQL query: e9cd8a31-de2f-4206-adfa-4f6605d68d88  <br /> Databricks SQL dashboard: e9cd8a31-de2f-4206-adfa-4f6605d68d88  <br /> Pipeline: e9cd8a31-de2f-4206-adfa-4f6605d68d88 |\n",
    "| `entity_run_id` | string | ID para descrever a execução exclusiva da entidade ou NULL. Isso difere para cada tipo de entidade: <br /> Notebook: command_run_id <br /> Trabalho: job_run_id <br /> Consulta SQL do Databricks: query_run_id <br /> Painel SQL do Databricks: query_run_id <br /> Pipeline: pipeline_update_id <br /> Seentity_type for NULL,entity_run_id será NULL. | Notebook: 23098402394234  <br /> Job: 23098402394234  <br /> Databricks SQL query: e9cd8a31-de2f-4206-adfa-4f6605d68d88  <br /> Databricks SQL dashboard: e9cd8a31-de2f-4206-adfa-4f6605d68d88  <br /> Pipeline: e9cd8a31-de2f-4206-adfa-4f6605d68d88\n",
    "| `source_table_full_name` | string | Nome de três partes para identificar a tabela de origem. | catalog.schema.table |\n",
    "| `source_table_catalog` | string | O catálogo da tabela de origem. | catalog |\n",
    "| `source_table_schema` | string | O esquema da tabela de origem. | catalog.schema |\n",
    "| `source_table_name` | string | O nome da tabela de origem. | table |\n",
    "| `caminho_fonte` | string | Localização no armazenamento em nuvem da tabela de origem ou o caminho, se estiver lendo diretamente do armazenamento em nuvem. | s3://meubucket/tabela1 |\n",
    "| `tipo_fonte` | string | O tipo da fonte. O valor é TABLE, PATH, VIEW ou STREAMING_TABLE. | TABLE |\n",
    "| `source_path` | string | O nome da coluna de origem. | date |\n",
    "| `target_table_full_name` | string | Nome de três partes para identificar a tabela de destino. | catalog.schema.table |\n",
    "| `target_table_catalog` | string | O catálogo da tabela de destino. | catalog |\n",
    "| `target_table_schema` | string | O esquema da tabela de destino. | catalog.schema |\n",
    "| `target_table_name` | string | O nome da tabela de destino. | table |\n",
    "| `target_path` | string | Localização no armazenamento em nuvem da tabela de destino. | s3://meubucket/tabela1 |\n",
    "| `target_type` | string | O tipo do destino. O valor é TABLE, PATH, VIEW ou STREAMING TABLE. | TABELA |\n",
    "| `target_column_name` | string | O nome da coluna de destino. | date |\n",
    "| `created_by` | string | O usuário que gerou esta linhagem. Pode ser um nome de usuário do Databricks, uma ID principal de serviço do Databricks, “Usuário do Sistema” ou NULL se as informações do usuário não puderem ser capturadas. | crampton.rods@email.com |\n",
    "| `event_time` | timestamp | The timestamp when the lineage was generated. | 2023-06-20T19:47:21.194+0000 |\n",
    "| `event_date` | date | A data em que a linhagem foi gerada. Esta é uma coluna particionada. | 2023/06/20 |"
   ]
  },
  {
   "cell_type": "markdown",
   "metadata": {
    "application/vnd.databricks.v1+cell": {
     "cellMetadata": {},
     "inputWidgets": {},
     "nuid": "085591b0-5155-4a8a-8c5d-0f4477408fc3",
     "showTitle": false,
     "title": ""
    }
   },
   "source": [
    "### Tabela de Sistema de Uso Faturável:\n",
    "\n",
    "###### Descrição: Inclui registros de todo o uso faturável em sua conta. Cada registro de uso é um agregado por hora do uso faturável de um recurso.\n",
    "###### Localização: `system.billing.usage`\n",
    "\n",
    "| Nome da coluna | Tipo de dados | Descrição | Exemplo |\n",
    "|------------|-----------|-------------|--------- |\n",
    "| `record_id` | string | ID exclusivo para este registro | 11e22ba4-87b9-4cc2-9770-d10b894b7118 |\n",
    "| `account_id` | string | ID da conta para a qual este relatório foi gerado | 23e22ba4-87b9-4cc2-9770-d10b894b7118 |\n",
    "| `workspace_id` | string | ID do espaço de trabalho ao qual esse uso foi associado | 1234567890123456 |\n",
    "| `sku_name` | string | Nome do SKU | STANDARD_ALL_PURPOSE_COMPUTE |\n",
    "| `cloud` | string | Nuvem para a qual esse uso é relevante. Os valores possíveis são AWS, AZURE e GCP. | AWS <br /> AZURE <br />GCP |\n",
    "| `usage_start_time` | timestamp  | A hora de início relevante para este registo de utilização | 09/01/2023 10:00:00.000 |\n",
    "| `usage_end_time` | timestamp  | A hora final relevante para este registo de utilização | 09/01/2023 11:00:00.000 |\n",
    "| `usage_date` | date | Data do registro de utilização, este campo pode ser utilizado para agregação mais rápida por data | 01/01/2023 |\n",
    "| `custom_tags` | map | Tags aplicadas pelos usuários a este uso | { “ambiente”: “produção” } |\n",
    "| `usage_unit` | string | Unidade em que esse uso é medido. Os valores possíveis incluem DBUs. | DBU |\n",
    "| `usage_unit` | decimal | Número de unidades consumidas para este registro. | 259.2958 |\n",
    "| `usage_metadata` | estruct | Metadados fornecidos pelo sistema sobre o uso, incluindo IDs para recursos de computação e trabalhos (se aplicável). | {cluster_id: 12345; instance_pool_id: nulo; warehouse_id: nulo; id_trabalho: nulo; node_type: nulo} |"
   ]
  },
  {
   "cell_type": "markdown",
   "metadata": {
    "application/vnd.databricks.v1+cell": {
     "cellMetadata": {},
     "inputWidgets": {},
     "nuid": "ced18173-8cff-421c-94c0-8130990fcc66",
     "showTitle": false,
     "title": ""
    }
   },
   "source": [
    "### Tabela do sistema de preços:\n",
    "\n",
    "###### Descrição: um registro histórico de preços de SKU. Um registro é adicionado sempre que há uma alteração no preço do SKU.\n",
    "###### Localização: `system.billing.list_prices`\n",
    "\n",
    "| Nome da coluna | Tipo de dados | Descrição | Exemplo |\n",
    "|------------|-----------|-------------|--------- |\n",
    "| `price_start_time` | timestamp | O momento em que este preço entrou em vigor | 2023-01-01T09:59:59.999Z |\n",
    "| `price_end_time` | timestamp | O momento em que esse preço deixou de vigorar | 2023-01-01T09:59:59.999Z |\n",
    "| `account_id` | string | ID da conta para a qual este relatório foi gerado | 1234567890123456 |\n",
    "| `sku_name` | string | Nome do SKU | STANDARD_ALL_PURPOSE_COMPUTE |\n",
    "| `cloud` | string | Nuvem para a qual esse uso é relevante. Os valores possíveis são AWS, AZURE e GCP. | AWS <br /> AZURE <br />GCP |\n",
    "| `currency_code` | string | A moeda em que este preço é expresso | USD |\n",
    "| `usage_unit` | string | A unidade de medida que é monetizada. | DBU |\n",
    "| `pricing` | estruct | Um campo de dados estruturados que inclui informações de preços de acordo com o preço de tabela publicado. O padrão da chave sempre retornará um preço único que pode ser usado para estimativas simples. Alguns modelos de preços também podem incluir chaves adicionais que fornecem mais detalhes. | {padrão: $ 0,10} |"
   ]
  },
  {
   "cell_type": "markdown",
   "metadata": {
    "application/vnd.databricks.v1+cell": {
     "cellMetadata": {},
     "inputWidgets": {},
     "nuid": "bf11ccf3-5d0f-4830-8ba5-7e5729b73644",
     "showTitle": false,
     "title": ""
    }
   },
   "source": [
    "### Tabela do sistema de clusters:\n",
    "\n",
    "###### Descrição: uma tabela de dimensões de alteração lenta que contém o histórico completo de configurações de cluster ao longo do tempo para qualquer cluster.\n",
    "###### Localização: `system.compute.clusters`\n",
    "\n",
    "| Nome da coluna | Tipo de dados | Descrição | Exemplo |\n",
    "|------------|-----------|-------------|--------- |\n",
    "| `id_da_conta` | string | ID da conta onde este cluster foi criado. | 23e22ba4-87b9-4cc2-9770-d10b894b7118 |\n",
    "| `id do espaço de trabalho` | string | ID do workspace onde este cluster foi criado. | 1234567890123456 |\n",
    "| `cluster_id` | string | ID do cluster ao qual esse registro está associado. | 0000-123456-xxxxxxx |\n",
    "| `nome_cluster` | string | Nome definido pelo usuário para o cluster. | Meu cluster |\n",
    "| `propriedade_por` | string | Nome de usuário do proprietário do cluster. O padrão é o criador do cluster, mas pode ser alterado por meio da API Clusters. | sample_user@email.com |\n",
    "| `criar_hora` | timestamp | Data/hora da alteração nesta definição de computação. | 09/01/2023 11:00:00.000 |\n",
    "| `delete_time` | timestamp | Data/hora de quando o cluster foi excluído. O valor será nulo se o cluster não for excluído. | 09/01/2023 11:00:00.000 |\n",
    "| `driver_node_type` | string | Nome do tipo de nó do driver. Corresponde ao nome do tipo de instância do provedor de nuvem. | i3.xbigint |\n",
    "| `worker_node_type` | string | Nome do tipo de nó de trabalho. Corresponde ao nome do tipo de instância do provedor de nuvem. | i3.xbigint |\n",
    "| `contagem_de_trabalhadores` | bigint | Número de trabalhadores. Definido apenas para clusters de tamanho fixo. | 4 |\n",
    "| `min_autoscale_workers` | bigint | O número mínimo definido de trabalhadores. Este campo é válido somente para clusters de escalonamento automático. | 1 |\n",
    "| `max_autoscale_workers` | bigint | O número máximo definido de trabalhadores. Este campo é válido somente para clusters de escalonamento automático. | 1 |\n",
    "| `auto_termination_minutos` | bigint | A duração da terminação automática configurada. | 120 |\n",
    "| `enable_elastic_disk` | booleano | Status de ativação do disco de escalonamento automático. | verdade |\n",
    "| `etiquetas` | mapa | Tags padrão e definidas pelo usuário para o cluster. | {\"ResourceClass\":\"SingleNode\"} |\n",
    "| `cluster_source` | string | Indica o criador do cluster: UI, API, DLT, JOB, etc. | IU |\n",
    "| `init_scripts` | matriz | Conjunto de caminhos para scripts de inicialização. | \"/Users/example@email.com/files/scripts/install-pyt |\n",
    "| `aws_attributes` | estruct | Configurações específicas da AWS. | {<br>\"ebs_volume_count\": null<br>\"availability\": \"SPOT_WITH_FALLBACK\",<br>\"first_on_demand\": \"0\",<br>\"spot_bid_price_percent\": \"100\"<br>} |\n",
    "| `atributos_azure` | estruct | Configurações específicas do Azure. | vazio |\n",
    "| `gcp_attributes` | estruct | Configurações específicas do GCP. Este campo estará vazio. | vazio |\n",
    "| `driver_instance_pool_id` | string | ID do pool de instâncias se o driver estiver configurado sobre um pool de instâncias. | 1107-555555-crhod16-pool-DIdnjazB |\n",
    "| `worker_instance_pool_id` | string | ID do pool de instâncias se o trabalhador estiver configurado sobre um pool de instâncias. | 1107-555555-crhod16-pool-DIdnjazB |\n",
    "| `dbr_versão` | string | O tempo de execução do Databricks do cluster. | 14.x-instantâneo-scala2.12 |\n",
    "| `change_time` | timestamp | Data/hora da alteração na definição de computação. | 09/01/2023 11:00:00.000 |\n",
    "| `data_alteração` | data | Alterar data. Usado para retenção. | 09/01/2023 |"
   ]
  },
  {
   "cell_type": "markdown",
   "metadata": {
    "application/vnd.databricks.v1+cell": {
     "cellMetadata": {},
     "inputWidgets": {},
     "nuid": "2d99a821-7506-40af-8ad4-953c1b7c6322",
     "showTitle": false,
     "title": ""
    }
   },
   "source": [
    "### Tabela de sistema de tipos de nós:\n",
    "\n",
    "###### Descrição: Captura os tipos de nós atualmente disponíveis com suas informações básicas de hardware.\n",
    "###### Localização: `system.compute.node_types`\n",
    "\n",
    "| Nome da coluna | Tipo de dados | Descrição | Exemplo |\n",
    "|------------|-----------|-------------|--------- |\n",
    "| `account_id` | string | ID da conta onde este cluster foi criado. | 23e22ba4-87b9-4cc2-9770-d10b894b7118 |\n",
    "| `node_type_name` | string | Identificador exclusivo para tipo de nó. | i3.xlarge |\n",
    "| `core_count` | double | Número de vCPUs da instância. | 48,0 |\n",
    "| `memory_mb` | long | Memória total da instância. | 393216 |\n",
    "| `gpu_count` | long | Número de GPUs da instância. | 0 |"
   ]
  },
  {
   "cell_type": "markdown",
   "metadata": {
    "application/vnd.databricks.v1+cell": {
     "cellMetadata": {},
     "inputWidgets": {},
     "nuid": "fc74bcc8-c6a9-4ac4-be96-69858e02d797",
     "showTitle": false,
     "title": ""
    }
   },
   "source": [
    "### Tabela do sistema de acesso às listagens do Marketplace:\n",
    "\n",
    "###### Descrição: Inclui informações do consumidor para dados de solicitação concluída ou eventos de obtenção de dados em suas listagens.\n",
    "###### Localização: `system.marketplace.listing_access_events`\n",
    "\n",
    "| Nome da coluna | Tipo de dados | Descrição |\n",
    "|------------|-----------|-------------|\n",
    "| `account_id` | string | O ID da conta que hospeda a listagem. |\n",
    "| `metastore_id` | string | O ID do metatore que hospeda a listagem. |\n",
    "| `metastore_cloud` | string | O provedor de nuvem do metastore que hospeda a listagem. |\n",
    "| `metastore_region` | string | A região do metastore que hospeda a listagem. |\n",
    "| `provider_id` | string | O ID do perfil do provedor. |\n",
    "| `provider_name` | string | O nome do perfil do provedor. |\n",
    "| `listing_id` | string | O ID da listagem. |\n",
    "| `listing_name` | string | O nome da listagem. |\n",
    "| `consumer_delta_sharing_recipient_name` | string | O nome do destinatário do Delta Sharing subjacente para o consumidor. O valor é nulo quando event_type é REQUEST_DATA. |\n",
    "| `consumer_delta_sharing_recipient_type` | string | Quer o consumidor esteja numa conta Databricks ou não. Os valores serão OPEN ou DATABRICKS. |\n",
    "| `consumer_cloud` | string | A nuvem do consumidor. Anulável se consumer_delta_sharing_recipient_type for OPEN. |\n",
    "| `consumer_regions` | string | A região do consumidor. Anulável se consumer_delta_sharing_recipient_type for OPEN. |\n",
    "| `consumer_metastore_id` | string | O ID do metastore do consumidor. Anulável se consumer_delta_sharing_recipient_type for OPEN. |\n",
    "| `consumer_email` | string | O endereço de e-mail do consumidor. PII. |\n",
    "| `consumer_name` | string | O nome do consumidor. PII. |\n",
    "| `consumer_company` | string | A empresa do consumidor. |\n",
    "| `consumer_intended_use` | string | O uso pretendido da listagem pelo consumidor. |\n",
    "| `consumer_comments` | string | Qualquer comentário adicional que o consumidor tenha deixado. |\n",
    "| `event_type` | string | O tipo de acesso. O valor pode ser REQUEST_DATA ou GET_DATA. |\n",
    "| `event_date` | date | A data UTC em que o evento aconteceu. |\n",
    "| `event_time` | timestamp | Data/hora UTC exato em que o evento aconteceu. |"
   ]
  },
  {
   "cell_type": "markdown",
   "metadata": {
    "application/vnd.databricks.v1+cell": {
     "cellMetadata": {},
     "inputWidgets": {},
     "nuid": "78de2fcc-8e49-4ec4-a06c-b6f8d908747b",
     "showTitle": false,
     "title": ""
    }
   },
   "source": [
    "### Tabela do sistema de histórico de otimização preditiva:\n",
    "\n",
    "###### Descrição: rastreia o histórico de operação do recurso de otimização preditiva.\n",
    "###### Localização: `system.storage.predictive_optimization_operations_history`\n",
    "\n",
    "| Nome da coluna | Tipo de dados | Descrição | Exemplo |\n",
    "|------------|-----------|-------------|--------- |\n",
    "| `account_id` | string | ID da conta. | 11e22ba4-87b9-4cc2-9770-d10b894b7118 |\n",
    "| `wordspace_id` | string | A ID do workspace no qual a otimização preditiva executou a operação. | 1234567890123456 |\n",
    "| `start_time` | timestamp | A hora em que a operação foi iniciada. | 09/01/2023 10:00:00.000 |\n",
    "| `end_time` | timestamp | A hora em que a operação terminou. | 09/01/2023 11:00:00.000 |\n",
    "| `metastore_name` | string | O nome do metastore ao qual pertence a tabela otimizada. | metastore |\n",
    "| `catalog_name` | string | O nome do catálogo ao qual pertence a tabela otimizada. | catalog |\n",
    "| `schema_name` | string | O nome do esquema ao qual pertence a tabela otimizada. | schema |\n",
    "| `table_id` | string | O ID da tabela otimizada. | 138ebb4b-3757-41bb-9e18-52b38d3d2836 |\n",
    "| `table_name` | string | O nome da tabela otimizada. | tabela1 |\n",
    "| `operation_type` | string | A operação de otimização que foi executada. O valor será COMPACTAÇÃO ou VÁCUO. | COMPACTION |\n",
    "| `operation_id` | string | O ID da operação de otimização. | 4dad1136-6a8f-418f-8234-6855cfaff18f |\n",
    "| `operation_status` | string | O status da operação de otimização. O valor será SUCCESSFUL ou FAILED: INTERNAL_ERROR. | SUCCESSFUL |\n",
    "| `operation_metrics` | map[string, string]` | Detalhes adicionais sobre a otimização específica que foi executada. Para operações COMPACTION: (number_of_compacted_files, amount_of_data_compacted_bytes, number_of_output_files, amount_of_output_data_bytes) Para operações VACUUM: (number_of_deleted_files, amount_of_data_deleted_bytes)` | {\"número_de_arquivos_de_saída\":\"100\", <br /> \"número_de_arquivos_compactados\":\"1000\", <br /> \"quantidade_de_dados_de_saída_bytes\":\"4000\", <br /> \"quantidade_de_dados_compactados_bytes\":\"10000\"}` |\n",
    "| `usage_unit` | string | A unidade de uso que esta operação incorreu. Só pode ser um valor: ESTIMATED_DBU. | ESTIMATED_DBU |\n",
    "| `usage_quantity` | decimal | A quantidade da unidade de uso que foi usada por esta operação. | 2.12 |"
   ]
  }
 ],
 "metadata": {
  "application/vnd.databricks.v1+notebook": {
   "dashboards": [],
   "language": "python",
   "notebookMetadata": {
    "pythonIndentUnit": 4
   },
   "notebookName": "Day 4 [Hero] - Tabelas do sistema",
   "widgets": {}
  }
 },
 "nbformat": 4,
 "nbformat_minor": 0
}

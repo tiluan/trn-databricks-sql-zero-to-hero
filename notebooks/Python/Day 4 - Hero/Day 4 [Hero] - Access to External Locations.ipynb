{
 "cells": [
  {
   "cell_type": "markdown",
   "metadata": {
    "application/vnd.databricks.v1+cell": {
     "cellMetadata": {},
     "inputWidgets": {},
     "nuid": "e946fe11-46c6-4aba-b670-8fc76e2712e5",
     "showTitle": false,
     "title": ""
    }
   },
   "source": [
    "# Universal Commands"
   ]
  },
  {
   "cell_type": "markdown",
   "metadata": {
    "application/vnd.databricks.v1+cell": {
     "cellMetadata": {},
     "inputWidgets": {},
     "nuid": "02ec5ca8-886c-4599-a0b9-3e0bd628c820",
     "showTitle": false,
     "title": ""
    }
   },
   "source": [
    "##### List Storage Credentials:"
   ]
  },
  {
   "cell_type": "code",
   "execution_count": 0,
   "metadata": {
    "application/vnd.databricks.v1+cell": {
     "cellMetadata": {},
     "inputWidgets": {},
     "nuid": "12be9d34-9af8-4f7c-946d-64e35ad55995",
     "showTitle": false,
     "title": ""
    }
   },
   "outputs": [],
   "source": [
    "display(spark.sql(\"SHOW STORAGE CREDENTIALS\"))"
   ]
  },
  {
   "cell_type": "markdown",
   "metadata": {
    "application/vnd.databricks.v1+cell": {
     "cellMetadata": {},
     "inputWidgets": {},
     "nuid": "00e92e69-ecfb-4006-9ec0-09bf0c78fe4f",
     "showTitle": false,
     "title": ""
    }
   },
   "source": [
    "##### View Storage Credentials:"
   ]
  },
  {
   "cell_type": "code",
   "execution_count": 0,
   "metadata": {
    "application/vnd.databricks.v1+cell": {
     "cellMetadata": {},
     "inputWidgets": {},
     "nuid": "c15d82ac-1e6c-4ed2-8be3-82acb7356daa",
     "showTitle": false,
     "title": ""
    }
   },
   "outputs": [],
   "source": [
    "display(spark.sql(\"DESCRIBE STORAGE CREDENTIAL <example-credential-name>\"))"
   ]
  },
  {
   "cell_type": "markdown",
   "metadata": {
    "application/vnd.databricks.v1+cell": {
     "cellMetadata": {},
     "inputWidgets": {},
     "nuid": "17aed3a2-e7e5-449a-a38b-7a930d0a01b5",
     "showTitle": false,
     "title": ""
    }
   },
   "source": [
    "##### Rename a Storage Credential:"
   ]
  },
  {
   "cell_type": "code",
   "execution_count": 0,
   "metadata": {
    "application/vnd.databricks.v1+cell": {
     "cellMetadata": {},
     "inputWidgets": {},
     "nuid": "f84070fa-21f7-4696-a8a5-f438ca2d75a8",
     "showTitle": false,
     "title": ""
    }
   },
   "outputs": [],
   "source": [
    "spark.sql(\"ALTER STORAGE CREDENTIAL <example-credential-name> RENAME TO <new-example-credential-name>\")"
   ]
  },
  {
   "cell_type": "markdown",
   "metadata": {
    "application/vnd.databricks.v1+cell": {
     "cellMetadata": {},
     "inputWidgets": {},
     "nuid": "0eb1bf5f-efab-441f-970f-60b8df7984f3",
     "showTitle": false,
     "title": ""
    }
   },
   "source": [
    "##### Menage Permissions on a Storage Credential:"
   ]
  },
  {
   "cell_type": "code",
   "execution_count": 0,
   "metadata": {
    "application/vnd.databricks.v1+cell": {
     "cellMetadata": {},
     "inputWidgets": {},
     "nuid": "e83850f6-a7ff-4aa8-a818-2d1d2dd8311f",
     "showTitle": false,
     "title": ""
    }
   },
   "outputs": [],
   "source": [
    "display(spark.sql(\"SHOW GRANTS [<member>] ON STORAGE CREDENTIAL <example-credential-name>\"))"
   ]
  },
  {
   "cell_type": "code",
   "execution_count": 0,
   "metadata": {
    "application/vnd.databricks.v1+cell": {
     "cellMetadata": {},
     "inputWidgets": {},
     "nuid": "0238deac-422f-4462-a95e-06d54523f132",
     "showTitle": false,
     "title": ""
    }
   },
   "outputs": [],
   "source": [
    "spark.sql(\"GRANT CREATE EXTERNAL TABLE ON STORAGE CREDENTIAL <example-credential-name> TO <member>\")"
   ]
  },
  {
   "cell_type": "code",
   "execution_count": 0,
   "metadata": {
    "application/vnd.databricks.v1+cell": {
     "cellMetadata": {},
     "inputWidgets": {},
     "nuid": "424bfde0-1043-47be-8755-51b458e905fc",
     "showTitle": false,
     "title": ""
    }
   },
   "outputs": [],
   "source": [
    "spark.sql(\"GRANT READ FILES ON STORAGE CREDENTIAL <storage-credential-name> TO <member>\")"
   ]
  },
  {
   "cell_type": "markdown",
   "metadata": {
    "application/vnd.databricks.v1+cell": {
     "cellMetadata": {},
     "inputWidgets": {},
     "nuid": "819eef57-db63-4f1e-9d2f-9d2778a01dbe",
     "showTitle": false,
     "title": ""
    }
   },
   "source": [
    "# AWS"
   ]
  },
  {
   "cell_type": "markdown",
   "metadata": {
    "application/vnd.databricks.v1+cell": {
     "cellMetadata": {},
     "inputWidgets": {},
     "nuid": "4e8a2cad-5c41-42f7-bc0c-4c505dc0cb82",
     "showTitle": false,
     "title": ""
    }
   },
   "source": [
    "##### Creating a External Location:\n",
    "OBS: CREDENTIAL can be created via UI Catalog Page, Databricks CLI or REST API."
   ]
  },
  {
   "cell_type": "code",
   "execution_count": 0,
   "metadata": {
    "application/vnd.databricks.v1+cell": {
     "cellMetadata": {},
     "inputWidgets": {},
     "nuid": "ddece582-581d-4907-b671-9f304d3838c4",
     "showTitle": false,
     "title": ""
    }
   },
   "outputs": [],
   "source": [
    "spark.sql(\"CREATE EXTERNAL LOCATION [IF NOT EXISTS] <example-location-name-aws> URL 's3://<bucket-name>/<example-path>'\n",
    "     WITH (CREDENTIAL <aws-credential-name>)\")"
   ]
  },
  {
   "cell_type": "markdown",
   "metadata": {
    "application/vnd.databricks.v1+cell": {
     "cellMetadata": {},
     "inputWidgets": {},
     "nuid": "12fd9c67-d9fd-43a6-a338-e0db33840283",
     "showTitle": false,
     "title": ""
    }
   },
   "source": [
    "##### Access data directly from Storage Credential:"
   ]
  },
  {
   "cell_type": "code",
   "execution_count": 0,
   "metadata": {
    "application/vnd.databricks.v1+cell": {
     "cellMetadata": {},
     "inputWidgets": {},
     "nuid": "0d027b13-cbf7-4291-84f3-b7f3fc0f8cc9",
     "showTitle": false,
     "title": ""
    }
   },
   "outputs": [],
   "source": [
    "spark.sql(\"SELECT column FROM `delta`.`s3://bucket/example/house_data` WITH (CREDENTIAL aws_credential_name)\")"
   ]
  },
  {
   "cell_type": "markdown",
   "metadata": {
    "application/vnd.databricks.v1+cell": {
     "cellMetadata": {},
     "inputWidgets": {},
     "nuid": "3d6be28d-3fea-4343-88a1-1c666dab5b66",
     "showTitle": false,
     "title": ""
    }
   },
   "source": [
    "##### Creating a table from Storage Credential files:"
   ]
  },
  {
   "cell_type": "code",
   "execution_count": 0,
   "metadata": {
    "application/vnd.databricks.v1+cell": {
     "cellMetadata": {},
     "inputWidgets": {},
     "nuid": "b8ce52eb-4624-46fb-9138-f4d6218c9030",
     "showTitle": false,
     "title": ""
    }
   },
   "outputs": [],
   "source": [
    "CREATE TABLE house LOCATION 's3://bucket/example/house_data';"
   ]
  },
  {
   "cell_type": "markdown",
   "metadata": {
    "application/vnd.databricks.v1+cell": {
     "cellMetadata": {},
     "inputWidgets": {},
     "nuid": "6ca93636-d8b7-49b4-85ee-8b8656f3dfb9",
     "showTitle": false,
     "title": ""
    }
   },
   "source": [
    "# GCP"
   ]
  },
  {
   "cell_type": "markdown",
   "metadata": {
    "application/vnd.databricks.v1+cell": {
     "cellMetadata": {},
     "inputWidgets": {},
     "nuid": "d6914719-64b4-4476-a7ae-910159265057",
     "showTitle": false,
     "title": ""
    }
   },
   "source": [
    "##### Creating a External Location:\n",
    "OBS: CREDENTIAL can be created via UI Catalog Page, Databricks CLI or REST API."
   ]
  },
  {
   "cell_type": "code",
   "execution_count": 0,
   "metadata": {
    "application/vnd.databricks.v1+cell": {
     "cellMetadata": {},
     "inputWidgets": {},
     "nuid": "10944b32-9d2d-4cbd-904a-cc5977b285a7",
     "showTitle": false,
     "title": ""
    }
   },
   "outputs": [],
   "source": [
    "spark.sql(\"CREATE EXTERNAL LOCATION [IF NOT EXISTS] <example-location-name-gcp> URL 'gs://<bucket-name>/<example-path>'\n",
    "     WITH (CREDENTIAL <gcp-credential-name>)\")"
   ]
  },
  {
   "cell_type": "markdown",
   "metadata": {
    "application/vnd.databricks.v1+cell": {
     "cellMetadata": {},
     "inputWidgets": {},
     "nuid": "650d4fe4-03e4-4509-9016-4742ecd89610",
     "showTitle": false,
     "title": ""
    }
   },
   "source": [
    "##### Access data directly from Storage Credential:"
   ]
  },
  {
   "cell_type": "code",
   "execution_count": 0,
   "metadata": {
    "application/vnd.databricks.v1+cell": {
     "cellMetadata": {},
     "inputWidgets": {},
     "nuid": "58b1a039-5b79-421c-812c-1a7d1490bdfb",
     "showTitle": false,
     "title": ""
    }
   },
   "outputs": [],
   "source": [
    "spark.sql(\"SELECT column FROM `delta`.`gs://bucket/example/house_data` WITH (CREDENTIAL gcp_credential_name)\")"
   ]
  },
  {
   "cell_type": "markdown",
   "metadata": {
    "application/vnd.databricks.v1+cell": {
     "cellMetadata": {},
     "inputWidgets": {},
     "nuid": "54c3adfd-33ca-47c4-b178-54b770b823ce",
     "showTitle": false,
     "title": ""
    }
   },
   "source": [
    "##### Creating a table from Storage Credential files:"
   ]
  },
  {
   "cell_type": "code",
   "execution_count": 0,
   "metadata": {
    "application/vnd.databricks.v1+cell": {
     "cellMetadata": {},
     "inputWidgets": {},
     "nuid": "57246edd-8c4b-427b-a5ac-1e6cee9cf930",
     "showTitle": false,
     "title": ""
    }
   },
   "outputs": [],
   "source": [
    "spark.sql(\"CREATE TABLE house LOCATION 'gs://bucket/example/house_data'\")"
   ]
  },
  {
   "cell_type": "markdown",
   "metadata": {
    "application/vnd.databricks.v1+cell": {
     "cellMetadata": {},
     "inputWidgets": {},
     "nuid": "8ba5644e-b5bf-4cda-9a53-0e9bbeaf86e2",
     "showTitle": false,
     "title": ""
    }
   },
   "source": [
    "# Azure"
   ]
  },
  {
   "cell_type": "markdown",
   "metadata": {
    "application/vnd.databricks.v1+cell": {
     "cellMetadata": {},
     "inputWidgets": {},
     "nuid": "f410b470-274c-4c80-a789-b6c5232ac630",
     "showTitle": false,
     "title": ""
    }
   },
   "source": [
    "##### Creating a External Location:\n",
    "OBS: CREDENTIAL can be created via UI Catalog Page, Databricks CLI or REST API."
   ]
  },
  {
   "cell_type": "code",
   "execution_count": 0,
   "metadata": {
    "application/vnd.databricks.v1+cell": {
     "cellMetadata": {},
     "inputWidgets": {},
     "nuid": "9eca4cee-1240-473e-aa67-9bd49c367ac3",
     "showTitle": false,
     "title": ""
    }
   },
   "outputs": [],
   "source": [
    "spark.sql(\"CREATE EXTERNAL LOCATION [IF NOT EXISTS] <example-location-name-azure> URL 'abfss://<example-container-name>@<storage-account>.dfs.core.windows.net/<example-path>'\n",
    "     WITH (CREDENTIAL <azure-credential-name>)\")"
   ]
  },
  {
   "cell_type": "markdown",
   "metadata": {
    "application/vnd.databricks.v1+cell": {
     "cellMetadata": {},
     "inputWidgets": {},
     "nuid": "98774928-c461-4b9f-b14c-28c1a2683f9e",
     "showTitle": false,
     "title": ""
    }
   },
   "source": [
    "##### Access data directly from Storage Credential:"
   ]
  },
  {
   "cell_type": "code",
   "execution_count": 0,
   "metadata": {
    "application/vnd.databricks.v1+cell": {
     "cellMetadata": {},
     "inputWidgets": {},
     "nuid": "b25cf9c1-7ea4-45fd-a669-f4a2fb608038",
     "showTitle": false,
     "title": ""
    }
   },
   "outputs": [],
   "source": [
    "spark.sql(\"SELECT column FROM `delta`.`abfss://housebucket@databrickssqlcc.dfs.core.windows.net/example/house_data`  WITH (CREDENTIAL azure_credential_name)\")"
   ]
  },
  {
   "cell_type": "markdown",
   "metadata": {
    "application/vnd.databricks.v1+cell": {
     "cellMetadata": {},
     "inputWidgets": {},
     "nuid": "c775ea00-c88f-429b-b1fe-7a39387a2491",
     "showTitle": false,
     "title": ""
    }
   },
   "source": [
    "##### Creating a table from Storage Credential files:"
   ]
  },
  {
   "cell_type": "code",
   "execution_count": 0,
   "metadata": {
    "application/vnd.databricks.v1+cell": {
     "cellMetadata": {},
     "inputWidgets": {},
     "nuid": "913fdf27-2ed3-4ec6-8e5e-07e26d8e44df",
     "showTitle": false,
     "title": ""
    }
   },
   "outputs": [],
   "source": [
    "spark.sql(\"CREATE TABLE house LOCATION 'abfss://housebucket@databrickssqlcc.dfs.core.windows.net/example/house_data'\")"
   ]
  }
 ],
 "metadata": {
  "application/vnd.databricks.v1+notebook": {
   "dashboards": [],
   "language": "python",
   "notebookMetadata": {
    "pythonIndentUnit": 4
   },
   "notebookName": "Day 4 [Hero] - Access to External Locations",
   "widgets": {}
  }
 },
 "nbformat": 4,
 "nbformat_minor": 0
}

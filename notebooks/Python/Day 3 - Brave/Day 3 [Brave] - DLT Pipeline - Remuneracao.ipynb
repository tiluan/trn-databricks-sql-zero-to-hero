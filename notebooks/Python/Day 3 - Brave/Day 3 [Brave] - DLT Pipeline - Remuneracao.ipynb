{
 "cells": [
  {
   "cell_type": "code",
   "execution_count": 0,
   "metadata": {
    "application/vnd.databricks.v1+cell": {
     "cellMetadata": {},
     "inputWidgets": {},
     "nuid": "5330e9ae-4e3c-427d-9f92-fd19498c8bb1",
     "showTitle": false,
     "title": ""
    }
   },
   "outputs": [],
   "source": [
    "import dlt\n",
    "from pyspark.sql.functions import expr, sum as databricks_sum\n",
    "# avoid using the default sum built-in, because the default sum takes an iterable as an argument where we'll be using the column name as string and then the built-in function won't be applied, so ERROR (you can try use the default/normal sum to test, but it won't work)\n",
    "\n",
    "@dlt.table(\n",
    "  table_properties={\n",
    "    \"quality\" : \"bronze\",\n",
    "    \"pipelines.autoOptimize.managed\": \"true\"\n",
    "  },\n",
    "  #partition_cols=[\"\"],\n",
    "  schema=\"\"\"nome STRING, \n",
    "          cpf STRING, \n",
    "          orgao STRING, \n",
    "          cargo STRING, \n",
    "          funcao STRING, \n",
    "          situacao STRING, \n",
    "          mes STRING, \n",
    "          ano STRING, \n",
    "          codigo_do_orgao STRING, \n",
    "          matricula STRING, \n",
    "          remuneracao_basica STRING, \n",
    "          beneficios STRING, \n",
    "          valor_das_funcoes STRING, \n",
    "          comissao_conselheiro STRING, \n",
    "          hora_extra STRING, \n",
    "          verbas_eventuais STRING, \n",
    "          verbas_judiciais STRING, \n",
    "          descontos_a_maior STRING, \n",
    "          licenca_premio STRING, \n",
    "          irrf STRING, \n",
    "          seguridade_social STRING, \n",
    "          teto_redutor STRING, \n",
    "          outros_recebimentos STRING, \n",
    "          outros_descontos_obrigatorios STRING, \n",
    "          pagamento_a_maior STRING, bruto STRING, \n",
    "          liquido STRING,\n",
    "          _rescued_data STRING\"\"\",\n",
    "  temporary=False)\n",
    "@dlt.expect_or_fail(\"table_not_null\", \"nome IS NOT NULL\")\n",
    "@dlt.expect_or_drop(\"have_remuneration\", \"liquido != ',00'\")\n",
    "def bronze_remuneracao():\n",
    "  return (\n",
    "    spark.readStream.format(\"cloudFiles\") \\\n",
    "      .option(\"cloudFiles.format\", \"csv\") \\\n",
    "      .option(\"inferColumnTypes\", \"false\") \\\n",
    "      .option(\"multiLine\", \"true\") \\\n",
    "      .option(\"delimiter\", \";\") \\\n",
    "      .option(\"header\", \"true\") \\\n",
    "      .option(\"cloudFiles.schemaEvolutionMode\", \"rescue\") \\\n",
    "      .option(\"encoding\", \"ISO-8859-1\") \\\n",
    "      .load(\"/mnt/s3_dbfs/\")\n",
    "  )"
   ]
  },
  {
   "cell_type": "code",
   "execution_count": 0,
   "metadata": {
    "application/vnd.databricks.v1+cell": {
     "cellMetadata": {},
     "inputWidgets": {},
     "nuid": "ddcd02e1-e860-4cfa-8680-e17aa4a9aa85",
     "showTitle": false,
     "title": ""
    }
   },
   "outputs": [],
   "source": [
    "@dlt.table(\n",
    "  comment=\"Este conjunto de dados apresenta domínio de remuneração dos servidores do Governo do DF, detalhada por órgão e nome do servidor.\",\n",
    "  table_properties={\n",
    "    \"quality\" : \"silver\",\n",
    "    \"pipelines.autoOptimize.managed\": \"true\"\n",
    "  },\n",
    "  schema=\"\"\"cpf STRING COMMENT 'NUMERO DO CADASTRO DE PESSOA FÍSICA MASCARADO', \n",
    "          orgao STRING COMMENT 'ÓRGÃO VINCULADO AO SERVIDOR', \n",
    "          cargo STRING COMMENT 'POSIÇÃO QUE O SERVIDOR OCUPA NO ÓRGÃO DE FORMA PERMANENTE', \n",
    "          funcao STRING COMMENT 'DESIGNAÇÃO TEMPORÁRIA PARA DESEMPENHO DE DETERMINADAS ATRIBUIÇÕES (CARGO COMISSIONADO)', \n",
    "          situacao STRING COMMENT 'CONDIÇÃO DO SERVIDOR EM RELAÇÃO AO EXERCÍCIO DE SUAS ATIVIDADES',\n",
    "          mes INT COMMENT 'MÊS DE REFERÊNCIA',\n",
    "          ano INT COMMENT 'ANO DE REFERÊNCIA',\n",
    "          salario_bruto DOUBLE COMMENT 'VALOR BRUTO DA REMUNERAÇÃO',\n",
    "          salario_liquido DOUBLE COMMENT 'VALOR LÍQUIDO APÓS DESCONTOS OBRIGATÓRIOS'\"\"\",\n",
    "  temporary=False)\n",
    "@dlt.expect_or_drop(\"person_exists\", \"cpf IS NOT NULL\")\n",
    "def silver_remuneracao():\n",
    "  return (\n",
    "    dlt.read_stream(\"bronze_remuneracao\") \\\n",
    "      .withColumn(\"mes\", expr(\"CAST(mes AS INT)\")) \\\n",
    "      .withColumn(\"ano\", expr(\"CAST(ano AS INT)\")) \\\n",
    "      .withColumn(\"salario_bruto\", expr(\"CAST(REPLACE(bruto, ',', '.') AS DOUBLE)\")) \\\n",
    "      .withColumn(\"salario_liquido\", expr(\"CAST(REPLACE(liquido, ',', '.') AS DOUBLE)\")) \\\n",
    "      .select(\"cpf\", \"orgao\", \"cargo\", \"funcao\", \"situacao\", \"mes\", \"ano\", \"salario_bruto\", \"salario_liquido\")\n",
    "  )"
   ]
  },
  {
   "cell_type": "code",
   "execution_count": 0,
   "metadata": {
    "application/vnd.databricks.v1+cell": {
     "cellMetadata": {},
     "inputWidgets": {},
     "nuid": "ef61826e-55c0-4193-845d-2819d7a354af",
     "showTitle": false,
     "title": ""
    }
   },
   "outputs": [],
   "source": [
    "@dlt.table(\n",
    "  comment=\"Este conjunto de dados apresenta a agregação de valores de remuneração dos servidores do Governo do DF, detalhada por órgão e nome do servidor.\",\n",
    "  table_properties={\n",
    "    \"quality\" : \"gold\",\n",
    "    \"pipelines.autoOptimize.managed\": \"true\"\n",
    "  },\n",
    "  schema=\"\"\"orgao STRING COMMENT 'ÓRGÃO VINCULADO AO SERVIDOR', \n",
    "          cargo STRING COMMENT 'POSIÇÃO QUE O SERVIDOR OCUPA NO ÓRGÃO DE FORMA PERMANENTE', \n",
    "          funcao STRING COMMENT 'DESIGNAÇÃO TEMPORÁRIA PARA DESEMPENHO DE DETERMINADAS ATRIBUIÇÕES (CARGO COMISSIONADO)', \n",
    "          situacao STRING COMMENT 'CONDIÇÃO DO SERVIDOR EM RELAÇÃO AO EXERCÍCIO DE SUAS ATIVIDADES',\n",
    "          mes INT COMMENT 'MÊS DE REFERÊNCIA',\n",
    "          ano INT COMMENT 'ANO DE REFERÊNCIA',\n",
    "          total_salario_bruto DOUBLE COMMENT 'SOMATÓRIO DO TOTAL BRUTO DA REMUNERAÇÃO',\n",
    "          total_salario_liquido DOUBLE COMMENT 'SOMATÓRIO DO TOTAL LÍQUIDO APÓS DESCONTOS OBRIGATÓRIOS'\"\"\",\n",
    "  temporary=False)\n",
    "def gold_remuneracaoo():\n",
    "  return (\n",
    "    dlt.read_stream(\"silver_remuneracao\") \\\n",
    "      .groupBy(\"orgao\", \"cargo\", \"funcao\", \"situacao\", \"mes\", \"ano\") \\\n",
    "      .agg(databricks_sum(\"salario_bruto\").alias(\"total_salario_bruto\"), databricks_sum(\"salario_liquido\").alias(\"total_salario_liquido\")) \\\n",
    "      .drop(\"salario_bruto\", \"salario_liquido\")\n",
    "  )  "
   ]
  }
 ],
 "metadata": {
  "application/vnd.databricks.v1+notebook": {
   "dashboards": [],
   "language": "python",
   "notebookMetadata": {
    "pythonIndentUnit": 4
   },
   "notebookName": "Day 3 [Brave] - DLT Pipeline - Remuneracao",
   "widgets": {}
  }
 },
 "nbformat": 4,
 "nbformat_minor": 0
}

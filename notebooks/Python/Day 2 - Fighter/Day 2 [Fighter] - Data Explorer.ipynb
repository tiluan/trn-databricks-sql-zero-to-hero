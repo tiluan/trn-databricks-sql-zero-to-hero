{
 "cells": [
  {
   "cell_type": "markdown",
   "metadata": {
    "application/vnd.databricks.v1+cell": {
     "cellMetadata": {},
     "inputWidgets": {},
     "nuid": "6cae298b-d524-4f58-97d6-2457e41f04da",
     "showTitle": false,
     "title": ""
    }
   },
   "source": [
    "### Important Note!\n",
    "\n",
    "This notebook ran using with a 12.2 LTS Runtime version!\n",
    "\n",
    "There are no concerns regarding cluster size (memory and cores).\n",
    "\n",
    "Insert `spark.databricks.delta.retentionDurationCheck.enabled false` during cluster configs creation to be able to use VACUUM properly in this notebook.\n",
    "\n",
    "The purpose of this notebook is just to show the version of the SQL commands for Python, **always use the SQL version as a reference**, as it was the one used during the Databricks SQL course."
   ]
  },
  {
   "cell_type": "markdown",
   "metadata": {
    "application/vnd.databricks.v1+cell": {
     "cellMetadata": {},
     "inputWidgets": {},
     "nuid": "5905cc1b-12b4-4201-b2c1-98db61d3ed89",
     "showTitle": false,
     "title": ""
    }
   },
   "source": [
    "## Using DBFS"
   ]
  },
  {
   "cell_type": "code",
   "execution_count": 0,
   "metadata": {
    "application/vnd.databricks.v1+cell": {
     "cellMetadata": {
      "byteLimit": 2048000,
      "rowLimit": 10000
     },
     "inputWidgets": {},
     "nuid": "cd571ed5-6f94-4937-a0b1-39093d419c56",
     "showTitle": false,
     "title": ""
    }
   },
   "outputs": [
    {
     "output_type": "display_data",
     "data": {
      "text/html": [
       "<style scoped>\n",
       "  .table-result-container {\n",
       "    max-height: 300px;\n",
       "    overflow: auto;\n",
       "  }\n",
       "  table, th, td {\n",
       "    border: 1px solid black;\n",
       "    border-collapse: collapse;\n",
       "  }\n",
       "  th, td {\n",
       "    padding: 5px;\n",
       "  }\n",
       "  th {\n",
       "    text-align: left;\n",
       "  }\n",
       "</style><div class='table-result-container'><table class='table-result'><thead style='background-color: white'><tr><th>path</th><th>name</th><th>size</th><th>modificationTime</th></tr></thead><tbody><tr><td>dbfs:/FileStore/</td><td>FileStore/</td><td>0</td><td>1694631178000</td></tr><tr><td>dbfs:/Volume/</td><td>Volume/</td><td>0</td><td>0</td></tr><tr><td>dbfs:/Volumes/</td><td>Volumes/</td><td>0</td><td>0</td></tr><tr><td>dbfs:/databricks-datasets/</td><td>databricks-datasets/</td><td>0</td><td>0</td></tr><tr><td>dbfs:/databricks-results/</td><td>databricks-results/</td><td>0</td><td>0</td></tr><tr><td>dbfs:/mnt/</td><td>mnt/</td><td>0</td><td>1694530632000</td></tr><tr><td>dbfs:/user/</td><td>user/</td><td>0</td><td>1693629492000</td></tr><tr><td>dbfs:/volume/</td><td>volume/</td><td>0</td><td>0</td></tr><tr><td>dbfs:/volumes/</td><td>volumes/</td><td>0</td><td>0</td></tr></tbody></table></div>"
      ]
     },
     "metadata": {
      "application/vnd.databricks.v1+output": {
       "addedWidgets": {},
       "aggData": [],
       "aggError": "",
       "aggOverflow": false,
       "aggSchema": [],
       "aggSeriesLimitReached": false,
       "aggType": "",
       "arguments": {},
       "columnCustomDisplayInfos": {},
       "data": [
        [
         "dbfs:/FileStore/",
         "FileStore/",
         0,
         1694631178000
        ],
        [
         "dbfs:/Volume/",
         "Volume/",
         0,
         0
        ],
        [
         "dbfs:/Volumes/",
         "Volumes/",
         0,
         0
        ],
        [
         "dbfs:/databricks-datasets/",
         "databricks-datasets/",
         0,
         0
        ],
        [
         "dbfs:/databricks-results/",
         "databricks-results/",
         0,
         0
        ],
        [
         "dbfs:/mnt/",
         "mnt/",
         0,
         1694530632000
        ],
        [
         "dbfs:/user/",
         "user/",
         0,
         1693629492000
        ],
        [
         "dbfs:/volume/",
         "volume/",
         0,
         0
        ],
        [
         "dbfs:/volumes/",
         "volumes/",
         0,
         0
        ]
       ],
       "datasetInfos": [],
       "dbfsResultPath": null,
       "isJsonSchema": true,
       "metadata": {
        "isDbfsCommandResult": false
       },
       "overflow": false,
       "plotOptions": {
        "customPlotOptions": {},
        "displayType": "table",
        "pivotAggregation": null,
        "pivotColumns": null,
        "xColumns": null,
        "yColumns": null
       },
       "removedWidgets": [],
       "schema": [
        {
         "metadata": "{}",
         "name": "path",
         "type": "\"string\""
        },
        {
         "metadata": "{}",
         "name": "name",
         "type": "\"string\""
        },
        {
         "metadata": "{}",
         "name": "size",
         "type": "\"long\""
        },
        {
         "metadata": "{}",
         "name": "modificationTime",
         "type": "\"long\""
        }
       ],
       "type": "table"
      }
     },
     "output_type": "display_data"
    }
   ],
   "source": [
    "%fs ls /"
   ]
  },
  {
   "cell_type": "code",
   "execution_count": 0,
   "metadata": {
    "application/vnd.databricks.v1+cell": {
     "cellMetadata": {
      "byteLimit": 2048000,
      "rowLimit": 10000
     },
     "inputWidgets": {},
     "nuid": "b4a97920-68c7-43b6-858b-4026cde6e839",
     "showTitle": false,
     "title": ""
    }
   },
   "outputs": [
    {
     "output_type": "display_data",
     "data": {
      "text/html": [
       "<style scoped>\n",
       "  .table-result-container {\n",
       "    max-height: 300px;\n",
       "    overflow: auto;\n",
       "  }\n",
       "  table, th, td {\n",
       "    border: 1px solid black;\n",
       "    border-collapse: collapse;\n",
       "  }\n",
       "  th, td {\n",
       "    padding: 5px;\n",
       "  }\n",
       "  th {\n",
       "    text-align: left;\n",
       "  }\n",
       "</style><div class='table-result-container'><table class='table-result'><thead style='background-color: white'><tr><th>path</th><th>name</th><th>size</th><th>modificationTime</th></tr></thead><tbody><tr><td>dbfs:/FileStore/</td><td>FileStore/</td><td>0</td><td>1694631178000</td></tr><tr><td>dbfs:/Volume/</td><td>Volume/</td><td>0</td><td>0</td></tr><tr><td>dbfs:/Volumes/</td><td>Volumes/</td><td>0</td><td>0</td></tr><tr><td>dbfs:/databricks-datasets/</td><td>databricks-datasets/</td><td>0</td><td>0</td></tr><tr><td>dbfs:/databricks-results/</td><td>databricks-results/</td><td>0</td><td>0</td></tr><tr><td>dbfs:/mnt/</td><td>mnt/</td><td>0</td><td>1694530632000</td></tr><tr><td>dbfs:/user/</td><td>user/</td><td>0</td><td>1693629492000</td></tr><tr><td>dbfs:/volume/</td><td>volume/</td><td>0</td><td>0</td></tr><tr><td>dbfs:/volumes/</td><td>volumes/</td><td>0</td><td>0</td></tr></tbody></table></div>"
      ]
     },
     "metadata": {
      "application/vnd.databricks.v1+output": {
       "addedWidgets": {},
       "aggData": [],
       "aggError": "",
       "aggOverflow": false,
       "aggSchema": [],
       "aggSeriesLimitReached": false,
       "aggType": "",
       "arguments": {},
       "columnCustomDisplayInfos": {},
       "data": [
        [
         "dbfs:/FileStore/",
         "FileStore/",
         0,
         1694631178000
        ],
        [
         "dbfs:/Volume/",
         "Volume/",
         0,
         0
        ],
        [
         "dbfs:/Volumes/",
         "Volumes/",
         0,
         0
        ],
        [
         "dbfs:/databricks-datasets/",
         "databricks-datasets/",
         0,
         0
        ],
        [
         "dbfs:/databricks-results/",
         "databricks-results/",
         0,
         0
        ],
        [
         "dbfs:/mnt/",
         "mnt/",
         0,
         1694530632000
        ],
        [
         "dbfs:/user/",
         "user/",
         0,
         1693629492000
        ],
        [
         "dbfs:/volume/",
         "volume/",
         0,
         0
        ],
        [
         "dbfs:/volumes/",
         "volumes/",
         0,
         0
        ]
       ],
       "datasetInfos": [],
       "dbfsResultPath": null,
       "isJsonSchema": true,
       "metadata": {},
       "overflow": false,
       "plotOptions": {
        "customPlotOptions": {},
        "displayType": "table",
        "pivotAggregation": null,
        "pivotColumns": null,
        "xColumns": null,
        "yColumns": null
       },
       "removedWidgets": [],
       "schema": [
        {
         "metadata": "{}",
         "name": "path",
         "type": "\"string\""
        },
        {
         "metadata": "{}",
         "name": "name",
         "type": "\"string\""
        },
        {
         "metadata": "{}",
         "name": "size",
         "type": "\"long\""
        },
        {
         "metadata": "{}",
         "name": "modificationTime",
         "type": "\"long\""
        }
       ],
       "type": "table"
      }
     },
     "output_type": "display_data"
    }
   ],
   "source": [
    "display(dbutils.fs.ls('/'))"
   ]
  },
  {
   "cell_type": "markdown",
   "metadata": {
    "application/vnd.databricks.v1+cell": {
     "cellMetadata": {},
     "inputWidgets": {},
     "nuid": "c0f771ed-4e64-4f48-92cf-a030e3180313",
     "showTitle": false,
     "title": ""
    }
   },
   "source": [
    "\n",
    "## Some examples of DBFS Unix-Like Commands\n",
    "\n",
    "| Command | Result |\n",
    "|--------|--------|\n",
    "| `ls` | List the directory files. |\n",
    "| `mkdirs` | Create a new directory. |\n",
    "| `cp` | Able to copy files from one directory to another. |\n",
    "| `mv` | Able to move files from one directory to another. |\n",
    "| `rm` | Can remove a file from a path. |\n",
    "| `rm -r` | Recursively removes nested folders or files. |\n",
    "| `put` | Let you insert data or even create new data files. |\n",
    "| `head` | Allows file reading in the first rows. |\n",
    "| `mount` | Create a link between a workspace and cloud object storage. |\n",
    "| `secrets.get` | Collect a secret from a certain scope of Databricks Secrets. |\n"
   ]
  },
  {
   "cell_type": "code",
   "execution_count": 0,
   "metadata": {
    "application/vnd.databricks.v1+cell": {
     "cellMetadata": {
      "byteLimit": 2048000,
      "rowLimit": 10000
     },
     "inputWidgets": {},
     "nuid": "53653966-fc9e-499a-a969-60d4299b87f7",
     "showTitle": false,
     "title": ""
    }
   },
   "outputs": [
    {
     "output_type": "display_data",
     "data": {
      "text/html": [
       "<div class = \"ansiout\"><b>dbutils.fs</b> provides utilities for working with FileSystems. Most methods in\n",
       "this package can take either a DBFS path (e.g., \"/foo\" or \"dbfs:/foo\"), or\n",
       "another FileSystem URI.\n",
       "\n",
       "For more info about a method, use <b>dbutils.fs.help(\"methodName\")</b>.\n",
       "\n",
       "In notebooks, you can also use the %fs shorthand to access DBFS. The %fs shorthand maps\n",
       "straightforwardly onto dbutils calls. For example, \"%fs head --maxBytes=10000 /file/path\"\n",
       "translates into \"dbutils.fs.head(\"/file/path\", maxBytes = 10000)\".\n",
       "    <h3>mount</h3><b>mount(source: String, mountPoint: String, encryptionType: String = \"\", owner: String = null, extraConfigs: Map = Map.empty[String, String]): boolean</b> -> Mounts the given source directory into DBFS at the given mount point<br /><b>mounts: Seq</b> -> Displays information about what is mounted within DBFS<br /><b>refreshMounts: boolean</b> -> Forces all machines in this cluster to refresh their mount cache, ensuring they receive the most recent information<br /><b>unmount(mountPoint: String): boolean</b> -> Deletes a DBFS mount point<br /><b>updateMount(source: String, mountPoint: String, encryptionType: String = \"\", owner: String = null, extraConfigs: Map = Map.empty[String, String]): boolean</b> -> Similar to mount(), but updates an existing mount point (if present) instead of creating a new one<br /><br /><h3>fsutils</h3><b>cp(from: String, to: String, recurse: boolean = false): boolean</b> -> Copies a file or directory, possibly across FileSystems<br /><b>head(file: String, maxBytes: int = 65536): String</b> -> Returns up to the first 'maxBytes' bytes of the given file as a String encoded in UTF-8<br /><b>ls(dir: String): Seq</b> -> Lists the contents of a directory<br /><b>mkdirs(dir: String): boolean</b> -> Creates the given directory if it does not exist, also creating any necessary parent directories<br /><b>mv(from: String, to: String, recurse: boolean = false): boolean</b> -> Moves a file or directory, possibly across FileSystems<br /><b>put(file: String, contents: String, overwrite: boolean = false): boolean</b> -> Writes the given String out to a file, encoded in UTF-8<br /><b>rm(dir: String, recurse: boolean = false): boolean</b> -> Removes a file or directory<br /><br /></div>"
      ]
     },
     "metadata": {
      "application/vnd.databricks.v1+output": {
       "addedWidgets": {},
       "arguments": {},
       "data": "<div class = \"ansiout\"><b>dbutils.fs</b> provides utilities for working with FileSystems. Most methods in\nthis package can take either a DBFS path (e.g., \"/foo\" or \"dbfs:/foo\"), or\nanother FileSystem URI.\n\nFor more info about a method, use <b>dbutils.fs.help(\"methodName\")</b>.\n\nIn notebooks, you can also use the %fs shorthand to access DBFS. The %fs shorthand maps\nstraightforwardly onto dbutils calls. For example, \"%fs head --maxBytes=10000 /file/path\"\ntranslates into \"dbutils.fs.head(\"/file/path\", maxBytes = 10000)\".\n    <h3>mount</h3><b>mount(source: String, mountPoint: String, encryptionType: String = \"\", owner: String = null, extraConfigs: Map = Map.empty[String, String]): boolean</b> -> Mounts the given source directory into DBFS at the given mount point<br /><b>mounts: Seq</b> -> Displays information about what is mounted within DBFS<br /><b>refreshMounts: boolean</b> -> Forces all machines in this cluster to refresh their mount cache, ensuring they receive the most recent information<br /><b>unmount(mountPoint: String): boolean</b> -> Deletes a DBFS mount point<br /><b>updateMount(source: String, mountPoint: String, encryptionType: String = \"\", owner: String = null, extraConfigs: Map = Map.empty[String, String]): boolean</b> -> Similar to mount(), but updates an existing mount point (if present) instead of creating a new one<br /><br /><h3>fsutils</h3><b>cp(from: String, to: String, recurse: boolean = false): boolean</b> -> Copies a file or directory, possibly across FileSystems<br /><b>head(file: String, maxBytes: int = 65536): String</b> -> Returns up to the first 'maxBytes' bytes of the given file as a String encoded in UTF-8<br /><b>ls(dir: String): Seq</b> -> Lists the contents of a directory<br /><b>mkdirs(dir: String): boolean</b> -> Creates the given directory if it does not exist, also creating any necessary parent directories<br /><b>mv(from: String, to: String, recurse: boolean = false): boolean</b> -> Moves a file or directory, possibly across FileSystems<br /><b>put(file: String, contents: String, overwrite: boolean = false): boolean</b> -> Writes the given String out to a file, encoded in UTF-8<br /><b>rm(dir: String, recurse: boolean = false): boolean</b> -> Removes a file or directory<br /><br /></div>",
       "datasetInfos": [],
       "metadata": {
        "isDbfsCommandResult": false
       },
       "removedWidgets": [],
       "textData": null,
       "type": "htmlSandbox"
      }
     },
     "output_type": "display_data"
    }
   ],
   "source": [
    "%fs help"
   ]
  },
  {
   "cell_type": "code",
   "execution_count": 0,
   "metadata": {
    "application/vnd.databricks.v1+cell": {
     "cellMetadata": {
      "byteLimit": 2048000,
      "rowLimit": 10000
     },
     "inputWidgets": {},
     "nuid": "3dfecc43-6776-45a7-875c-be5a831a97e4",
     "showTitle": false,
     "title": ""
    }
   },
   "outputs": [
    {
     "output_type": "stream",
     "name": "stdout",
     "output_type": "stream",
     "text": [
      "Help on FSHandler in module dbruntime.dbutils object:\n\nclass FSHandler(builtins.object)\n |  FSHandler(fsutils, fsutils_parallel, dbcore, sc, entry_point, displayHTML)\n |  \n |  Methods defined here:\n |  \n |  __call__(self)\n |      Call self as a function.\n |  \n |  __init__(self, fsutils, fsutils_parallel, dbcore, sc, entry_point, displayHTML)\n |      Initialize self.  See help(type(self)) for accurate signature.\n |  \n |  __repr__(self)\n |      Return repr(self).\n |  \n |  cacheFiles = f_with_exception_handling(*args, **kwargs)\n |  \n |  cacheTable = f_with_exception_handling(*args, **kwargs)\n |  \n |  check_types(self, vars_and_types)\n |  \n |  cp = f_with_exception_handling(*args, **kwargs)\n |  \n |  create_list_from_jschema(self, jschema, create_obj_from_jschema)\n |  \n |  head = f_with_exception_handling(*args, **kwargs)\n |  \n |  help(self, method_name=None)\n |  \n |  ls = f_with_exception_handling(*args, **kwargs)\n |  \n |  mkdirs = f_with_exception_handling(*args, **kwargs)\n |  \n |  mount = f_with_exception_handling(*args, **kwargs)\n |  \n |  mounts = f_with_exception_handling(*args, **kwargs)\n |  \n |  mv = f_with_exception_handling(*args, **kwargs)\n |  \n |  prettify_exception_message(f)\n |      This is a decorator function that aims to properly display errors that happened on the\n |      Scala side. Without such handling, stack traces from Scala are displayed at the\n |      bottom of error output, and are easily missed. We fix this by catching Py4JJavaError\n |      and throwing another exception with the error message from Scala side.\n |  \n |  print_return(self, result)\n |  \n |  put = f_with_exception_handling(*args, **kwargs)\n |  \n |  refreshMounts = f_with_exception_handling(*args, **kwargs)\n |  \n |  rm = f_with_exception_handling(*args, **kwargs)\n |  \n |  should_use_parallel_dbutils_fs(self)\n |  \n |  uncacheFiles = f_with_exception_handling(*args, **kwargs)\n |  \n |  uncacheTable = f_with_exception_handling(*args, **kwargs)\n |  \n |  unmount = f_with_exception_handling(*args, **kwargs)\n |  \n |  updateMount = f_with_exception_handling(*args, **kwargs)\n |  \n |  ----------------------------------------------------------------------\n |  Data descriptors defined here:\n |  \n |  __dict__\n |      dictionary for instance variables (if defined)\n |  \n |  __weakref__\n |      list of weak references to the object (if defined)\n\n"
     ]
    }
   ],
   "source": [
    "help(dbutils.fs)"
   ]
  },
  {
   "cell_type": "code",
   "execution_count": 0,
   "metadata": {
    "application/vnd.databricks.v1+cell": {
     "cellMetadata": {
      "byteLimit": 2048000,
      "rowLimit": 10000
     },
     "inputWidgets": {},
     "nuid": "01358624-3f50-4038-859c-25bfeeaa2554",
     "showTitle": false,
     "title": ""
    }
   },
   "outputs": [
    {
     "output_type": "display_data",
     "data": {
      "text/html": [
       "<style scoped>\n",
       "  .ansiout {\n",
       "    display: block;\n",
       "    unicode-bidi: embed;\n",
       "    white-space: pre-wrap;\n",
       "    word-wrap: break-word;\n",
       "    word-break: break-all;\n",
       "    font-family: \"Menlo\", \"Monaco\", \"Consolas\", \"Ubuntu Mono\", \"Source Code Pro\", monospace;\n",
       "    font-size: 13px;\n",
       "    color: #555;\n",
       "    margin-left: 4px;\n",
       "    line-height: 19px;\n",
       "  }\n",
       "</style>\n",
       "<div class=\"ansiout\">res2: Boolean = true\n",
       "</div>"
      ]
     },
     "metadata": {
      "application/vnd.databricks.v1+output": {
       "addedWidgets": {},
       "arguments": {},
       "data": "<div class=\"ansiout\">res2: Boolean = true\n</div>",
       "datasetInfos": [],
       "metadata": {
        "isDbfsCommandResult": false
       },
       "removedWidgets": [],
       "type": "html"
      }
     },
     "output_type": "display_data"
    }
   ],
   "source": [
    "%fs mkdirs /databricks_cc_example"
   ]
  },
  {
   "cell_type": "code",
   "execution_count": 0,
   "metadata": {
    "application/vnd.databricks.v1+cell": {
     "cellMetadata": {
      "byteLimit": 2048000,
      "rowLimit": 10000
     },
     "inputWidgets": {},
     "nuid": "e16a4c6d-62ce-4806-abeb-5d6ddf9635c4",
     "showTitle": false,
     "title": ""
    }
   },
   "outputs": [
    {
     "output_type": "display_data",
     "data": {
      "text/html": [
       "<style scoped>\n",
       "  .table-result-container {\n",
       "    max-height: 300px;\n",
       "    overflow: auto;\n",
       "  }\n",
       "  table, th, td {\n",
       "    border: 1px solid black;\n",
       "    border-collapse: collapse;\n",
       "  }\n",
       "  th, td {\n",
       "    padding: 5px;\n",
       "  }\n",
       "  th {\n",
       "    text-align: left;\n",
       "  }\n",
       "</style><div class='table-result-container'><table class='table-result'><thead style='background-color: white'><tr></tr></thead><tbody></tbody></table></div>"
      ]
     },
     "metadata": {
      "application/vnd.databricks.v1+output": {
       "addedWidgets": {},
       "aggData": [],
       "aggError": "",
       "aggOverflow": false,
       "aggSchema": [],
       "aggSeriesLimitReached": false,
       "aggType": "",
       "arguments": {},
       "columnCustomDisplayInfos": {},
       "data": [],
       "datasetInfos": [],
       "dbfsResultPath": null,
       "isJsonSchema": true,
       "metadata": {
        "isDbfsCommandResult": false
       },
       "overflow": false,
       "plotOptions": {
        "customPlotOptions": {},
        "displayType": "table",
        "pivotAggregation": null,
        "pivotColumns": null,
        "xColumns": null,
        "yColumns": null
       },
       "removedWidgets": [],
       "schema": [],
       "type": "table"
      }
     },
     "output_type": "display_data"
    }
   ],
   "source": [
    "%fs ls /databricks_cc_example/"
   ]
  },
  {
   "cell_type": "code",
   "execution_count": 0,
   "metadata": {
    "application/vnd.databricks.v1+cell": {
     "cellMetadata": {
      "byteLimit": 2048000,
      "rowLimit": 10000
     },
     "inputWidgets": {},
     "nuid": "e29c1ec3-2bc1-4c32-b1e0-3e0a137442b7",
     "showTitle": false,
     "title": ""
    }
   },
   "outputs": [
    {
     "output_type": "stream",
     "name": "stdout",
     "output_type": "stream",
     "text": [
      "Wrote 110 bytes.\nOut[4]: True"
     ]
    }
   ],
   "source": [
    "dbutils.fs.put(\"/databricks_cc_example/data.csv\", \"\"\"Name, Age, Job\n",
    "Angelo, 25, Nurse\n",
    "Maria, 23, Architect\n",
    "Ronaldo, 33, Actor\n",
    "Jessica, 18, Student\n",
    "Mara, 27, Doctor\"\"\",\n",
    "True)"
   ]
  },
  {
   "cell_type": "code",
   "execution_count": 0,
   "metadata": {
    "application/vnd.databricks.v1+cell": {
     "cellMetadata": {
      "byteLimit": 2048000,
      "rowLimit": 10000
     },
     "inputWidgets": {},
     "nuid": "969b8467-2a0f-43bf-ac1a-490b0d1993c8",
     "showTitle": false,
     "title": ""
    }
   },
   "outputs": [
    {
     "output_type": "display_data",
     "data": {
      "text/html": [
       "<style scoped>\n",
       "  .table-result-container {\n",
       "    max-height: 300px;\n",
       "    overflow: auto;\n",
       "  }\n",
       "  table, th, td {\n",
       "    border: 1px solid black;\n",
       "    border-collapse: collapse;\n",
       "  }\n",
       "  th, td {\n",
       "    padding: 5px;\n",
       "  }\n",
       "  th {\n",
       "    text-align: left;\n",
       "  }\n",
       "</style><div class='table-result-container'><table class='table-result'><thead style='background-color: white'><tr><th>path</th><th>name</th><th>size</th><th>modificationTime</th></tr></thead><tbody><tr><td>dbfs:/databricks_cc_example/data.csv</td><td>data.csv</td><td>110</td><td>1694650055000</td></tr></tbody></table></div>"
      ]
     },
     "metadata": {
      "application/vnd.databricks.v1+output": {
       "addedWidgets": {},
       "aggData": [],
       "aggError": "",
       "aggOverflow": false,
       "aggSchema": [],
       "aggSeriesLimitReached": false,
       "aggType": "",
       "arguments": {},
       "columnCustomDisplayInfos": {},
       "data": [
        [
         "dbfs:/databricks_cc_example/data.csv",
         "data.csv",
         110,
         1694650055000
        ]
       ],
       "datasetInfos": [],
       "dbfsResultPath": null,
       "isJsonSchema": true,
       "metadata": {
        "isDbfsCommandResult": false
       },
       "overflow": false,
       "plotOptions": {
        "customPlotOptions": {},
        "displayType": "table",
        "pivotAggregation": null,
        "pivotColumns": null,
        "xColumns": null,
        "yColumns": null
       },
       "removedWidgets": [],
       "schema": [
        {
         "metadata": "{}",
         "name": "path",
         "type": "\"string\""
        },
        {
         "metadata": "{}",
         "name": "name",
         "type": "\"string\""
        },
        {
         "metadata": "{}",
         "name": "size",
         "type": "\"long\""
        },
        {
         "metadata": "{}",
         "name": "modificationTime",
         "type": "\"long\""
        }
       ],
       "type": "table"
      }
     },
     "output_type": "display_data"
    }
   ],
   "source": [
    "%fs ls /databricks_cc_example"
   ]
  },
  {
   "cell_type": "code",
   "execution_count": 0,
   "metadata": {
    "application/vnd.databricks.v1+cell": {
     "cellMetadata": {
      "byteLimit": 2048000,
      "rowLimit": 10000
     },
     "inputWidgets": {},
     "nuid": "2b36d344-e6f2-49d8-bee0-5a659f96175c",
     "showTitle": false,
     "title": ""
    }
   },
   "outputs": [
    {
     "output_type": "display_data",
     "data": {
      "text/html": [
       "<style scoped>\n",
       "  .ansiout {\n",
       "    display: block;\n",
       "    unicode-bidi: embed;\n",
       "    white-space: pre-wrap;\n",
       "    word-wrap: break-word;\n",
       "    word-break: break-all;\n",
       "    font-family: \"Menlo\", \"Monaco\", \"Consolas\", \"Ubuntu Mono\", \"Source Code Pro\", monospace;\n",
       "    font-size: 13px;\n",
       "    color: #555;\n",
       "    margin-left: 4px;\n",
       "    line-height: 19px;\n",
       "  }\n",
       "</style>\n",
       "<div class=\"ansiout\">Name, Age, Job\n",
       "Angelo, 25, Nurse\n",
       "Maria, 23, Architect\n",
       "Ronaldo, 33, Actor\n",
       "Jessica, 18, Student\n",
       "Mara, 27, Doctor\n",
       "</div>"
      ]
     },
     "metadata": {
      "application/vnd.databricks.v1+output": {
       "addedWidgets": {},
       "arguments": {},
       "data": "<div class=\"ansiout\">Name, Age, Job\nAngelo, 25, Nurse\nMaria, 23, Architect\nRonaldo, 33, Actor\nJessica, 18, Student\nMara, 27, Doctor\n</div>",
       "datasetInfos": [],
       "metadata": {
        "isDbfsCommandResult": false
       },
       "removedWidgets": [],
       "type": "html"
      }
     },
     "output_type": "display_data"
    }
   ],
   "source": [
    "%fs head /databricks_cc_example/data.csv"
   ]
  },
  {
   "cell_type": "code",
   "execution_count": 0,
   "metadata": {
    "application/vnd.databricks.v1+cell": {
     "cellMetadata": {
      "byteLimit": 2048000,
      "rowLimit": 10000
     },
     "inputWidgets": {},
     "nuid": "adccf1b3-cd4d-4208-971c-bdecde3f24eb",
     "showTitle": false,
     "title": ""
    }
   },
   "outputs": [
    {
     "output_type": "display_data",
     "data": {
      "text/html": [
       "<style scoped>\n",
       "  .table-result-container {\n",
       "    max-height: 300px;\n",
       "    overflow: auto;\n",
       "  }\n",
       "  table, th, td {\n",
       "    border: 1px solid black;\n",
       "    border-collapse: collapse;\n",
       "  }\n",
       "  th, td {\n",
       "    padding: 5px;\n",
       "  }\n",
       "  th {\n",
       "    text-align: left;\n",
       "  }\n",
       "</style><div class='table-result-container'><table class='table-result'><thead style='background-color: white'><tr><th>path</th><th>name</th><th>size</th><th>modificationTime</th></tr></thead><tbody><tr><td>dbfs:/FileStore/</td><td>FileStore/</td><td>0</td><td>1694631178000</td></tr><tr><td>dbfs:/Volume/</td><td>Volume/</td><td>0</td><td>0</td></tr><tr><td>dbfs:/Volumes/</td><td>Volumes/</td><td>0</td><td>0</td></tr><tr><td>dbfs:/databricks-datasets/</td><td>databricks-datasets/</td><td>0</td><td>0</td></tr><tr><td>dbfs:/databricks-results/</td><td>databricks-results/</td><td>0</td><td>0</td></tr><tr><td>dbfs:/databricks_cc_example/</td><td>databricks_cc_example/</td><td>0</td><td>1694649911000</td></tr><tr><td>dbfs:/mnt/</td><td>mnt/</td><td>0</td><td>1694530632000</td></tr><tr><td>dbfs:/user/</td><td>user/</td><td>0</td><td>1693629492000</td></tr><tr><td>dbfs:/volume/</td><td>volume/</td><td>0</td><td>0</td></tr><tr><td>dbfs:/volumes/</td><td>volumes/</td><td>0</td><td>0</td></tr></tbody></table></div>"
      ]
     },
     "metadata": {
      "application/vnd.databricks.v1+output": {
       "addedWidgets": {},
       "aggData": [],
       "aggError": "",
       "aggOverflow": false,
       "aggSchema": [],
       "aggSeriesLimitReached": false,
       "aggType": "",
       "arguments": {},
       "columnCustomDisplayInfos": {},
       "data": [
        [
         "dbfs:/FileStore/",
         "FileStore/",
         0,
         1694631178000
        ],
        [
         "dbfs:/Volume/",
         "Volume/",
         0,
         0
        ],
        [
         "dbfs:/Volumes/",
         "Volumes/",
         0,
         0
        ],
        [
         "dbfs:/databricks-datasets/",
         "databricks-datasets/",
         0,
         0
        ],
        [
         "dbfs:/databricks-results/",
         "databricks-results/",
         0,
         0
        ],
        [
         "dbfs:/databricks_cc_example/",
         "databricks_cc_example/",
         0,
         1694649911000
        ],
        [
         "dbfs:/mnt/",
         "mnt/",
         0,
         1694530632000
        ],
        [
         "dbfs:/user/",
         "user/",
         0,
         1693629492000
        ],
        [
         "dbfs:/volume/",
         "volume/",
         0,
         0
        ],
        [
         "dbfs:/volumes/",
         "volumes/",
         0,
         0
        ]
       ],
       "datasetInfos": [],
       "dbfsResultPath": null,
       "isJsonSchema": true,
       "metadata": {
        "isDbfsCommandResult": false
       },
       "overflow": false,
       "plotOptions": {
        "customPlotOptions": {},
        "displayType": "table",
        "pivotAggregation": null,
        "pivotColumns": null,
        "xColumns": null,
        "yColumns": null
       },
       "removedWidgets": [],
       "schema": [
        {
         "metadata": "{}",
         "name": "path",
         "type": "\"string\""
        },
        {
         "metadata": "{}",
         "name": "name",
         "type": "\"string\""
        },
        {
         "metadata": "{}",
         "name": "size",
         "type": "\"long\""
        },
        {
         "metadata": "{}",
         "name": "modificationTime",
         "type": "\"long\""
        }
       ],
       "type": "table"
      }
     },
     "output_type": "display_data"
    }
   ],
   "source": [
    "%fs ls /"
   ]
  },
  {
   "cell_type": "code",
   "execution_count": 0,
   "metadata": {
    "application/vnd.databricks.v1+cell": {
     "cellMetadata": {
      "byteLimit": 2048000,
      "rowLimit": 10000
     },
     "inputWidgets": {},
     "nuid": "4f323a93-720b-4b30-b100-57d5f682ed6d",
     "showTitle": false,
     "title": ""
    }
   },
   "outputs": [
    {
     "output_type": "display_data",
     "data": {
      "text/html": [
       "<style scoped>\n",
       "  .table-result-container {\n",
       "    max-height: 300px;\n",
       "    overflow: auto;\n",
       "  }\n",
       "  table, th, td {\n",
       "    border: 1px solid black;\n",
       "    border-collapse: collapse;\n",
       "  }\n",
       "  th, td {\n",
       "    padding: 5px;\n",
       "  }\n",
       "  th {\n",
       "    text-align: left;\n",
       "  }\n",
       "</style><div class='table-result-container'><table class='table-result'><thead style='background-color: white'><tr></tr></thead><tbody></tbody></table></div>"
      ]
     },
     "metadata": {
      "application/vnd.databricks.v1+output": {
       "addedWidgets": {},
       "aggData": [],
       "aggError": "",
       "aggOverflow": false,
       "aggSchema": [],
       "aggSeriesLimitReached": false,
       "aggType": "",
       "arguments": {},
       "columnCustomDisplayInfos": {},
       "data": [],
       "datasetInfos": [],
       "dbfsResultPath": null,
       "isJsonSchema": true,
       "metadata": {
        "isDbfsCommandResult": false
       },
       "overflow": false,
       "plotOptions": {
        "customPlotOptions": {},
        "displayType": "table",
        "pivotAggregation": null,
        "pivotColumns": null,
        "xColumns": null,
        "yColumns": null
       },
       "removedWidgets": [],
       "schema": [],
       "type": "table"
      }
     },
     "output_type": "display_data"
    }
   ],
   "source": [
    "%fs ls /mnt/"
   ]
  },
  {
   "cell_type": "code",
   "execution_count": 0,
   "metadata": {
    "application/vnd.databricks.v1+cell": {
     "cellMetadata": {
      "byteLimit": 2048000,
      "rowLimit": 10000
     },
     "inputWidgets": {},
     "nuid": "d262cd69-4038-4c36-8724-9700433c9671",
     "showTitle": false,
     "title": ""
    }
   },
   "outputs": [
    {
     "output_type": "display_data",
     "data": {
      "text/html": [
       "<style scoped>\n",
       "  .table-result-container {\n",
       "    max-height: 300px;\n",
       "    overflow: auto;\n",
       "  }\n",
       "  table, th, td {\n",
       "    border: 1px solid black;\n",
       "    border-collapse: collapse;\n",
       "  }\n",
       "  th, td {\n",
       "    padding: 5px;\n",
       "  }\n",
       "  th {\n",
       "    text-align: left;\n",
       "  }\n",
       "</style><div class='table-result-container'><table class='table-result'><thead style='background-color: white'><tr><th>mountPoint</th><th>source</th><th>encryptionType</th></tr></thead><tbody><tr><td>/databricks-datasets</td><td>databricks-datasets</td><td></td></tr><tr><td>/Volumes</td><td>UnityCatalogVolumes</td><td></td></tr><tr><td>/databricks/mlflow-tracking</td><td>databricks/mlflow-tracking</td><td></td></tr><tr><td>/databricks-results</td><td>databricks-results</td><td></td></tr><tr><td>/databricks/mlflow-registry</td><td>databricks/mlflow-registry</td><td></td></tr><tr><td>/Volume</td><td>DbfsReserved</td><td></td></tr><tr><td>/volumes</td><td>DbfsReserved</td><td></td></tr><tr><td>/</td><td>DatabricksRoot</td><td></td></tr><tr><td>/volume</td><td>DbfsReserved</td><td></td></tr></tbody></table></div>"
      ]
     },
     "metadata": {
      "application/vnd.databricks.v1+output": {
       "addedWidgets": {},
       "aggData": [],
       "aggError": "",
       "aggOverflow": false,
       "aggSchema": [],
       "aggSeriesLimitReached": false,
       "aggType": "",
       "arguments": {},
       "columnCustomDisplayInfos": {},
       "data": [
        [
         "/databricks-datasets",
         "databricks-datasets",
         ""
        ],
        [
         "/Volumes",
         "UnityCatalogVolumes",
         ""
        ],
        [
         "/databricks/mlflow-tracking",
         "databricks/mlflow-tracking",
         ""
        ],
        [
         "/databricks-results",
         "databricks-results",
         ""
        ],
        [
         "/databricks/mlflow-registry",
         "databricks/mlflow-registry",
         ""
        ],
        [
         "/Volume",
         "DbfsReserved",
         ""
        ],
        [
         "/volumes",
         "DbfsReserved",
         ""
        ],
        [
         "/",
         "DatabricksRoot",
         ""
        ],
        [
         "/volume",
         "DbfsReserved",
         ""
        ]
       ],
       "datasetInfos": [],
       "dbfsResultPath": null,
       "isJsonSchema": true,
       "metadata": {
        "isDbfsCommandResult": false
       },
       "overflow": false,
       "plotOptions": {
        "customPlotOptions": {},
        "displayType": "table",
        "pivotAggregation": null,
        "pivotColumns": null,
        "xColumns": null,
        "yColumns": null
       },
       "removedWidgets": [],
       "schema": [
        {
         "metadata": "{}",
         "name": "mountPoint",
         "type": "\"string\""
        },
        {
         "metadata": "{}",
         "name": "source",
         "type": "\"string\""
        },
        {
         "metadata": "{}",
         "name": "encryptionType",
         "type": "\"string\""
        }
       ],
       "type": "table"
      }
     },
     "output_type": "display_data"
    }
   ],
   "source": [
    "%fs mounts"
   ]
  },
  {
   "cell_type": "code",
   "execution_count": 0,
   "metadata": {
    "application/vnd.databricks.v1+cell": {
     "cellMetadata": {
      "byteLimit": 2048000,
      "rowLimit": 10000
     },
     "inputWidgets": {},
     "nuid": "ae1c1dd7-ee95-491f-8828-fee8210e9221",
     "showTitle": false,
     "title": ""
    }
   },
   "outputs": [
    {
     "output_type": "stream",
     "name": "stdout",
     "output_type": "stream",
     "text": [
      "Out[5]: True"
     ]
    }
   ],
   "source": [
    "access_key = dbutils.secrets.get(scope = \"aws\", key = \"aws-access-key\")\n",
    "secret_key = dbutils.secrets.get(scope = \"aws\", key = \"aws-secret-key\")\n",
    "encoded_secret_key = secret_key.replace(\"/\", \"%2F\")\n",
    "aws_bucket_name = \"databricks-cc-eng-academy\"\n",
    "mount_name = \"s3_dbfs\"\n",
    "\n",
    "dbutils.fs.mount(f\"s3a://{access_key}:{encoded_secret_key}@{aws_bucket_name}\", f\"/mnt/{mount_name}\")"
   ]
  },
  {
   "cell_type": "code",
   "execution_count": 0,
   "metadata": {
    "application/vnd.databricks.v1+cell": {
     "cellMetadata": {
      "byteLimit": 2048000,
      "rowLimit": 10000
     },
     "inputWidgets": {},
     "nuid": "b8b43202-8d62-4ab1-8120-2f606580d55c",
     "showTitle": false,
     "title": ""
    }
   },
   "outputs": [
    {
     "output_type": "stream",
     "name": "stdout",
     "output_type": "stream",
     "text": [
      "f\nl\na\nm\ne\nn\ng\no\n"
     ]
    }
   ],
   "source": [
    "top_secret = dbutils.secrets.get(scope = \"databricks\", key = \"secrets\")\n",
    "for letter in top_secret:\n",
    "    print(letter)"
   ]
  },
  {
   "cell_type": "code",
   "execution_count": 0,
   "metadata": {
    "application/vnd.databricks.v1+cell": {
     "cellMetadata": {
      "byteLimit": 2048000,
      "rowLimit": 10000
     },
     "inputWidgets": {},
     "nuid": "767bc8e7-9f30-4b0d-a771-bda6556193b4",
     "showTitle": false,
     "title": ""
    }
   },
   "outputs": [
    {
     "output_type": "display_data",
     "data": {
      "text/html": [
       "<style scoped>\n",
       "  .table-result-container {\n",
       "    max-height: 300px;\n",
       "    overflow: auto;\n",
       "  }\n",
       "  table, th, td {\n",
       "    border: 1px solid black;\n",
       "    border-collapse: collapse;\n",
       "  }\n",
       "  th, td {\n",
       "    padding: 5px;\n",
       "  }\n",
       "  th {\n",
       "    text-align: left;\n",
       "  }\n",
       "</style><div class='table-result-container'><table class='table-result'><thead style='background-color: white'><tr><th>mountPoint</th><th>source</th><th>encryptionType</th></tr></thead><tbody><tr><td>/databricks-datasets</td><td>databricks-datasets</td><td></td></tr><tr><td>/mnt/s3_dbfs</td><td>s3a://databricks-cc-eng-academy</td><td></td></tr><tr><td>/Volumes</td><td>UnityCatalogVolumes</td><td></td></tr><tr><td>/databricks/mlflow-tracking</td><td>databricks/mlflow-tracking</td><td></td></tr><tr><td>/databricks-results</td><td>databricks-results</td><td></td></tr><tr><td>/databricks/mlflow-registry</td><td>databricks/mlflow-registry</td><td></td></tr><tr><td>/Volume</td><td>DbfsReserved</td><td></td></tr><tr><td>/volumes</td><td>DbfsReserved</td><td></td></tr><tr><td>/</td><td>DatabricksRoot</td><td></td></tr><tr><td>/volume</td><td>DbfsReserved</td><td></td></tr></tbody></table></div>"
      ]
     },
     "metadata": {
      "application/vnd.databricks.v1+output": {
       "addedWidgets": {},
       "aggData": [],
       "aggError": "",
       "aggOverflow": false,
       "aggSchema": [],
       "aggSeriesLimitReached": false,
       "aggType": "",
       "arguments": {},
       "columnCustomDisplayInfos": {},
       "data": [
        [
         "/databricks-datasets",
         "databricks-datasets",
         ""
        ],
        [
         "/mnt/s3_dbfs",
         "s3a://databricks-cc-eng-academy",
         ""
        ],
        [
         "/Volumes",
         "UnityCatalogVolumes",
         ""
        ],
        [
         "/databricks/mlflow-tracking",
         "databricks/mlflow-tracking",
         ""
        ],
        [
         "/databricks-results",
         "databricks-results",
         ""
        ],
        [
         "/databricks/mlflow-registry",
         "databricks/mlflow-registry",
         ""
        ],
        [
         "/Volume",
         "DbfsReserved",
         ""
        ],
        [
         "/volumes",
         "DbfsReserved",
         ""
        ],
        [
         "/",
         "DatabricksRoot",
         ""
        ],
        [
         "/volume",
         "DbfsReserved",
         ""
        ]
       ],
       "datasetInfos": [],
       "dbfsResultPath": null,
       "isJsonSchema": true,
       "metadata": {
        "isDbfsCommandResult": false
       },
       "overflow": false,
       "plotOptions": {
        "customPlotOptions": {},
        "displayType": "table",
        "pivotAggregation": null,
        "pivotColumns": null,
        "xColumns": null,
        "yColumns": null
       },
       "removedWidgets": [],
       "schema": [
        {
         "metadata": "{}",
         "name": "mountPoint",
         "type": "\"string\""
        },
        {
         "metadata": "{}",
         "name": "source",
         "type": "\"string\""
        },
        {
         "metadata": "{}",
         "name": "encryptionType",
         "type": "\"string\""
        }
       ],
       "type": "table"
      }
     },
     "output_type": "display_data"
    }
   ],
   "source": [
    "%fs mounts"
   ]
  },
  {
   "cell_type": "code",
   "execution_count": 0,
   "metadata": {
    "application/vnd.databricks.v1+cell": {
     "cellMetadata": {
      "byteLimit": 2048000,
      "rowLimit": 10000
     },
     "inputWidgets": {},
     "nuid": "79474ab0-b003-466e-8595-5e8000ee45ab",
     "showTitle": false,
     "title": ""
    }
   },
   "outputs": [
    {
     "output_type": "display_data",
     "data": {
      "text/html": [
       "<style scoped>\n",
       "  .table-result-container {\n",
       "    max-height: 300px;\n",
       "    overflow: auto;\n",
       "  }\n",
       "  table, th, td {\n",
       "    border: 1px solid black;\n",
       "    border-collapse: collapse;\n",
       "  }\n",
       "  th, td {\n",
       "    padding: 5px;\n",
       "  }\n",
       "  th {\n",
       "    text-align: left;\n",
       "  }\n",
       "</style><div class='table-result-container'><table class='table-result'><thead style='background-color: white'><tr><th>path</th><th>name</th><th>size</th><th>modificationTime</th></tr></thead><tbody><tr><td>dbfs:/mnt/s3_dbfs/remuneracao202206.csv</td><td>remuneracao202206.csv</td><td>86911959</td><td>1694562402000</td></tr></tbody></table></div>"
      ]
     },
     "metadata": {
      "application/vnd.databricks.v1+output": {
       "addedWidgets": {},
       "aggData": [],
       "aggError": "",
       "aggOverflow": false,
       "aggSchema": [],
       "aggSeriesLimitReached": false,
       "aggType": "",
       "arguments": {},
       "columnCustomDisplayInfos": {},
       "data": [
        [
         "dbfs:/mnt/s3_dbfs/remuneracao202206.csv",
         "remuneracao202206.csv",
         86911959,
         1694562402000
        ]
       ],
       "datasetInfos": [],
       "dbfsResultPath": null,
       "isJsonSchema": true,
       "metadata": {
        "isDbfsCommandResult": false
       },
       "overflow": false,
       "plotOptions": {
        "customPlotOptions": {},
        "displayType": "table",
        "pivotAggregation": null,
        "pivotColumns": null,
        "xColumns": null,
        "yColumns": null
       },
       "removedWidgets": [],
       "schema": [
        {
         "metadata": "{}",
         "name": "path",
         "type": "\"string\""
        },
        {
         "metadata": "{}",
         "name": "name",
         "type": "\"string\""
        },
        {
         "metadata": "{}",
         "name": "size",
         "type": "\"long\""
        },
        {
         "metadata": "{}",
         "name": "modificationTime",
         "type": "\"long\""
        }
       ],
       "type": "table"
      }
     },
     "output_type": "display_data"
    }
   ],
   "source": [
    "%fs ls /mnt/s3_dbfs/"
   ]
  },
  {
   "cell_type": "code",
   "execution_count": 0,
   "metadata": {
    "application/vnd.databricks.v1+cell": {
     "cellMetadata": {
      "byteLimit": 2048000,
      "rowLimit": 10000
     },
     "inputWidgets": {},
     "nuid": "5545abdf-1cf9-4d3e-b75e-7163299d9855",
     "showTitle": false,
     "title": ""
    }
   },
   "outputs": [
    {
     "output_type": "display_data",
     "data": {
      "text/html": [
       "<style scoped>\n",
       "  .table-result-container {\n",
       "    max-height: 300px;\n",
       "    overflow: auto;\n",
       "  }\n",
       "  table, th, td {\n",
       "    border: 1px solid black;\n",
       "    border-collapse: collapse;\n",
       "  }\n",
       "  th, td {\n",
       "    padding: 5px;\n",
       "  }\n",
       "  th {\n",
       "    text-align: left;\n",
       "  }\n",
       "</style><div class='table-result-container'><table class='table-result'><thead style='background-color: white'><tr></tr></thead><tbody></tbody></table></div>"
      ]
     },
     "metadata": {
      "application/vnd.databricks.v1+output": {
       "addedWidgets": {},
       "aggData": [],
       "aggError": "",
       "aggOverflow": false,
       "aggSchema": [],
       "aggSeriesLimitReached": false,
       "aggType": "",
       "arguments": {},
       "columnCustomDisplayInfos": {},
       "data": [],
       "datasetInfos": [],
       "dbfsResultPath": null,
       "isJsonSchema": true,
       "metadata": {
        "isDbfsCommandResult": false
       },
       "overflow": false,
       "plotOptions": {
        "customPlotOptions": {},
        "displayType": "table",
        "pivotAggregation": null,
        "pivotColumns": null,
        "xColumns": null,
        "yColumns": null
       },
       "removedWidgets": [],
       "schema": [],
       "type": "table"
      }
     },
     "output_type": "display_data"
    }
   ],
   "source": [
    "spark.sql(\n",
    "\"CREATE TABLE IF NOT EXISTS remuneracao_day2\" + \\\n",
    "\"USING csv\" + \\\n",
    "\"OPTIONS (header 'true',\" + \\\n",
    "\"      delimiter ';',\" + \\\n",
    "\"      path '/mnt/s3_dbfs/remuneracao202206.csv')\"\n",
    ")"
   ]
  },
  {
   "cell_type": "code",
   "execution_count": 0,
   "metadata": {
    "application/vnd.databricks.v1+cell": {
     "cellMetadata": {
      "byteLimit": 2048000,
      "rowLimit": 10000
     },
     "inputWidgets": {},
     "nuid": "56c811ba-e538-4484-9945-91ef428ec850",
     "showTitle": false,
     "title": ""
    }
   },
   "outputs": [
    {
     "output_type": "display_data",
     "data": {
      "text/html": [
       "<style scoped>\n",
       "  .ansiout {\n",
       "    display: block;\n",
       "    unicode-bidi: embed;\n",
       "    white-space: pre-wrap;\n",
       "    word-wrap: break-word;\n",
       "    word-break: break-all;\n",
       "    font-family: \"Menlo\", \"Monaco\", \"Consolas\", \"Ubuntu Mono\", \"Source Code Pro\", monospace;\n",
       "    font-size: 13px;\n",
       "    color: #555;\n",
       "    margin-left: 4px;\n",
       "    line-height: 19px;\n",
       "  }\n",
       "</style>\n",
       "com.databricks.backend.common.rpc.SparkDriverExceptions$SQLExecutionException: com.databricks.sql.transaction.tahoe.DeltaAnalysisException: DESCRIBE HISTORY is only supported for Delta tables.\n",
       "\tat com.databricks.sql.transaction.tahoe.DeltaErrorsBase.notADeltaTableException(DeltaErrors.scala:524)\n",
       "\tat com.databricks.sql.transaction.tahoe.DeltaErrorsBase.notADeltaTableException$(DeltaErrors.scala:523)\n",
       "\tat com.databricks.sql.transaction.tahoe.DeltaErrors$.notADeltaTableException(DeltaErrors.scala:2744)\n",
       "\tat com.databricks.sql.transaction.tahoe.commands.DescribeDeltaHistoryCommand.$anonfun$run$1(DescribeDeltaHistoryCommand.scala:85)\n",
       "\tat com.databricks.sql.acl.CheckPermissions$.trusted(CheckPermissions.scala:1980)\n",
       "\tat com.databricks.sql.transaction.tahoe.commands.DescribeDeltaHistoryCommand.run(DescribeDeltaHistoryCommand.scala:68)\n",
       "\tat org.apache.spark.sql.execution.command.ExecutedCommandExec.$anonfun$sideEffectResult$1(commands.scala:82)\n",
       "\tat com.databricks.spark.util.FrameProfiler$.record(FrameProfiler.scala:80)\n",
       "\tat org.apache.spark.sql.execution.command.ExecutedCommandExec.sideEffectResult$lzycompute(commands.scala:80)\n",
       "\tat org.apache.spark.sql.execution.command.ExecutedCommandExec.sideEffectResult(commands.scala:79)\n",
       "\tat org.apache.spark.sql.execution.command.ExecutedCommandExec.executeCollect(commands.scala:91)\n",
       "\tat org.apache.spark.sql.execution.collect.Collector$.collect(Collector.scala:113)\n",
       "\tat org.apache.spark.sql.execution.collect.Collector$.collect(Collector.scala:135)\n",
       "\tat org.apache.spark.sql.execution.qrc.InternalRowFormat$.collect(cachedSparkResults.scala:122)\n",
       "\tat org.apache.spark.sql.execution.qrc.InternalRowFormat$.collect(cachedSparkResults.scala:110)\n",
       "\tat org.apache.spark.sql.execution.qrc.InternalRowFormat$.collect(cachedSparkResults.scala:92)\n",
       "\tat org.apache.spark.sql.execution.qrc.ResultCacheManager.$anonfun$computeResult$1(ResultCacheManager.scala:541)\n",
       "\tat com.databricks.spark.util.FrameProfiler$.record(FrameProfiler.scala:80)\n",
       "\tat org.apache.spark.sql.execution.qrc.ResultCacheManager.collectResult$1(ResultCacheManager.scala:529)\n",
       "\tat org.apache.spark.sql.execution.qrc.ResultCacheManager.computeResult(ResultCacheManager.scala:549)\n",
       "\tat org.apache.spark.sql.execution.qrc.ResultCacheManager.$anonfun$getOrComputeResultInternal$1(ResultCacheManager.scala:402)\n",
       "\tat scala.Option.getOrElse(Option.scala:189)\n",
       "\tat org.apache.spark.sql.execution.qrc.ResultCacheManager.getOrComputeResultInternal(ResultCacheManager.scala:395)\n",
       "\tat org.apache.spark.sql.execution.qrc.ResultCacheManager.getOrComputeResult(ResultCacheManager.scala:289)\n",
       "\tat org.apache.spark.sql.execution.SparkPlan.$anonfun$executeCollectResult$1(SparkPlan.scala:506)\n",
       "\tat com.databricks.spark.util.FrameProfiler$.record(FrameProfiler.scala:80)\n",
       "\tat org.apache.spark.sql.execution.SparkPlan.executeCollectResult(SparkPlan.scala:503)\n",
       "\tat org.apache.spark.sql.Dataset.collectResult(Dataset.scala:3458)\n",
       "\tat org.apache.spark.sql.Dataset.$anonfun$collectResult$1(Dataset.scala:3449)\n",
       "\tat org.apache.spark.sql.Dataset.$anonfun$withAction$3(Dataset.scala:4373)\n",
       "\tat org.apache.spark.sql.execution.QueryExecution$.withInternalError(QueryExecution.scala:809)\n",
       "\tat org.apache.spark.sql.Dataset.$anonfun$withAction$2(Dataset.scala:4371)\n",
       "\tat org.apache.spark.sql.execution.SQLExecution$.$anonfun$withCustomExecutionEnv$8(SQLExecution.scala:233)\n",
       "\tat org.apache.spark.sql.execution.SQLExecution$.withSQLConfPropagated(SQLExecution.scala:417)\n",
       "\tat org.apache.spark.sql.execution.SQLExecution$.$anonfun$withCustomExecutionEnv$1(SQLExecution.scala:178)\n",
       "\tat org.apache.spark.sql.SparkSession.withActive(SparkSession.scala:1038)\n",
       "\tat org.apache.spark.sql.execution.SQLExecution$.withCustomExecutionEnv(SQLExecution.scala:128)\n",
       "\tat org.apache.spark.sql.execution.SQLExecution$.withNewExecutionId(SQLExecution.scala:367)\n",
       "\tat org.apache.spark.sql.Dataset.withAction(Dataset.scala:4371)\n",
       "\tat org.apache.spark.sql.Dataset.collectResult(Dataset.scala:3448)\n",
       "\tat com.databricks.backend.daemon.driver.OutputAggregator$.withOutputAggregation0(OutputAggregator.scala:267)\n",
       "\tat com.databricks.backend.daemon.driver.OutputAggregator$.withOutputAggregation(OutputAggregator.scala:101)\n",
       "\tat com.databricks.backend.daemon.driver.DriverLocal.executeSql(DriverLocal.scala:283)\n",
       "\tat com.databricks.backend.daemon.driver.SQLDriverLocal.repl(SQLDriverLocal.scala:31)\n",
       "\tat com.databricks.backend.daemon.driver.DriverLocal.$anonfun$execute$24(DriverLocal.scala:879)\n",
       "\tat com.databricks.unity.UCSEphemeralState$Handle.runWith(UCSEphemeralState.scala:41)\n",
       "\tat com.databricks.unity.HandleImpl.runWith(UCSHandle.scala:99)\n",
       "\tat com.databricks.backend.daemon.driver.DriverLocal.$anonfun$execute$21(DriverLocal.scala:862)\n",
       "\tat com.databricks.logging.UsageLogging.$anonfun$withAttributionContext$1(UsageLogging.scala:412)\n",
       "\tat scala.util.DynamicVariable.withValue(DynamicVariable.scala:62)\n",
       "\tat com.databricks.logging.AttributionContext$.withValue(AttributionContext.scala:158)\n",
       "\tat com.databricks.logging.UsageLogging.withAttributionContext(UsageLogging.scala:410)\n",
       "\tat com.databricks.logging.UsageLogging.withAttributionContext$(UsageLogging.scala:407)\n",
       "\tat com.databricks.backend.daemon.driver.DriverLocal.withAttributionContext(DriverLocal.scala:69)\n",
       "\tat com.databricks.logging.UsageLogging.withAttributionTags(UsageLogging.scala:455)\n",
       "\tat com.databricks.logging.UsageLogging.withAttributionTags$(UsageLogging.scala:440)\n",
       "\tat com.databricks.backend.daemon.driver.DriverLocal.withAttributionTags(DriverLocal.scala:69)\n",
       "\tat com.databricks.backend.daemon.driver.DriverLocal.execute(DriverLocal.scala:839)\n",
       "\tat com.databricks.backend.daemon.driver.DriverWrapper.$anonfun$tryExecutingCommand$1(DriverWrapper.scala:660)\n",
       "\tat scala.util.Try$.apply(Try.scala:213)\n",
       "\tat com.databricks.backend.daemon.driver.DriverWrapper.tryExecutingCommand(DriverWrapper.scala:652)\n",
       "\tat com.databricks.backend.daemon.driver.DriverWrapper.executeCommandAndGetError(DriverWrapper.scala:571)\n",
       "\tat com.databricks.backend.daemon.driver.DriverWrapper.executeCommand(DriverWrapper.scala:606)\n",
       "\tat com.databricks.backend.daemon.driver.DriverWrapper.runInnerLoop(DriverWrapper.scala:448)\n",
       "\tat com.databricks.backend.daemon.driver.DriverWrapper.runInner(DriverWrapper.scala:389)\n",
       "\tat com.databricks.backend.daemon.driver.DriverWrapper.run(DriverWrapper.scala:247)\n",
       "\tat java.lang.Thread.run(Thread.java:750)\n",
       "\n",
       "\tat com.databricks.backend.daemon.driver.DriverLocal.executeSql(DriverLocal.scala:301)\n",
       "\tat com.databricks.backend.daemon.driver.SQLDriverLocal.repl(SQLDriverLocal.scala:31)\n",
       "\tat com.databricks.backend.daemon.driver.DriverLocal.$anonfun$execute$24(DriverLocal.scala:879)\n",
       "\tat com.databricks.unity.UCSEphemeralState$Handle.runWith(UCSEphemeralState.scala:41)\n",
       "\tat com.databricks.unity.HandleImpl.runWith(UCSHandle.scala:99)\n",
       "\tat com.databricks.backend.daemon.driver.DriverLocal.$anonfun$execute$21(DriverLocal.scala:862)\n",
       "\tat com.databricks.logging.UsageLogging.$anonfun$withAttributionContext$1(UsageLogging.scala:412)\n",
       "\tat scala.util.DynamicVariable.withValue(DynamicVariable.scala:62)\n",
       "\tat com.databricks.logging.AttributionContext$.withValue(AttributionContext.scala:158)\n",
       "\tat com.databricks.logging.UsageLogging.withAttributionContext(UsageLogging.scala:410)\n",
       "\tat com.databricks.logging.UsageLogging.withAttributionContext$(UsageLogging.scala:407)\n",
       "\tat com.databricks.backend.daemon.driver.DriverLocal.withAttributionContext(DriverLocal.scala:69)\n",
       "\tat com.databricks.logging.UsageLogging.withAttributionTags(UsageLogging.scala:455)\n",
       "\tat com.databricks.logging.UsageLogging.withAttributionTags$(UsageLogging.scala:440)\n",
       "\tat com.databricks.backend.daemon.driver.DriverLocal.withAttributionTags(DriverLocal.scala:69)\n",
       "\tat com.databricks.backend.daemon.driver.DriverLocal.execute(DriverLocal.scala:839)\n",
       "\tat com.databricks.backend.daemon.driver.DriverWrapper.$anonfun$tryExecutingCommand$1(DriverWrapper.scala:660)\n",
       "\tat scala.util.Try$.apply(Try.scala:213)\n",
       "\tat com.databricks.backend.daemon.driver.DriverWrapper.tryExecutingCommand(DriverWrapper.scala:652)\n",
       "\tat com.databricks.backend.daemon.driver.DriverWrapper.executeCommandAndGetError(DriverWrapper.scala:571)\n",
       "\tat com.databricks.backend.daemon.driver.DriverWrapper.executeCommand(DriverWrapper.scala:606)\n",
       "\tat com.databricks.backend.daemon.driver.DriverWrapper.runInnerLoop(DriverWrapper.scala:448)\n",
       "\tat com.databricks.backend.daemon.driver.DriverWrapper.runInner(DriverWrapper.scala:389)\n",
       "\tat com.databricks.backend.daemon.driver.DriverWrapper.run(DriverWrapper.scala:247)\n",
       "\tat java.lang.Thread.run(Thread.java:750)"
      ]
     },
     "metadata": {
      "application/vnd.databricks.v1+output": {
       "arguments": {},
       "data": "com.databricks.backend.common.rpc.SparkDriverExceptions$SQLExecutionException: com.databricks.sql.transaction.tahoe.DeltaAnalysisException: DESCRIBE HISTORY is only supported for Delta tables.\n\tat com.databricks.sql.transaction.tahoe.DeltaErrorsBase.notADeltaTableException(DeltaErrors.scala:524)\n\tat com.databricks.sql.transaction.tahoe.DeltaErrorsBase.notADeltaTableException$(DeltaErrors.scala:523)\n\tat com.databricks.sql.transaction.tahoe.DeltaErrors$.notADeltaTableException(DeltaErrors.scala:2744)\n\tat com.databricks.sql.transaction.tahoe.commands.DescribeDeltaHistoryCommand.$anonfun$run$1(DescribeDeltaHistoryCommand.scala:85)\n\tat com.databricks.sql.acl.CheckPermissions$.trusted(CheckPermissions.scala:1980)\n\tat com.databricks.sql.transaction.tahoe.commands.DescribeDeltaHistoryCommand.run(DescribeDeltaHistoryCommand.scala:68)\n\tat org.apache.spark.sql.execution.command.ExecutedCommandExec.$anonfun$sideEffectResult$1(commands.scala:82)\n\tat com.databricks.spark.util.FrameProfiler$.record(FrameProfiler.scala:80)\n\tat org.apache.spark.sql.execution.command.ExecutedCommandExec.sideEffectResult$lzycompute(commands.scala:80)\n\tat org.apache.spark.sql.execution.command.ExecutedCommandExec.sideEffectResult(commands.scala:79)\n\tat org.apache.spark.sql.execution.command.ExecutedCommandExec.executeCollect(commands.scala:91)\n\tat org.apache.spark.sql.execution.collect.Collector$.collect(Collector.scala:113)\n\tat org.apache.spark.sql.execution.collect.Collector$.collect(Collector.scala:135)\n\tat org.apache.spark.sql.execution.qrc.InternalRowFormat$.collect(cachedSparkResults.scala:122)\n\tat org.apache.spark.sql.execution.qrc.InternalRowFormat$.collect(cachedSparkResults.scala:110)\n\tat org.apache.spark.sql.execution.qrc.InternalRowFormat$.collect(cachedSparkResults.scala:92)\n\tat org.apache.spark.sql.execution.qrc.ResultCacheManager.$anonfun$computeResult$1(ResultCacheManager.scala:541)\n\tat com.databricks.spark.util.FrameProfiler$.record(FrameProfiler.scala:80)\n\tat org.apache.spark.sql.execution.qrc.ResultCacheManager.collectResult$1(ResultCacheManager.scala:529)\n\tat org.apache.spark.sql.execution.qrc.ResultCacheManager.computeResult(ResultCacheManager.scala:549)\n\tat org.apache.spark.sql.execution.qrc.ResultCacheManager.$anonfun$getOrComputeResultInternal$1(ResultCacheManager.scala:402)\n\tat scala.Option.getOrElse(Option.scala:189)\n\tat org.apache.spark.sql.execution.qrc.ResultCacheManager.getOrComputeResultInternal(ResultCacheManager.scala:395)\n\tat org.apache.spark.sql.execution.qrc.ResultCacheManager.getOrComputeResult(ResultCacheManager.scala:289)\n\tat org.apache.spark.sql.execution.SparkPlan.$anonfun$executeCollectResult$1(SparkPlan.scala:506)\n\tat com.databricks.spark.util.FrameProfiler$.record(FrameProfiler.scala:80)\n\tat org.apache.spark.sql.execution.SparkPlan.executeCollectResult(SparkPlan.scala:503)\n\tat org.apache.spark.sql.Dataset.collectResult(Dataset.scala:3458)\n\tat org.apache.spark.sql.Dataset.$anonfun$collectResult$1(Dataset.scala:3449)\n\tat org.apache.spark.sql.Dataset.$anonfun$withAction$3(Dataset.scala:4373)\n\tat org.apache.spark.sql.execution.QueryExecution$.withInternalError(QueryExecution.scala:809)\n\tat org.apache.spark.sql.Dataset.$anonfun$withAction$2(Dataset.scala:4371)\n\tat org.apache.spark.sql.execution.SQLExecution$.$anonfun$withCustomExecutionEnv$8(SQLExecution.scala:233)\n\tat org.apache.spark.sql.execution.SQLExecution$.withSQLConfPropagated(SQLExecution.scala:417)\n\tat org.apache.spark.sql.execution.SQLExecution$.$anonfun$withCustomExecutionEnv$1(SQLExecution.scala:178)\n\tat org.apache.spark.sql.SparkSession.withActive(SparkSession.scala:1038)\n\tat org.apache.spark.sql.execution.SQLExecution$.withCustomExecutionEnv(SQLExecution.scala:128)\n\tat org.apache.spark.sql.execution.SQLExecution$.withNewExecutionId(SQLExecution.scala:367)\n\tat org.apache.spark.sql.Dataset.withAction(Dataset.scala:4371)\n\tat org.apache.spark.sql.Dataset.collectResult(Dataset.scala:3448)\n\tat com.databricks.backend.daemon.driver.OutputAggregator$.withOutputAggregation0(OutputAggregator.scala:267)\n\tat com.databricks.backend.daemon.driver.OutputAggregator$.withOutputAggregation(OutputAggregator.scala:101)\n\tat com.databricks.backend.daemon.driver.DriverLocal.executeSql(DriverLocal.scala:283)\n\tat com.databricks.backend.daemon.driver.SQLDriverLocal.repl(SQLDriverLocal.scala:31)\n\tat com.databricks.backend.daemon.driver.DriverLocal.$anonfun$execute$24(DriverLocal.scala:879)\n\tat com.databricks.unity.UCSEphemeralState$Handle.runWith(UCSEphemeralState.scala:41)\n\tat com.databricks.unity.HandleImpl.runWith(UCSHandle.scala:99)\n\tat com.databricks.backend.daemon.driver.DriverLocal.$anonfun$execute$21(DriverLocal.scala:862)\n\tat com.databricks.logging.UsageLogging.$anonfun$withAttributionContext$1(UsageLogging.scala:412)\n\tat scala.util.DynamicVariable.withValue(DynamicVariable.scala:62)\n\tat com.databricks.logging.AttributionContext$.withValue(AttributionContext.scala:158)\n\tat com.databricks.logging.UsageLogging.withAttributionContext(UsageLogging.scala:410)\n\tat com.databricks.logging.UsageLogging.withAttributionContext$(UsageLogging.scala:407)\n\tat com.databricks.backend.daemon.driver.DriverLocal.withAttributionContext(DriverLocal.scala:69)\n\tat com.databricks.logging.UsageLogging.withAttributionTags(UsageLogging.scala:455)\n\tat com.databricks.logging.UsageLogging.withAttributionTags$(UsageLogging.scala:440)\n\tat com.databricks.backend.daemon.driver.DriverLocal.withAttributionTags(DriverLocal.scala:69)\n\tat com.databricks.backend.daemon.driver.DriverLocal.execute(DriverLocal.scala:839)\n\tat com.databricks.backend.daemon.driver.DriverWrapper.$anonfun$tryExecutingCommand$1(DriverWrapper.scala:660)\n\tat scala.util.Try$.apply(Try.scala:213)\n\tat com.databricks.backend.daemon.driver.DriverWrapper.tryExecutingCommand(DriverWrapper.scala:652)\n\tat com.databricks.backend.daemon.driver.DriverWrapper.executeCommandAndGetError(DriverWrapper.scala:571)\n\tat com.databricks.backend.daemon.driver.DriverWrapper.executeCommand(DriverWrapper.scala:606)\n\tat com.databricks.backend.daemon.driver.DriverWrapper.runInnerLoop(DriverWrapper.scala:448)\n\tat com.databricks.backend.daemon.driver.DriverWrapper.runInner(DriverWrapper.scala:389)\n\tat com.databricks.backend.daemon.driver.DriverWrapper.run(DriverWrapper.scala:247)\n\tat java.lang.Thread.run(Thread.java:750)\n\n\tat com.databricks.backend.daemon.driver.DriverLocal.executeSql(DriverLocal.scala:301)\n\tat com.databricks.backend.daemon.driver.SQLDriverLocal.repl(SQLDriverLocal.scala:31)\n\tat com.databricks.backend.daemon.driver.DriverLocal.$anonfun$execute$24(DriverLocal.scala:879)\n\tat com.databricks.unity.UCSEphemeralState$Handle.runWith(UCSEphemeralState.scala:41)\n\tat com.databricks.unity.HandleImpl.runWith(UCSHandle.scala:99)\n\tat com.databricks.backend.daemon.driver.DriverLocal.$anonfun$execute$21(DriverLocal.scala:862)\n\tat com.databricks.logging.UsageLogging.$anonfun$withAttributionContext$1(UsageLogging.scala:412)\n\tat scala.util.DynamicVariable.withValue(DynamicVariable.scala:62)\n\tat com.databricks.logging.AttributionContext$.withValue(AttributionContext.scala:158)\n\tat com.databricks.logging.UsageLogging.withAttributionContext(UsageLogging.scala:410)\n\tat com.databricks.logging.UsageLogging.withAttributionContext$(UsageLogging.scala:407)\n\tat com.databricks.backend.daemon.driver.DriverLocal.withAttributionContext(DriverLocal.scala:69)\n\tat com.databricks.logging.UsageLogging.withAttributionTags(UsageLogging.scala:455)\n\tat com.databricks.logging.UsageLogging.withAttributionTags$(UsageLogging.scala:440)\n\tat com.databricks.backend.daemon.driver.DriverLocal.withAttributionTags(DriverLocal.scala:69)\n\tat com.databricks.backend.daemon.driver.DriverLocal.execute(DriverLocal.scala:839)\n\tat com.databricks.backend.daemon.driver.DriverWrapper.$anonfun$tryExecutingCommand$1(DriverWrapper.scala:660)\n\tat scala.util.Try$.apply(Try.scala:213)\n\tat com.databricks.backend.daemon.driver.DriverWrapper.tryExecutingCommand(DriverWrapper.scala:652)\n\tat com.databricks.backend.daemon.driver.DriverWrapper.executeCommandAndGetError(DriverWrapper.scala:571)\n\tat com.databricks.backend.daemon.driver.DriverWrapper.executeCommand(DriverWrapper.scala:606)\n\tat com.databricks.backend.daemon.driver.DriverWrapper.runInnerLoop(DriverWrapper.scala:448)\n\tat com.databricks.backend.daemon.driver.DriverWrapper.runInner(DriverWrapper.scala:389)\n\tat com.databricks.backend.daemon.driver.DriverWrapper.run(DriverWrapper.scala:247)\n\tat java.lang.Thread.run(Thread.java:750)\n",
       "errorSummary": "Error in SQL statement: DeltaAnalysisException: DESCRIBE HISTORY is only supported for Delta tables.",
       "errorTraceType": "html",
       "metadata": {},
       "type": "ipynbError"
      }
     },
     "output_type": "display_data"
    }
   ],
   "source": [
    "display(df_remuneracao_day2.history())"
   ]
  },
  {
   "cell_type": "code",
   "execution_count": 0,
   "metadata": {
    "application/vnd.databricks.v1+cell": {
     "cellMetadata": {
      "byteLimit": 2048000,
      "rowLimit": 10000
     },
     "inputWidgets": {},
     "nuid": "70814701-ddfb-4bcc-891c-2549b368bcfb",
     "showTitle": false,
     "title": ""
    }
   },
   "outputs": [
    {
     "output_type": "display_data",
     "data": {
      "text/html": [
       "<style scoped>\n",
       "  .table-result-container {\n",
       "    max-height: 300px;\n",
       "    overflow: auto;\n",
       "  }\n",
       "  table, th, td {\n",
       "    border: 1px solid black;\n",
       "    border-collapse: collapse;\n",
       "  }\n",
       "  th, td {\n",
       "    padding: 5px;\n",
       "  }\n",
       "  th {\n",
       "    text-align: left;\n",
       "  }\n",
       "</style><div class='table-result-container'><table class='table-result'><thead style='background-color: white'><tr><th>format</th><th>id</th><th>name</th><th>description</th><th>location</th><th>createdAt</th><th>lastModified</th><th>partitionColumns</th><th>numFiles</th><th>sizeInBytes</th><th>properties</th><th>minReaderVersion</th><th>minWriterVersion</th><th>tableFeatures</th><th>statistics</th></tr></thead><tbody><tr><td>csv</td><td>null</td><td>hive_metastore.default.remuneracao_day2</td><td></td><td>dbfs:/mnt/s3_dbfs/remuneracao202206.csv</td><td>2023-09-14T00:20:10.000+0000</td><td>null</td><td>List()</td><td>null</td><td>null</td><td>Map()</td><td>null</td><td>null</td><td>null</td><td>Map()</td></tr></tbody></table></div>"
      ]
     },
     "metadata": {
      "application/vnd.databricks.v1+output": {
       "addedWidgets": {},
       "aggData": [],
       "aggError": "",
       "aggOverflow": false,
       "aggSchema": [],
       "aggSeriesLimitReached": false,
       "aggType": "",
       "arguments": {},
       "columnCustomDisplayInfos": {},
       "data": [
        [
         "csv",
         null,
         "hive_metastore.default.remuneracao_day2",
         "",
         "dbfs:/mnt/s3_dbfs/remuneracao202206.csv",
         "2023-09-14T00:20:10.000+0000",
         null,
         [],
         null,
         null,
         {},
         null,
         null,
         null,
         {}
        ]
       ],
       "datasetInfos": [],
       "dbfsResultPath": null,
       "isJsonSchema": true,
       "metadata": {
        "isDbfsCommandResult": false
       },
       "overflow": false,
       "plotOptions": {
        "customPlotOptions": {},
        "displayType": "table",
        "pivotAggregation": null,
        "pivotColumns": null,
        "xColumns": null,
        "yColumns": null
       },
       "removedWidgets": [],
       "schema": [
        {
         "metadata": "{}",
         "name": "format",
         "type": "\"string\""
        },
        {
         "metadata": "{}",
         "name": "id",
         "type": "\"string\""
        },
        {
         "metadata": "{}",
         "name": "name",
         "type": "\"string\""
        },
        {
         "metadata": "{}",
         "name": "description",
         "type": "\"string\""
        },
        {
         "metadata": "{}",
         "name": "location",
         "type": "\"string\""
        },
        {
         "metadata": "{}",
         "name": "createdAt",
         "type": "\"timestamp\""
        },
        {
         "metadata": "{}",
         "name": "lastModified",
         "type": "\"timestamp\""
        },
        {
         "metadata": "{}",
         "name": "partitionColumns",
         "type": "{\"type\":\"array\",\"elementType\":\"string\",\"containsNull\":true}"
        },
        {
         "metadata": "{}",
         "name": "numFiles",
         "type": "\"long\""
        },
        {
         "metadata": "{}",
         "name": "sizeInBytes",
         "type": "\"long\""
        },
        {
         "metadata": "{}",
         "name": "properties",
         "type": "{\"type\":\"map\",\"keyType\":\"string\",\"valueType\":\"string\",\"valueContainsNull\":true}"
        },
        {
         "metadata": "{}",
         "name": "minReaderVersion",
         "type": "\"integer\""
        },
        {
         "metadata": "{}",
         "name": "minWriterVersion",
         "type": "\"integer\""
        },
        {
         "metadata": "{}",
         "name": "tableFeatures",
         "type": "{\"type\":\"array\",\"elementType\":\"string\",\"containsNull\":true}"
        },
        {
         "metadata": "{}",
         "name": "statistics",
         "type": "{\"type\":\"map\",\"keyType\":\"string\",\"valueType\":\"long\",\"valueContainsNull\":true}"
        }
       ],
       "type": "table"
      }
     },
     "output_type": "display_data"
    }
   ],
   "source": [
    "display(df_remuneracao_day2.describe())"
   ]
  },
  {
   "cell_type": "code",
   "execution_count": 0,
   "metadata": {
    "application/vnd.databricks.v1+cell": {
     "cellMetadata": {
      "byteLimit": 2048000,
      "rowLimit": 10000
     },
     "inputWidgets": {},
     "nuid": "17068f0c-8728-4276-9396-9d8336732686",
     "showTitle": false,
     "title": ""
    }
   },
   "outputs": [
    {
     "output_type": "display_data",
     "data": {
      "text/html": [
       "<style scoped>\n",
       "  .table-result-container {\n",
       "    max-height: 300px;\n",
       "    overflow: auto;\n",
       "  }\n",
       "  table, th, td {\n",
       "    border: 1px solid black;\n",
       "    border-collapse: collapse;\n",
       "  }\n",
       "  th, td {\n",
       "    padding: 5px;\n",
       "  }\n",
       "  th {\n",
       "    text-align: left;\n",
       "  }\n",
       "</style><div class='table-result-container'><table class='table-result'><thead style='background-color: white'><tr><th>col_name</th><th>data_type</th><th>comment</th></tr></thead><tbody><tr><td>NOME</td><td>string</td><td>null</td></tr><tr><td>CPF</td><td>string</td><td>null</td></tr><tr><td>?RG?O</td><td>string</td><td>null</td></tr><tr><td>CARGO</td><td>string</td><td>null</td></tr><tr><td>FUN??O</td><td>string</td><td>null</td></tr><tr><td>SITUA??O</td><td>string</td><td>null</td></tr><tr><td>M?S</td><td>string</td><td>null</td></tr><tr><td>ANO</td><td>string</td><td>null</td></tr><tr><td>C?DIGO DO ?RG?O</td><td>string</td><td>null</td></tr><tr><td>MATR?CULA</td><td>string</td><td>null</td></tr><tr><td>REMUNERA??O B?SICA</td><td>string</td><td>null</td></tr><tr><td>BENEF?CIOS</td><td>string</td><td>null</td></tr><tr><td>VALOR DA FUN??O</td><td>string</td><td>null</td></tr><tr><td>COMISS?O CONSELHEIRO</td><td>string</td><td>null</td></tr><tr><td>HORA EXTRA</td><td>string</td><td>null</td></tr><tr><td>VERBAS EVENTUAIS</td><td>string</td><td>null</td></tr><tr><td>VERBAS JUDICIAIS</td><td>string</td><td>null</td></tr><tr><td>DESCONTOS A MAIOR</td><td>string</td><td>null</td></tr><tr><td>LICEN?A PR?MIO</td><td>string</td><td>null</td></tr><tr><td>IRRF</td><td>string</td><td>null</td></tr><tr><td>SEG. SOCIAL</td><td>string</td><td>null</td></tr><tr><td>TETO REDUTOR</td><td>string</td><td>null</td></tr><tr><td>OUTROS RECEBIMENTOS</td><td>string</td><td>null</td></tr><tr><td>OUTROS DESCONTOS OBRIGAT?RIOS</td><td>string</td><td>null</td></tr><tr><td>PAGAMENTOS A MAIOR</td><td>string</td><td>null</td></tr><tr><td>BRUTO</td><td>string</td><td>null</td></tr><tr><td>L?QUIDO</td><td>string</td><td>null</td></tr><tr><td></td><td></td><td></td></tr><tr><td># Detailed Table Information</td><td></td><td></td></tr><tr><td>Catalog</td><td>hive_metastore</td><td></td></tr><tr><td>Database</td><td>default</td><td></td></tr><tr><td>Table</td><td>remuneracao_day2</td><td></td></tr><tr><td>Owner</td><td>root</td><td></td></tr><tr><td>Created Time</td><td>Thu Sep 14 00:20:10 UTC 2023</td><td></td></tr><tr><td>Last Access</td><td>UNKNOWN</td><td></td></tr><tr><td>Created By</td><td>Spark 3.3.2</td><td></td></tr><tr><td>Type</td><td>EXTERNAL</td><td></td></tr><tr><td>Provider</td><td>csv</td><td></td></tr><tr><td>Location</td><td>dbfs:/mnt/s3_dbfs/remuneracao202206.csv</td><td></td></tr><tr><td>Serde Library</td><td>org.apache.hadoop.hive.serde2.lazy.LazySimpleSerDe</td><td></td></tr><tr><td>InputFormat</td><td>org.apache.hadoop.mapred.SequenceFileInputFormat</td><td></td></tr><tr><td>OutputFormat</td><td>org.apache.hadoop.hive.ql.io.HiveSequenceFileOutputFormat</td><td></td></tr><tr><td>Storage Properties</td><td>[delimiter=;, header=true]</td><td></td></tr></tbody></table></div>"
      ]
     },
     "metadata": {
      "application/vnd.databricks.v1+output": {
       "addedWidgets": {},
       "aggData": [],
       "aggError": "",
       "aggOverflow": false,
       "aggSchema": [],
       "aggSeriesLimitReached": false,
       "aggType": "",
       "arguments": {},
       "columnCustomDisplayInfos": {},
       "data": [
        [
         "NOME",
         "string",
         null
        ],
        [
         "CPF",
         "string",
         null
        ],
        [
         "?RG?O",
         "string",
         null
        ],
        [
         "CARGO",
         "string",
         null
        ],
        [
         "FUN??O",
         "string",
         null
        ],
        [
         "SITUA??O",
         "string",
         null
        ],
        [
         "M?S",
         "string",
         null
        ],
        [
         "ANO",
         "string",
         null
        ],
        [
         "C?DIGO DO ?RG?O",
         "string",
         null
        ],
        [
         "MATR?CULA",
         "string",
         null
        ],
        [
         "REMUNERA??O B?SICA",
         "string",
         null
        ],
        [
         "BENEF?CIOS",
         "string",
         null
        ],
        [
         "VALOR DA FUN??O",
         "string",
         null
        ],
        [
         "COMISS?O CONSELHEIRO",
         "string",
         null
        ],
        [
         "HORA EXTRA",
         "string",
         null
        ],
        [
         "VERBAS EVENTUAIS",
         "string",
         null
        ],
        [
         "VERBAS JUDICIAIS",
         "string",
         null
        ],
        [
         "DESCONTOS A MAIOR",
         "string",
         null
        ],
        [
         "LICEN?A PR?MIO",
         "string",
         null
        ],
        [
         "IRRF",
         "string",
         null
        ],
        [
         "SEG. SOCIAL",
         "string",
         null
        ],
        [
         "TETO REDUTOR",
         "string",
         null
        ],
        [
         "OUTROS RECEBIMENTOS",
         "string",
         null
        ],
        [
         "OUTROS DESCONTOS OBRIGAT?RIOS",
         "string",
         null
        ],
        [
         "PAGAMENTOS A MAIOR",
         "string",
         null
        ],
        [
         "BRUTO",
         "string",
         null
        ],
        [
         "L?QUIDO",
         "string",
         null
        ],
        [
         "",
         "",
         ""
        ],
        [
         "# Detailed Table Information",
         "",
         ""
        ],
        [
         "Catalog",
         "hive_metastore",
         ""
        ],
        [
         "Database",
         "default",
         ""
        ],
        [
         "Table",
         "remuneracao_day2",
         ""
        ],
        [
         "Owner",
         "root",
         ""
        ],
        [
         "Created Time",
         "Thu Sep 14 00:20:10 UTC 2023",
         ""
        ],
        [
         "Last Access",
         "UNKNOWN",
         ""
        ],
        [
         "Created By",
         "Spark 3.3.2",
         ""
        ],
        [
         "Type",
         "EXTERNAL",
         ""
        ],
        [
         "Provider",
         "csv",
         ""
        ],
        [
         "Location",
         "dbfs:/mnt/s3_dbfs/remuneracao202206.csv",
         ""
        ],
        [
         "Serde Library",
         "org.apache.hadoop.hive.serde2.lazy.LazySimpleSerDe",
         ""
        ],
        [
         "InputFormat",
         "org.apache.hadoop.mapred.SequenceFileInputFormat",
         ""
        ],
        [
         "OutputFormat",
         "org.apache.hadoop.hive.ql.io.HiveSequenceFileOutputFormat",
         ""
        ],
        [
         "Storage Properties",
         "[delimiter=;, header=true]",
         ""
        ]
       ],
       "datasetInfos": [],
       "dbfsResultPath": null,
       "isJsonSchema": true,
       "metadata": {
        "isDbfsCommandResult": false
       },
       "overflow": false,
       "plotOptions": {
        "customPlotOptions": {},
        "displayType": "table",
        "pivotAggregation": null,
        "pivotColumns": null,
        "xColumns": null,
        "yColumns": null
       },
       "removedWidgets": [],
       "schema": [
        {
         "metadata": "{\"comment\":\"name of the column\"}",
         "name": "col_name",
         "type": "\"string\""
        },
        {
         "metadata": "{\"comment\":\"data type of the column\"}",
         "name": "data_type",
         "type": "\"string\""
        },
        {
         "metadata": "{\"comment\":\"comment of the column\"}",
         "name": "comment",
         "type": "\"string\""
        }
       ],
       "type": "table"
      }
     },
     "output_type": "display_data"
    }
   ],
   "source": [
    "df_remuneracao_day2.createOrReplaceTemporaryView(\"remuneracao_day2\")\n",
    "display(spark.sql(\"DESCRIBE TABLE EXTENDED remuneracao_day2\"))"
   ]
  },
  {
   "cell_type": "code",
   "execution_count": 0,
   "metadata": {
    "application/vnd.databricks.v1+cell": {
     "cellMetadata": {
      "byteLimit": 2048000,
      "rowLimit": 10000
     },
     "inputWidgets": {},
     "nuid": "bee04758-0d4d-488a-83a0-302c8b89942c",
     "showTitle": false,
     "title": ""
    }
   },
   "outputs": [],
   "source": [
    "#dbutils.fs.unmount(/mnt/s3_dbfs)\n",
    "#%fs unmount /mnt/s3_dbfs"
   ]
  },
  {
   "cell_type": "code",
   "execution_count": 0,
   "metadata": {
    "application/vnd.databricks.v1+cell": {
     "cellMetadata": {
      "byteLimit": 2048000,
      "rowLimit": 10000
     },
     "inputWidgets": {},
     "nuid": "157e5c86-64ea-4c05-97e8-5ce6d68b38f5",
     "showTitle": false,
     "title": ""
    }
   },
   "outputs": [
    {
     "output_type": "display_data",
     "data": {
      "text/html": [
       "<style scoped>\n",
       "  .table-result-container {\n",
       "    max-height: 300px;\n",
       "    overflow: auto;\n",
       "  }\n",
       "  table, th, td {\n",
       "    border: 1px solid black;\n",
       "    border-collapse: collapse;\n",
       "  }\n",
       "  th, td {\n",
       "    padding: 5px;\n",
       "  }\n",
       "  th {\n",
       "    text-align: left;\n",
       "  }\n",
       "</style><div class='table-result-container'><table class='table-result'><thead style='background-color: white'><tr><th>NOME</th><th>CPF</th><th>?RG?O</th><th>CARGO</th><th>FUN??O</th><th>SITUA??O</th><th>M?S</th><th>ANO</th><th>C?DIGO DO ?RG?O</th><th>MATR?CULA</th><th>REMUNERA??O B?SICA</th><th>BENEF?CIOS</th><th>VALOR DA FUN??O</th><th>COMISS?O CONSELHEIRO</th><th>HORA EXTRA</th><th>VERBAS EVENTUAIS</th><th>VERBAS JUDICIAIS</th><th>DESCONTOS A MAIOR</th><th>LICEN?A PR?MIO</th><th>IRRF</th><th>SEG. SOCIAL</th><th>TETO REDUTOR</th><th>OUTROS RECEBIMENTOS</th><th>OUTROS DESCONTOS OBRIGAT?RIOS</th><th>PAGAMENTOS A MAIOR</th><th>BRUTO</th><th>L?QUIDO</th></tr></thead><tbody><tr><td>EDMUNDO BARBOSA DE FREITAS</td><td>***898181**</td><td>BRB-BANCO DE BRASILIA S.A.</td><td>ESCRITUR�RIO</td><td>CAIXA BANC�RIO</td><td>AFASTADO/ABONO ASSIDUIDADE</td><td>6</td><td>2022</td><td>0300001</td><td>1569</td><td>6111,26</td><td>1895,30</td><td>1284,59</td><td>,00</td><td>,00</td><td>7941,15</td><td>,00</td><td>,00</td><td>,00</td><td>8509,87</td><td>4193,59</td><td>,00</td><td>,00</td><td>,00</td><td>,00</td><td>17232,30</td><td>4528,84</td></tr><tr><td>CLEUSA MARIA DE CAMPOS MORAIS</td><td>***939691**</td><td>BRB-BANCO DE BRASILIA S.A.</td><td>ESCRITUR�RIO</td><td>null</td><td>AFASTADO/ABONO ASSIDUIDADE</td><td>6</td><td>2022</td><td>0300001</td><td>1877</td><td>11763,12</td><td>1895,30</td><td>,00</td><td>,00</td><td>,00</td><td>,00</td><td>,00</td><td>,00</td><td>,00</td><td>1742,28</td><td>2579,98</td><td>,00</td><td>,00</td><td>,00</td><td>,00</td><td>13658,42</td><td>9336,16</td></tr><tr><td>DIVINO CARLOS SEROZINO</td><td>***730581**</td><td>BRB-BANCO DE BRASILIA S.A.</td><td>ESCRITUR�RIO</td><td>CAIXA BANC�RIO</td><td>AFASTADO/ABONO ASSIDUIDADE</td><td>6</td><td>2022</td><td>0300001</td><td>2485</td><td>14770,48</td><td>1895,30</td><td>3853,77</td><td>,00</td><td>,00</td><td>,00</td><td>,00</td><td>,00</td><td>,00</td><td>3436,61</td><td>3262,64</td><td>,00</td><td>,00</td><td>,00</td><td>,00</td><td>20519,55</td><td>13820,30</td></tr><tr><td>ADEMILSON CARNEIRO</td><td>***749601**</td><td>BRB-BANCO DE BRASILIA S.A.</td><td>ESCRITUR�RIO</td><td>null</td><td>AFASTADO/ABONO ASSIDUIDADE</td><td>6</td><td>2022</td><td>0300001</td><td>3264</td><td>17955,43</td><td>1995,20</td><td>,00</td><td>,00</td><td>,00</td><td>,00</td><td>,00</td><td>,00</td><td>,00</td><td>3304,07</td><td>3429,73</td><td>,00</td><td>,00</td><td>,00</td><td>,00</td><td>19950,63</td><td>13216,83</td></tr><tr><td>ANA MARIA NOGUEIRA</td><td>***040221**</td><td>BRB-BANCO DE BRASILIA S.A.</td><td>ESCRITUR�RIO</td><td>null</td><td>AFASTADO/ABONO ASSIDUIDADE</td><td>6</td><td>2022</td><td>0300001</td><td>4674</td><td>9204,04</td><td>1895,30</td><td>,00</td><td>,00</td><td>,00</td><td>,00</td><td>,00</td><td>,00</td><td>,00</td><td>1228,66</td><td>1871,80</td><td>,00</td><td>,00</td><td>,00</td><td>,00</td><td>11099,34</td><td>7998,88</td></tr></tbody></table></div>"
      ]
     },
     "metadata": {
      "application/vnd.databricks.v1+output": {
       "addedWidgets": {},
       "aggData": [],
       "aggError": "",
       "aggOverflow": false,
       "aggSchema": [],
       "aggSeriesLimitReached": false,
       "aggType": "",
       "arguments": {},
       "columnCustomDisplayInfos": {},
       "data": [
        [
         "EDMUNDO BARBOSA DE FREITAS",
         "***898181**",
         "BRB-BANCO DE BRASILIA S.A.",
         "ESCRITUR�RIO",
         "CAIXA BANC�RIO",
         "AFASTADO/ABONO ASSIDUIDADE",
         "6",
         "2022",
         "0300001",
         "1569",
         "6111,26",
         "1895,30",
         "1284,59",
         ",00",
         ",00",
         "7941,15",
         ",00",
         ",00",
         ",00",
         "8509,87",
         "4193,59",
         ",00",
         ",00",
         ",00",
         ",00",
         "17232,30",
         "4528,84"
        ],
        [
         "CLEUSA MARIA DE CAMPOS MORAIS",
         "***939691**",
         "BRB-BANCO DE BRASILIA S.A.",
         "ESCRITUR�RIO",
         null,
         "AFASTADO/ABONO ASSIDUIDADE",
         "6",
         "2022",
         "0300001",
         "1877",
         "11763,12",
         "1895,30",
         ",00",
         ",00",
         ",00",
         ",00",
         ",00",
         ",00",
         ",00",
         "1742,28",
         "2579,98",
         ",00",
         ",00",
         ",00",
         ",00",
         "13658,42",
         "9336,16"
        ],
        [
         "DIVINO CARLOS SEROZINO",
         "***730581**",
         "BRB-BANCO DE BRASILIA S.A.",
         "ESCRITUR�RIO",
         "CAIXA BANC�RIO",
         "AFASTADO/ABONO ASSIDUIDADE",
         "6",
         "2022",
         "0300001",
         "2485",
         "14770,48",
         "1895,30",
         "3853,77",
         ",00",
         ",00",
         ",00",
         ",00",
         ",00",
         ",00",
         "3436,61",
         "3262,64",
         ",00",
         ",00",
         ",00",
         ",00",
         "20519,55",
         "13820,30"
        ],
        [
         "ADEMILSON CARNEIRO",
         "***749601**",
         "BRB-BANCO DE BRASILIA S.A.",
         "ESCRITUR�RIO",
         null,
         "AFASTADO/ABONO ASSIDUIDADE",
         "6",
         "2022",
         "0300001",
         "3264",
         "17955,43",
         "1995,20",
         ",00",
         ",00",
         ",00",
         ",00",
         ",00",
         ",00",
         ",00",
         "3304,07",
         "3429,73",
         ",00",
         ",00",
         ",00",
         ",00",
         "19950,63",
         "13216,83"
        ],
        [
         "ANA MARIA NOGUEIRA",
         "***040221**",
         "BRB-BANCO DE BRASILIA S.A.",
         "ESCRITUR�RIO",
         null,
         "AFASTADO/ABONO ASSIDUIDADE",
         "6",
         "2022",
         "0300001",
         "4674",
         "9204,04",
         "1895,30",
         ",00",
         ",00",
         ",00",
         ",00",
         ",00",
         ",00",
         ",00",
         "1228,66",
         "1871,80",
         ",00",
         ",00",
         ",00",
         ",00",
         "11099,34",
         "7998,88"
        ]
       ],
       "datasetInfos": [],
       "dbfsResultPath": null,
       "isJsonSchema": true,
       "metadata": {
        "isDbfsCommandResult": false
       },
       "overflow": false,
       "plotOptions": {
        "customPlotOptions": {},
        "displayType": "table",
        "pivotAggregation": null,
        "pivotColumns": null,
        "xColumns": null,
        "yColumns": null
       },
       "removedWidgets": [],
       "schema": [
        {
         "metadata": "{}",
         "name": "NOME",
         "type": "\"string\""
        },
        {
         "metadata": "{}",
         "name": "CPF",
         "type": "\"string\""
        },
        {
         "metadata": "{}",
         "name": "?RG?O",
         "type": "\"string\""
        },
        {
         "metadata": "{}",
         "name": "CARGO",
         "type": "\"string\""
        },
        {
         "metadata": "{}",
         "name": "FUN??O",
         "type": "\"string\""
        },
        {
         "metadata": "{}",
         "name": "SITUA??O",
         "type": "\"string\""
        },
        {
         "metadata": "{}",
         "name": "M?S",
         "type": "\"string\""
        },
        {
         "metadata": "{}",
         "name": "ANO",
         "type": "\"string\""
        },
        {
         "metadata": "{}",
         "name": "C?DIGO DO ?RG?O",
         "type": "\"string\""
        },
        {
         "metadata": "{}",
         "name": "MATR?CULA",
         "type": "\"string\""
        },
        {
         "metadata": "{}",
         "name": "REMUNERA??O B?SICA",
         "type": "\"string\""
        },
        {
         "metadata": "{}",
         "name": "BENEF?CIOS",
         "type": "\"string\""
        },
        {
         "metadata": "{}",
         "name": "VALOR DA FUN??O",
         "type": "\"string\""
        },
        {
         "metadata": "{}",
         "name": "COMISS?O CONSELHEIRO",
         "type": "\"string\""
        },
        {
         "metadata": "{}",
         "name": "HORA EXTRA",
         "type": "\"string\""
        },
        {
         "metadata": "{}",
         "name": "VERBAS EVENTUAIS",
         "type": "\"string\""
        },
        {
         "metadata": "{}",
         "name": "VERBAS JUDICIAIS",
         "type": "\"string\""
        },
        {
         "metadata": "{}",
         "name": "DESCONTOS A MAIOR",
         "type": "\"string\""
        },
        {
         "metadata": "{}",
         "name": "LICEN?A PR?MIO",
         "type": "\"string\""
        },
        {
         "metadata": "{}",
         "name": "IRRF",
         "type": "\"string\""
        },
        {
         "metadata": "{}",
         "name": "SEG. SOCIAL",
         "type": "\"string\""
        },
        {
         "metadata": "{}",
         "name": "TETO REDUTOR",
         "type": "\"string\""
        },
        {
         "metadata": "{}",
         "name": "OUTROS RECEBIMENTOS",
         "type": "\"string\""
        },
        {
         "metadata": "{}",
         "name": "OUTROS DESCONTOS OBRIGAT?RIOS",
         "type": "\"string\""
        },
        {
         "metadata": "{}",
         "name": "PAGAMENTOS A MAIOR",
         "type": "\"string\""
        },
        {
         "metadata": "{}",
         "name": "BRUTO",
         "type": "\"string\""
        },
        {
         "metadata": "{}",
         "name": "L?QUIDO",
         "type": "\"string\""
        }
       ],
       "type": "table"
      }
     },
     "output_type": "display_data"
    }
   ],
   "source": [
    "display(df_remuneracao_day2.limit(5))"
   ]
  },
  {
   "cell_type": "code",
   "execution_count": 0,
   "metadata": {
    "application/vnd.databricks.v1+cell": {
     "cellMetadata": {
      "byteLimit": 2048000,
      "rowLimit": 10000
     },
     "inputWidgets": {},
     "nuid": "aa8decc3-d0f8-451d-a03e-feb63785e58c",
     "showTitle": false,
     "title": ""
    }
   },
   "outputs": [
    {
     "output_type": "display_data",
     "data": {
      "text/html": [
       "<style scoped>\n",
       "  .table-result-container {\n",
       "    max-height: 300px;\n",
       "    overflow: auto;\n",
       "  }\n",
       "  table, th, td {\n",
       "    border: 1px solid black;\n",
       "    border-collapse: collapse;\n",
       "  }\n",
       "  th, td {\n",
       "    padding: 5px;\n",
       "  }\n",
       "  th {\n",
       "    text-align: left;\n",
       "  }\n",
       "</style><div class='table-result-container'><table class='table-result'><thead style='background-color: white'><tr></tr></thead><tbody></tbody></table></div>"
      ]
     },
     "metadata": {
      "application/vnd.databricks.v1+output": {
       "addedWidgets": {},
       "aggData": [],
       "aggError": "",
       "aggOverflow": false,
       "aggSchema": [],
       "aggSeriesLimitReached": false,
       "aggType": "",
       "arguments": {},
       "columnCustomDisplayInfos": {},
       "data": [],
       "datasetInfos": [],
       "dbfsResultPath": null,
       "isJsonSchema": true,
       "metadata": {
        "isDbfsCommandResult": false
       },
       "overflow": false,
       "plotOptions": {
        "customPlotOptions": {},
        "displayType": "table",
        "pivotAggregation": null,
        "pivotColumns": null,
        "xColumns": null,
        "yColumns": null
       },
       "removedWidgets": [],
       "schema": [],
       "type": "table"
      }
     },
     "output_type": "display_data"
    }
   ],
   "source": [
    "#FONTE DO DICIONÁRIO DE DADOS: http://dados.df.gov.br/dataset/462126f8-8a61-4cec-91a2-38615b7f70f6/resource/0514402e-cd29-440b-83e5-f97787dd1ad3/download/dicdadosremuneracaodosservidores.html\n",
    "spark.sql(\n",
    "\"CREATE TABLE IF NOT EXISTS remuneracao_day (nome STRING COMMENT 'NOME COMPLETO DO SERVIDOR', \" + \\\n",
    "\"                                            cpf STRING COMMENT 'Nº DO CADASTRO DE PESSOA FÍSICA MASCARADO',\" + \\ \n",
    "\"                                            orgao STRING COMMENT 'ÓRGÃO VINCULADO AO SERVIDOR',\" + \\\n",
    "\"                                            cargo STRING COMMENT 'POSIÇÃO QUE O SERVIDOR OCUPA NO ÓRGÃO DE FORMA PERMANENTE',\" + \\\n",
    "\"                                            funcao STRING COMMENT 'DESIGNAÇÃO TEMPORÁRIA PARA DESEMPENHO DE DETERMINADAS ATRIBUIÇÕES (CARGO COMISSIONADO)',\" + \\\n",
    "\"                                            situacao STRING COMMENT 'CONDIÇÃO DO SERVIDOR EM RELAÇÃO AO EXERCÍCIO DE SUAS ATIVIDADES',\" + \\\n",
    "\"                                            mes INTEGER COMMENT 'MÊS DE REFERÊNCIA',\" + \\\n",
    "\"                                            ano INTEGER COMMENT 'ANO DE REFERÊNCIA',\" + \\\n",
    "\"                                            codigo_do_orgao INTEGER COMMENT 'ÓRGÃO VINCULADO AO SERVIDOR',\" + \\\n",
    "\"                                            matricula STRING COMMENT 'MATRÍCULA DO SERVIDOR NO ÓRGÃO VINCULADO',\" + \\\n",
    "\"                                            remuneracao_basica STRING COMMENT 'REMUNERAÇÃO BÁSICA',\" + \\\n",
    "\"                                            beneficios STRING COMMENT 'VALOR DOS BENEFÍCIOS',\" + \\\n",
    "\"                                            valor_das_funcoes STRING COMMENT 'VALOR DAS FUNÇÕES',\" + \\\n",
    "\"                                            comissao_conselheiro STRING COMMENT 'COMISSÃO CONSELHEIRO',\" + \\\n",
    "\"                                            hora_extra STRING COMMENT 'TOTAL DE HORA EXTRA',\" + \\\n",
    "\"                                            verbas_eventuais STRING COMMENT 'VALOR DAS VERBAS EVENTUAIS',\" + \\\n",
    "\"                                            verbas_judiciais STRING COMMENT 'VALOR DAS VERBAS JUDICIAIS',\" + \\\n",
    "\"                                            descontos_a_maior STRING COMMENT 'VALOR DA REPOSIÇÃO DE DESCONTOS A MAIOR',\" + \\\n",
    "\"                                            licenca_premio STRING COMMENT 'VALOR DA LICENÇA PRÊMIO',\" + \\\n",
    "\"                                            irrf STRING COMMENT 'VALOR DO DESCONTO DE IMPOSTO DE RENDA RETIDO NA FONTE',\" + \\\n",
    "\"                                            seguridade_social STRING COMMENT 'VALOR DO DESCONTO DE SEGURIDADE SOCIAL',\" + \\\n",
    "\"                                            teto_redutor STRING COMMENT 'VALOR DO DESCONTO DE TETO REDUTOR',\" + \\\n",
    "\"                                            outros_recebimentos STRING COMMENT 'VALOR DE OUTROS RECEBIMENTOS',\" + \\\n",
    "\"                                            outros_descontos_obrigatorios STRING COMMENT 'VALOR DE OUTROS DESCONTOS OBRIGATÓRIOS',\" + \\\n",
    "\"                                            pagamento_a_maior STRING COMMENT 'VALOR DOS DESCONTOS DE PAGAMENTOS A MAIOR',\" + \\\n",
    "\"                                            bruto STRING COMMENT 'VALOR BRUTO DA REMUNERAÇÃO',\" + \\\n",
    "\"                                            liquido STRING COMMENT 'VALOR LÍQUIDO APÓS DESCONTOS OBRIGATÓRIOS')\" + \\\n",
    "\"COMMENT 'Este conjunto de dados apresenta a remuneração dos servidores do Governo do DF, detalhada por órgão e nome do servidor.'\"\n",
    ")"
   ]
  },
  {
   "cell_type": "code",
   "execution_count": 0,
   "metadata": {
    "application/vnd.databricks.v1+cell": {
     "cellMetadata": {
      "byteLimit": 2048000,
      "rowLimit": 10000
     },
     "inputWidgets": {},
     "nuid": "a8f8ec1e-5f9b-4e9b-87a0-32f9f928fe8c",
     "showTitle": false,
     "title": ""
    }
   },
   "outputs": [
    {
     "output_type": "display_data",
     "data": {
      "text/html": [
       "<style scoped>\n",
       "  .table-result-container {\n",
       "    max-height: 300px;\n",
       "    overflow: auto;\n",
       "  }\n",
       "  table, th, td {\n",
       "    border: 1px solid black;\n",
       "    border-collapse: collapse;\n",
       "  }\n",
       "  th, td {\n",
       "    padding: 5px;\n",
       "  }\n",
       "  th {\n",
       "    text-align: left;\n",
       "  }\n",
       "</style><div class='table-result-container'><table class='table-result'><thead style='background-color: white'><tr><th>num_affected_rows</th><th>num_inserted_rows</th></tr></thead><tbody><tr><td>247567</td><td>247567</td></tr></tbody></table></div>"
      ]
     },
     "metadata": {
      "application/vnd.databricks.v1+output": {
       "addedWidgets": {},
       "aggData": [],
       "aggError": "",
       "aggOverflow": false,
       "aggSchema": [],
       "aggSeriesLimitReached": false,
       "aggType": "",
       "arguments": {},
       "columnCustomDisplayInfos": {},
       "data": [
        [
         247567,
         247567
        ]
       ],
       "datasetInfos": [],
       "dbfsResultPath": null,
       "isJsonSchema": true,
       "metadata": {
        "isDbfsCommandResult": false
       },
       "overflow": false,
       "plotOptions": {
        "customPlotOptions": {},
        "displayType": "table",
        "pivotAggregation": null,
        "pivotColumns": null,
        "xColumns": null,
        "yColumns": null
       },
       "removedWidgets": [],
       "schema": [
        {
         "metadata": "{}",
         "name": "num_affected_rows",
         "type": "\"long\""
        },
        {
         "metadata": "{}",
         "name": "num_inserted_rows",
         "type": "\"long\""
        }
       ],
       "type": "table"
      }
     },
     "output_type": "display_data"
    }
   ],
   "source": [
    "df_remuneracao_day2.selectExpr(\"*\").write.insertInto(\"remuneracao_day\")"
   ]
  },
  {
   "cell_type": "markdown",
   "metadata": {
    "application/vnd.databricks.v1+cell": {
     "cellMetadata": {},
     "inputWidgets": {},
     "nuid": "94ffa7f3-01e4-42ee-93e1-908e40cc30a6",
     "showTitle": false,
     "title": ""
    }
   },
   "source": [
    "## Welcome Unity Catalog"
   ]
  },
  {
   "cell_type": "code",
   "execution_count": 0,
   "metadata": {
    "application/vnd.databricks.v1+cell": {
     "cellMetadata": {
      "byteLimit": 2048000,
      "rowLimit": 10000
     },
     "inputWidgets": {},
     "nuid": "f7e9397a-7803-405e-804c-2a9f90d50344",
     "showTitle": false,
     "title": ""
    }
   },
   "outputs": [
    {
     "output_type": "display_data",
     "data": {
      "text/html": [
       "<style scoped>\n",
       "  .table-result-container {\n",
       "    max-height: 300px;\n",
       "    overflow: auto;\n",
       "  }\n",
       "  table, th, td {\n",
       "    border: 1px solid black;\n",
       "    border-collapse: collapse;\n",
       "  }\n",
       "  th, td {\n",
       "    padding: 5px;\n",
       "  }\n",
       "  th {\n",
       "    text-align: left;\n",
       "  }\n",
       "</style><div class='table-result-container'><table class='table-result'><thead style='background-color: white'><tr></tr></thead><tbody></tbody></table></div>"
      ]
     },
     "metadata": {
      "application/vnd.databricks.v1+output": {
       "addedWidgets": {},
       "aggData": [],
       "aggError": "",
       "aggOverflow": false,
       "aggSchema": [],
       "aggSeriesLimitReached": false,
       "aggType": "",
       "arguments": {},
       "columnCustomDisplayInfos": {},
       "data": [],
       "datasetInfos": [],
       "dbfsResultPath": null,
       "isJsonSchema": true,
       "metadata": {
        "isDbfsCommandResult": false
       },
       "overflow": false,
       "plotOptions": {
        "customPlotOptions": {},
        "displayType": "table",
        "pivotAggregation": null,
        "pivotColumns": null,
        "xColumns": null,
        "yColumns": null
       },
       "removedWidgets": [],
       "schema": [],
       "type": "table"
      }
     },
     "output_type": "display_data"
    }
   ],
   "source": [
    "spark.sql(\"CREATE CATALOG IF NOT EXISTS hive_to_uc_sync\")\n",
    "spark.sql(\"USE CATALOG hive_to_uc_sync\")\n",
    "spark.sql(\"CREATE SCHEMA IF NOT EXISTS sync_data\")\n",
    "spark.sql(\"USE SCHEMA sync_data\")"
   ]
  },
  {
   "cell_type": "code",
   "execution_count": 0,
   "metadata": {
    "application/vnd.databricks.v1+cell": {
     "cellMetadata": {
      "byteLimit": 2048000,
      "rowLimit": 10000
     },
     "inputWidgets": {},
     "nuid": "fd8997e4-93a4-4b69-886e-b1f10a8b66b1",
     "showTitle": false,
     "title": ""
    }
   },
   "outputs": [
    {
     "output_type": "display_data",
     "data": {
      "text/html": [
       "<style scoped>\n",
       "  .table-result-container {\n",
       "    max-height: 300px;\n",
       "    overflow: auto;\n",
       "  }\n",
       "  table, th, td {\n",
       "    border: 1px solid black;\n",
       "    border-collapse: collapse;\n",
       "  }\n",
       "  th, td {\n",
       "    padding: 5px;\n",
       "  }\n",
       "  th {\n",
       "    text-align: left;\n",
       "  }\n",
       "</style><div class='table-result-container'><table class='table-result'><thead style='background-color: white'><tr><th>source_schema</th><th>source_name</th><th>source_type</th><th>target_catalog</th><th>target_schema</th><th>target_name</th><th>status_code</th><th>description</th></tr></thead><tbody><tr><td>default</td><td>people_10millions</td><td>managed</td><td>hive_to_uc_sync</td><td>sync_data</td><td>people_10millions</td><td>DBFS_ROOT_LOCATION</td><td>[UPGRADE_NOT_SUPPORTED.DBFS_ROOT_LOCATION] Table is not eligible for upgrade from Hive Metastore to Unity Catalog. Reason: Table located on DBFS root.</td></tr><tr><td>default</td><td>remuneracao_day</td><td>managed</td><td>hive_to_uc_sync</td><td>sync_data</td><td>remuneracao_day</td><td>DBFS_ROOT_LOCATION</td><td>[UPGRADE_NOT_SUPPORTED.DBFS_ROOT_LOCATION] Table is not eligible for upgrade from Hive Metastore to Unity Catalog. Reason: Table located on DBFS root.</td></tr><tr><td>default</td><td>remuneracao_day2</td><td>external</td><td>hive_to_uc_sync</td><td>sync_data</td><td>remuneracao_day2</td><td>EXTERNAL_LOCATION_DOES_NOT_EXIST</td><td>parent external location for path `s3://databricks-cc-eng-academy/remuneracao202206.csv` does not exist.</td></tr><tr><td>default</td><td>titanic_clean</td><td>managed</td><td>hive_to_uc_sync</td><td>sync_data</td><td>titanic_clean</td><td>DBFS_ROOT_LOCATION</td><td>[UPGRADE_NOT_SUPPORTED.DBFS_ROOT_LOCATION] Table is not eligible for upgrade from Hive Metastore to Unity Catalog. Reason: Table located on DBFS root.</td></tr></tbody></table></div>"
      ]
     },
     "metadata": {
      "application/vnd.databricks.v1+output": {
       "addedWidgets": {},
       "aggData": [],
       "aggError": "",
       "aggOverflow": false,
       "aggSchema": [],
       "aggSeriesLimitReached": false,
       "aggType": "",
       "arguments": {},
       "columnCustomDisplayInfos": {},
       "data": [
        [
         "default",
         "people_10millions",
         "managed",
         "hive_to_uc_sync",
         "sync_data",
         "people_10millions",
         "DBFS_ROOT_LOCATION",
         "[UPGRADE_NOT_SUPPORTED.DBFS_ROOT_LOCATION] Table is not eligible for upgrade from Hive Metastore to Unity Catalog. Reason: Table located on DBFS root."
        ],
        [
         "default",
         "remuneracao_day",
         "managed",
         "hive_to_uc_sync",
         "sync_data",
         "remuneracao_day",
         "DBFS_ROOT_LOCATION",
         "[UPGRADE_NOT_SUPPORTED.DBFS_ROOT_LOCATION] Table is not eligible for upgrade from Hive Metastore to Unity Catalog. Reason: Table located on DBFS root."
        ],
        [
         "default",
         "remuneracao_day2",
         "external",
         "hive_to_uc_sync",
         "sync_data",
         "remuneracao_day2",
         "EXTERNAL_LOCATION_DOES_NOT_EXIST",
         "parent external location for path `s3://databricks-cc-eng-academy/remuneracao202206.csv` does not exist."
        ],
        [
         "default",
         "titanic_clean",
         "managed",
         "hive_to_uc_sync",
         "sync_data",
         "titanic_clean",
         "DBFS_ROOT_LOCATION",
         "[UPGRADE_NOT_SUPPORTED.DBFS_ROOT_LOCATION] Table is not eligible for upgrade from Hive Metastore to Unity Catalog. Reason: Table located on DBFS root."
        ]
       ],
       "datasetInfos": [],
       "dbfsResultPath": null,
       "isJsonSchema": true,
       "metadata": {
        "isDbfsCommandResult": false
       },
       "overflow": false,
       "plotOptions": {
        "customPlotOptions": {},
        "displayType": "table",
        "pivotAggregation": null,
        "pivotColumns": null,
        "xColumns": null,
        "yColumns": null
       },
       "removedWidgets": [],
       "schema": [
        {
         "metadata": "{}",
         "name": "source_schema",
         "type": "\"string\""
        },
        {
         "metadata": "{}",
         "name": "source_name",
         "type": "\"string\""
        },
        {
         "metadata": "{}",
         "name": "source_type",
         "type": "\"string\""
        },
        {
         "metadata": "{}",
         "name": "target_catalog",
         "type": "\"string\""
        },
        {
         "metadata": "{}",
         "name": "target_schema",
         "type": "\"string\""
        },
        {
         "metadata": "{}",
         "name": "target_name",
         "type": "\"string\""
        },
        {
         "metadata": "{}",
         "name": "status_code",
         "type": "\"string\""
        },
        {
         "metadata": "{}",
         "name": "description",
         "type": "\"string\""
        }
       ],
       "type": "table"
      }
     },
     "output_type": "display_data"
    }
   ],
   "source": [
    "spark.sql(\"SYNC SCHEMA hive_to_uc_sync.sync_data FROM hive_metastore.default DRY RUN\")"
   ]
  },
  {
   "cell_type": "markdown",
   "metadata": {
    "application/vnd.databricks.v1+cell": {
     "cellMetadata": {},
     "inputWidgets": {},
     "nuid": "89831b46-2fd0-4d91-bf53-d6ab65d8f4f3",
     "showTitle": false,
     "title": ""
    }
   },
   "source": [
    "### CLONING TABLES"
   ]
  },
  {
   "cell_type": "markdown",
   "metadata": {
    "application/vnd.databricks.v1+cell": {
     "cellMetadata": {},
     "inputWidgets": {},
     "nuid": "9b7ed049-db7d-4bd0-8b3a-49289baf45e2",
     "showTitle": false,
     "title": ""
    }
   },
   "source": [
    "\n",
    "| Deep Clone Features | Shallow Clone Features |\n",
    "|--------|--------|\n",
    "| Completely independent of the source. | It depends exclusively on the source. |\n",
    "| Duplicated all data & metadata | Duplicates metadata only. |\n",
    "| You can clone a Deep Clone Table | Cannot create Shallow Clone from another Shallow Clone Table. |\n",
    "| Works with Managed and Unmanaged tables | Works only with Managed Tables on Unity Catalog. |\n",
    "| Scenarios: migrations, back-ups, upgrade Hive -> UC  | Scenarios: tests, short-duration workloads, low-cost experiments. |\n",
    "\n",
    "PS: Not only exclusive for Delta Tables as you also can clone Parquet and Iceberg tables."
   ]
  },
  {
   "cell_type": "code",
   "execution_count": 0,
   "metadata": {
    "application/vnd.databricks.v1+cell": {
     "cellMetadata": {},
     "inputWidgets": {},
     "nuid": "d0d980e6-2b73-4179-bc32-9b8e04fd23ab",
     "showTitle": false,
     "title": ""
    }
   },
   "outputs": [],
   "source": [
    "df_people = spark.read.table(\"default.people_10millions\")"
   ]
  },
  {
   "cell_type": "code",
   "execution_count": 0,
   "metadata": {
    "application/vnd.databricks.v1+cell": {
     "cellMetadata": {
      "byteLimit": 2048000,
      "rowLimit": 10000
     },
     "inputWidgets": {},
     "nuid": "07a1636f-8577-47e2-b33b-fc7fbdcd7598",
     "showTitle": false,
     "title": ""
    }
   },
   "outputs": [
    {
     "output_type": "display_data",
     "data": {
      "text/html": [
       "<style scoped>\n",
       "  .table-result-container {\n",
       "    max-height: 300px;\n",
       "    overflow: auto;\n",
       "  }\n",
       "  table, th, td {\n",
       "    border: 1px solid black;\n",
       "    border-collapse: collapse;\n",
       "  }\n",
       "  th, td {\n",
       "    padding: 5px;\n",
       "  }\n",
       "  th {\n",
       "    text-align: left;\n",
       "  }\n",
       "</style><div class='table-result-container'><table class='table-result'><thead style='background-color: white'><tr><th>source_table_size</th><th>source_num_of_files</th><th>num_removed_files</th><th>num_copied_files</th><th>removed_files_size</th><th>copied_files_size</th></tr></thead><tbody><tr><td>236570589</td><td>4</td><td>0</td><td>4</td><td>0</td><td>236570589</td></tr></tbody></table></div>"
      ]
     },
     "metadata": {
      "application/vnd.databricks.v1+output": {
       "addedWidgets": {},
       "aggData": [],
       "aggError": "",
       "aggOverflow": false,
       "aggSchema": [],
       "aggSeriesLimitReached": false,
       "aggType": "",
       "arguments": {},
       "columnCustomDisplayInfos": {},
       "data": [
        [
         236570589,
         4,
         0,
         4,
         0,
         236570589
        ]
       ],
       "datasetInfos": [],
       "dbfsResultPath": null,
       "isJsonSchema": true,
       "metadata": {
        "isDbfsCommandResult": false
       },
       "overflow": false,
       "plotOptions": {
        "customPlotOptions": {},
        "displayType": "table",
        "pivotAggregation": null,
        "pivotColumns": null,
        "xColumns": null,
        "yColumns": null
       },
       "removedWidgets": [],
       "schema": [
        {
         "metadata": "{}",
         "name": "source_table_size",
         "type": "\"long\""
        },
        {
         "metadata": "{}",
         "name": "source_num_of_files",
         "type": "\"long\""
        },
        {
         "metadata": "{}",
         "name": "num_removed_files",
         "type": "\"long\""
        },
        {
         "metadata": "{}",
         "name": "num_copied_files",
         "type": "\"long\""
        },
        {
         "metadata": "{}",
         "name": "removed_files_size",
         "type": "\"long\""
        },
        {
         "metadata": "{}",
         "name": "copied_files_size",
         "type": "\"long\""
        }
       ],
       "type": "table"
      }
     },
     "output_type": "display_data"
    }
   ],
   "source": [
    "df_people.clone(\"dbfs://clone_path/deep_clone\", isShallow = False, replace)"
   ]
  },
  {
   "cell_type": "code",
   "execution_count": 0,
   "metadata": {
    "application/vnd.databricks.v1+cell": {
     "cellMetadata": {
      "byteLimit": 2048000,
      "rowLimit": 10000
     },
     "inputWidgets": {},
     "nuid": "851e6de1-fb44-4b9c-a50d-2ae9cd68fa40",
     "showTitle": false,
     "title": ""
    }
   },
   "outputs": [
    {
     "output_type": "display_data",
     "data": {
      "text/html": [
       "<style scoped>\n",
       "  .table-result-container {\n",
       "    max-height: 300px;\n",
       "    overflow: auto;\n",
       "  }\n",
       "  table, th, td {\n",
       "    border: 1px solid black;\n",
       "    border-collapse: collapse;\n",
       "  }\n",
       "  th, td {\n",
       "    padding: 5px;\n",
       "  }\n",
       "  th {\n",
       "    text-align: left;\n",
       "  }\n",
       "</style><div class='table-result-container'><table class='table-result'><thead style='background-color: white'><tr><th>source_table_size</th><th>source_num_of_files</th><th>num_removed_files</th><th>num_copied_files</th><th>removed_files_size</th><th>copied_files_size</th></tr></thead><tbody><tr><td>236570589</td><td>4</td><td>0</td><td>0</td><td>0</td><td>0</td></tr></tbody></table></div>"
      ]
     },
     "metadata": {
      "application/vnd.databricks.v1+output": {
       "addedWidgets": {},
       "aggData": [],
       "aggError": "",
       "aggOverflow": false,
       "aggSchema": [],
       "aggSeriesLimitReached": false,
       "aggType": "",
       "arguments": {},
       "columnCustomDisplayInfos": {},
       "data": [
        [
         236570589,
         4,
         0,
         0,
         0,
         0
        ]
       ],
       "datasetInfos": [],
       "dbfsResultPath": null,
       "isJsonSchema": true,
       "metadata": {
        "isDbfsCommandResult": false
       },
       "overflow": false,
       "plotOptions": {
        "customPlotOptions": {},
        "displayType": "table",
        "pivotAggregation": null,
        "pivotColumns": null,
        "xColumns": null,
        "yColumns": null
       },
       "removedWidgets": [],
       "schema": [
        {
         "metadata": "{}",
         "name": "source_table_size",
         "type": "\"long\""
        },
        {
         "metadata": "{}",
         "name": "source_num_of_files",
         "type": "\"long\""
        },
        {
         "metadata": "{}",
         "name": "num_removed_files",
         "type": "\"long\""
        },
        {
         "metadata": "{}",
         "name": "num_copied_files",
         "type": "\"long\""
        },
        {
         "metadata": "{}",
         "name": "removed_files_size",
         "type": "\"long\""
        },
        {
         "metadata": "{}",
         "name": "copied_files_size",
         "type": "\"long\""
        }
       ],
       "type": "table"
      }
     },
     "output_type": "display_data"
    }
   ],
   "source": [
    "df_people.clone(\"dbfs://clone_path/shallow_clone\", isShallow, replace)"
   ]
  },
  {
   "cell_type": "code",
   "execution_count": 0,
   "metadata": {
    "application/vnd.databricks.v1+cell": {
     "cellMetadata": {
      "byteLimit": 2048000,
      "rowLimit": 10000
     },
     "inputWidgets": {},
     "nuid": "8c99c33d-08e3-40c1-9932-57f342daa04b",
     "showTitle": false,
     "title": ""
    }
   },
   "outputs": [
    {
     "output_type": "display_data",
     "data": {
      "text/html": [
       "<style scoped>\n",
       "  .table-result-container {\n",
       "    max-height: 300px;\n",
       "    overflow: auto;\n",
       "  }\n",
       "  table, th, td {\n",
       "    border: 1px solid black;\n",
       "    border-collapse: collapse;\n",
       "  }\n",
       "  th, td {\n",
       "    padding: 5px;\n",
       "  }\n",
       "  th {\n",
       "    text-align: left;\n",
       "  }\n",
       "</style><div class='table-result-container'><table class='table-result'><thead style='background-color: white'><tr><th>count(1)</th></tr></thead><tbody><tr><td>10000000</td></tr></tbody></table></div>"
      ]
     },
     "metadata": {
      "application/vnd.databricks.v1+output": {
       "addedWidgets": {},
       "aggData": [],
       "aggError": "",
       "aggOverflow": false,
       "aggSchema": [],
       "aggSeriesLimitReached": false,
       "aggType": "",
       "arguments": {},
       "columnCustomDisplayInfos": {},
       "data": [
        [
         10000000
        ]
       ],
       "datasetInfos": [],
       "dbfsResultPath": null,
       "isJsonSchema": true,
       "metadata": {
        "isDbfsCommandResult": false
       },
       "overflow": false,
       "plotOptions": {
        "customPlotOptions": {},
        "displayType": "table",
        "pivotAggregation": null,
        "pivotColumns": null,
        "xColumns": null,
        "yColumns": null
       },
       "removedWidgets": [],
       "schema": [
        {
         "metadata": "{\"__autoGeneratedAlias\":\"true\"}",
         "name": "count(1)",
         "type": "\"long\""
        }
       ],
       "type": "table"
      }
     },
     "output_type": "display_data"
    }
   ],
   "source": [
    "display(df_people.count())"
   ]
  },
  {
   "cell_type": "code",
   "execution_count": 0,
   "metadata": {
    "application/vnd.databricks.v1+cell": {
     "cellMetadata": {
      "byteLimit": 2048000,
      "rowLimit": 10000
     },
     "inputWidgets": {},
     "nuid": "e8617994-944c-4022-87e1-a9c4314b4ace",
     "showTitle": false,
     "title": ""
    }
   },
   "outputs": [
    {
     "output_type": "display_data",
     "data": {
      "text/html": [
       "<style scoped>\n",
       "  .table-result-container {\n",
       "    max-height: 300px;\n",
       "    overflow: auto;\n",
       "  }\n",
       "  table, th, td {\n",
       "    border: 1px solid black;\n",
       "    border-collapse: collapse;\n",
       "  }\n",
       "  th, td {\n",
       "    padding: 5px;\n",
       "  }\n",
       "  th {\n",
       "    text-align: left;\n",
       "  }\n",
       "</style><div class='table-result-container'><table class='table-result'><thead style='background-color: white'><tr><th>count(1)</th></tr></thead><tbody><tr><td>10000000</td></tr></tbody></table></div>"
      ]
     },
     "metadata": {
      "application/vnd.databricks.v1+output": {
       "addedWidgets": {},
       "aggData": [],
       "aggError": "",
       "aggOverflow": false,
       "aggSchema": [],
       "aggSeriesLimitReached": false,
       "aggType": "",
       "arguments": {},
       "columnCustomDisplayInfos": {},
       "data": [
        [
         10000000
        ]
       ],
       "datasetInfos": [],
       "dbfsResultPath": null,
       "isJsonSchema": true,
       "metadata": {
        "isDbfsCommandResult": false
       },
       "overflow": false,
       "plotOptions": {
        "customPlotOptions": {},
        "displayType": "table",
        "pivotAggregation": null,
        "pivotColumns": null,
        "xColumns": null,
        "yColumns": null
       },
       "removedWidgets": [],
       "schema": [
        {
         "metadata": "{\"__autoGeneratedAlias\":\"true\"}",
         "name": "count(1)",
         "type": "\"long\""
        }
       ],
       "type": "table"
      }
     },
     "output_type": "display_data"
    }
   ],
   "source": [
    "df_people_deep = spark.read.load(\"dbfs://clone_path/deep_clone\")\n",
    "display(df_people_deep.count())"
   ]
  },
  {
   "cell_type": "code",
   "execution_count": 0,
   "metadata": {
    "application/vnd.databricks.v1+cell": {
     "cellMetadata": {
      "byteLimit": 2048000,
      "rowLimit": 10000
     },
     "inputWidgets": {},
     "nuid": "ae90c9c8-f2ed-4c7e-acb0-c8f367b53cbc",
     "showTitle": false,
     "title": ""
    }
   },
   "outputs": [
    {
     "output_type": "display_data",
     "data": {
      "text/html": [
       "<style scoped>\n",
       "  .table-result-container {\n",
       "    max-height: 300px;\n",
       "    overflow: auto;\n",
       "  }\n",
       "  table, th, td {\n",
       "    border: 1px solid black;\n",
       "    border-collapse: collapse;\n",
       "  }\n",
       "  th, td {\n",
       "    padding: 5px;\n",
       "  }\n",
       "  th {\n",
       "    text-align: left;\n",
       "  }\n",
       "</style><div class='table-result-container'><table class='table-result'><thead style='background-color: white'><tr><th>count(1)</th></tr></thead><tbody><tr><td>10000000</td></tr></tbody></table></div>"
      ]
     },
     "metadata": {
      "application/vnd.databricks.v1+output": {
       "addedWidgets": {},
       "aggData": [],
       "aggError": "",
       "aggOverflow": false,
       "aggSchema": [],
       "aggSeriesLimitReached": false,
       "aggType": "",
       "arguments": {},
       "columnCustomDisplayInfos": {},
       "data": [
        [
         10000000
        ]
       ],
       "datasetInfos": [],
       "dbfsResultPath": null,
       "isJsonSchema": true,
       "metadata": {
        "isDbfsCommandResult": false
       },
       "overflow": false,
       "plotOptions": {
        "customPlotOptions": {},
        "displayType": "table",
        "pivotAggregation": null,
        "pivotColumns": null,
        "xColumns": null,
        "yColumns": null
       },
       "removedWidgets": [],
       "schema": [
        {
         "metadata": "{\"__autoGeneratedAlias\":\"true\"}",
         "name": "count(1)",
         "type": "\"long\""
        }
       ],
       "type": "table"
      }
     },
     "output_type": "display_data"
    }
   ],
   "source": [
    "df_people_shallow = spark.read.load(\"dbfs://clone_path/shallow_clone\")\n",
    "display(df_people_shallow.count())"
   ]
  },
  {
   "cell_type": "code",
   "execution_count": 0,
   "metadata": {
    "application/vnd.databricks.v1+cell": {
     "cellMetadata": {
      "byteLimit": 2048000,
      "rowLimit": 10000
     },
     "inputWidgets": {},
     "nuid": "40bfb17d-45d5-4394-96b3-ae59b75ba7a5",
     "showTitle": false,
     "title": ""
    }
   },
   "outputs": [
    {
     "output_type": "display_data",
     "data": {
      "text/html": [
       "<style scoped>\n",
       "  .table-result-container {\n",
       "    max-height: 300px;\n",
       "    overflow: auto;\n",
       "  }\n",
       "  table, th, td {\n",
       "    border: 1px solid black;\n",
       "    border-collapse: collapse;\n",
       "  }\n",
       "  th, td {\n",
       "    padding: 5px;\n",
       "  }\n",
       "  th {\n",
       "    text-align: left;\n",
       "  }\n",
       "</style><div class='table-result-container'><table class='table-result'><thead style='background-color: white'><tr><th>version</th><th>timestamp</th><th>userId</th><th>userName</th><th>operation</th><th>operationParameters</th><th>job</th><th>notebook</th><th>clusterId</th><th>readVersion</th><th>isolationLevel</th><th>isBlindAppend</th><th>operationMetrics</th><th>userMetadata</th><th>engineInfo</th></tr></thead><tbody><tr><td>0</td><td>2023-09-14T01:06:09.000+0000</td><td>2657276046068378</td><td>vitojon@outlook.com</td><td>CLONE</td><td>Map(source -> hive_metastore.default.people_10millions, sourceVersion -> 4, isShallow -> false)</td><td>null</td><td>List(4008888185532145)</td><td>0913-194424-ztitdjd5</td><td>-1</td><td>Serializable</td><td>false</td><td>Map(removedFilesSize -> 0, numRemovedFiles -> 0, sourceTableSize -> 236570589, numCopiedFiles -> 4, copiedFilesSize -> 236570589, sourceNumOfFiles -> 4)</td><td>null</td><td>Databricks-Runtime/12.2.x-scala2.12</td></tr></tbody></table></div>"
      ]
     },
     "metadata": {
      "application/vnd.databricks.v1+output": {
       "addedWidgets": {},
       "aggData": [],
       "aggError": "",
       "aggOverflow": false,
       "aggSchema": [],
       "aggSeriesLimitReached": false,
       "aggType": "",
       "arguments": {},
       "columnCustomDisplayInfos": {},
       "data": [
        [
         0,
         "2023-09-14T01:06:09.000+0000",
         "2657276046068378",
         "vitojon@outlook.com",
         "CLONE",
         {
          "isShallow": "false",
          "source": "hive_metastore.default.people_10millions",
          "sourceVersion": "4"
         },
         null,
         [
          "4008888185532145"
         ],
         "0913-194424-ztitdjd5",
         -1,
         "Serializable",
         false,
         {
          "copiedFilesSize": "236570589",
          "numCopiedFiles": "4",
          "numRemovedFiles": "0",
          "removedFilesSize": "0",
          "sourceNumOfFiles": "4",
          "sourceTableSize": "236570589"
         },
         null,
         "Databricks-Runtime/12.2.x-scala2.12"
        ]
       ],
       "datasetInfos": [],
       "dbfsResultPath": null,
       "isJsonSchema": true,
       "metadata": {
        "isDbfsCommandResult": false
       },
       "overflow": false,
       "plotOptions": {
        "customPlotOptions": {},
        "displayType": "table",
        "pivotAggregation": null,
        "pivotColumns": null,
        "xColumns": null,
        "yColumns": null
       },
       "removedWidgets": [],
       "schema": [
        {
         "metadata": "{}",
         "name": "version",
         "type": "\"long\""
        },
        {
         "metadata": "{}",
         "name": "timestamp",
         "type": "\"timestamp\""
        },
        {
         "metadata": "{}",
         "name": "userId",
         "type": "\"string\""
        },
        {
         "metadata": "{}",
         "name": "userName",
         "type": "\"string\""
        },
        {
         "metadata": "{}",
         "name": "operation",
         "type": "\"string\""
        },
        {
         "metadata": "{}",
         "name": "operationParameters",
         "type": "{\"type\":\"map\",\"keyType\":\"string\",\"valueType\":\"string\",\"valueContainsNull\":true}"
        },
        {
         "metadata": "{}",
         "name": "job",
         "type": "{\"type\":\"struct\",\"fields\":[{\"name\":\"jobId\",\"type\":\"string\",\"nullable\":true,\"metadata\":{}},{\"name\":\"jobName\",\"type\":\"string\",\"nullable\":true,\"metadata\":{}},{\"name\":\"jobRunId\",\"type\":\"string\",\"nullable\":true,\"metadata\":{}},{\"name\":\"runId\",\"type\":\"string\",\"nullable\":true,\"metadata\":{}},{\"name\":\"jobOwnerId\",\"type\":\"string\",\"nullable\":true,\"metadata\":{}},{\"name\":\"triggerType\",\"type\":\"string\",\"nullable\":true,\"metadata\":{}}]}"
        },
        {
         "metadata": "{}",
         "name": "notebook",
         "type": "{\"type\":\"struct\",\"fields\":[{\"name\":\"notebookId\",\"type\":\"string\",\"nullable\":true,\"metadata\":{}}]}"
        },
        {
         "metadata": "{}",
         "name": "clusterId",
         "type": "\"string\""
        },
        {
         "metadata": "{}",
         "name": "readVersion",
         "type": "\"long\""
        },
        {
         "metadata": "{}",
         "name": "isolationLevel",
         "type": "\"string\""
        },
        {
         "metadata": "{}",
         "name": "isBlindAppend",
         "type": "\"boolean\""
        },
        {
         "metadata": "{}",
         "name": "operationMetrics",
         "type": "{\"type\":\"map\",\"keyType\":\"string\",\"valueType\":\"string\",\"valueContainsNull\":true}"
        },
        {
         "metadata": "{}",
         "name": "userMetadata",
         "type": "\"string\""
        },
        {
         "metadata": "{}",
         "name": "engineInfo",
         "type": "\"string\""
        }
       ],
       "type": "table"
      }
     },
     "output_type": "display_data"
    }
   ],
   "source": [
    "display(df_people_deep.history())"
   ]
  },
  {
   "cell_type": "code",
   "execution_count": 0,
   "metadata": {
    "application/vnd.databricks.v1+cell": {
     "cellMetadata": {
      "byteLimit": 2048000,
      "rowLimit": 10000
     },
     "inputWidgets": {},
     "nuid": "c9818549-3bd0-410c-8a26-d7042d1bc710",
     "showTitle": false,
     "title": ""
    }
   },
   "outputs": [
    {
     "output_type": "display_data",
     "data": {
      "text/html": [
       "<style scoped>\n",
       "  .table-result-container {\n",
       "    max-height: 300px;\n",
       "    overflow: auto;\n",
       "  }\n",
       "  table, th, td {\n",
       "    border: 1px solid black;\n",
       "    border-collapse: collapse;\n",
       "  }\n",
       "  th, td {\n",
       "    padding: 5px;\n",
       "  }\n",
       "  th {\n",
       "    text-align: left;\n",
       "  }\n",
       "</style><div class='table-result-container'><table class='table-result'><thead style='background-color: white'><tr><th>num_affected_rows</th></tr></thead><tbody><tr><td>16758</td></tr></tbody></table></div>"
      ]
     },
     "metadata": {
      "application/vnd.databricks.v1+output": {
       "addedWidgets": {},
       "aggData": [],
       "aggError": "",
       "aggOverflow": false,
       "aggSchema": [],
       "aggSeriesLimitReached": false,
       "aggType": "",
       "arguments": {},
       "columnCustomDisplayInfos": {},
       "data": [
        [
         16758
        ]
       ],
       "datasetInfos": [],
       "dbfsResultPath": null,
       "isJsonSchema": true,
       "metadata": {
        "isDbfsCommandResult": false
       },
       "overflow": false,
       "plotOptions": {
        "customPlotOptions": {},
        "displayType": "table",
        "pivotAggregation": null,
        "pivotColumns": null,
        "xColumns": null,
        "yColumns": null
       },
       "removedWidgets": [],
       "schema": [
        {
         "metadata": "{}",
         "name": "num_affected_rows",
         "type": "\"long\""
        }
       ],
       "type": "table"
      }
     },
     "output_type": "display_data"
    }
   ],
   "source": [
    "df_people.delete(\"birthDate >= '2000-01-01'\")"
   ]
  },
  {
   "cell_type": "code",
   "execution_count": 0,
   "metadata": {
    "application/vnd.databricks.v1+cell": {
     "cellMetadata": {
      "byteLimit": 2048000,
      "rowLimit": 10000
     },
     "inputWidgets": {},
     "nuid": "49121b8a-90b8-4088-aed0-42bb6db26d00",
     "showTitle": false,
     "title": ""
    }
   },
   "outputs": [
    {
     "output_type": "display_data",
     "data": {
      "text/html": [
       "<style scoped>\n",
       "  .table-result-container {\n",
       "    max-height: 300px;\n",
       "    overflow: auto;\n",
       "  }\n",
       "  table, th, td {\n",
       "    border: 1px solid black;\n",
       "    border-collapse: collapse;\n",
       "  }\n",
       "  th, td {\n",
       "    padding: 5px;\n",
       "  }\n",
       "  th {\n",
       "    text-align: left;\n",
       "  }\n",
       "</style><div class='table-result-container'><table class='table-result'><thead style='background-color: white'><tr><th>count(1)</th></tr></thead><tbody><tr><td>9983242</td></tr></tbody></table></div>"
      ]
     },
     "metadata": {
      "application/vnd.databricks.v1+output": {
       "addedWidgets": {},
       "aggData": [],
       "aggError": "",
       "aggOverflow": false,
       "aggSchema": [],
       "aggSeriesLimitReached": false,
       "aggType": "",
       "arguments": {},
       "columnCustomDisplayInfos": {},
       "data": [
        [
         9983242
        ]
       ],
       "datasetInfos": [],
       "dbfsResultPath": null,
       "isJsonSchema": true,
       "metadata": {
        "isDbfsCommandResult": false
       },
       "overflow": false,
       "plotOptions": {
        "customPlotOptions": {},
        "displayType": "table",
        "pivotAggregation": null,
        "pivotColumns": null,
        "xColumns": null,
        "yColumns": null
       },
       "removedWidgets": [],
       "schema": [
        {
         "metadata": "{\"__autoGeneratedAlias\":\"true\"}",
         "name": "count(1)",
         "type": "\"long\""
        }
       ],
       "type": "table"
      }
     },
     "output_type": "display_data"
    }
   ],
   "source": [
    "display(df_people.count())"
   ]
  },
  {
   "cell_type": "code",
   "execution_count": 0,
   "metadata": {
    "application/vnd.databricks.v1+cell": {
     "cellMetadata": {
      "byteLimit": 2048000,
      "rowLimit": 10000
     },
     "inputWidgets": {},
     "nuid": "7e581a37-f27c-467e-8c26-832498e6da69",
     "showTitle": false,
     "title": ""
    }
   },
   "outputs": [
    {
     "output_type": "display_data",
     "data": {
      "text/html": [
       "<style scoped>\n",
       "  .table-result-container {\n",
       "    max-height: 300px;\n",
       "    overflow: auto;\n",
       "  }\n",
       "  table, th, td {\n",
       "    border: 1px solid black;\n",
       "    border-collapse: collapse;\n",
       "  }\n",
       "  th, td {\n",
       "    padding: 5px;\n",
       "  }\n",
       "  th {\n",
       "    text-align: left;\n",
       "  }\n",
       "</style><div class='table-result-container'><table class='table-result'><thead style='background-color: white'><tr><th>count(1)</th></tr></thead><tbody><tr><td>10000000</td></tr></tbody></table></div>"
      ]
     },
     "metadata": {
      "application/vnd.databricks.v1+output": {
       "addedWidgets": {},
       "aggData": [],
       "aggError": "",
       "aggOverflow": false,
       "aggSchema": [],
       "aggSeriesLimitReached": false,
       "aggType": "",
       "arguments": {},
       "columnCustomDisplayInfos": {},
       "data": [
        [
         10000000
        ]
       ],
       "datasetInfos": [],
       "dbfsResultPath": null,
       "isJsonSchema": true,
       "metadata": {
        "isDbfsCommandResult": false
       },
       "overflow": false,
       "plotOptions": {
        "customPlotOptions": {},
        "displayType": "table",
        "pivotAggregation": null,
        "pivotColumns": null,
        "xColumns": null,
        "yColumns": null
       },
       "removedWidgets": [],
       "schema": [
        {
         "metadata": "{\"__autoGeneratedAlias\":\"true\"}",
         "name": "count(1)",
         "type": "\"long\""
        }
       ],
       "type": "table"
      }
     },
     "output_type": "display_data"
    }
   ],
   "source": [
    "display(df_people_deep.count())"
   ]
  },
  {
   "cell_type": "code",
   "execution_count": 0,
   "metadata": {
    "application/vnd.databricks.v1+cell": {
     "cellMetadata": {
      "byteLimit": 2048000,
      "rowLimit": 10000
     },
     "inputWidgets": {},
     "nuid": "69173599-4fb3-4d2d-98b3-4c3397460f02",
     "showTitle": false,
     "title": ""
    }
   },
   "outputs": [
    {
     "output_type": "display_data",
     "data": {
      "text/html": [
       "<style scoped>\n",
       "  .table-result-container {\n",
       "    max-height: 300px;\n",
       "    overflow: auto;\n",
       "  }\n",
       "  table, th, td {\n",
       "    border: 1px solid black;\n",
       "    border-collapse: collapse;\n",
       "  }\n",
       "  th, td {\n",
       "    padding: 5px;\n",
       "  }\n",
       "  th {\n",
       "    text-align: left;\n",
       "  }\n",
       "</style><div class='table-result-container'><table class='table-result'><thead style='background-color: white'><tr><th>version</th><th>timestamp</th><th>userId</th><th>userName</th><th>operation</th><th>operationParameters</th><th>job</th><th>notebook</th><th>clusterId</th><th>readVersion</th><th>isolationLevel</th><th>isBlindAppend</th><th>operationMetrics</th><th>userMetadata</th><th>engineInfo</th></tr></thead><tbody><tr><td>5</td><td>2023-09-14T01:08:58.000+0000</td><td>2657276046068378</td><td>vitojon@outlook.com</td><td>DELETE</td><td>Map(predicate -> [\"(birthDate#5324 >= 2000-01-01 00:00:00)\"])</td><td>null</td><td>List(4008888185532145)</td><td>0913-194424-ztitdjd5</td><td>4</td><td>WriteSerializable</td><td>false</td><td>Map(numRemovedFiles -> 4, numRemovedBytes -> 236570589, numCopiedRows -> 9983242, numDeletionVectorsAdded -> 0, numDeletionVectorsRemoved -> 0, numAddedChangeFiles -> 0, executionTimeMs -> 15373, numDeletedRows -> 16758, scanTimeMs -> 1388, numAddedFiles -> 4, numAddedBytes -> 236178358, rewriteTimeMs -> 13975)</td><td>null</td><td>Databricks-Runtime/12.2.x-scala2.12</td></tr><tr><td>4</td><td>2023-09-13T20:59:58.000+0000</td><td>2657276046068378</td><td>vitojon@outlook.com</td><td>RESTORE</td><td>Map(version -> 0, timestamp -> null)</td><td>null</td><td>List(639040945428698)</td><td>0913-194424-ztitdjd5</td><td>3</td><td>Serializable</td><td>false</td><td>Map(numRestoredFiles -> 4, removedFilesSize -> 236178357, numRemovedFiles -> 4, restoredFilesSize -> 236570589, numOfFilesAfterRestore -> 4, tableSizeAfterRestore -> 236570589)</td><td>null</td><td>Databricks-Runtime/12.2.x-scala2.12</td></tr><tr><td>3</td><td>2023-09-13T20:59:21.000+0000</td><td>2657276046068378</td><td>vitojon@outlook.com</td><td>DELETE</td><td>Map(predicate -> [\"(birthDate#27008 >= 2000-01-01 00:00:00)\"])</td><td>null</td><td>List(639040945428698)</td><td>0913-194424-ztitdjd5</td><td>2</td><td>WriteSerializable</td><td>false</td><td>Map(numRemovedFiles -> 4, numRemovedBytes -> 236570588, numCopiedRows -> 9983242, numDeletionVectorsAdded -> 0, numDeletionVectorsRemoved -> 0, numAddedChangeFiles -> 0, executionTimeMs -> 15361, numDeletedRows -> 16758, scanTimeMs -> 1049, numAddedFiles -> 4, numAddedBytes -> 236178357, rewriteTimeMs -> 14312)</td><td>null</td><td>Databricks-Runtime/12.2.x-scala2.12</td></tr><tr><td>2</td><td>2023-09-13T20:59:00.000+0000</td><td>2657276046068378</td><td>vitojon@outlook.com</td><td>UPDATE</td><td>Map(predicate -> [\"(gender#26154 = F)\"])</td><td>null</td><td>List(639040945428698)</td><td>0913-194424-ztitdjd5</td><td>1</td><td>WriteSerializable</td><td>false</td><td>Map(numRemovedFiles -> 4, numRemovedBytes -> 236570589, numCopiedRows -> 4812698, numDeletionVectorsAdded -> 0, numDeletionVectorsRemoved -> 0, numAddedChangeFiles -> 0, executionTimeMs -> 15963, scanTimeMs -> 1329, numAddedFiles -> 4, numUpdatedRows -> 5187302, numAddedBytes -> 236570588, rewriteTimeMs -> 14634)</td><td>null</td><td>Databricks-Runtime/12.2.x-scala2.12</td></tr><tr><td>1</td><td>2023-09-13T20:58:42.000+0000</td><td>2657276046068378</td><td>vitojon@outlook.com</td><td>UPDATE</td><td>Map(predicate -> [\"(gender#25338 = M)\"])</td><td>null</td><td>List(639040945428698)</td><td>0913-194424-ztitdjd5</td><td>0</td><td>WriteSerializable</td><td>false</td><td>Map(numRemovedFiles -> 3, numRemovedBytes -> 177167561, numCopiedRows -> 2670016, numDeletionVectorsAdded -> 0, numDeletionVectorsRemoved -> 0, numAddedChangeFiles -> 0, executionTimeMs -> 13510, scanTimeMs -> 1202, numAddedFiles -> 3, numUpdatedRows -> 4812698, numAddedBytes -> 177167561, rewriteTimeMs -> 12307)</td><td>null</td><td>Databricks-Runtime/12.2.x-scala2.12</td></tr><tr><td>0</td><td>2023-09-13T20:58:11.000+0000</td><td>2657276046068378</td><td>vitojon@outlook.com</td><td>CREATE TABLE AS SELECT</td><td>Map(isManaged -> true, description -> null, partitionBy -> [], properties -> {})</td><td>null</td><td>List(639040945428698)</td><td>0913-194424-ztitdjd5</td><td>null</td><td>WriteSerializable</td><td>true</td><td>Map(numFiles -> 4, numOutputRows -> 10000000, numOutputBytes -> 236570589)</td><td>null</td><td>Databricks-Runtime/12.2.x-scala2.12</td></tr></tbody></table></div>"
      ]
     },
     "metadata": {
      "application/vnd.databricks.v1+output": {
       "addedWidgets": {},
       "aggData": [],
       "aggError": "",
       "aggOverflow": false,
       "aggSchema": [],
       "aggSeriesLimitReached": false,
       "aggType": "",
       "arguments": {},
       "columnCustomDisplayInfos": {},
       "data": [
        [
         5,
         "2023-09-14T01:08:58.000+0000",
         "2657276046068378",
         "vitojon@outlook.com",
         "DELETE",
         {
          "predicate": "[\"(birthDate#5324 >= 2000-01-01 00:00:00)\"]"
         },
         null,
         [
          "4008888185532145"
         ],
         "0913-194424-ztitdjd5",
         4,
         "WriteSerializable",
         false,
         {
          "executionTimeMs": "15373",
          "numAddedBytes": "236178358",
          "numAddedChangeFiles": "0",
          "numAddedFiles": "4",
          "numCopiedRows": "9983242",
          "numDeletedRows": "16758",
          "numDeletionVectorsAdded": "0",
          "numDeletionVectorsRemoved": "0",
          "numRemovedBytes": "236570589",
          "numRemovedFiles": "4",
          "rewriteTimeMs": "13975",
          "scanTimeMs": "1388"
         },
         null,
         "Databricks-Runtime/12.2.x-scala2.12"
        ],
        [
         4,
         "2023-09-13T20:59:58.000+0000",
         "2657276046068378",
         "vitojon@outlook.com",
         "RESTORE",
         {
          "timestamp": null,
          "version": "0"
         },
         null,
         [
          "639040945428698"
         ],
         "0913-194424-ztitdjd5",
         3,
         "Serializable",
         false,
         {
          "numOfFilesAfterRestore": "4",
          "numRemovedFiles": "4",
          "numRestoredFiles": "4",
          "removedFilesSize": "236178357",
          "restoredFilesSize": "236570589",
          "tableSizeAfterRestore": "236570589"
         },
         null,
         "Databricks-Runtime/12.2.x-scala2.12"
        ],
        [
         3,
         "2023-09-13T20:59:21.000+0000",
         "2657276046068378",
         "vitojon@outlook.com",
         "DELETE",
         {
          "predicate": "[\"(birthDate#27008 >= 2000-01-01 00:00:00)\"]"
         },
         null,
         [
          "639040945428698"
         ],
         "0913-194424-ztitdjd5",
         2,
         "WriteSerializable",
         false,
         {
          "executionTimeMs": "15361",
          "numAddedBytes": "236178357",
          "numAddedChangeFiles": "0",
          "numAddedFiles": "4",
          "numCopiedRows": "9983242",
          "numDeletedRows": "16758",
          "numDeletionVectorsAdded": "0",
          "numDeletionVectorsRemoved": "0",
          "numRemovedBytes": "236570588",
          "numRemovedFiles": "4",
          "rewriteTimeMs": "14312",
          "scanTimeMs": "1049"
         },
         null,
         "Databricks-Runtime/12.2.x-scala2.12"
        ],
        [
         2,
         "2023-09-13T20:59:00.000+0000",
         "2657276046068378",
         "vitojon@outlook.com",
         "UPDATE",
         {
          "predicate": "[\"(gender#26154 = F)\"]"
         },
         null,
         [
          "639040945428698"
         ],
         "0913-194424-ztitdjd5",
         1,
         "WriteSerializable",
         false,
         {
          "executionTimeMs": "15963",
          "numAddedBytes": "236570588",
          "numAddedChangeFiles": "0",
          "numAddedFiles": "4",
          "numCopiedRows": "4812698",
          "numDeletionVectorsAdded": "0",
          "numDeletionVectorsRemoved": "0",
          "numRemovedBytes": "236570589",
          "numRemovedFiles": "4",
          "numUpdatedRows": "5187302",
          "rewriteTimeMs": "14634",
          "scanTimeMs": "1329"
         },
         null,
         "Databricks-Runtime/12.2.x-scala2.12"
        ],
        [
         1,
         "2023-09-13T20:58:42.000+0000",
         "2657276046068378",
         "vitojon@outlook.com",
         "UPDATE",
         {
          "predicate": "[\"(gender#25338 = M)\"]"
         },
         null,
         [
          "639040945428698"
         ],
         "0913-194424-ztitdjd5",
         0,
         "WriteSerializable",
         false,
         {
          "executionTimeMs": "13510",
          "numAddedBytes": "177167561",
          "numAddedChangeFiles": "0",
          "numAddedFiles": "3",
          "numCopiedRows": "2670016",
          "numDeletionVectorsAdded": "0",
          "numDeletionVectorsRemoved": "0",
          "numRemovedBytes": "177167561",
          "numRemovedFiles": "3",
          "numUpdatedRows": "4812698",
          "rewriteTimeMs": "12307",
          "scanTimeMs": "1202"
         },
         null,
         "Databricks-Runtime/12.2.x-scala2.12"
        ],
        [
         0,
         "2023-09-13T20:58:11.000+0000",
         "2657276046068378",
         "vitojon@outlook.com",
         "CREATE TABLE AS SELECT",
         {
          "description": null,
          "isManaged": "true",
          "partitionBy": "[]",
          "properties": "{}"
         },
         null,
         [
          "639040945428698"
         ],
         "0913-194424-ztitdjd5",
         null,
         "WriteSerializable",
         true,
         {
          "numFiles": "4",
          "numOutputBytes": "236570589",
          "numOutputRows": "10000000"
         },
         null,
         "Databricks-Runtime/12.2.x-scala2.12"
        ]
       ],
       "datasetInfos": [],
       "dbfsResultPath": null,
       "isJsonSchema": true,
       "metadata": {
        "isDbfsCommandResult": false
       },
       "overflow": false,
       "plotOptions": {
        "customPlotOptions": {},
        "displayType": "table",
        "pivotAggregation": null,
        "pivotColumns": null,
        "xColumns": null,
        "yColumns": null
       },
       "removedWidgets": [],
       "schema": [
        {
         "metadata": "{}",
         "name": "version",
         "type": "\"long\""
        },
        {
         "metadata": "{}",
         "name": "timestamp",
         "type": "\"timestamp\""
        },
        {
         "metadata": "{}",
         "name": "userId",
         "type": "\"string\""
        },
        {
         "metadata": "{}",
         "name": "userName",
         "type": "\"string\""
        },
        {
         "metadata": "{}",
         "name": "operation",
         "type": "\"string\""
        },
        {
         "metadata": "{}",
         "name": "operationParameters",
         "type": "{\"type\":\"map\",\"keyType\":\"string\",\"valueType\":\"string\",\"valueContainsNull\":true}"
        },
        {
         "metadata": "{}",
         "name": "job",
         "type": "{\"type\":\"struct\",\"fields\":[{\"name\":\"jobId\",\"type\":\"string\",\"nullable\":true,\"metadata\":{}},{\"name\":\"jobName\",\"type\":\"string\",\"nullable\":true,\"metadata\":{}},{\"name\":\"jobRunId\",\"type\":\"string\",\"nullable\":true,\"metadata\":{}},{\"name\":\"runId\",\"type\":\"string\",\"nullable\":true,\"metadata\":{}},{\"name\":\"jobOwnerId\",\"type\":\"string\",\"nullable\":true,\"metadata\":{}},{\"name\":\"triggerType\",\"type\":\"string\",\"nullable\":true,\"metadata\":{}}]}"
        },
        {
         "metadata": "{}",
         "name": "notebook",
         "type": "{\"type\":\"struct\",\"fields\":[{\"name\":\"notebookId\",\"type\":\"string\",\"nullable\":true,\"metadata\":{}}]}"
        },
        {
         "metadata": "{}",
         "name": "clusterId",
         "type": "\"string\""
        },
        {
         "metadata": "{}",
         "name": "readVersion",
         "type": "\"long\""
        },
        {
         "metadata": "{}",
         "name": "isolationLevel",
         "type": "\"string\""
        },
        {
         "metadata": "{}",
         "name": "isBlindAppend",
         "type": "\"boolean\""
        },
        {
         "metadata": "{}",
         "name": "operationMetrics",
         "type": "{\"type\":\"map\",\"keyType\":\"string\",\"valueType\":\"string\",\"valueContainsNull\":true}"
        },
        {
         "metadata": "{}",
         "name": "userMetadata",
         "type": "\"string\""
        },
        {
         "metadata": "{}",
         "name": "engineInfo",
         "type": "\"string\""
        }
       ],
       "type": "table"
      }
     },
     "output_type": "display_data"
    }
   ],
   "source": [
    "display(df_people_deep.history())"
   ]
  },
  {
   "cell_type": "code",
   "execution_count": 0,
   "metadata": {
    "application/vnd.databricks.v1+cell": {
     "cellMetadata": {
      "byteLimit": 2048000,
      "rowLimit": 10000
     },
     "inputWidgets": {},
     "nuid": "8da82d37-89f6-46ba-8525-34bad1dfc737",
     "showTitle": false,
     "title": ""
    }
   },
   "outputs": [
    {
     "output_type": "display_data",
     "data": {
      "text/html": [
       "<style scoped>\n",
       "  .table-result-container {\n",
       "    max-height: 300px;\n",
       "    overflow: auto;\n",
       "  }\n",
       "  table, th, td {\n",
       "    border: 1px solid black;\n",
       "    border-collapse: collapse;\n",
       "  }\n",
       "  th, td {\n",
       "    padding: 5px;\n",
       "  }\n",
       "  th {\n",
       "    text-align: left;\n",
       "  }\n",
       "</style><div class='table-result-container'><table class='table-result'><thead style='background-color: white'><tr><th>table_size_after_restore</th><th>num_of_files_after_restore</th><th>num_removed_files</th><th>num_restored_files</th><th>removed_files_size</th><th>restored_files_size</th></tr></thead><tbody><tr><td>236570589</td><td>4</td><td>4</td><td>4</td><td>236178358</td><td>236570589</td></tr></tbody></table></div>"
      ]
     },
     "metadata": {
      "application/vnd.databricks.v1+output": {
       "addedWidgets": {},
       "aggData": [],
       "aggError": "",
       "aggOverflow": false,
       "aggSchema": [],
       "aggSeriesLimitReached": false,
       "aggType": "",
       "arguments": {},
       "columnCustomDisplayInfos": {},
       "data": [
        [
         236570589,
         4,
         4,
         4,
         236178358,
         236570589
        ]
       ],
       "datasetInfos": [],
       "dbfsResultPath": null,
       "isJsonSchema": true,
       "metadata": {
        "isDbfsCommandResult": false
       },
       "overflow": false,
       "plotOptions": {
        "customPlotOptions": {},
        "displayType": "table",
        "pivotAggregation": null,
        "pivotColumns": null,
        "xColumns": null,
        "yColumns": null
       },
       "removedWidgets": [],
       "schema": [
        {
         "metadata": "{}",
         "name": "table_size_after_restore",
         "type": "\"long\""
        },
        {
         "metadata": "{}",
         "name": "num_of_files_after_restore",
         "type": "\"long\""
        },
        {
         "metadata": "{}",
         "name": "num_removed_files",
         "type": "\"long\""
        },
        {
         "metadata": "{}",
         "name": "num_restored_files",
         "type": "\"long\""
        },
        {
         "metadata": "{}",
         "name": "removed_files_size",
         "type": "\"long\""
        },
        {
         "metadata": "{}",
         "name": "restored_files_size",
         "type": "\"long\""
        }
       ],
       "type": "table"
      }
     },
     "output_type": "display_data"
    }
   ],
   "source": [
    "df_people.restoreToVersion(0)"
   ]
  },
  {
   "cell_type": "code",
   "execution_count": 0,
   "metadata": {
    "application/vnd.databricks.v1+cell": {
     "cellMetadata": {
      "byteLimit": 2048000,
      "rowLimit": 10000
     },
     "inputWidgets": {},
     "nuid": "75a07ab5-cf48-470f-831f-d81512add9b2",
     "showTitle": false,
     "title": ""
    }
   },
   "outputs": [
    {
     "output_type": "display_data",
     "data": {
      "text/html": [
       "<style scoped>\n",
       "  .table-result-container {\n",
       "    max-height: 300px;\n",
       "    overflow: auto;\n",
       "  }\n",
       "  table, th, td {\n",
       "    border: 1px solid black;\n",
       "    border-collapse: collapse;\n",
       "  }\n",
       "  th, td {\n",
       "    padding: 5px;\n",
       "  }\n",
       "  th {\n",
       "    text-align: left;\n",
       "  }\n",
       "</style><div class='table-result-container'><table class='table-result'><thead style='background-color: white'><tr><th>count(1)</th></tr></thead><tbody><tr><td>10000000</td></tr></tbody></table></div>"
      ]
     },
     "metadata": {
      "application/vnd.databricks.v1+output": {
       "addedWidgets": {},
       "aggData": [],
       "aggError": "",
       "aggOverflow": false,
       "aggSchema": [],
       "aggSeriesLimitReached": false,
       "aggType": "",
       "arguments": {},
       "columnCustomDisplayInfos": {},
       "data": [
        [
         10000000
        ]
       ],
       "datasetInfos": [],
       "dbfsResultPath": null,
       "isJsonSchema": true,
       "metadata": {
        "isDbfsCommandResult": false
       },
       "overflow": false,
       "plotOptions": {
        "customPlotOptions": {},
        "displayType": "table",
        "pivotAggregation": null,
        "pivotColumns": null,
        "xColumns": null,
        "yColumns": null
       },
       "removedWidgets": [],
       "schema": [
        {
         "metadata": "{\"__autoGeneratedAlias\":\"true\"}",
         "name": "count(1)",
         "type": "\"long\""
        }
       ],
       "type": "table"
      }
     },
     "output_type": "display_data"
    }
   ],
   "source": [
    "display(df_people.count())"
   ]
  },
  {
   "cell_type": "markdown",
   "metadata": {
    "application/vnd.databricks.v1+cell": {
     "cellMetadata": {},
     "inputWidgets": {},
     "nuid": "05df84a6-8ccb-4c07-b680-33ab47a24ce3",
     "showTitle": false,
     "title": ""
    }
   },
   "source": [
    "#### To enable a duration out of the minimum allowed (168h / 1week) you can set:\n",
    "`spark.databricks.delta.retentionDurationCheck.enabled false`\n",
    "as parameter settings on your cluster."
   ]
  },
  {
   "cell_type": "code",
   "execution_count": 0,
   "metadata": {
    "application/vnd.databricks.v1+cell": {
     "cellMetadata": {
      "byteLimit": 2048000,
      "rowLimit": 10000
     },
     "inputWidgets": {},
     "nuid": "2c49141c-38fa-4a5a-92e7-1747d827ff3a",
     "showTitle": false,
     "title": ""
    }
   },
   "outputs": [
    {
     "output_type": "display_data",
     "data": {
      "text/html": [
       "<style scoped>\n",
       "  .table-result-container {\n",
       "    max-height: 300px;\n",
       "    overflow: auto;\n",
       "  }\n",
       "  table, th, td {\n",
       "    border: 1px solid black;\n",
       "    border-collapse: collapse;\n",
       "  }\n",
       "  th, td {\n",
       "    padding: 5px;\n",
       "  }\n",
       "  th {\n",
       "    text-align: left;\n",
       "  }\n",
       "</style><div class='table-result-container'><table class='table-result'><thead style='background-color: white'><tr><th>path</th></tr></thead><tbody><tr><td>dbfs:/user/hive/warehouse/people_10millions</td></tr></tbody></table></div>"
      ]
     },
     "metadata": {
      "application/vnd.databricks.v1+output": {
       "addedWidgets": {},
       "aggData": [],
       "aggError": "",
       "aggOverflow": false,
       "aggSchema": [],
       "aggSeriesLimitReached": false,
       "aggType": "",
       "arguments": {},
       "columnCustomDisplayInfos": {},
       "data": [
        [
         "dbfs:/user/hive/warehouse/people_10millions"
        ]
       ],
       "datasetInfos": [],
       "dbfsResultPath": null,
       "isJsonSchema": true,
       "metadata": {
        "isDbfsCommandResult": false
       },
       "overflow": false,
       "plotOptions": {
        "customPlotOptions": {},
        "displayType": "table",
        "pivotAggregation": null,
        "pivotColumns": null,
        "xColumns": null,
        "yColumns": null
       },
       "removedWidgets": [],
       "schema": [
        {
         "metadata": "{}",
         "name": "path",
         "type": "\"string\""
        }
       ],
       "type": "table"
      }
     },
     "output_type": "display_data"
    }
   ],
   "source": [
    "df_people.vacuum(0)"
   ]
  },
  {
   "cell_type": "code",
   "execution_count": 0,
   "metadata": {
    "application/vnd.databricks.v1+cell": {
     "cellMetadata": {
      "byteLimit": 2048000,
      "rowLimit": 10000
     },
     "inputWidgets": {},
     "nuid": "75adfd6e-a409-4e93-b19d-84de74e4b090",
     "showTitle": false,
     "title": ""
    }
   },
   "outputs": [
    {
     "output_type": "display_data",
     "data": {
      "text/html": [
       "<style scoped>\n",
       "  .table-result-container {\n",
       "    max-height: 300px;\n",
       "    overflow: auto;\n",
       "  }\n",
       "  table, th, td {\n",
       "    border: 1px solid black;\n",
       "    border-collapse: collapse;\n",
       "  }\n",
       "  th, td {\n",
       "    padding: 5px;\n",
       "  }\n",
       "  th {\n",
       "    text-align: left;\n",
       "  }\n",
       "</style><div class='table-result-container'><table class='table-result'><thead style='background-color: white'><tr><th>source_table_size</th><th>source_num_of_files</th><th>num_removed_files</th><th>num_copied_files</th><th>removed_files_size</th><th>copied_files_size</th></tr></thead><tbody><tr><td>236570589</td><td>4</td><td>0</td><td>4</td><td>0</td><td>236570589</td></tr></tbody></table></div>"
      ]
     },
     "metadata": {
      "application/vnd.databricks.v1+output": {
       "addedWidgets": {},
       "aggData": [],
       "aggError": "",
       "aggOverflow": false,
       "aggSchema": [],
       "aggSeriesLimitReached": false,
       "aggType": "",
       "arguments": {},
       "columnCustomDisplayInfos": {},
       "data": [
        [
         236570589,
         4,
         0,
         4,
         0,
         236570589
        ]
       ],
       "datasetInfos": [],
       "dbfsResultPath": null,
       "isJsonSchema": true,
       "metadata": {
        "isDbfsCommandResult": false
       },
       "overflow": false,
       "plotOptions": {
        "customPlotOptions": {},
        "displayType": "table",
        "pivotAggregation": null,
        "pivotColumns": null,
        "xColumns": null,
        "yColumns": null
       },
       "removedWidgets": [],
       "schema": [
        {
         "metadata": "{}",
         "name": "source_table_size",
         "type": "\"long\""
        },
        {
         "metadata": "{}",
         "name": "source_num_of_files",
         "type": "\"long\""
        },
        {
         "metadata": "{}",
         "name": "num_removed_files",
         "type": "\"long\""
        },
        {
         "metadata": "{}",
         "name": "num_copied_files",
         "type": "\"long\""
        },
        {
         "metadata": "{}",
         "name": "removed_files_size",
         "type": "\"long\""
        },
        {
         "metadata": "{}",
         "name": "copied_files_size",
         "type": "\"long\""
        }
       ],
       "type": "table"
      }
     },
     "output_type": "display_data"
    }
   ],
   "source": [
    "df_people.clone(\"dbfs://hive_to_uc_sync/people_deep_clone\", isShallow = False, replace)"
   ]
  },
  {
   "cell_type": "code",
   "execution_count": 0,
   "metadata": {
    "application/vnd.databricks.v1+cell": {
     "cellMetadata": {
      "byteLimit": 2048000,
      "rowLimit": 10000
     },
     "inputWidgets": {},
     "nuid": "5b1676d6-7969-47ce-af17-cb3e65b9054b",
     "showTitle": false,
     "title": ""
    }
   },
   "outputs": [
    {
     "output_type": "display_data",
     "data": {
      "text/html": [
       "<style scoped>\n",
       "  .table-result-container {\n",
       "    max-height: 300px;\n",
       "    overflow: auto;\n",
       "  }\n",
       "  table, th, td {\n",
       "    border: 1px solid black;\n",
       "    border-collapse: collapse;\n",
       "  }\n",
       "  th, td {\n",
       "    padding: 5px;\n",
       "  }\n",
       "  th {\n",
       "    text-align: left;\n",
       "  }\n",
       "</style><div class='table-result-container'><table class='table-result'><thead style='background-color: white'><tr><th>source_table_size</th><th>source_num_of_files</th><th>num_removed_files</th><th>num_copied_files</th><th>removed_files_size</th><th>copied_files_size</th></tr></thead><tbody><tr><td>26853</td><td>1</td><td>0</td><td>1</td><td>0</td><td>26853</td></tr></tbody></table></div>"
      ]
     },
     "metadata": {
      "application/vnd.databricks.v1+output": {
       "addedWidgets": {},
       "aggData": [],
       "aggError": "",
       "aggOverflow": false,
       "aggSchema": [],
       "aggSeriesLimitReached": false,
       "aggType": "",
       "arguments": {},
       "columnCustomDisplayInfos": {},
       "data": [
        [
         26853,
         1,
         0,
         1,
         0,
         26853
        ]
       ],
       "datasetInfos": [],
       "dbfsResultPath": null,
       "isJsonSchema": true,
       "metadata": {
        "isDbfsCommandResult": false
       },
       "overflow": false,
       "plotOptions": {
        "customPlotOptions": {},
        "displayType": "table",
        "pivotAggregation": null,
        "pivotColumns": null,
        "xColumns": null,
        "yColumns": null
       },
       "removedWidgets": [],
       "schema": [
        {
         "metadata": "{}",
         "name": "source_table_size",
         "type": "\"long\""
        },
        {
         "metadata": "{}",
         "name": "source_num_of_files",
         "type": "\"long\""
        },
        {
         "metadata": "{}",
         "name": "num_removed_files",
         "type": "\"long\""
        },
        {
         "metadata": "{}",
         "name": "num_copied_files",
         "type": "\"long\""
        },
        {
         "metadata": "{}",
         "name": "removed_files_size",
         "type": "\"long\""
        },
        {
         "metadata": "{}",
         "name": "copied_files_size",
         "type": "\"long\""
        }
       ],
       "type": "table"
      }
     },
     "output_type": "display_data"
    }
   ],
   "source": [
    "df_titanic = spark.read.table(\"default.titanic_clean\")\n",
    "df_titanic.clone(\"dbfs://hive_to_uc_sync/titanic_clean\", isShallow = False, replace)"
   ]
  },
  {
   "cell_type": "code",
   "execution_count": 0,
   "metadata": {
    "application/vnd.databricks.v1+cell": {
     "cellMetadata": {
      "byteLimit": 2048000,
      "rowLimit": 10000
     },
     "inputWidgets": {},
     "nuid": "548e5f4f-f95f-40f9-9c43-c39593c294d5",
     "showTitle": false,
     "title": ""
    }
   },
   "outputs": [
    {
     "output_type": "display_data",
     "data": {
      "text/html": [
       "<style scoped>\n",
       "  .table-result-container {\n",
       "    max-height: 300px;\n",
       "    overflow: auto;\n",
       "  }\n",
       "  table, th, td {\n",
       "    border: 1px solid black;\n",
       "    border-collapse: collapse;\n",
       "  }\n",
       "  th, td {\n",
       "    padding: 5px;\n",
       "  }\n",
       "  th {\n",
       "    text-align: left;\n",
       "  }\n",
       "</style><div class='table-result-container'><table class='table-result'><thead style='background-color: white'><tr><th>source_table_size</th><th>source_num_of_files</th><th>num_removed_files</th><th>num_copied_files</th><th>removed_files_size</th><th>copied_files_size</th></tr></thead><tbody><tr><td>15030736</td><td>4</td><td>0</td><td>4</td><td>0</td><td>15030736</td></tr></tbody></table></div>"
      ]
     },
     "metadata": {
      "application/vnd.databricks.v1+output": {
       "addedWidgets": {},
       "aggData": [],
       "aggError": "",
       "aggOverflow": false,
       "aggSchema": [],
       "aggSeriesLimitReached": false,
       "aggType": "",
       "arguments": {},
       "columnCustomDisplayInfos": {},
       "data": [
        [
         15030736,
         4,
         0,
         4,
         0,
         15030736
        ]
       ],
       "datasetInfos": [],
       "dbfsResultPath": null,
       "isJsonSchema": true,
       "metadata": {
        "isDbfsCommandResult": false
       },
       "overflow": false,
       "plotOptions": {
        "customPlotOptions": {},
        "displayType": "table",
        "pivotAggregation": null,
        "pivotColumns": null,
        "xColumns": null,
        "yColumns": null
       },
       "removedWidgets": [],
       "schema": [
        {
         "metadata": "{}",
         "name": "source_table_size",
         "type": "\"long\""
        },
        {
         "metadata": "{}",
         "name": "source_num_of_files",
         "type": "\"long\""
        },
        {
         "metadata": "{}",
         "name": "num_removed_files",
         "type": "\"long\""
        },
        {
         "metadata": "{}",
         "name": "num_copied_files",
         "type": "\"long\""
        },
        {
         "metadata": "{}",
         "name": "removed_files_size",
         "type": "\"long\""
        },
        {
         "metadata": "{}",
         "name": "copied_files_size",
         "type": "\"long\""
        }
       ],
       "type": "table"
      }
     },
     "output_type": "display_data"
    }
   ],
   "source": [
    "df_titanic = spark.read.table(\"default.remuneracao_day\")\n",
    "df_remuneracao_day.clone(\"dbfs://hive_to_uc_sync/remuneracao_day\", isShallow = False, replace)"
   ]
  },
  {
   "cell_type": "markdown",
   "metadata": {
    "application/vnd.databricks.v1+cell": {
     "cellMetadata": {},
     "inputWidgets": {},
     "nuid": "1adefb60-d1e7-47f8-9f49-cb9091166f60",
     "showTitle": false,
     "title": ""
    }
   },
   "source": [
    "## Dealing with Dynamic Views"
   ]
  },
  {
   "cell_type": "code",
   "execution_count": 0,
   "metadata": {
    "application/vnd.databricks.v1+cell": {
     "cellMetadata": {
      "byteLimit": 2048000,
      "rowLimit": 10000
     },
     "inputWidgets": {},
     "nuid": "b1530304-7fda-4b43-9122-4344520a039f",
     "showTitle": false,
     "title": ""
    }
   },
   "outputs": [
    {
     "output_type": "display_data",
     "data": {
      "text/html": [
       "<style scoped>\n",
       "  .table-result-container {\n",
       "    max-height: 300px;\n",
       "    overflow: auto;\n",
       "  }\n",
       "  table, th, td {\n",
       "    border: 1px solid black;\n",
       "    border-collapse: collapse;\n",
       "  }\n",
       "  th, td {\n",
       "    padding: 5px;\n",
       "  }\n",
       "  th {\n",
       "    text-align: left;\n",
       "  }\n",
       "</style><div class='table-result-container'><table class='table-result'><thead style='background-color: white'><tr><th>nome</th><th>cpf</th><th>orgao</th><th>cargo</th><th>funcao</th><th>situacao</th><th>mes</th><th>ano</th><th>codigo_do_orgao</th><th>matricula</th><th>remuneracao_basica</th><th>beneficios</th><th>valor_das_funcoes</th><th>comissao_conselheiro</th><th>hora_extra</th><th>verbas_eventuais</th><th>verbas_judiciais</th><th>descontos_a_maior</th><th>licenca_premio</th><th>irrf</th><th>seguridade_social</th><th>teto_redutor</th><th>outros_recebimentos</th><th>outros_descontos_obrigatorios</th><th>pagamento_a_maior</th><th>bruto</th><th>liquido</th></tr></thead><tbody><tr><td>EDMUNDO BARBOSA DE FREITAS</td><td>***898181**</td><td>BRB-BANCO DE BRASILIA S.A.</td><td>ESCRITUR�RIO</td><td>CAIXA BANC�RIO</td><td>AFASTADO/ABONO ASSIDUIDADE</td><td>6</td><td>2022</td><td>300001</td><td>1569</td><td>6111,26</td><td>1895,30</td><td>1284,59</td><td>,00</td><td>,00</td><td>7941,15</td><td>,00</td><td>,00</td><td>,00</td><td>8509,87</td><td>4193,59</td><td>,00</td><td>,00</td><td>,00</td><td>,00</td><td>17232,30</td><td>4528,84</td></tr><tr><td>CLEUSA MARIA DE CAMPOS MORAIS</td><td>***939691**</td><td>BRB-BANCO DE BRASILIA S.A.</td><td>ESCRITUR�RIO</td><td>null</td><td>AFASTADO/ABONO ASSIDUIDADE</td><td>6</td><td>2022</td><td>300001</td><td>1877</td><td>11763,12</td><td>1895,30</td><td>,00</td><td>,00</td><td>,00</td><td>,00</td><td>,00</td><td>,00</td><td>,00</td><td>1742,28</td><td>2579,98</td><td>,00</td><td>,00</td><td>,00</td><td>,00</td><td>13658,42</td><td>9336,16</td></tr><tr><td>DIVINO CARLOS SEROZINO</td><td>***730581**</td><td>BRB-BANCO DE BRASILIA S.A.</td><td>ESCRITUR�RIO</td><td>CAIXA BANC�RIO</td><td>AFASTADO/ABONO ASSIDUIDADE</td><td>6</td><td>2022</td><td>300001</td><td>2485</td><td>14770,48</td><td>1895,30</td><td>3853,77</td><td>,00</td><td>,00</td><td>,00</td><td>,00</td><td>,00</td><td>,00</td><td>3436,61</td><td>3262,64</td><td>,00</td><td>,00</td><td>,00</td><td>,00</td><td>20519,55</td><td>13820,30</td></tr><tr><td>ADEMILSON CARNEIRO</td><td>***749601**</td><td>BRB-BANCO DE BRASILIA S.A.</td><td>ESCRITUR�RIO</td><td>null</td><td>AFASTADO/ABONO ASSIDUIDADE</td><td>6</td><td>2022</td><td>300001</td><td>3264</td><td>17955,43</td><td>1995,20</td><td>,00</td><td>,00</td><td>,00</td><td>,00</td><td>,00</td><td>,00</td><td>,00</td><td>3304,07</td><td>3429,73</td><td>,00</td><td>,00</td><td>,00</td><td>,00</td><td>19950,63</td><td>13216,83</td></tr><tr><td>ANA MARIA NOGUEIRA</td><td>***040221**</td><td>BRB-BANCO DE BRASILIA S.A.</td><td>ESCRITUR�RIO</td><td>null</td><td>AFASTADO/ABONO ASSIDUIDADE</td><td>6</td><td>2022</td><td>300001</td><td>4674</td><td>9204,04</td><td>1895,30</td><td>,00</td><td>,00</td><td>,00</td><td>,00</td><td>,00</td><td>,00</td><td>,00</td><td>1228,66</td><td>1871,80</td><td>,00</td><td>,00</td><td>,00</td><td>,00</td><td>11099,34</td><td>7998,88</td></tr></tbody></table></div>"
      ]
     },
     "metadata": {
      "application/vnd.databricks.v1+output": {
       "addedWidgets": {},
       "aggData": [],
       "aggError": "",
       "aggOverflow": false,
       "aggSchema": [],
       "aggSeriesLimitReached": false,
       "aggType": "",
       "arguments": {},
       "columnCustomDisplayInfos": {},
       "data": [
        [
         "EDMUNDO BARBOSA DE FREITAS",
         "***898181**",
         "BRB-BANCO DE BRASILIA S.A.",
         "ESCRITUR�RIO",
         "CAIXA BANC�RIO",
         "AFASTADO/ABONO ASSIDUIDADE",
         6,
         2022,
         300001,
         "1569",
         "6111,26",
         "1895,30",
         "1284,59",
         ",00",
         ",00",
         "7941,15",
         ",00",
         ",00",
         ",00",
         "8509,87",
         "4193,59",
         ",00",
         ",00",
         ",00",
         ",00",
         "17232,30",
         "4528,84"
        ],
        [
         "CLEUSA MARIA DE CAMPOS MORAIS",
         "***939691**",
         "BRB-BANCO DE BRASILIA S.A.",
         "ESCRITUR�RIO",
         null,
         "AFASTADO/ABONO ASSIDUIDADE",
         6,
         2022,
         300001,
         "1877",
         "11763,12",
         "1895,30",
         ",00",
         ",00",
         ",00",
         ",00",
         ",00",
         ",00",
         ",00",
         "1742,28",
         "2579,98",
         ",00",
         ",00",
         ",00",
         ",00",
         "13658,42",
         "9336,16"
        ],
        [
         "DIVINO CARLOS SEROZINO",
         "***730581**",
         "BRB-BANCO DE BRASILIA S.A.",
         "ESCRITUR�RIO",
         "CAIXA BANC�RIO",
         "AFASTADO/ABONO ASSIDUIDADE",
         6,
         2022,
         300001,
         "2485",
         "14770,48",
         "1895,30",
         "3853,77",
         ",00",
         ",00",
         ",00",
         ",00",
         ",00",
         ",00",
         "3436,61",
         "3262,64",
         ",00",
         ",00",
         ",00",
         ",00",
         "20519,55",
         "13820,30"
        ],
        [
         "ADEMILSON CARNEIRO",
         "***749601**",
         "BRB-BANCO DE BRASILIA S.A.",
         "ESCRITUR�RIO",
         null,
         "AFASTADO/ABONO ASSIDUIDADE",
         6,
         2022,
         300001,
         "3264",
         "17955,43",
         "1995,20",
         ",00",
         ",00",
         ",00",
         ",00",
         ",00",
         ",00",
         ",00",
         "3304,07",
         "3429,73",
         ",00",
         ",00",
         ",00",
         ",00",
         "19950,63",
         "13216,83"
        ],
        [
         "ANA MARIA NOGUEIRA",
         "***040221**",
         "BRB-BANCO DE BRASILIA S.A.",
         "ESCRITUR�RIO",
         null,
         "AFASTADO/ABONO ASSIDUIDADE",
         6,
         2022,
         300001,
         "4674",
         "9204,04",
         "1895,30",
         ",00",
         ",00",
         ",00",
         ",00",
         ",00",
         ",00",
         ",00",
         "1228,66",
         "1871,80",
         ",00",
         ",00",
         ",00",
         ",00",
         "11099,34",
         "7998,88"
        ]
       ],
       "datasetInfos": [],
       "dbfsResultPath": null,
       "isJsonSchema": true,
       "metadata": {
        "isDbfsCommandResult": false
       },
       "overflow": false,
       "plotOptions": {
        "customPlotOptions": {},
        "displayType": "table",
        "pivotAggregation": null,
        "pivotColumns": null,
        "xColumns": null,
        "yColumns": null
       },
       "removedWidgets": [],
       "schema": [
        {
         "metadata": "{\"comment\":\"NOME COMPLETO DO SERVIDOR\"}",
         "name": "nome",
         "type": "\"string\""
        },
        {
         "metadata": "{\"comment\":\"Nº DO CADASTRO DE PESSOA FÍSICA MASCARADO\"}",
         "name": "cpf",
         "type": "\"string\""
        },
        {
         "metadata": "{\"comment\":\"ÓRGÃO VINCULADO AO SERVIDOR\"}",
         "name": "orgao",
         "type": "\"string\""
        },
        {
         "metadata": "{\"comment\":\"POSIÇÃO QUE O SERVIDOR OCUPA NO ÓRGÃO DE FORMA PERMANENTE\"}",
         "name": "cargo",
         "type": "\"string\""
        },
        {
         "metadata": "{\"comment\":\"DESIGNAÇÃO TEMPORÁRIA PARA DESEMPENHO DE DETERMINADAS ATRIBUIÇÕES (CARGO COMISSIONADO)\"}",
         "name": "funcao",
         "type": "\"string\""
        },
        {
         "metadata": "{\"comment\":\"CONDIÇÃO DO SERVIDOR EM RELAÇÃO AO EXERCÍCIO DE SUAS ATIVIDADES\"}",
         "name": "situacao",
         "type": "\"string\""
        },
        {
         "metadata": "{\"comment\":\"MÊS DE REFERÊNCIA\"}",
         "name": "mes",
         "type": "\"integer\""
        },
        {
         "metadata": "{\"comment\":\"ANO DE REFERÊNCIA\"}",
         "name": "ano",
         "type": "\"integer\""
        },
        {
         "metadata": "{\"comment\":\"ÓRGÃO VINCULADO AO SERVIDOR\"}",
         "name": "codigo_do_orgao",
         "type": "\"integer\""
        },
        {
         "metadata": "{\"comment\":\"MATRÍCULA DO SERVIDOR NO ÓRGÃO VINCULADO\"}",
         "name": "matricula",
         "type": "\"string\""
        },
        {
         "metadata": "{\"comment\":\"REMUNERAÇÃO BÁSICA\"}",
         "name": "remuneracao_basica",
         "type": "\"string\""
        },
        {
         "metadata": "{\"comment\":\"VALOR DOS BENEFÍCIOS\"}",
         "name": "beneficios",
         "type": "\"string\""
        },
        {
         "metadata": "{\"comment\":\"VALOR DAS FUNÇÕES\"}",
         "name": "valor_das_funcoes",
         "type": "\"string\""
        },
        {
         "metadata": "{\"comment\":\"COMISSÃO CONSELHEIRO\"}",
         "name": "comissao_conselheiro",
         "type": "\"string\""
        },
        {
         "metadata": "{\"comment\":\"TOTAL DE HORA EXTRA\"}",
         "name": "hora_extra",
         "type": "\"string\""
        },
        {
         "metadata": "{\"comment\":\"VALOR DAS VERBAS EVENTUAIS\"}",
         "name": "verbas_eventuais",
         "type": "\"string\""
        },
        {
         "metadata": "{\"comment\":\"VALOR DAS VERBAS JUDICIAIS\"}",
         "name": "verbas_judiciais",
         "type": "\"string\""
        },
        {
         "metadata": "{\"comment\":\"VALOR DA REPOSIÇÃO DE DESCONTOS A MAIOR\"}",
         "name": "descontos_a_maior",
         "type": "\"string\""
        },
        {
         "metadata": "{\"comment\":\"VALOR DA LICENÇA PRÊMIO\"}",
         "name": "licenca_premio",
         "type": "\"string\""
        },
        {
         "metadata": "{\"comment\":\"VALOR DO DESCONTO DE IMPOSTO DE RENDA RETIDO NA FONTE\"}",
         "name": "irrf",
         "type": "\"string\""
        },
        {
         "metadata": "{\"comment\":\"VALOR DO DESCONTO DE SEGURIDADE SOCIAL\"}",
         "name": "seguridade_social",
         "type": "\"string\""
        },
        {
         "metadata": "{\"comment\":\"VALOR DO DESCONTO DE TETO REDUTOR\"}",
         "name": "teto_redutor",
         "type": "\"string\""
        },
        {
         "metadata": "{\"comment\":\"VALOR DE OUTROS RECEBIMENTOS\"}",
         "name": "outros_recebimentos",
         "type": "\"string\""
        },
        {
         "metadata": "{\"comment\":\"VALOR DE OUTROS DESCONTOS OBRIGATÓRIOS\"}",
         "name": "outros_descontos_obrigatorios",
         "type": "\"string\""
        },
        {
         "metadata": "{\"comment\":\"VALOR DOS DESCONTOS DE PAGAMENTOS A MAIOR\"}",
         "name": "pagamento_a_maior",
         "type": "\"string\""
        },
        {
         "metadata": "{\"comment\":\"VALOR BRUTO DA REMUNERAÇÃO\"}",
         "name": "bruto",
         "type": "\"string\""
        },
        {
         "metadata": "{\"comment\":\"VALOR LÍQUIDO APÓS DESCONTOS OBRIGATÓRIOS\"}",
         "name": "liquido",
         "type": "\"string\""
        }
       ],
       "type": "table"
      }
     },
     "output_type": "display_data"
    }
   ],
   "source": [
    "table_path = \"dbfs://hive_to_uc_sync/remuneracao_day\"\n",
    "df_remuneracao_day = spark.read.load(table_path)\n",
    "display(df_remuneracao_day.limit(5))"
   ]
  },
  {
   "cell_type": "code",
   "execution_count": 0,
   "metadata": {
    "application/vnd.databricks.v1+cell": {
     "cellMetadata": {
      "byteLimit": 2048000,
      "rowLimit": 10000
     },
     "inputWidgets": {},
     "nuid": "82fd1c35-14f3-4b60-a3b5-5564848b617c",
     "showTitle": false,
     "title": ""
    }
   },
   "outputs": [
    {
     "output_type": "display_data",
     "data": {
      "text/html": [
       "<style scoped>\n",
       "  .table-result-container {\n",
       "    max-height: 300px;\n",
       "    overflow: auto;\n",
       "  }\n",
       "  table, th, td {\n",
       "    border: 1px solid black;\n",
       "    border-collapse: collapse;\n",
       "  }\n",
       "  th, td {\n",
       "    padding: 5px;\n",
       "  }\n",
       "  th {\n",
       "    text-align: left;\n",
       "  }\n",
       "</style><div class='table-result-container'><table class='table-result'><thead style='background-color: white'><tr><th>cpf_masked</th><th>cargo</th><th>ano</th><th>bruto</th></tr></thead><tbody><tr><td>***********</td><td>ESCRITUR�RIO</td><td>2022</td><td>17232,30</td></tr><tr><td>***********</td><td>ESCRITUR�RIO</td><td>2022</td><td>13658,42</td></tr><tr><td>***********</td><td>ESCRITUR�RIO</td><td>2022</td><td>20519,55</td></tr><tr><td>***********</td><td>ESCRITUR�RIO</td><td>2022</td><td>19950,63</td></tr><tr><td>***********</td><td>ESCRITUR�RIO</td><td>2022</td><td>11099,34</td></tr><tr><td>***********</td><td>ESCRITUR�RIO</td><td>2022</td><td>7852,95</td></tr><tr><td>***********</td><td>ESCRITUR�RIO</td><td>2022</td><td>13720,87</td></tr><tr><td>***********</td><td>ESCRITUR�RIO</td><td>2022</td><td>24942,78</td></tr><tr><td>***********</td><td>ESCRITUR�RIO</td><td>2022</td><td>11056,50</td></tr><tr><td>***********</td><td>ESCRITUR�RIO</td><td>2022</td><td>15588,54</td></tr></tbody></table></div>"
      ]
     },
     "metadata": {
      "application/vnd.databricks.v1+output": {
       "addedWidgets": {},
       "aggData": [],
       "aggError": "",
       "aggOverflow": false,
       "aggSchema": [],
       "aggSeriesLimitReached": false,
       "aggType": "",
       "arguments": {},
       "columnCustomDisplayInfos": {},
       "data": [
        [
         "***********",
         "ESCRITUR�RIO",
         2022,
         "17232,30"
        ],
        [
         "***********",
         "ESCRITUR�RIO",
         2022,
         "13658,42"
        ],
        [
         "***********",
         "ESCRITUR�RIO",
         2022,
         "20519,55"
        ],
        [
         "***********",
         "ESCRITUR�RIO",
         2022,
         "19950,63"
        ],
        [
         "***********",
         "ESCRITUR�RIO",
         2022,
         "11099,34"
        ],
        [
         "***********",
         "ESCRITUR�RIO",
         2022,
         "7852,95"
        ],
        [
         "***********",
         "ESCRITUR�RIO",
         2022,
         "13720,87"
        ],
        [
         "***********",
         "ESCRITUR�RIO",
         2022,
         "24942,78"
        ],
        [
         "***********",
         "ESCRITUR�RIO",
         2022,
         "11056,50"
        ],
        [
         "***********",
         "ESCRITUR�RIO",
         2022,
         "15588,54"
        ]
       ],
       "datasetInfos": [],
       "dbfsResultPath": null,
       "isJsonSchema": true,
       "metadata": {
        "isDbfsCommandResult": false
       },
       "overflow": false,
       "plotOptions": {
        "customPlotOptions": {},
        "displayType": "table",
        "pivotAggregation": null,
        "pivotColumns": null,
        "xColumns": null,
        "yColumns": null
       },
       "removedWidgets": [],
       "schema": [
        {
         "metadata": "{}",
         "name": "cpf_masked",
         "type": "\"string\""
        },
        {
         "metadata": "{\"comment\":\"POSIÇÃO QUE O SERVIDOR OCUPA NO ÓRGÃO DE FORMA PERMANENTE\"}",
         "name": "cargo",
         "type": "\"string\""
        },
        {
         "metadata": "{\"comment\":\"ANO DE REFERÊNCIA\"}",
         "name": "ano",
         "type": "\"integer\""
        },
        {
         "metadata": "{\"comment\":\"VALOR BRUTO DA REMUNERAÇÃO\"}",
         "name": "bruto",
         "type": "\"string\""
        }
       ],
       "type": "table"
      }
     },
     "output_type": "display_data"
    }
   ],
   "source": [
    "df_remuneracao_day.createOrReplaceTemporaryView(\"remuneracao_day\")\n",
    "display(spark.sql(\n",
    "\"SELECT\" + \\\n",
    "\"      mask(cpf,\"O\",\"i\",\"*\") AS cpf_masked, c\" + \\\n",
    "\"      cargo, \" + \\\n",
    "\"      ano, \" + \\\n",
    "\"      bruto\" + \\\n",
    "\"FROM\" + \\\n",
    "\"  remuneracao_day\" + \\\n",
    "\"LIMIT 10\"\n",
    "))"
   ]
  },
  {
   "cell_type": "markdown",
   "metadata": {
    "application/vnd.databricks.v1+cell": {
     "cellMetadata": {},
     "inputWidgets": {},
     "nuid": "e64d0b98-e43d-4284-8911-413f3be8d6b2",
     "showTitle": false,
     "title": ""
    }
   },
   "source": [
    "## Symmetric Encryption\n",
    "\n",
    "Advanced Encryption Standard (AES) is a specification used as syncronous symmetric cryptographic keys assuming 128 bytes, 192 bytes or 256 bytes of size:\n",
    "| AES Byte Size | Length Key |\n",
    "|--------|--------|\n",
    "| AES-128 | 16 |\n",
    "| AES-192 | 24 |\n",
    "| AES-256 | 32 |"
   ]
  },
  {
   "cell_type": "code",
   "execution_count": 0,
   "metadata": {
    "application/vnd.databricks.v1+cell": {
     "cellMetadata": {
      "byteLimit": 2048000,
      "rowLimit": 10000
     },
     "inputWidgets": {},
     "nuid": "72bb9c71-1edd-4aa0-b00d-6e7eb8b5a313",
     "showTitle": false,
     "title": ""
    }
   },
   "outputs": [
    {
     "output_type": "display_data",
     "data": {
      "text/html": [
       "<style scoped>\n",
       "  .table-result-container {\n",
       "    max-height: 300px;\n",
       "    overflow: auto;\n",
       "  }\n",
       "  table, th, td {\n",
       "    border: 1px solid black;\n",
       "    border-collapse: collapse;\n",
       "  }\n",
       "  th, td {\n",
       "    padding: 5px;\n",
       "  }\n",
       "  th {\n",
       "    text-align: left;\n",
       "  }\n",
       "</style><div class='table-result-container'><table class='table-result'><thead style='background-color: white'><tr><th>aes_encrypt(Day 2 - Fighter - Databricks SQL: From Zero to Hero, databricks012345databricks012345, GCM, DEFAULT)</th></tr></thead><tbody><tr><td>KAwERKYuitmalltqEsPLuC7YcLH3kNNMU45J4gjULPr3ijL7Wt9K3X5vpR7uPDtjoo0/dUISR2+qY5HvSom/NHgmtuBQHQds2PKYyiYirw==</td></tr></tbody></table></div>"
      ]
     },
     "metadata": {
      "application/vnd.databricks.v1+output": {
       "addedWidgets": {},
       "aggData": [],
       "aggError": "",
       "aggOverflow": false,
       "aggSchema": [],
       "aggSeriesLimitReached": false,
       "aggType": "",
       "arguments": {},
       "columnCustomDisplayInfos": {},
       "data": [
        [
         "KAwERKYuitmalltqEsPLuC7YcLH3kNNMU45J4gjULPr3ijL7Wt9K3X5vpR7uPDtjoo0/dUISR2+qY5HvSom/NHgmtuBQHQds2PKYyiYirw=="
        ]
       ],
       "datasetInfos": [],
       "dbfsResultPath": null,
       "isJsonSchema": true,
       "metadata": {
        "isDbfsCommandResult": false
       },
       "overflow": false,
       "plotOptions": {
        "customPlotOptions": {},
        "displayType": "table",
        "pivotAggregation": null,
        "pivotColumns": null,
        "xColumns": null,
        "yColumns": null
       },
       "removedWidgets": [],
       "schema": [
        {
         "metadata": "{\"__autoGeneratedAlias\":\"true\"}",
         "name": "aes_encrypt(Day 2 - Fighter - Databricks SQL: From Zero to Hero, databricks012345databricks012345, GCM, DEFAULT)",
         "type": "\"binary\""
        }
       ],
       "type": "table"
      }
     },
     "output_type": "display_data"
    }
   ],
   "source": [
    "display(spark.sql(\"SELECT aes_encrypt('Day 2 - Fighter - Databricks SQL: From Zero to Hero', 'databricks012345databricks012345')\"))"
   ]
  },
  {
   "cell_type": "code",
   "execution_count": 0,
   "metadata": {
    "application/vnd.databricks.v1+cell": {
     "cellMetadata": {
      "byteLimit": 2048000,
      "rowLimit": 10000
     },
     "inputWidgets": {},
     "nuid": "43274725-6751-4443-92dd-d987f62f5102",
     "showTitle": false,
     "title": ""
    }
   },
   "outputs": [
    {
     "output_type": "display_data",
     "data": {
      "text/html": [
       "<style scoped>\n",
       "  .table-result-container {\n",
       "    max-height: 300px;\n",
       "    overflow: auto;\n",
       "  }\n",
       "  table, th, td {\n",
       "    border: 1px solid black;\n",
       "    border-collapse: collapse;\n",
       "  }\n",
       "  th, td {\n",
       "    padding: 5px;\n",
       "  }\n",
       "  th {\n",
       "    text-align: left;\n",
       "  }\n",
       "</style><div class='table-result-container'><table class='table-result'><thead style='background-color: white'><tr><th>CAST(aes_decrypt(unbase64(KAwERKYuitmalltqEsPLuC7YcLH3kNNMU45J4gjULPr3ijL7Wt9K3X5vpR7uPDtjoo0/dUISR2+qY5HvSom/NHgmtuBQHQds2PKYyiYirw==), databricks012345databricks012345, GCM, DEFAULT) AS STRING)</th></tr></thead><tbody><tr><td>Day 2 - Fighter - Databricks SQL: From Zero to Hero</td></tr></tbody></table></div>"
      ]
     },
     "metadata": {
      "application/vnd.databricks.v1+output": {
       "addedWidgets": {},
       "aggData": [],
       "aggError": "",
       "aggOverflow": false,
       "aggSchema": [],
       "aggSeriesLimitReached": false,
       "aggType": "",
       "arguments": {},
       "columnCustomDisplayInfos": {},
       "data": [
        [
         "Day 2 - Fighter - Databricks SQL: From Zero to Hero"
        ]
       ],
       "datasetInfos": [],
       "dbfsResultPath": null,
       "isJsonSchema": true,
       "metadata": {
        "isDbfsCommandResult": false
       },
       "overflow": false,
       "plotOptions": {
        "customPlotOptions": {},
        "displayType": "table",
        "pivotAggregation": null,
        "pivotColumns": null,
        "xColumns": null,
        "yColumns": null
       },
       "removedWidgets": [],
       "schema": [
        {
         "metadata": "{\"__autoGeneratedAlias\":\"true\"}",
         "name": "CAST(aes_decrypt(unbase64(KAwERKYuitmalltqEsPLuC7YcLH3kNNMU45J4gjULPr3ijL7Wt9K3X5vpR7uPDtjoo0/dUISR2+qY5HvSom/NHgmtuBQHQds2PKYyiYirw==), databricks012345databricks012345, GCM, DEFAULT) AS STRING)",
         "type": "\"string\""
        }
       ],
       "type": "table"
      }
     },
     "output_type": "display_data"
    }
   ],
   "source": [
    "display(spark.sql(\"SELECT CAST(aes_decrypt(unbase64('KAwERKYuitmalltqEsPLuC7YcLH3kNNMU45J4gjULPr3ijL7Wt9K3X5vpR7uPDtjoo0/dUISR2+qY5HvSom/NHgmtuBQHQds2PKYyiYirw=='), 'databricks012345databricks012345') AS STRING)\"))"
   ]
  },
  {
   "cell_type": "code",
   "execution_count": 0,
   "metadata": {
    "application/vnd.databricks.v1+cell": {
     "cellMetadata": {
      "byteLimit": 2048000,
      "rowLimit": 10000
     },
     "inputWidgets": {},
     "nuid": "9536eaf0-b655-46ed-9e33-9f7518cd5a4c",
     "showTitle": false,
     "title": ""
    }
   },
   "outputs": [
    {
     "output_type": "display_data",
     "data": {
      "text/html": [
       "<style scoped>\n",
       "  .table-result-container {\n",
       "    max-height: 300px;\n",
       "    overflow: auto;\n",
       "  }\n",
       "  table, th, td {\n",
       "    border: 1px solid black;\n",
       "    border-collapse: collapse;\n",
       "  }\n",
       "  th, td {\n",
       "    padding: 5px;\n",
       "  }\n",
       "  th {\n",
       "    text-align: left;\n",
       "  }\n",
       "</style><div class='table-result-container'><table class='table-result'><thead style='background-color: white'><tr><th>encrypted_cpf</th><th>cargo</th><th>ano</th><th>bruto</th></tr></thead><tbody><tr><td>nCO8Y7WMyR9L6zNeRR2Nlmft0nivYuAgBxiYZlAxKW5ZfOayCyvp</td><td>ESCRITUR�RIO</td><td>2022</td><td>17232,30</td></tr><tr><td>KCL+RqSqVsezeznboSBOpVD7jl+BPSGykpf4q2CD/hLY//a2I1C1</td><td>ESCRITUR�RIO</td><td>2022</td><td>13658,42</td></tr><tr><td>dy10S7atqskmD6Y2Vnnb1/B7OZW436Lt0glptRKD1eXvUAJMrJ/M</td><td>ESCRITUR�RIO</td><td>2022</td><td>20519,55</td></tr><tr><td>UBNUsYk4Kcu1BMhg1mdR0NKaQkaU2zmb+HYJdXno3eGvm73XaRlO</td><td>ESCRITUR�RIO</td><td>2022</td><td>19950,63</td></tr><tr><td>pqz1IABxRSyfpq5h4W3ySbZTMw83vwNtjDRBQBBr4PdwDlmy/xRu</td><td>ESCRITUR�RIO</td><td>2022</td><td>11099,34</td></tr><tr><td>0bZrFusVKUx8iA+IfS6COHc/1QGAeO0KI/sqfdg4qtlNSavUj+pA</td><td>ESCRITUR�RIO</td><td>2022</td><td>7852,95</td></tr><tr><td>ZTAaKnOdW05VSy2CrvMo11P4h6GSkCuHa1HQX7Cgvcr8C0Vh9FvW</td><td>ESCRITUR�RIO</td><td>2022</td><td>13720,87</td></tr><tr><td>+C7xRiZ7cGuUf2rW5erfA+9cfalxL9gRDWvOPCNZcsMFRmjo5uhB</td><td>ESCRITUR�RIO</td><td>2022</td><td>24942,78</td></tr><tr><td>AK5/SFFBGQ4qM+5SohZtqgTXWLpUwLhlCsERMD+wpi9+/ZaI3QeZ</td><td>ESCRITUR�RIO</td><td>2022</td><td>11056,50</td></tr><tr><td>2+fhu164I4UDeNIAyDzilC5vzd0tjuRUdS7l5xPoY13D7oFIR8DH</td><td>ESCRITUR�RIO</td><td>2022</td><td>15588,54</td></tr></tbody></table></div>"
      ]
     },
     "metadata": {
      "application/vnd.databricks.v1+output": {
       "addedWidgets": {},
       "aggData": [],
       "aggError": "",
       "aggOverflow": false,
       "aggSchema": [],
       "aggSeriesLimitReached": false,
       "aggType": "",
       "arguments": {},
       "columnCustomDisplayInfos": {},
       "data": [
        [
         "nCO8Y7WMyR9L6zNeRR2Nlmft0nivYuAgBxiYZlAxKW5ZfOayCyvp",
         "ESCRITUR�RIO",
         2022,
         "17232,30"
        ],
        [
         "KCL+RqSqVsezeznboSBOpVD7jl+BPSGykpf4q2CD/hLY//a2I1C1",
         "ESCRITUR�RIO",
         2022,
         "13658,42"
        ],
        [
         "dy10S7atqskmD6Y2Vnnb1/B7OZW436Lt0glptRKD1eXvUAJMrJ/M",
         "ESCRITUR�RIO",
         2022,
         "20519,55"
        ],
        [
         "UBNUsYk4Kcu1BMhg1mdR0NKaQkaU2zmb+HYJdXno3eGvm73XaRlO",
         "ESCRITUR�RIO",
         2022,
         "19950,63"
        ],
        [
         "pqz1IABxRSyfpq5h4W3ySbZTMw83vwNtjDRBQBBr4PdwDlmy/xRu",
         "ESCRITUR�RIO",
         2022,
         "11099,34"
        ],
        [
         "0bZrFusVKUx8iA+IfS6COHc/1QGAeO0KI/sqfdg4qtlNSavUj+pA",
         "ESCRITUR�RIO",
         2022,
         "7852,95"
        ],
        [
         "ZTAaKnOdW05VSy2CrvMo11P4h6GSkCuHa1HQX7Cgvcr8C0Vh9FvW",
         "ESCRITUR�RIO",
         2022,
         "13720,87"
        ],
        [
         "+C7xRiZ7cGuUf2rW5erfA+9cfalxL9gRDWvOPCNZcsMFRmjo5uhB",
         "ESCRITUR�RIO",
         2022,
         "24942,78"
        ],
        [
         "AK5/SFFBGQ4qM+5SohZtqgTXWLpUwLhlCsERMD+wpi9+/ZaI3QeZ",
         "ESCRITUR�RIO",
         2022,
         "11056,50"
        ],
        [
         "2+fhu164I4UDeNIAyDzilC5vzd0tjuRUdS7l5xPoY13D7oFIR8DH",
         "ESCRITUR�RIO",
         2022,
         "15588,54"
        ]
       ],
       "datasetInfos": [],
       "dbfsResultPath": null,
       "isJsonSchema": true,
       "metadata": {
        "isDbfsCommandResult": false
       },
       "overflow": false,
       "plotOptions": {
        "customPlotOptions": {},
        "displayType": "table",
        "pivotAggregation": null,
        "pivotColumns": null,
        "xColumns": null,
        "yColumns": null
       },
       "removedWidgets": [],
       "schema": [
        {
         "metadata": "{}",
         "name": "encrypted_cpf",
         "type": "\"binary\""
        },
        {
         "metadata": "{\"comment\":\"POSIÇÃO QUE O SERVIDOR OCUPA NO ÓRGÃO DE FORMA PERMANENTE\"}",
         "name": "cargo",
         "type": "\"string\""
        },
        {
         "metadata": "{\"comment\":\"ANO DE REFERÊNCIA\"}",
         "name": "ano",
         "type": "\"integer\""
        },
        {
         "metadata": "{\"comment\":\"VALOR BRUTO DA REMUNERAÇÃO\"}",
         "name": "bruto",
         "type": "\"string\""
        }
       ],
       "type": "table"
      }
     },
     "output_type": "display_data"
    }
   ],
   "source": [
    "display(spark.sql(\n",
    "\"SELECT\" + \\\n",
    "\"      aes_encrypt(cpf , 'databricks012345databricks012345') AS encrypted_cpf, \" + \\\n",
    "\"      cargo, \" + \\\n",
    "\"      ano, \" + \\\n",
    "\"      bruto\" + \\\n",
    "\"FROM\" + \\\n",
    "\"  remuneracao_day\" + \\\n",
    "\"LIMIT 10\"\n",
    "))"
   ]
  },
  {
   "cell_type": "code",
   "execution_count": 0,
   "metadata": {
    "application/vnd.databricks.v1+cell": {
     "cellMetadata": {
      "byteLimit": 2048000,
      "rowLimit": 10000
     },
     "inputWidgets": {},
     "nuid": "66806883-8443-4c5f-a700-1f2357a8b418",
     "showTitle": false,
     "title": ""
    }
   },
   "outputs": [
    {
     "output_type": "display_data",
     "data": {
      "text/html": [
       "<style scoped>\n",
       "  .table-result-container {\n",
       "    max-height: 300px;\n",
       "    overflow: auto;\n",
       "  }\n",
       "  table, th, td {\n",
       "    border: 1px solid black;\n",
       "    border-collapse: collapse;\n",
       "  }\n",
       "  th, td {\n",
       "    padding: 5px;\n",
       "  }\n",
       "  th {\n",
       "    text-align: left;\n",
       "  }\n",
       "</style><div class='table-result-container'><table class='table-result'><thead style='background-color: white'><tr></tr></thead><tbody></tbody></table></div>"
      ]
     },
     "metadata": {
      "application/vnd.databricks.v1+output": {
       "addedWidgets": {},
       "aggData": [],
       "aggError": "",
       "aggOverflow": false,
       "aggSchema": [],
       "aggSeriesLimitReached": false,
       "aggType": "",
       "arguments": {},
       "columnCustomDisplayInfos": {},
       "data": [],
       "datasetInfos": [],
       "dbfsResultPath": null,
       "isJsonSchema": true,
       "metadata": {
        "isDbfsCommandResult": false
       },
       "overflow": false,
       "plotOptions": {
        "customPlotOptions": {},
        "displayType": "table",
        "pivotAggregation": null,
        "pivotColumns": null,
        "xColumns": null,
        "yColumns": null
       },
       "removedWidgets": [],
       "schema": [],
       "type": "table"
      }
     },
     "output_type": "display_data"
    }
   ],
   "source": [
    "spark.sql(\n",
    "\"CREATE VIEW remuneracao_column_security AS \" + \\\n",
    "\"SELECT\" + \\\n",
    "\"    CASE\" + \\\n",
    "\"      WHEN is_account_group_member('ML_Team') THEN 'ACESSO NEGADO'\" + \\\n",
    "\"      ELSE cpf\" + \\\n",
    "\"    END AS cpf,\" + \\\n",
    "\"    cargo,\" + \\\n",
    "\"    ano,\" + \\\n",
    "\"    bruto\" + \\\n",
    "\"FROM\" + \\\n",
    "\"  remuneracao_day\"\n",
    ")"
   ]
  },
  {
   "cell_type": "code",
   "execution_count": 0,
   "metadata": {
    "application/vnd.databricks.v1+cell": {
     "cellMetadata": {
      "byteLimit": 2048000,
      "rowLimit": 10000
     },
     "inputWidgets": {},
     "nuid": "0c5b92f6-615c-4e37-9b63-87296cc443d5",
     "showTitle": false,
     "title": ""
    }
   },
   "outputs": [
    {
     "output_type": "display_data",
     "data": {
      "text/html": [
       "<style scoped>\n",
       "  .table-result-container {\n",
       "    max-height: 300px;\n",
       "    overflow: auto;\n",
       "  }\n",
       "  table, th, td {\n",
       "    border: 1px solid black;\n",
       "    border-collapse: collapse;\n",
       "  }\n",
       "  th, td {\n",
       "    padding: 5px;\n",
       "  }\n",
       "  th {\n",
       "    text-align: left;\n",
       "  }\n",
       "</style><div class='table-result-container'><table class='table-result'><thead style='background-color: white'><tr><th>cpf</th><th>cargo</th><th>ano</th><th>bruto</th></tr></thead><tbody><tr><td>ACESSO NEGADO</td><td>ESCRITUR�RIO</td><td>2022</td><td>17232,30</td></tr><tr><td>ACESSO NEGADO</td><td>ESCRITUR�RIO</td><td>2022</td><td>13658,42</td></tr><tr><td>ACESSO NEGADO</td><td>ESCRITUR�RIO</td><td>2022</td><td>20519,55</td></tr><tr><td>ACESSO NEGADO</td><td>ESCRITUR�RIO</td><td>2022</td><td>19950,63</td></tr><tr><td>ACESSO NEGADO</td><td>ESCRITUR�RIO</td><td>2022</td><td>11099,34</td></tr></tbody></table></div>"
      ]
     },
     "metadata": {
      "application/vnd.databricks.v1+output": {
       "addedWidgets": {},
       "aggData": [],
       "aggError": "",
       "aggOverflow": false,
       "aggSchema": [],
       "aggSeriesLimitReached": false,
       "aggType": "",
       "arguments": {},
       "columnCustomDisplayInfos": {},
       "data": [
        [
         "ACESSO NEGADO",
         "ESCRITUR�RIO",
         2022,
         "17232,30"
        ],
        [
         "ACESSO NEGADO",
         "ESCRITUR�RIO",
         2022,
         "13658,42"
        ],
        [
         "ACESSO NEGADO",
         "ESCRITUR�RIO",
         2022,
         "20519,55"
        ],
        [
         "ACESSO NEGADO",
         "ESCRITUR�RIO",
         2022,
         "19950,63"
        ],
        [
         "ACESSO NEGADO",
         "ESCRITUR�RIO",
         2022,
         "11099,34"
        ]
       ],
       "datasetInfos": [],
       "dbfsResultPath": null,
       "isJsonSchema": true,
       "metadata": {
        "isDbfsCommandResult": false
       },
       "overflow": false,
       "plotOptions": {
        "customPlotOptions": {},
        "displayType": "table",
        "pivotAggregation": null,
        "pivotColumns": null,
        "xColumns": null,
        "yColumns": null
       },
       "removedWidgets": [],
       "schema": [
        {
         "metadata": "{}",
         "name": "cpf",
         "type": "\"string\""
        },
        {
         "metadata": "{\"comment\":\"POSIÇÃO QUE O SERVIDOR OCUPA NO ÓRGÃO DE FORMA PERMANENTE\"}",
         "name": "cargo",
         "type": "\"string\""
        },
        {
         "metadata": "{\"comment\":\"ANO DE REFERÊNCIA\"}",
         "name": "ano",
         "type": "\"integer\""
        },
        {
         "metadata": "{\"comment\":\"VALOR BRUTO DA REMUNERAÇÃO\"}",
         "name": "bruto",
         "type": "\"string\""
        }
       ],
       "type": "table"
      }
     },
     "output_type": "display_data"
    }
   ],
   "source": [
    "display(spark.sql(\"SELECT * FROM remuneracao_column_security LIMIT 5\"))"
   ]
  },
  {
   "cell_type": "code",
   "execution_count": 0,
   "metadata": {
    "application/vnd.databricks.v1+cell": {
     "cellMetadata": {
      "byteLimit": 2048000,
      "rowLimit": 10000
     },
     "inputWidgets": {},
     "nuid": "b6373fcd-aaca-46a1-b3f2-e72204f09ea8",
     "showTitle": false,
     "title": ""
    }
   },
   "outputs": [
    {
     "output_type": "display_data",
     "data": {
      "text/html": [
       "<style scoped>\n",
       "  .table-result-container {\n",
       "    max-height: 300px;\n",
       "    overflow: auto;\n",
       "  }\n",
       "  table, th, td {\n",
       "    border: 1px solid black;\n",
       "    border-collapse: collapse;\n",
       "  }\n",
       "  th, td {\n",
       "    padding: 5px;\n",
       "  }\n",
       "  th {\n",
       "    text-align: left;\n",
       "  }\n",
       "</style><div class='table-result-container'><table class='table-result'><thead style='background-color: white'><tr><th>cargo</th><th>TOTAL</th></tr></thead><tbody><tr><td>PROFESSOR DE EDUC. BASICA     </td><td>46505</td></tr><tr><td>TECNICO ENFERMAGEM            </td><td>14653</td></tr><tr><td>CONTRATO TEMPORARIO           </td><td>13594</td></tr><tr><td>                              </td><td>11334</td></tr><tr><td>null</td><td>9238</td></tr><tr><td>PRIMEIRO SARGENTO</td><td>7976</td></tr><tr><td>ANALISTA GEST ASS PUB SAUDE   </td><td>6560</td></tr><tr><td>ANALISTA POL PUBL E GEST GOV  </td><td>6332</td></tr><tr><td>ANALISTA TECNICO-ASSIST.PPGG  </td><td>6032</td></tr><tr><td>SEGUNDO SARGENTO</td><td>5703</td></tr><tr><td>AGENTE G.E.- CONS E LIMPEZA   </td><td>4483</td></tr><tr><td>ENFERMEIRO                    </td><td>4406</td></tr><tr><td>TECNICO GEST ASS PUB SAUDE    </td><td>4257</td></tr><tr><td>AGENTE DE POLICIA - CLASSE ESP</td><td>3787</td></tr><tr><td>TERCEIRO SARGENTO</td><td>3749</td></tr><tr><td>SUBTENENTE</td><td>3244</td></tr><tr><td>TECNICO G.E.- APOIO ADMINIST  </td><td>3167</td></tr><tr><td>ESCRITUR�RIO</td><td>2963</td></tr><tr><td>AGENTE G.E.- VIGILANCIA       </td><td>2546</td></tr><tr><td>CABO</td><td>2523</td></tr><tr><td>AGENTE DE POLICIA             </td><td>2210</td></tr><tr><td>SOLDADO PRIMEIRA CLASSE</td><td>2203</td></tr><tr><td>POLICIA PENAL                 </td><td>1745</td></tr><tr><td>AGENTE G.E.- COPA E COZINHA   </td><td>1637</td></tr><tr><td>AUDITOR FISCAL ATIV. URBANAS  </td><td>1605</td></tr><tr><td>AGENTE G.E.- SERV GERAIS      </td><td>1587</td></tr><tr><td>AGENTE G.E.- PORTARIA         </td><td>1575</td></tr><tr><td>PEDAGOGO - ORIENT EDUC.       </td><td>1504</td></tr><tr><td>AGENTE SOCIOEDUCATIVO         </td><td>1487</td></tr><tr><td>SOLDADO SEGUNDA CLASSE</td><td>1413</td></tr><tr><td>AUDITOR-FISCAL DA RECEITA DF  </td><td>1409</td></tr><tr><td>MAJOR</td><td>1305</td></tr><tr><td>ANA. GES. FISC. RODOVIARIA    </td><td>1255</td></tr><tr><td>TECNICO G.E.- SEC. ESCOLAR    </td><td>1186</td></tr><tr><td>GESTOR POL PUB E GEST GOV     </td><td>1163</td></tr><tr><td>SEGUNDO TENENTE</td><td>1066</td></tr><tr><td>AUXILIAR DE SERVICOS GERAIS   </td><td>1064</td></tr><tr><td>MEDICO - CLINICA MEDICA       </td><td>1033</td></tr><tr><td>AG. COMUNITARIO DE SAUDE      </td><td>1015</td></tr><tr><td>MEDICO - PEDIATRIA            </td><td>989</td></tr><tr><td>MEDICO - GINECO.E OBSTETRICI  </td><td>967</td></tr><tr><td>CAPITAO</td><td>827</td></tr><tr><td>AGENTE DE TRANSITO            </td><td>815</td></tr><tr><td>AG POLICIAL DE CUSTODIA-CLASSE</td><td>783</td></tr><tr><td>ASSISTENTE GAPS TEC LAB PAT   </td><td>756</td></tr><tr><td>FISIOTERAPEUTA                </td><td>749</td></tr><tr><td>TECNICO DE GESTAO FAZENDARIA  </td><td>739</td></tr><tr><td>TENENTE-CORONEL</td><td>736</td></tr><tr><td>AGENTE DE POLICIA - SEGUNDA CL</td><td>731</td></tr><tr><td>TEC. DESENV. FISCALIZ. AGROP  </td><td>689</td></tr><tr><td>TEC.ASS.SOCIAL - AG. SOCIAL   </td><td>679</td></tr><tr><td>INSPETOR TEC CONTR INTERNO    </td><td>655</td></tr><tr><td>AUDITOR DE CONTROLE INTERNO   </td><td>642</td></tr><tr><td>CORONEL</td><td>626</td></tr><tr><td>ASSISTENTE GAPS TEC RAD       </td><td>615</td></tr><tr><td>PRIMEIRO TENENTE</td><td>598</td></tr><tr><td>ASSISTENTE GAPS TEC THD       </td><td>594</td></tr><tr><td>MONITOR DE GESTAO EDUCACIONA  </td><td>555</td></tr><tr><td>MED. DA FAMILIA E COMUNIDADE  </td><td>552</td></tr><tr><td>AUDITOR ATIV. URBANAS         </td><td>543</td></tr><tr><td>AUX. DESENV. FISCALIZ. AGROP  </td><td>525</td></tr><tr><td>ENFERMEIRO-FAMILIA E COMUNID  </td><td>521</td></tr><tr><td>NUTRICIONISTA                 </td><td>515</td></tr><tr><td>FARMACEUTICO BIOQ. FARMACIA   </td><td>513</td></tr><tr><td>DELEGADO DE POLICIA - CLASSE E</td><td>506</td></tr><tr><td>ANALISTA PLANEJ. URB. INFRA.  </td><td>489</td></tr><tr><td>AGENTE DE VIG.AMB.SAUDE AVAS  </td><td>461</td></tr><tr><td>ESCRIVAO DE POLICIA - CLASSE E</td><td>457</td></tr><tr><td>MEDICO - CIRURGIA GERAL       </td><td>445</td></tr><tr><td>ASSISTENTE GAPS TEC NUTRICAO  </td><td>442</td></tr><tr><td>AGENTE COMUNITARIO DE SAUDE   </td><td>431</td></tr><tr><td>ODONTOLOGO                    </td><td>426</td></tr><tr><td>ASSISTENTE GAPS TEC LAB HEM   </td><td>421</td></tr><tr><td>PSICOLOGO                     </td><td>418</td></tr><tr><td>DELEGADO DE POLICIA           </td><td>417</td></tr><tr><td>MEDICO - ORT. E TRAUMATOLOGI  </td><td>417</td></tr><tr><td>MEDICO - ANESTESIOLOGIA       </td><td>417</td></tr><tr><td>ASSISTENTE SOCIAL             </td><td>413</td></tr><tr><td>AG.ROD.GES.FISC.RODOVIARIA    </td><td>406</td></tr><tr><td>AG. VIG. AMBIENTAL EM SAUDE   </td><td>382</td></tr><tr><td>AGENTE POLICIAL DE CUSTODIA   </td><td>371</td></tr><tr><td>ANALISTA EM ATIV DE TRANSITO  </td><td>371</td></tr><tr><td>ASSISTENTE ADMINISTRATIVO</td><td>366</td></tr><tr><td>TECNICO SOCIOEDUCATIVO        </td><td>365</td></tr><tr><td>EXAMINADOR TEORICO-PRATICO    </td><td>363</td></tr><tr><td>BOMBEIRO HIDRAULICO</td><td>361</td></tr><tr><td>INSPETOR FISCAL               </td><td>357</td></tr><tr><td>TECNICO PLANEJ. URB. INFRA.   </td><td>349</td></tr><tr><td>FARMACEUTICO BIOQ. LABORATOR  </td><td>340</td></tr><tr><td>TEC.ASS.SOC-AG.ADMINISTRATIV  </td><td>332</td></tr><tr><td>ESCRIVAO DE POLICIA           </td><td>327</td></tr><tr><td>PAPILOSCOPISTA POLICIAL-CLASSE</td><td>323</td></tr><tr><td>ANALISTA DE TECNOLOGIA DA INFORMA��O</td><td>317</td></tr><tr><td>TECNICO DE ATIV CULTURAIS     </td><td>317</td></tr><tr><td>CIRURGIAO DENTISTA            </td><td>316</td></tr><tr><td>TECNICO DE RESIDUOS SOLIDOS   </td><td>311</td></tr><tr><td>MOTORISTA                     </td><td>310</td></tr><tr><td>1 SARGENTO PM INATIVO         </td><td>302</td></tr><tr><td>AUDITOR TRIBUTARIO            </td><td>297</td></tr><tr><td>ADMINISTRADOR                 </td><td>296</td></tr><tr><td>TECNICO EM ATIV. DE TRANSITO  </td><td>284</td></tr><tr><td>OPERADOR DE ESTACAO DE TRATAMENTO</td><td>284</td></tr><tr><td>AGENTE DE POLICIA - PRIMEIRA C</td><td>274</td></tr><tr><td>MEDICO - TERAPIA INT. ADULTO  </td><td>272</td></tr><tr><td>PAPILOSCOPISTA POLICIAL       </td><td>264</td></tr><tr><td>AGENTE OPERACIONAL            </td><td>263</td></tr><tr><td>TECNICO JUR - APOIO ADMINIST  </td><td>262</td></tr><tr><td>TECNICO ATIV DO HEMOCENTRO    </td><td>261</td></tr><tr><td>AUXILIAR ASSISTENCIA SOCIAL   </td><td>239</td></tr><tr><td>TECNICO G.E.- SERV OBRAS CIV  </td><td>232</td></tr><tr><td>PERITO CRIMINAL - CLASSE ESPEC</td><td>229</td></tr><tr><td>PERITO CRIMINAL               </td><td>228</td></tr><tr><td>AUX.ASSISTENCIA SOCIAL-ABSS   </td><td>223</td></tr><tr><td>MEDICO - CARDIOLOGIA          </td><td>221</td></tr><tr><td>SUBPROCURADOR GERAL           </td><td>219</td></tr><tr><td>CONSELHEIRO TUTELAR           </td><td>211</td></tr><tr><td>TEC.ASS.SOC.-AG.ADMINISTRATI  </td><td>199</td></tr><tr><td>FONOAUDIOLOGO                 </td><td>197</td></tr><tr><td>AGENTE DE GESTAO FAZENDARIA   </td><td>197</td></tr><tr><td>SUBTENENTE PM INATIVO         </td><td>196</td></tr><tr><td>ESCRIVAO DE POLICIA - SEGUNDA</td><td>195</td></tr><tr><td>MEDICO - RADIOLOGISTA         </td><td>194</td></tr><tr><td>TECNICO G.E.- COND VEICULOS   </td><td>192</td></tr><tr><td>EE - AGENTE DE ESTACAO        </td><td>192</td></tr><tr><td>ESP.ASS.SOCIAL - ASS SOCIAL   </td><td>191</td></tr><tr><td>TEC.ASS.SOC.-AGENTE SOCIAL    </td><td>187</td></tr><tr><td>EE - PILOTO                   </td><td>185</td></tr><tr><td>MEDICO - NEONATOLOGIA         </td><td>183</td></tr><tr><td>ESP.ASS.SOCIAL - PSICOLOGO    </td><td>181</td></tr><tr><td>ANA ATIVIDADES DE TRANSITO    </td><td>180</td></tr><tr><td>ENFERMEIRO-OBSTETRA           </td><td>176</td></tr><tr><td>AUXILIAR ATIVIDADES CULTURAI  </td><td>175</td></tr><tr><td>DELEGADO DE POLICIA - SEGUNDA</td><td>174</td></tr><tr><td>MEDICO - PSIQUIATRIA          </td><td>173</td></tr><tr><td>MEDICO-MEDICINA EMERGENCIA    </td><td>172</td></tr><tr><td>AG. DE TRANSITO RODOVIARIO    </td><td>170</td></tr><tr><td>ESP.ASS.SOCIAL - EDUC SOCIAL  </td><td>169</td></tr><tr><td>ANALISTA G.E.- PSICOLOGIA     </td><td>168</td></tr><tr><td>2 SARGENTO PM INATIVO         </td><td>167</td></tr><tr><td>ANALISTA ATIV DO HEMOCENTRO   </td><td>165</td></tr><tr><td>CORONEL PM INATIVO            </td><td>162</td></tr><tr><td>TECNICO EM ENFERMAGEM         </td><td>159</td></tr><tr><td>ESOCIO - ASSISTENTE SOCIAL    </td><td>158</td></tr><tr><td>TECNICO POL PUBL E GEST GOV   </td><td>152</td></tr><tr><td>MED.RESID. - PEDIATRIA        </td><td>151</td></tr><tr><td>MED.RESID. - CLINICA MEDICA   </td><td>151</td></tr><tr><td>SEM VINCULO</td><td>144</td></tr><tr><td>ESOCIO - PSICOLOGO            </td><td>142</td></tr><tr><td>RESID. - ENFERMEIRO           </td><td>142</td></tr><tr><td>COBRADOR                      </td><td>141</td></tr><tr><td>EE - AGENTE SEG. OPERACIONAL  </td><td>139</td></tr><tr><td>DEFENSOR PUBLICO - ESPECIAL   </td><td>138</td></tr><tr><td>EXTENSIONISTA RURAL-NS        </td><td>137</td></tr><tr><td>PENSIONISTA PM                </td><td>130</td></tr><tr><td>TSOCIO - AGENTE SOCIAL        </td><td>126</td></tr><tr><td>3 SARGENTO PM INATIVO         </td><td>126</td></tr><tr><td>TERAPEUTA OCUPACIONAL         </td><td>122</td></tr><tr><td>PAPILOSCOPISTA POLICIAL-SEGUND</td><td>119</td></tr><tr><td>CORONEL COMBATENTE            </td><td>115</td></tr><tr><td>OTM - OP DE TRANSP METROFER   </td><td>115</td></tr><tr><td>MED.RESID. - GINECO.E OBSTET  </td><td>114</td></tr><tr><td>MUSICO NIVEL SUPERIOR         </td><td>113</td></tr><tr><td>MEDICO - OFTALMOLOGIA         </td><td>112</td></tr><tr><td>AGENTE DE SERVICOS GERAIS     </td><td>110</td></tr><tr><td>AG GESTAO FAZ - AG. PORTARIA  </td><td>107</td></tr><tr><td>AUXILIAR SOCIOEDUCATIVO       </td><td>106</td></tr><tr><td>RESID.- ENFERMAGEM CIRURGICA  </td><td>106</td></tr><tr><td>TECNICO DE SANEAMENTO</td><td>104</td></tr><tr><td>DEFENSOR PUBLICO CLASSE INTE  </td><td>103</td></tr><tr><td>TECNICO G.E.- HIG. DENTAL     </td><td>103</td></tr><tr><td>ANALISTA TRANSPORTE URBANO    </td><td>102</td></tr><tr><td>TEC.ASS.SOC.-CUIDADOR SOCIAL  </td><td>101</td></tr><tr><td>MEDICO - NEFROLOGIA           </td><td>101</td></tr><tr><td>TEC.ASS.SOC.-ASSIST.INTER.SS  </td><td>101</td></tr><tr><td>ANALISTA DE RESIDUOS SOLIDOS  </td><td>100</td></tr><tr><td>PRIMEIRO SARGENTO             </td><td>100</td></tr><tr><td>AGENTE ADMINISTRATIVO         </td><td>99</td></tr><tr><td>MED.RESID. - CIRURGIA GERAL   </td><td>96</td></tr><tr><td>ESOCIO - PEDAGOGO             </td><td>95</td></tr><tr><td>PERITO CRIMINAL - PRIMEIRA CLA</td><td>94</td></tr><tr><td>MED.RESID. - MED FAM E COMUN  </td><td>94</td></tr><tr><td>TECNICO G.E.- EDUC EM SAUDE   </td><td>94</td></tr><tr><td>DELEGADO DE POLICIA - PRIMEIRA</td><td>93</td></tr><tr><td>PADIOLEIRO                    </td><td>92</td></tr><tr><td>MAJOR PM INATIVO              </td><td>91</td></tr><tr><td>ENGENHEIRO CIVIL</td><td>90</td></tr><tr><td>MEDICO - TER. INT. PEDIATRIC  </td><td>90</td></tr><tr><td>2 TENENTE PM INATIVO          </td><td>89</td></tr><tr><td>ANA. DESENV. FISCALIZ. AGROP  </td><td>89</td></tr><tr><td>PROCURADOR DF CATEGORIA II    </td><td>88</td></tr><tr><td>MED.RESID. - ORT. E TRAUMATO  </td><td>88</td></tr><tr><td>MEDICO - OTORRINOLARINGOLOGI  </td><td>87</td></tr><tr><td>CARGO PARA SUBSTITUICAO       </td><td>84</td></tr><tr><td>GAE ESPECIALIZACAO            </td><td>84</td></tr><tr><td>PERITO MEDICO LEGISTA-CLASSE E</td><td>83</td></tr><tr><td>ADVOGADO</td><td>83</td></tr><tr><td>PSM - PROF SUPORT METROFER    </td><td>83</td></tr><tr><td>PENSAO ESPECIAL ADMINISTRATI  </td><td>83</td></tr><tr><td>DIGITADOR                     </td><td>81</td></tr><tr><td>MEDICO - UROLOGIA             </td><td>81</td></tr><tr><td>TSOCIO - AG. ADMINISTRATIVO   </td><td>80</td></tr><tr><td>TEC ATIVIDADES DE TRANSITO    </td><td>80</td></tr><tr><td>TENENTE-CORONEL PM            </td><td>78</td></tr><tr><td>RESID. - NUTRICIONISTA        </td><td>78</td></tr><tr><td>MEDICO - NEUROLOGIA           </td><td>78</td></tr><tr><td>AUXILIAR ADMINISTRATIVO       </td><td>77</td></tr><tr><td>RESID. - PSICOLOGO            </td><td>76</td></tr><tr><td>MEDICO-CIRURGIA GERAL-TRAUMA  </td><td>76</td></tr><tr><td>AUX.ASS.SOC. - VIGIA          </td><td>76</td></tr><tr><td>ANALISTA G.E.- NUTRICAO       </td><td>75</td></tr><tr><td>TEC. ASS.SOCIAL - AISS        </td><td>74</td></tr><tr><td>REGULADOR SERV PUBLICOS       </td><td>74</td></tr><tr><td>PERITO CRIMINAL - TERCEIRA CLA</td><td>73</td></tr><tr><td>MEDICO - MEDICINA DO TRABALH  </td><td>73</td></tr><tr><td>PERITO MEDICO-LEGISTA         </td><td>73</td></tr><tr><td>MEDICO - SANITARISTA          </td><td>71</td></tr><tr><td>ESP.ASS.SOC.-ASS.SUP.S.SOCIA  </td><td>70</td></tr><tr><td>EE - INSPETOR DE ESTACAO      </td><td>70</td></tr><tr><td>TENENTE CORONEL COMBATENTE    </td><td>69</td></tr><tr><td>ENGENHEIRO                    </td><td>69</td></tr><tr><td>RESID.FISIOTERAPEUTA          </td><td>69</td></tr><tr><td>ANAL.DE APOIO A ASSIST. JUD.  </td><td>68</td></tr><tr><td>AUXILIAR OPERACIONAL          </td><td>68</td></tr><tr><td>ASSISTENTE ADMINISTRATIVO     </td><td>67</td></tr><tr><td>EXAM.TEOR.-PRAT.DE INSTRUCAO  </td><td>67</td></tr><tr><td>GAE MESTRADO                  </td><td>66</td></tr><tr><td>MEDICO - ANATOMIA PATOLOGICA  </td><td>66</td></tr><tr><td>PSO - PROF SEG OP METROFER    </td><td>66</td></tr><tr><td>AUXILIAR DE PROCESSAMENTO     </td><td>65</td></tr><tr><td>MEDICO-MEDICINA DO TRABALHO   </td><td>65</td></tr><tr><td>AUXILIAR DE SERVICOS GERAIS</td><td>64</td></tr><tr><td>DEFENSOR PUBLICO CLASSE INIC  </td><td>64</td></tr><tr><td>MED.RESID. - ANESTESIOLOGIA   </td><td>64</td></tr><tr><td>ESP ATIVIDADES DE TRANSITO    </td><td>63</td></tr><tr><td>MEDICO - GASTROENTEROLOGIA    </td><td>63</td></tr><tr><td>AGENTE FISCAL TRIBUTARIO      </td><td>63</td></tr><tr><td>TECNICO DE EDIFICACOES</td><td>62</td></tr><tr><td>CAPITAO PM INATIVO            </td><td>62</td></tr><tr><td>AUX.ASS.SOC-ASSIST. BAS.SSOC  </td><td>62</td></tr><tr><td>ATENDENTE COMERCIAL</td><td>61</td></tr><tr><td>MEDICO - ENDOCRINOLOGIA       </td><td>61</td></tr><tr><td>ANALISTA DE ATIV.CULTURAIS    </td><td>60</td></tr><tr><td>TEC.ASS.SOC.-MOTORISTA        </td><td>60</td></tr><tr><td>AUX.ASS.SOC.-ABSS APOSENTADO  </td><td>60</td></tr><tr><td>ASSISTENTE GAPS TEC LAB ANAT  </td><td>59</td></tr><tr><td>ESP.ASS.SOCIAL - PEDAGOGO     </td><td>58</td></tr><tr><td>MEDICO - CIRURGIA PEDIATRICA  </td><td>58</td></tr><tr><td>COMISSIONADO                  </td><td>58</td></tr><tr><td>SUBTENENTE                    </td><td>57</td></tr><tr><td>EMPREGADO APRENDIZ</td><td>57</td></tr><tr><td>ASSESSORAMENTO</td><td>56</td></tr><tr><td>MEDICO - DERMATOLOGIA         </td><td>56</td></tr><tr><td>TEC.ASS.SOC. - APOSENTADO     </td><td>56</td></tr><tr><td>AGENTE - ANATOMIA             </td><td>55</td></tr><tr><td>ENGENHEIRO</td><td>54</td></tr><tr><td>CADETE-ULTIMO ANO</td><td>53</td></tr><tr><td>CABO                          </td><td>53</td></tr><tr><td>1 TENENTE PM INATIVO          </td><td>53</td></tr><tr><td>ANALISTA ATIV MEIO AMBIENTE   </td><td>52</td></tr><tr><td>BIOMEDICO                     </td><td>52</td></tr><tr><td>MEDICO - CIRURGIA VASCULAR    </td><td>52</td></tr><tr><td>MEDICO - CIRURGIA PLASTICA    </td><td>52</td></tr><tr><td>TECNICO ATIV MEIO AMBIENTE    </td><td>51</td></tr><tr><td>ANALISTA G.E.- ODONTOLOGIA    </td><td>51</td></tr><tr><td>TECNICO ADMINISTRATIVO</td><td>50</td></tr><tr><td>CONTADOR</td><td>50</td></tr><tr><td>BIOLOGO                       </td><td>50</td></tr><tr><td>PROCURADOR CATEGORIA - II     </td><td>50</td></tr><tr><td>TECNICO EM EDIFICACOES        </td><td>50</td></tr><tr><td>MECANICO</td><td>49</td></tr><tr><td>MEDICO - CITOLOGIA            </td><td>49</td></tr><tr><td>AGENTE G.E.- AUX OBRAS CIVIS  </td><td>49</td></tr><tr><td>TECNICO AGRICOLA              </td><td>49</td></tr><tr><td>MEDICO - PNEUMOLOGIA          </td><td>48</td></tr><tr><td>ENFERMEIRO DO TRABALHO        </td><td>48</td></tr><tr><td>ESP. GES. FISC. RODOVIARIA    </td><td>48</td></tr><tr><td>ADMINISTRADOR</td><td>47</td></tr><tr><td>ESP. ASS. SOCIAL - DIR LEG    </td><td>47</td></tr><tr><td>ASSIST.TEC. DE ADMINISTRACAO  </td><td>47</td></tr><tr><td>MEDICO-INFECTOLOGISTA         </td><td>47</td></tr><tr><td>SECRETARIO APOIO              </td><td>46</td></tr><tr><td>MEDICO - BIOMET.E PER. MEDIC  </td><td>46</td></tr><tr><td>TENENTE-CORONEL PM INATIVO    </td><td>45</td></tr><tr><td>ASPIRANTE A OFICIAL</td><td>45</td></tr><tr><td>AGENTE GE VIGILANCIA          </td><td>45</td></tr><tr><td>TECNICO TRANSPORTE URBANO     </td><td>45</td></tr><tr><td>TEC.FINANCAS CONTROLE         </td><td>45</td></tr><tr><td>AGENTE JUR - APOIO OPERAC.    </td><td>44</td></tr><tr><td>AUXILIAR DE FISCALIZACAO</td><td>44</td></tr><tr><td>CONSELHEIRO</td><td>44</td></tr><tr><td>MEDICO - NEUROCIRURGIA        </td><td>44</td></tr><tr><td>EXTENSIONISTA RURAL-NM        </td><td>43</td></tr><tr><td>SEGUNDO SARGENTO              </td><td>43</td></tr><tr><td>SOLDADO PRIMEIRA CLASSE       </td><td>43</td></tr><tr><td>ELETRICISTA DE MANUTENCAO INDUSTRIAL</td><td>42</td></tr><tr><td>TECNICO DE MANUTENCAO         </td><td>41</td></tr><tr><td>MOTORISTA</td><td>40</td></tr><tr><td>ANALISTA DE SISTEMAS</td><td>40</td></tr><tr><td>REQUISITADO</td><td>40</td></tr><tr><td>AUX.ASS.SOC.-AG.CON.LIMPEZA   </td><td>40</td></tr><tr><td>TECNICO G.E.- SERV MARCENARI  </td><td>39</td></tr><tr><td>AGENTE DE EXECUCAO PENAL      </td><td>39</td></tr><tr><td>MEDICO - MASTOLOGIA           </td><td>38</td></tr><tr><td>PERITO MED LEGISTA-SEGUNDA CLA</td><td>37</td></tr><tr><td>TRABALHADOR DA MANUTENCAO DE EDIFICACOES</td><td>37</td></tr><tr><td>MEDICO - REUMATOLOGIA         </td><td>37</td></tr><tr><td>GESTOR POL PUBL E GEST GOV    </td><td>36</td></tr><tr><td>RESID. SERVICO SOCIAL         </td><td>36</td></tr><tr><td>MAJOR COMBATENTE              </td><td>35</td></tr><tr><td>GAE DOUTOR                    </td><td>35</td></tr><tr><td>MEDICO - SAUDE PUBLICA        </td><td>35</td></tr><tr><td>ARQUITETO                     </td><td>35</td></tr><tr><td>ESCRIVAO DE POLICIA - PRIMEIRA</td><td>34</td></tr><tr><td>AUXILIAR DE ADMINISTRACAO</td><td>34</td></tr><tr><td>TERCEIRO SARGENTO             </td><td>34</td></tr><tr><td>TSOCIO - MOTORISTA            </td><td>34</td></tr><tr><td>ESP.ASS.SOCIAL- ASS. SOCIAL   </td><td>34</td></tr><tr><td>TECNICO QUIMICO</td><td>33</td></tr><tr><td>MEDICO-CANCEROL./ONC.CLINICA  </td><td>33</td></tr><tr><td>MED.RESID. - PSIQUIATRIA      </td><td>33</td></tr><tr><td>ANALISTA DE SISTEMAS          </td><td>32</td></tr><tr><td>PAPILOSCOPISTA POLICIAL- TERCE</td><td>32</td></tr><tr><td>ANALISTA JUR - DIREITO E LEG  </td><td>31</td></tr><tr><td>TECNICO ESPECIALIZADO         </td><td>31</td></tr><tr><td>MEDICO - CL. MED. QUEIMADOS   </td><td>31</td></tr><tr><td>RESID. FARMACIA               </td><td>31</td></tr><tr><td>MEDICO - HEMATOLOGIA          </td><td>31</td></tr><tr><td>OPERADOR DE CAIXA             </td><td>30</td></tr><tr><td>AUX.PORTARIA-ATIV.CULT.-ESPE  </td><td>30</td></tr><tr><td>TECNICO ELETRICISTA</td><td>30</td></tr><tr><td>FISCAL DE DEFESA DO CONSUMID  </td><td>30</td></tr><tr><td>MEDICO - PATOLOGIA CLINICA    </td><td>30</td></tr><tr><td>RESID. - ENFERM. OBSTETRICA   </td><td>30</td></tr><tr><td>FISCAL DE TRAFEGO             </td><td>29</td></tr><tr><td>MEDICO - GENERALISTA          </td><td>29</td></tr><tr><td>BIBLIOTECARIO                 </td><td>29</td></tr><tr><td>EE - INSPETOR DE TRAFEGO      </td><td>29</td></tr><tr><td>ANALISTA GESTAO FAZENDARIA    </td><td>29</td></tr><tr><td>PROFISSIONAL DE N�VEL SUPERIOR - PNS</td><td>28</td></tr><tr><td>TECNICO ELETRONICO</td><td>28</td></tr><tr><td>TEC.ASS.SOCIAL-AGENTE SOCIAL  </td><td>28</td></tr><tr><td>ANALISTA ASS EDUC - MEDICINA  </td><td>28</td></tr><tr><td>ECONOMISTA</td><td>27</td></tr><tr><td>PAPILOSCOPISTA POLICIAL- PRIME</td><td>27</td></tr><tr><td>ASSISTENTE ADM./DMTU II       </td><td>27</td></tr><tr><td>SECRETARIO LOGISTICO          </td><td>27</td></tr><tr><td>RESID. TERAPIA OCUPACIONAL    </td><td>27</td></tr><tr><td>MED.RESID. - OFTALMOLOGIA     </td><td>27</td></tr><tr><td>MEDICO - ACUPUNTURA           </td><td>27</td></tr><tr><td>AGENTE GE CONS LIMP           </td><td>27</td></tr><tr><td>AUXILIAR ATIV DO HEMOCENTRO   </td><td>27</td></tr><tr><td>AUX. DE SERV. GERAIS          </td><td>26</td></tr><tr><td>MAJOR PM                      </td><td>26</td></tr><tr><td>MUSICO                        </td><td>26</td></tr><tr><td>REPOSITOR                     </td><td>26</td></tr><tr><td>PROFISSIONAL DE SERVI�OS ADMINISTRATIVOS - PSA</td><td>26</td></tr><tr><td>TECNICO EM COMUNICACAO SOCIA  </td><td>26</td></tr><tr><td>AUX.ASS.SOC.-ASS BAS SERVSOC  </td><td>26</td></tr><tr><td>CORONEL PM                    </td><td>25</td></tr><tr><td>TECNICO - AG. ADMINISTRATIVO  </td><td>25</td></tr><tr><td>PENSAO INDENIZATORIA          </td><td>25</td></tr><tr><td>ANALISTA G.E.- SERV. SOCIAL   </td><td>25</td></tr><tr><td>PROCURADOR DF CATEGORIA I     </td><td>24</td></tr><tr><td>CAPITAO COMBATENTE            </td><td>24</td></tr><tr><td>AUX.PORTARIA-ATIV.CULTURAIS   </td><td>24</td></tr><tr><td>AUX.ASS.SOC.- AUX. COZINHA    </td><td>24</td></tr><tr><td>COORDENADOR                   </td><td>23</td></tr><tr><td>MEDICO - GERIATRIA            </td><td>23</td></tr><tr><td>RESID. SAUDE COLETIVA         </td><td>23</td></tr><tr><td>AGENTE - ENFERMAGEM           </td><td>23</td></tr><tr><td>TEC.ASS.SOC.-TEC.ASS.SOCIAL   </td><td>23</td></tr><tr><td>CADETE-DEMAIS ANOS</td><td>22</td></tr><tr><td>ARQUITETO</td><td>22</td></tr><tr><td>RESID. - ODONTOLOGO           </td><td>22</td></tr><tr><td>MEDICO - HOMEOPATIA           </td><td>22</td></tr><tr><td>ESP.ASS.SOC.-ASS APOSENTADO   </td><td>22</td></tr><tr><td>PERITO MED LEGISTA-PRIMEIRA CL</td><td>21</td></tr><tr><td>2 TENENTE PM                  </td><td>21</td></tr><tr><td>ESOCIO - ADMINISTRADOR        </td><td>21</td></tr><tr><td>INSTRUTOR EGOV                </td><td>21</td></tr><tr><td>ENGENHEIRO ELETRICISTA</td><td>21</td></tr><tr><td>MEDICO - PROCTOLOGIA          </td><td>21</td></tr><tr><td>MEDICO - ALERGIA E IMUNOLOGI  </td><td>21</td></tr><tr><td>MEDICO - CIR. CARDIOVASC. CA  </td><td>21</td></tr><tr><td>MEDICO - BRONCOESOFAGOLOGIA   </td><td>21</td></tr><tr><td>TEC.ASS.SOC.-ASS INTER S.SOC  </td><td>21</td></tr><tr><td>AUXILIAR ATIVIDADES CULTURAIS </td><td>21</td></tr><tr><td>AGENTE GE PORTARIA            </td><td>21</td></tr><tr><td>ANALISTA PLANEJ. ORCAMENTO    </td><td>21</td></tr><tr><td>AUXILIAR DE TOPOGRAFIA</td><td>20</td></tr><tr><td>AGENTE JUR - AG. PORTARIA     </td><td>20</td></tr><tr><td>MEDICO - MED. FIS. E REABILI  </td><td>20</td></tr><tr><td>JETON                         </td><td>20</td></tr><tr><td>CAIXA                         </td><td>19</td></tr><tr><td>ASSISTENTE TECNICO            </td><td>19</td></tr><tr><td>TECNICO MECANICO</td><td>19</td></tr><tr><td>AGENTE DE ATIV DO HEMOCENTRO  </td><td>19</td></tr><tr><td>TECNICO G.E.- TELEFONIA       </td><td>19</td></tr><tr><td>ANALISTA G.E.- AN. SISTEMA    </td><td>19</td></tr><tr><td>TEC.PLANEJ. ORCAMENTO         </td><td>19</td></tr><tr><td>AGENTE JUR - AG.PORTARIA.     </td><td>19</td></tr><tr><td>BALCONISTA                    </td><td>18</td></tr><tr><td>TEC.ASS.SOCIAL - MOTORISTA    </td><td>18</td></tr><tr><td>CORONEL 10%                   </td><td>18</td></tr><tr><td>MEDICO - TISIOLOGIA           </td><td>18</td></tr><tr><td>MEDICO-NEUROLOGIA PEDIATRICA  </td><td>18</td></tr><tr><td>MED.RESID-MEDICINA URGENCIA   </td><td>18</td></tr><tr><td>RESID. - SAUDE MENTAL         </td><td>18</td></tr><tr><td>TMF - TEC EM EDIFICACOES      </td><td>18</td></tr><tr><td>ESP.ASS.SOCIAL - ASSIST.SOC.  </td><td>17</td></tr><tr><td>ESP.ASS.SOCIAL - NUTRICAO     </td><td>17</td></tr><tr><td>PERITO CRIMINAL - SEGUNDA CLAS</td><td>17</td></tr><tr><td>MEDICO - GENETICA CLINICA     </td><td>17</td></tr><tr><td>MED.RESID. - NEUROCIRURGIA    </td><td>17</td></tr><tr><td>MED.RESID. - NEFROLOGIA       </td><td>17</td></tr><tr><td>TMF - TEC EM ELETROTECNICA    </td><td>17</td></tr><tr><td>ESP POL PUBL E GESTAO GOV     </td><td>17</td></tr><tr><td>AG POLICIAL DE CUSTODIA-PRIMEI</td><td>16</td></tr><tr><td>DELEGADO DE POLICIA - TERCEIRA</td><td>16</td></tr><tr><td>CONDUTOR DE VEICULOS</td><td>16</td></tr><tr><td>SOLDADO PM INATIVO            </td><td>16</td></tr><tr><td>TECNICO JUR - DATILOGRAFO     </td><td>16</td></tr><tr><td>MED.RESID. - DERMATOLOGIA     </td><td>16</td></tr><tr><td>CONTADOR                      </td><td>16</td></tr><tr><td>MED.RES.RAD.E DIAG.P/IMAGEM   </td><td>16</td></tr><tr><td>MED.RESID. - CARDIOLOGIA      </td><td>16</td></tr><tr><td>MED.RESID. - NEUROLOGIA       </td><td>16</td></tr><tr><td>ANALISTA FINANCAS CONTROLE    </td><td>16</td></tr><tr><td>ANALISTA JUR - AN. SISTEMAS   </td><td>15</td></tr><tr><td>MECANICO DE VEICULOS</td><td>15</td></tr><tr><td>TECNICO DE CONTABILIDADE</td><td>15</td></tr><tr><td>ANALISTA JUR - CONTABILIDADE  </td><td>15</td></tr><tr><td>MEDICO - CIRURGIA TORAXICA    </td><td>15</td></tr><tr><td>MEDICO ..                     </td><td>15</td></tr><tr><td>PERITO MED LEGISTA-TERCEIRA CL</td><td>14</td></tr><tr><td>AUXILIAR DE MANUTENCAO        </td><td>14</td></tr><tr><td>ANALISTA - DIREITO E LEGISL   </td><td>14</td></tr><tr><td>AUXILIAR DE LABORATORIO</td><td>14</td></tr><tr><td>TECNICO JUR - MOTORISTA       </td><td>14</td></tr><tr><td>DESENHISTA                    </td><td>14</td></tr><tr><td>PRIMEIRO TENENTE COMBATENTE   </td><td>14</td></tr><tr><td>FISICO                        </td><td>14</td></tr><tr><td>AGENTE G.E.- AUX MECANICA     </td><td>14</td></tr><tr><td>PROFESSOR CLASSE A            </td><td>14</td></tr><tr><td>TECNICO G.E.- SERV ART GRAFI  </td><td>14</td></tr><tr><td>EE - MECANICO                 </td><td>14</td></tr><tr><td>TMF - TEC EM CONTABILIDADE    </td><td>14</td></tr><tr><td>AMD - ADMINISTRADOR           </td><td>14</td></tr><tr><td>QUIMICO</td><td>13</td></tr><tr><td>OPERACAO DE MAQUINAS PESADAS</td><td>13</td></tr><tr><td>ASSISTENTE TECNICO/DMTU  I    </td><td>13</td></tr><tr><td>ESP.ASS.SOCIAL-ADMINISTRADOR  </td><td>13</td></tr><tr><td>MEDICO-HEMATO.E HEMOTERAPIA   </td><td>13</td></tr><tr><td>MEDICO - RADIOTERAPIA         </td><td>13</td></tr><tr><td>ANALISTA DE PROD. E SUPORTE   </td><td>13</td></tr><tr><td>RESID. FONOAUDIOLOGIA         </td><td>13</td></tr><tr><td>MED.RESID. - ENDOCRINOLOGIA   </td><td>13</td></tr><tr><td>AGENTE - RADIOLOGIA           </td><td>13</td></tr><tr><td>AGENTE - LABORATORIO          </td><td>13</td></tr><tr><td>TECNICO DE PROC. DE DADOS     </td><td>13</td></tr><tr><td>ANALISTA G.E.-C. CONTABEIS    </td><td>13</td></tr><tr><td>ANALISTA G.E.-DIR E LEGISLAC  </td><td>13</td></tr><tr><td>ESOCIO - ARTES MUSICA         </td><td>12</td></tr><tr><td>AUXILIAR DE ALMOXARIFADO      </td><td>12</td></tr><tr><td>ESP ATIV TRANSITO - MEDICINA  </td><td>12</td></tr><tr><td>ENGENHEIRO QUIMICO</td><td>12</td></tr><tr><td>TECNICO ESPECIALISTA</td><td>12</td></tr><tr><td>TELEDIGIFONISTA               </td><td>12</td></tr><tr><td>MED.RESID.MED.INT.PEDIATRICA  </td><td>12</td></tr><tr><td>MED.RESID-INFECTOLOGIA        </td><td>12</td></tr><tr><td>FARMACEUTICO BIOQUIMICO       </td><td>12</td></tr><tr><td>ECONOMISTA                    </td><td>12</td></tr><tr><td>MEDICO - MEDICINA NUCLEAR     </td><td>12</td></tr><tr><td>MED.RESID.-MED.INTENS.ADULTO  </td><td>12</td></tr><tr><td>ANALISTA G.E.-FONOAUDIOLOGIA  </td><td>12</td></tr><tr><td>TMF - TEC EM MECANICA         </td><td>12</td></tr><tr><td>AUX.ASS.SOC.-AUX.OP.SERV.SOC  </td><td>12</td></tr><tr><td>OFICIAL DE POSTO              </td><td>11</td></tr><tr><td>CABO PM INATIVO               </td><td>11</td></tr><tr><td>ENGENHEIRO ELETRONICO</td><td>11</td></tr><tr><td>T�CNICO EM COMERCIALIZA��O</td><td>11</td></tr><tr><td>ESOCIO - EDUCACAO FISICA      </td><td>11</td></tr><tr><td>ESP.ASS.SOCIAL - CONTADOR     </td><td>11</td></tr><tr><td>AUXILIAR DE TOPOGRAFO</td><td>11</td></tr><tr><td>ESOCIO - DIREITO E LEGISL.    </td><td>11</td></tr><tr><td>ANALISTA - ADMINISTRADOR      </td><td>11</td></tr><tr><td>MED.RESID. - NEONATALOGIA     </td><td>11</td></tr><tr><td>ANALISTA HEM - MEDICINA       </td><td>11</td></tr><tr><td>MEDICO - HEMOTERAPIA          </td><td>11</td></tr><tr><td>ANALISTA G.E.- BIBLIOTECA     </td><td>11</td></tr><tr><td>ANALISTA G.E.- MEDICINA       </td><td>11</td></tr><tr><td>ESP.ASS.SOC.-TEC.EDUC.FISICA  </td><td>11</td></tr><tr><td>TECNICO GE APOIO ADMINISTRAT  </td><td>11</td></tr><tr><td>AUX.ASS.SOC.-AUX.OP.SER.ADM.  </td><td>11</td></tr><tr><td>ESP.SERV.SOC-ASS.SUP.S.SOCIA  </td><td>11</td></tr><tr><td>EE - MOTORISTA                </td><td>11</td></tr><tr><td>ANA. APOIO AS ATIV. PCDF      </td><td>11</td></tr><tr><td>TEC.ASS.SOC.-ASS.INTER.S.SOC  </td><td>11</td></tr><tr><td>ENGENHEIRO FLORESTAL</td><td>10</td></tr><tr><td>ARTIFICE ESPECIALIZADO</td><td>10</td></tr><tr><td>ESOCIO - ARTES CENICAS        </td><td>10</td></tr><tr><td>ENGENHEIRO AMBIENTAL</td><td>10</td></tr><tr><td>CAPITAO ADMINISTRATIVO        </td><td>10</td></tr><tr><td>AUXILIAR DE ADMINISTRACAO     </td><td>10</td></tr><tr><td>PROCURADOR CAT. ESP. - QE     </td><td>10</td></tr><tr><td>MED.RESID.ALERGIA IMUNO.PED.  </td><td>10</td></tr><tr><td>MEDICO-CIR.CABECA E PESCOCO   </td><td>10</td></tr><tr><td>MED.RESID. - PNEUMOLOGIA      </td><td>10</td></tr><tr><td>AGENTE G.E.- ART GRAFICAS     </td><td>10</td></tr><tr><td>TECNICO G.E.- SERV MECANICA   </td><td>10</td></tr><tr><td>PROCURADOR 2 CAT. - QE        </td><td>9</td></tr><tr><td>JOVEM APRENDIZ                </td><td>9</td></tr><tr><td>TORNEIRO MECANICO</td><td>9</td></tr><tr><td>TOPOGRAFO</td><td>9</td></tr><tr><td>2 TENENTE QOPMA               </td><td>9</td></tr><tr><td>SOLDADO PM COMBATENTE         </td><td>9</td></tr><tr><td>EDUCADOR SOCIAL-3A CLASSE     </td><td>9</td></tr><tr><td>PROFISSIONAL DE SUPORTE OPERACIONAL - PSO</td><td>9</td></tr><tr><td>SEGUNDO TENENTE COMBATENTE    </td><td>9</td></tr><tr><td>MED.RESID. - GASTROENTEROLOG  </td><td>9</td></tr><tr><td>MED.RESID. - UROLOGIA         </td><td>9</td></tr><tr><td>ASSISTENTE GAPS TEC LAB HIST  </td><td>9</td></tr><tr><td>MED.RESID. - RADIOLOGISTA     </td><td>9</td></tr><tr><td>MED.RESID. - ONCOLOGIA CLINI  </td><td>9</td></tr><tr><td>AUXILIAR TECNICO DE PESQUISA  </td><td>9</td></tr><tr><td>MEDICO-PALIATIVISTA           </td><td>9</td></tr><tr><td>MED.RESID. - PATOLOGIA CLINI  </td><td>9</td></tr><tr><td>TECNICO G.E.- MESTRE A.GRAFI  </td><td>9</td></tr><tr><td>AMD - ADVOGADO                </td><td>9</td></tr><tr><td>AUX.ASS.SOC.-ASS BAS.S. SOC.  </td><td>9</td></tr><tr><td>AMT - ENGENHEIRO CIVIL        </td><td>9</td></tr><tr><td>AUX.ASS.SOC.-AG. DE PORTARIA  </td><td>9</td></tr><tr><td>AMT - ENGENHEIRO MECANICO     </td><td>9</td></tr><tr><td>TEC.ASS.SOC.-TELEFONISTA      </td><td>9</td></tr><tr><td>TEC.ASS.SOC.-AUX.SERV.ADMINI  </td><td>9</td></tr><tr><td>AMT - ENGENHEIRO ELETRICISTA  </td><td>9</td></tr><tr><td>TECNICO EM SEGURANCA DO TRABALHO</td><td>8</td></tr><tr><td>ARMAZENISTA</td><td>8</td></tr><tr><td>AGENTE DE POLICIA - TERCEIRA C</td><td>8</td></tr><tr><td>ASSISTENTE TECNICO/DMTU II    </td><td>8</td></tr><tr><td>AVALIADOR</td><td>8</td></tr><tr><td>MOTORISTA MANOBREIRO          </td><td>8</td></tr><tr><td>ENGENHEIRO MECANICO</td><td>8</td></tr><tr><td>TELEFONISTA                   </td><td>8</td></tr><tr><td>PROFISSIONAL DE APOIO T�CNICO - PAT</td><td>8</td></tr><tr><td>RES.ODO.C.TRAUM.BUCO M.FAC.   </td><td>8</td></tr><tr><td>PROGRAMADOR                   </td><td>8</td></tr><tr><td>ANALISTA G.E.-ADMINISTRACAO   </td><td>8</td></tr><tr><td>AGENTE GE COPA E COZINHA      </td><td>8</td></tr><tr><td>EE - ELETRICISTA              </td><td>8</td></tr><tr><td>AUX.ASS.SOC.-COPEIRA/MERENDE  </td><td>8</td></tr><tr><td>PROCURADOR CATEGORIA - I      </td><td>8</td></tr><tr><td>ESP.ASS.SOC.-TEC.ASS.EDUC     </td><td>8</td></tr><tr><td>ESPECIALISTA SOCIOEDUCATIVO   </td><td>8</td></tr><tr><td>ASSISTENTE ADMINISTRATIVO II</td><td>7</td></tr><tr><td>DIRETOR</td><td>7</td></tr><tr><td>ESP.ASS.SOCIAL-TEC.EDUC.FISI  </td><td>7</td></tr><tr><td>3 SARGENTO PM COMBATENTE      </td><td>7</td></tr><tr><td>TECNICO JUR - TECNOL.INFORM   </td><td>7</td></tr><tr><td>ASPIRANTE A OFICIAL           </td><td>7</td></tr><tr><td>MED.RESID. - CIRURGIA PLASTI  </td><td>7</td></tr><tr><td>MEDICO - CIR. CARD.-PERIFERI  </td><td>7</td></tr><tr><td>TECNICO EM ENFERMAGEM-APO     </td><td>7</td></tr><tr><td>TECNICO EM ASSUNTOS EDUC.     </td><td>7</td></tr><tr><td>MEDICO-CIRURGIA ONCOLOGICA    </td><td>7</td></tr><tr><td>AGENTE GE SERVICOS GERAIS     </td><td>7</td></tr><tr><td>ESP.ASS.SOC- ASS. SOCIAL      </td><td>7</td></tr><tr><td>TECNICO GE SERV ESP OB CIVIS  </td><td>7</td></tr><tr><td>TECNICO EM CONTABILIDADE      </td><td>7</td></tr><tr><td>AUX.ASS.SOC.-AUX.OP.SER.DIV.  </td><td>7</td></tr><tr><td>AUXILIAR TRANSPORTE URBANO    </td><td>7</td></tr><tr><td>TMF - TEC EM ELETRONICA       </td><td>7</td></tr><tr><td>PROCURADOR AUTARQUICO-ESPECIAL</td><td>7</td></tr><tr><td>MEDICO-PSIQUIATRIA            </td><td>7</td></tr><tr><td>DIRETOR EXECUTIVO BRB</td><td>6</td></tr><tr><td>ESOCIO - TEC. ASS. EDUCAC.    </td><td>6</td></tr><tr><td>AGENTE COMERCIAL              </td><td>6</td></tr><tr><td>ASSESSOR ESPECIAL             </td><td>6</td></tr><tr><td>ESOCIO - TEC. EDUC. FISICA    </td><td>6</td></tr><tr><td>SEGUNDO TENENTE ADMINISTRATIVO</td><td>6</td></tr><tr><td>ESOCIO - EDUCADOR SOCIAL      </td><td>6</td></tr><tr><td>ACOUGUEIRO                    </td><td>6</td></tr><tr><td>TECNICO DE CONTABILIDADE      </td><td>6</td></tr><tr><td>AUXILIAR DE ENFERMAGEM DO TRABALHO</td><td>6</td></tr><tr><td>CONSULTOR DA PRESID�NCIA</td><td>6</td></tr><tr><td>CORONEL 20%                   </td><td>6</td></tr><tr><td>TECNICO DE INFORMATICA (EM EXTINCAO)</td><td>6</td></tr><tr><td>T�CNICO EM PROC. DE DADOS</td><td>6</td></tr><tr><td>ASSISTENTE ADMINISTRATIVO LL</td><td>6</td></tr><tr><td>CONSELHEIRO DO CONSAD - BRB</td><td>6</td></tr><tr><td>ESOCIO - ARTES PLASTICAS      </td><td>6</td></tr><tr><td>ASSISTENTE GEST ASS PUB SAUD  </td><td>6</td></tr><tr><td>MED.RESID. - CIRURGIA PEDIAT  </td><td>6</td></tr><tr><td>MED.RESID. - REUMATOLOGIA     </td><td>6</td></tr><tr><td>MED.RESID. - TERAPIA INT. AD  </td><td>6</td></tr><tr><td>MED.RESID. - OTORRINOLARINGO  </td><td>6</td></tr><tr><td>ESTATISTICO                   </td><td>6</td></tr><tr><td>MED.RESID.-CIRURGIA VASCULAR  </td><td>6</td></tr><tr><td>MEDICO-ENDOSCOPIA             </td><td>6</td></tr><tr><td>MED.RESID. - GENETICA MEDICA  </td><td>6</td></tr><tr><td>MEDICO-CIRURG. AP. DIGESTIVO  </td><td>6</td></tr><tr><td>AGENTE G.E.- MAN DE PISCINA   </td><td>6</td></tr><tr><td>TECNICO G.E.- CONTABILIDADE   </td><td>6</td></tr><tr><td>AMT - ENGENHEIRO DE TELECOM.  </td><td>6</td></tr><tr><td>REQUISITADO                   </td><td>6</td></tr><tr><td>AUX.ASS.SOC-ASSIST.BAS.S.SOC  </td><td>6</td></tr><tr><td>ANA.GES.FISC.ROD.LEI 5195/13  </td><td>6</td></tr><tr><td>AUXILIAR DE EDUC VIGILANCIA   </td><td>6</td></tr><tr><td>TMF - TECNICO EM ESTRADAS     </td><td>6</td></tr><tr><td>ANALISTA JUR - BIBLIOTECONOM  </td><td>5</td></tr><tr><td>CONSELHEIRO DO CONFIS - BRB</td><td>5</td></tr><tr><td>BIOLOGO</td><td>5</td></tr><tr><td>BORRACHEIRO                   </td><td>5</td></tr><tr><td>SOLDADOR</td><td>5</td></tr><tr><td>ALUNO OFICIAL DEMAIS ANOS     </td><td>5</td></tr><tr><td>PEDAGOGO</td><td>5</td></tr><tr><td>DESENHISTA</td><td>5</td></tr><tr><td>VIGIA                         </td><td>5</td></tr><tr><td>TEC REGUL SERV PUBLICOS       </td><td>5</td></tr><tr><td>TEC. NIVEL SUPERIOR/DMTU I    </td><td>5</td></tr><tr><td>MEDICO DO TRABALHO</td><td>5</td></tr><tr><td>TECNICO DE TELECOMUNICACOES</td><td>5</td></tr><tr><td>CABO PM COMBATENTE            </td><td>5</td></tr><tr><td>ESOCIO - CONTADOR             </td><td>5</td></tr><tr><td>INSTRUTOR FUNAB               </td><td>5</td></tr><tr><td>MED.RESID. FISICA E REABILIT  </td><td>5</td></tr><tr><td>AGENTE DE COLETA              </td><td>5</td></tr><tr><td>MED.RESID. - REPROD. HUMANA   </td><td>5</td></tr><tr><td>PASUS                         </td><td>5</td></tr><tr><td>RESID. MEDICO DO TRABALHO     </td><td>5</td></tr><tr><td>MED.PEDIATRIA-C/FORM.CARDIOL  </td><td>5</td></tr><tr><td>ANALISTA G.E.- ARQUIVO        </td><td>5</td></tr><tr><td>AGENTE G.E.- SERV AUX AGROPE  </td><td>5</td></tr><tr><td>AMT - ARQUITETO               </td><td>5</td></tr><tr><td>ANALISTA EDUC.ADVOCACIA       </td><td>5</td></tr><tr><td>PROCURADOR AUTARQUICO-1A. CAT.</td><td>5</td></tr><tr><td>TEC. DES. FISC. AGROP L5195/13</td><td>5</td></tr><tr><td>TOPOGRAFO                     </td><td>5</td></tr><tr><td>TECNICO DE NIVEL SUPERIOR     </td><td>5</td></tr><tr><td>TMF - TEC EM INFORMATICA      </td><td>5</td></tr><tr><td>AMD - ANALISTA DE SISTEMAS    </td><td>5</td></tr><tr><td>ANALISTA DE TRANSP. URBANOS   </td><td>5</td></tr><tr><td>ANALISTA DES FISC AGRO-MEDIC  </td><td>5</td></tr><tr><td>ESOCIO - ESTATISTICO          </td><td>4</td></tr><tr><td>ANALISTA JUR - ADMINISTRADOR  </td><td>4</td></tr><tr><td>CONSULTOR DA DIRETORIA</td><td>4</td></tr><tr><td>RECAUCHUTADOR                 </td><td>4</td></tr><tr><td>TENENTE-CORONEL PM MEDICO     </td><td>4</td></tr><tr><td>ESP.ASS.SOCIAL - ECONOMISTA   </td><td>4</td></tr><tr><td>PRIMEIRO TENENTE ADMINIST.    </td><td>4</td></tr><tr><td>ENGENHEIRO DE SEGURANCA DO TRABALHO</td><td>4</td></tr><tr><td>GESTOR DE RESIDUOS SOLIDOS    </td><td>4</td></tr><tr><td>TECNICO EM FISCALIZA��O</td><td>4</td></tr><tr><td>ANA. DE APOIO ATIV. PCDF      </td><td>4</td></tr><tr><td>ADVOGADO                      </td><td>4</td></tr><tr><td>CORONEL PM MEDICO             </td><td>4</td></tr><tr><td>PROCURADOR 1 CAT. - QE        </td><td>4</td></tr><tr><td>MED.RESID. - M.GERAL E COMUN  </td><td>4</td></tr><tr><td>MED RESID CIRURGIA DIGESTIVA  </td><td>4</td></tr><tr><td>MED.RES-ENDOCRINOPEDIATRIA    </td><td>4</td></tr><tr><td>AUDITOR DE ATIV. URBANAS      </td><td>4</td></tr><tr><td>MED.RES-NEUROLOGIA PEDIATRIC  </td><td>4</td></tr><tr><td>MED.RESID. - MASTOLOGIA       </td><td>4</td></tr><tr><td>MED.RESID.MEDICINA FETAL      </td><td>4</td></tr><tr><td>AUX.OP.SERV.DIV. - LAVANDERI  </td><td>4</td></tr><tr><td>MED.RESID-PNEUMOLOGIA PEDIAT  </td><td>4</td></tr><tr><td>MED.RESID.-CANCEROL. CLINICA  </td><td>4</td></tr><tr><td>1 SARGENTO PM COMBATENTE      </td><td>4</td></tr><tr><td>MEDICO - MEDICINA DE EMERG.   </td><td>4</td></tr><tr><td>MED.RESID. - COLOPROCTOLOGIA  </td><td>4</td></tr><tr><td>MED.RESID. - HEMATOLOGIA      </td><td>4</td></tr><tr><td>MED.RESID. - ACUPUNTURA       </td><td>4</td></tr><tr><td>PROFESSOR CLASSE C            </td><td>4</td></tr><tr><td>AGENTE G.E.- AUX MARCENARIA   </td><td>4</td></tr><tr><td>ANALISTA G.E.- COM. SOCIAL    </td><td>4</td></tr><tr><td>TSOCIO - AUX.ENFERMAGEM       </td><td>4</td></tr><tr><td>ESP.ASS.SOC.-ESP.ASS.SOCIAL   </td><td>4</td></tr><tr><td>MEDICO-CARDIOLOGIA            </td><td>4</td></tr><tr><td>MEDICO -MEDICINA DO TRABALHO  </td><td>4</td></tr><tr><td>TEC.ASS.SOC.-ELET.MANUTENCAO  </td><td>4</td></tr><tr><td>TEC.ASS.SOC. - MECANICO       </td><td>4</td></tr><tr><td>AUX DE EDUCAC  CONS LIMP      </td><td>4</td></tr><tr><td>TMF - TEC TELECOMUNICACOES    </td><td>4</td></tr><tr><td>EE - AUX. SERVICOS GERAIS     </td><td>4</td></tr><tr><td>AMD - CONTADOR                </td><td>4</td></tr><tr><td>TMF - TEC SEG DO TRABALHO     </td><td>4</td></tr><tr><td>MEDICO-ORTOP.E TRAUMATOLOGIA  </td><td>4</td></tr><tr><td>TEC.ASS.SOCIAL - MARCENEIRO   </td><td>3</td></tr><tr><td>MEMBRO EFETIVO DO COMIT� DE REMUNERA��O</td><td>3</td></tr><tr><td>GESTOR EM ASSUNTOS T�TICOS</td><td>3</td></tr><tr><td>DIRETOR DISTRIB.TITULOS E VALORES MOBILIARIOS S.A.</td><td>3</td></tr><tr><td>TECNICO FLORESTAL</td><td>3</td></tr><tr><td>ASSESSORA ASSUNTOS ESTRAT�GICOS</td><td>3</td></tr><tr><td>MAJOR COMPLEMENTAR            </td><td>3</td></tr><tr><td>EMPREGO EM COMISSAO</td><td>3</td></tr><tr><td>ENGENHEIRO/DMTU II            </td><td>3</td></tr><tr><td>TSOCIO - PINTOR               </td><td>3</td></tr><tr><td>ALMOXARIFE</td><td>3</td></tr><tr><td>MEMBRO DO CAE</td><td>3</td></tr><tr><td>ESP.ASS.SOCIAL-TEC.ASS.EDUCA  </td><td>3</td></tr><tr><td>TSOCIO - AUX. ENFERMAGEM      </td><td>3</td></tr><tr><td>TEC.ASS.SOCIAL - SERRALHEIRO  </td><td>3</td></tr><tr><td>CONSELHEIRO DO CONFIS - CFI</td><td>3</td></tr><tr><td>TECNICO POL PUB E GEST GOV    </td><td>3</td></tr><tr><td>ANALISTA DE BANCO DE DADOS</td><td>3</td></tr><tr><td>TECNICO - TEC CONTABILIDADE   </td><td>3</td></tr><tr><td>ANALISTA DE ORGANIZ. E SISTEMAS</td><td>3</td></tr><tr><td>AUXILIAR DE ADMINISTRACAO (EM EXTINCAO)</td><td>3</td></tr><tr><td>DESENHISTA (EM EXTINCAO)</td><td>3</td></tr><tr><td>OPERADOR DE TACOGRAFIA        </td><td>3</td></tr><tr><td>CONSELHEIRO                   </td><td>3</td></tr><tr><td>CARTAZISTA                    </td><td>3</td></tr><tr><td>CARREGADOR                    </td><td>3</td></tr><tr><td>ARTIFICE ESPECIALIZADO        </td><td>3</td></tr><tr><td>M�DICO DO TRABALHO</td><td>3</td></tr><tr><td>GEOLOGO</td><td>3</td></tr><tr><td>ANAL. DE TRANSITO L5195/13    </td><td>3</td></tr><tr><td>CONSELHEIRO DO CONFIS - DTVM</td><td>3</td></tr><tr><td>RESID. PSIQUIAT.INFAN.ADOLES  </td><td>3</td></tr><tr><td>MED.RESID.MEDICINA PALIATIVA  </td><td>3</td></tr><tr><td>MEDICO RADIOLOGISTA           </td><td>3</td></tr><tr><td>MEDICO-COLOPROCTOLOGISTA      </td><td>3</td></tr><tr><td>ANALISTA DE O & M             </td><td>3</td></tr><tr><td>SUBTENENTE PM COMBATENTE      </td><td>3</td></tr><tr><td>MEDICO - ELETROMIOGRAFIA      </td><td>3</td></tr><tr><td>1 TENENTE QOPMA               </td><td>3</td></tr><tr><td>MED.RESID. - TER. INT. PEDIA  </td><td>3</td></tr><tr><td>MED.RES.GASTROENT.PEDIATRICA  </td><td>3</td></tr><tr><td>RESIDENTE- ENFERMAGEM EM UTI  </td><td>3</td></tr><tr><td>GEOGRAFO                      </td><td>3</td></tr><tr><td>ENFERMEIRO-APO.               </td><td>3</td></tr><tr><td>TECNICO G.E.- DESENHO         </td><td>3</td></tr><tr><td>CARGO NAO CADASTRADO          </td><td>3</td></tr><tr><td>ESP.GES.FISC.ROD.LEI 5195/13  </td><td>3</td></tr><tr><td>AG.ATIV.COMPLEM.SSP-ANATOMIA  </td><td>3</td></tr><tr><td>AMT - ENGENHEIRO ELETRONICO   </td><td>3</td></tr><tr><td>AUXILIA DE EDUC PORTARIA      </td><td>3</td></tr><tr><td>CARGO P/PG.AUX.ALIMENTACAO    </td><td>3</td></tr><tr><td>AUXILIAR DE APOIO ATIV PCDF   </td><td>3</td></tr><tr><td>ANA. DES. FISC. AGROP L5195/13</td><td>3</td></tr><tr><td>ENG DE SEG DO TRABALHO        </td><td>3</td></tr><tr><td>FISCAL TRIBUTARIO             </td><td>3</td></tr><tr><td>TECNICO EM SEG DO TRABALHO    </td><td>3</td></tr><tr><td>AMD - ECONOMISTA              </td><td>3</td></tr><tr><td>GESTOR POL PUBL GESTAO GOV    </td><td>3</td></tr><tr><td>ANA. APOIO AS ATIV PCDF       </td><td>3</td></tr><tr><td>TEC.ASS.SOCIAL - PINTOR       </td><td>3</td></tr><tr><td>AMD - PEDAGOGO                </td><td>3</td></tr><tr><td>MEMBRO EFETIVO DO COMIT� DE AUDITORIA</td><td>2</td></tr><tr><td>TSOCIO - DESENHISTA           </td><td>2</td></tr><tr><td>ASSISTENTE ADM./DMTU III      </td><td>2</td></tr><tr><td>TEC.ASS.SOC.-AG.ATIV.AGROP.   </td><td>2</td></tr><tr><td>JORNALISTA</td><td>2</td></tr><tr><td>PEDREIRO                      </td><td>2</td></tr><tr><td>TEC. ESPEC. EM MANUTENCAO     </td><td>2</td></tr><tr><td>AUXILIAR ADM./DMTU            </td><td>2</td></tr><tr><td>TECNICO EM AGRIMENSURA</td><td>2</td></tr><tr><td>TEC.ASS.SOCIAL - AG. ADM.     </td><td>2</td></tr><tr><td>GEN BRIGADA                   </td><td>2</td></tr><tr><td>FUNDIDOR</td><td>2</td></tr><tr><td>ESTOFADOR                     </td><td>2</td></tr><tr><td>AG POLICIAL DE CUSTODIA-SEGUND</td><td>2</td></tr><tr><td>GESTOR EM ADMINISTRA��O POR OBJETIVOS</td><td>2</td></tr><tr><td>GEOGRAFO</td><td>2</td></tr><tr><td>PSICOLOGO</td><td>2</td></tr><tr><td>DIRETOR DA CFI</td><td>2</td></tr><tr><td>COORDENADOR DE PLANEJAMENTO</td><td>2</td></tr><tr><td>TEC.ASS.SOCIAL-COSTUREIRO     </td><td>2</td></tr><tr><td>ANALISTA JUR - ARQUIVOLOGIA   </td><td>2</td></tr><tr><td>CONSULTOR JURIDICO</td><td>2</td></tr><tr><td>AUX. DE ENFERM. DO TRABALHO</td><td>2</td></tr><tr><td>1 TENENTE PM MEDICO           </td><td>2</td></tr><tr><td>ASSISTENTE ADMINISTRATIVO L</td><td>2</td></tr><tr><td>TECNICO JUR - ELET E COMUNIC  </td><td>2</td></tr><tr><td>T�CNICO EM SEG. DO TRABALHO</td><td>2</td></tr><tr><td>PEDAGOGO/DMTU                 </td><td>2</td></tr><tr><td>AJUDANTE DE POSTO</td><td>2</td></tr><tr><td>ASSISTENTE SOCIAL</td><td>2</td></tr><tr><td>TECNICO DE INFORMATICA        </td><td>2</td></tr><tr><td>TECNICO EM RECURSOS HUMANOS</td><td>2</td></tr><tr><td>TECNICO EM COMUNICACAO SOCIAL</td><td>2</td></tr><tr><td>ANALISTA JUR - FARMACIA       </td><td>2</td></tr><tr><td>AUXILIAR DE PROCESSAMENTO DE DADOS</td><td>2</td></tr><tr><td>ARQUIVISTA</td><td>2</td></tr><tr><td>ELETRICISTA DE INSTALACOES</td><td>2</td></tr><tr><td>CHEFE DE GABINETE</td><td>2</td></tr><tr><td>ANALISTA JUR - JORNALISMO     </td><td>2</td></tr><tr><td>ASSISTENTE OPERACIONAL</td><td>2</td></tr><tr><td>ESCRIVAO DE POLICIA - TERCEIRA</td><td>2</td></tr><tr><td>CONTADORA</td><td>2</td></tr><tr><td>GESTOR EM ASSUNTOS ESTRAT�GICOS</td><td>2</td></tr><tr><td>TECNICO DE SEGURAN�A DO TRABALHO</td><td>2</td></tr><tr><td>CAPITAO MANUTENCAO            </td><td>2</td></tr><tr><td>GESTOR EM ASSUNTOS OPERACIONAIS</td><td>2</td></tr><tr><td>BIBLIOTECARIO</td><td>2</td></tr><tr><td>CONFEITEIRO                   </td><td>2</td></tr><tr><td>PRIMEIRO SARGENTO MANUTENCAO  </td><td>2</td></tr><tr><td>MEDICO - CITOPATOLOGIA        </td><td>2</td></tr><tr><td>RESID. ENFERM. NEFROLOGIA     </td><td>2</td></tr><tr><td>MED.RESID. - ENDOSCOPIA RESP  </td><td>2</td></tr><tr><td>ANA. GEST EDUCACIONAL L5195/  </td><td>2</td></tr><tr><td>ASSIST.DE SERV.DE ENGENHARIA  </td><td>2</td></tr><tr><td>MED.RESID. - CIRURGIA TORAXI  </td><td>2</td></tr><tr><td>MED.RESID. - HEPATOLOGIA      </td><td>2</td></tr><tr><td>TECNICO DE PLANEJAMENTO       </td><td>2</td></tr><tr><td>DOCUMENTADOR                  </td><td>2</td></tr><tr><td>RECEPCIONISTA                 </td><td>2</td></tr><tr><td>FISIOTERAPEUTA-APO.           </td><td>2</td></tr><tr><td>RESID.MED.CIRURGIA TRAUMA     </td><td>2</td></tr><tr><td>REVISOR                       </td><td>2</td></tr><tr><td>2 SARGENTO PM COMBATENTE      </td><td>2</td></tr><tr><td>MED RESID ENDOSC. GINECOLOGI  </td><td>2</td></tr><tr><td>RESID.MED. ECOCARDIOGRAFIA    </td><td>2</td></tr><tr><td>MED.RESID. - ALERGIA E IMUNO  </td><td>2</td></tr><tr><td>TECNICO G.E.- OP MAQ PESADAS  </td><td>2</td></tr><tr><td>GESTOR POL PUB E GET GOV      </td><td>2</td></tr><tr><td>ANALISTA G.E.- ECONOMIA       </td><td>2</td></tr><tr><td>AMT - ENGENHEIRO SEG. TRAB.   </td><td>2</td></tr><tr><td>PROFESSOR DE EDUCACAO BASICA  </td><td>2</td></tr><tr><td>AMD - COMUNICOLOGO            </td><td>2</td></tr><tr><td>AMT - ENGENHEIRO AMBIENTAL    </td><td>2</td></tr><tr><td>MARCENEIRO CLASSE ESPECIAL    </td><td>2</td></tr><tr><td>ASSIST.DE APOIO ATIV. PCDF    </td><td>2</td></tr><tr><td>TEC.ASS.SOC.-ALET.MANUT.TEL.  </td><td>2</td></tr><tr><td>ESP.ASS.SOC.-ADMINISTRADOR    </td><td>2</td></tr><tr><td>AUX.PORTARIA-ATIV.CULTURAIS1  </td><td>2</td></tr><tr><td>TEC.EM CONTAB. CLASSE ESPECI  </td><td>2</td></tr><tr><td>TSOCIO - PROFESSOR CLASSE A   </td><td>2</td></tr><tr><td>TEC.ASS.SOC.-COSTUREIRO       </td><td>2</td></tr><tr><td>AUX.ASS.SOC.-AUX.DE MAR.      </td><td>2</td></tr><tr><td>AUX.ASS.SOC.-LAVADEIRA/PASSA  </td><td>2</td></tr><tr><td>GEST POL PUB GEST GOV L5195/13</td><td>2</td></tr><tr><td>TMF - ENFERMAGEM DO TRABALHO  </td><td>2</td></tr><tr><td>FISCAL ATIV URBANAS - OEU     </td><td>2</td></tr><tr><td>AMD - PSICOLOGO               </td><td>2</td></tr><tr><td>AMD - ASSISTENTE SOCIAL       </td><td>2</td></tr><tr><td>TECNICO GE SEC ESCOLAR        </td><td>2</td></tr><tr><td>AMD - ARQUIVISTA              </td><td>2</td></tr><tr><td>TEC.ASS.SOC.-AG.ATIV AGROP.   </td><td>2</td></tr><tr><td>TSOCIO - OPERADOR GRAFICO     </td><td>1</td></tr><tr><td>ASSESSOR JUR�DICO</td><td>1</td></tr><tr><td>EDUCADOR SOCIAL-1A CLASSE     </td><td>1</td></tr><tr><td>ESP.ASS.SOCIAL - COM. SOCIAL  </td><td>1</td></tr><tr><td>CORREGEDOR</td><td>1</td></tr><tr><td>COORD. DE SA�DE, SEGURAN�A E DESENV. HUMANO</td><td>1</td></tr><tr><td>PSICOLOGO/DMTU                </td><td>1</td></tr><tr><td>TENENTE CORONEL MEDICO        </td><td>1</td></tr><tr><td>ELETRICISTA/DMTU              </td><td>1</td></tr><tr><td>ASSESSORA DE IMPRENSA</td><td>1</td></tr><tr><td>PUBLICITARIO</td><td>1</td></tr><tr><td>GERENTE DE TECNOLOGIA DA INFORMA��O</td><td>1</td></tr><tr><td>PINTOR/DMTU                   </td><td>1</td></tr><tr><td>TECNICO ESPECIALIZADO (EM EXTINCAO)</td><td>1</td></tr><tr><td>ENGENHEIRA CIVIL</td><td>1</td></tr><tr><td>COORD. DE APOIO AOS �RG�OS COLEGIADOS</td><td>1</td></tr><tr><td>ASSESSOR DA DIRETORIA ADM-FINANCEIRA E REL C/ INVESTIDORES</td><td>1</td></tr><tr><td>ENGENHEIRO DE SEG. DO TRABALHO</td><td>1</td></tr><tr><td>DIRETOR GERAL DE EMPRESA E ORGANIZACAO</td><td>1</td></tr><tr><td>AUDITOR CHEFE</td><td>1</td></tr><tr><td>ARQUITETO/DMTU                </td><td>1</td></tr><tr><td>ASSISTENTE  APOIO ATIV. PCDF  </td><td>1</td></tr><tr><td>SEGUNDO TENENTE MANUTENCAO    </td><td>1</td></tr><tr><td>GERENTE DE �RG�OS COLEGIADOS</td><td>1</td></tr><tr><td>PADEIRO                       </td><td>1</td></tr><tr><td>COORDENADOR ADM E SUPORTE OPERACIONAL</td><td>1</td></tr><tr><td>GERENTE DE RELA��ES COM INVESTIDORES</td><td>1</td></tr><tr><td>ENGENHEIRO AGRIMENSOR</td><td>1</td></tr><tr><td>ASSITENTE DE REFRIGERA��O</td><td>1</td></tr><tr><td>ANALISTA - ESPECIALISTA RH    </td><td>1</td></tr><tr><td>ANALISTA - JORNALISMO         </td><td>1</td></tr><tr><td>BORRACHEIRO</td><td>1</td></tr><tr><td>ENGENHEIRO AGRONOMO</td><td>1</td></tr><tr><td>AGENTE DE TELECOMUNICACOES</td><td>1</td></tr><tr><td>ENGENHEIRO/DMTU I             </td><td>1</td></tr><tr><td>COORDENADORA ADM DE PESSOAL</td><td>1</td></tr><tr><td>3o. SGTO. COND. E OPE. VIATURA</td><td>1</td></tr><tr><td>DIRETOR JUR�DICO BRB</td><td>1</td></tr><tr><td>TESOUREIRO AUXILIAR</td><td>1</td></tr><tr><td>TECNICO DE COMERCIALIZACAO    </td><td>1</td></tr><tr><td>ELETRICISTA                   </td><td>1</td></tr><tr><td>PRESIDENTE DO COMIT� DE AUDITORIA</td><td>1</td></tr><tr><td>ATENDENTE DE AMBULATORIO      </td><td>1</td></tr><tr><td>COORD. DE GEST�O DOCUMENTAL</td><td>1</td></tr><tr><td>GESTOR EM ASSUNTOS DOCUMENTAIS</td><td>1</td></tr><tr><td>TENENTE-CORONEL PM DENTISTA   </td><td>1</td></tr><tr><td>TEC.ASS.SOCIAL- OPER GRAFICO  </td><td>1</td></tr><tr><td>CAPITAO COMPLEMENTAR          </td><td>1</td></tr><tr><td>TEC. EM RECURSOS HUMANOS      </td><td>1</td></tr><tr><td>TEC.ASS.SOC.-ELET.MANUT.TEL.  </td><td>1</td></tr><tr><td>MECANICO AUTOMOTIVO           </td><td>1</td></tr><tr><td>TEC.ASS.SOC -ELET.MANUTENCAO  </td><td>1</td></tr><tr><td>TECNICO DE ADM PUBLICA AG XV  </td><td>1</td></tr><tr><td>TEC. EM SEG. DO TRABALHO      </td><td>1</td></tr><tr><td>GERENTE DE PLANEJAMENTO E DE GEST�O DE RISCOS</td><td>1</td></tr><tr><td>AUXILIAR DE SERVI�OS GERAIS</td><td>1</td></tr><tr><td>OPERADOR DE VHF               </td><td>1</td></tr><tr><td>ASSESSOR ASSUNTOS ESTRAT�GICOS</td><td>1</td></tr><tr><td>OUVIDORA</td><td>1</td></tr><tr><td>COORD. OR�AMENT�RIO E PATRIMONIAL</td><td>1</td></tr><tr><td>COORDENADORA FINANCEIRA</td><td>1</td></tr><tr><td>MAJOR PM MEDICO               </td><td>1</td></tr><tr><td>ASSESSORA DA DIRETORIA DE REGULA��O E DE FISCALIZA��ES</td><td>1</td></tr><tr><td>ESP.ASS.SOCIAL - ODONTOLOGO   </td><td>1</td></tr><tr><td>ADVOGADO-DMTU II              </td><td>1</td></tr><tr><td>ANALISTA SIST INFOR SENIOR EXT - PCS 1991</td><td>1</td></tr><tr><td>COORDENADORA DE GEST�O DOCUMENTAL</td><td>1</td></tr><tr><td>GERENTE ADM E SUPORTE OPERACIONAL</td><td>1</td></tr><tr><td>MARCENEIRO                    </td><td>1</td></tr><tr><td>ANALISTA JUR - ESTATISTICA    </td><td>1</td></tr><tr><td>TECNICO DE BOMBA INJETORA     </td><td>1</td></tr><tr><td>SOLDADO PM 2 CLASSE           </td><td>1</td></tr><tr><td>TEC.ASS.SOC.-TEC. EM CONTAB.  </td><td>1</td></tr><tr><td>TEC.ASS.SOCIAL - AISS         </td><td>1</td></tr><tr><td>DENTISTA                      </td><td>1</td></tr><tr><td>DIRETOR PRESIDENTE DA CFI</td><td>1</td></tr><tr><td>CAPITAO PM                    </td><td>1</td></tr><tr><td>AUXILIAR DE TESOUREIRO</td><td>1</td></tr><tr><td>MEMBRO EFETIVO DO COMITE DE RISCO - BRB</td><td>1</td></tr><tr><td>GERENTE FINANCEIRO E CONT�BIL</td><td>1</td></tr><tr><td>ECONOMISTA/DMTU II            </td><td>1</td></tr><tr><td>OPERADOR DE CARRO GHINCHO     </td><td>1</td></tr><tr><td>GERENTE DE FISC. DE CONCESS�ES DA DIRETORIA DE REGULA��O E FISCALIZA��O DE CONCESS�ES</td><td>1</td></tr><tr><td>PRESIDENTE BRB</td><td>1</td></tr><tr><td>SERRALHEIRO                   </td><td>1</td></tr><tr><td>ASSESSOR DA PRESID�NCIA</td><td>1</td></tr><tr><td>CAPITAO PM FEMININO           </td><td>1</td></tr><tr><td>AUDITOR</td><td>1</td></tr><tr><td>GESTOR EM ASSUNTOS EXECUTIVOS</td><td>1</td></tr><tr><td>AUX. DE SERV. GERAIS/DMTU     </td><td>1</td></tr><tr><td>TECNICO EM EXTINTOR           </td><td>1</td></tr><tr><td>T�CNICO EM CONTABILIDADE</td><td>1</td></tr><tr><td>GESTOR EM ASSUNTOS ORGANIZACIONAIS</td><td>1</td></tr><tr><td>TECNICO EM HIDROLOGIA</td><td>1</td></tr><tr><td>PINTOR DE AUTOS               </td><td>1</td></tr><tr><td>ESCRITURARIO PCS 2000</td><td>1</td></tr><tr><td>DIGITADOR EM EXTINCAO COM 66 666% PCCR 2012</td><td>1</td></tr><tr><td>RECEPCIONISTA DE LOJA         </td><td>1</td></tr><tr><td>ASSESSOR DA DIRETORIA DE PLANEJAMENTO E GEST�O DE RISCOS</td><td>1</td></tr><tr><td>ADVOGADO-DMTU I               </td><td>1</td></tr><tr><td>SECRETARIO EXECUTIVO (EM EXTINCAO)</td><td>1</td></tr><tr><td>AGR�NOMO</td><td>1</td></tr><tr><td>PRIMEIRO SARGENTO HIDRANTE    </td><td>1</td></tr><tr><td>ANALISTA - ARQUIVOLOGIA       </td><td>1</td></tr><tr><td>SERRALHEIRO/DMTU              </td><td>1</td></tr><tr><td>2o. SGTO. COND. E OPE. VIATURA</td><td>1</td></tr><tr><td>ENGENHEIRA ELETRICISTA</td><td>1</td></tr><tr><td>TORNEIRO MECANICO             </td><td>1</td></tr><tr><td>CAPITAO 20%                   </td><td>1</td></tr><tr><td>GEN DIVISAO                   </td><td>1</td></tr><tr><td>ANALISTA JUR - PSICOLOGIA     </td><td>1</td></tr><tr><td>ADMINISTRADOR/DMTU  I         </td><td>1</td></tr><tr><td>MEDICO                        </td><td>1</td></tr><tr><td>GESTORA EM ASSUNTOS ESTRAT�GICOS</td><td>1</td></tr><tr><td>GERENTE DE REGULA��O E COMERCIALIZA��O</td><td>1</td></tr><tr><td>PINTOR  CLASSE ESPECIAL       </td><td>1</td></tr><tr><td>TECNICO GRAFICO               </td><td>1</td></tr><tr><td>IMPRESSOR                     </td><td>1</td></tr><tr><td>FOTOGRAFO DE ARTES GRAFICAS   </td><td>1</td></tr><tr><td>SOCIOLOGO                     </td><td>1</td></tr><tr><td>CIR.DENT-ENDODONTIA           </td><td>1</td></tr><tr><td>MED.RES. PATOLOGIA            </td><td>1</td></tr><tr><td>MEDICO-EXTINCAO CLINICA MEDI  </td><td>1</td></tr><tr><td>MED.RES-ENDOSCOPIA DIGESTIVA  </td><td>1</td></tr><tr><td>CABO PM MOTORISTA             </td><td>1</td></tr><tr><td>OPERADOR DE COMPOSER          </td><td>1</td></tr><tr><td>OPERADOR DE ACABAMENTO        </td><td>1</td></tr><tr><td>CIR.DENT-ORTODONTIA           </td><td>1</td></tr><tr><td>MEDICO CIRURGIA VASC. PERIF.  </td><td>1</td></tr><tr><td>MED RESID TRANSPLANTE RENAL   </td><td>1</td></tr><tr><td>MEDICO ...                    </td><td>1</td></tr><tr><td>MEDICO-EXTINCAO ANESTESIOLOG  </td><td>1</td></tr><tr><td>CIR.DENT-RADIOLOGIA           </td><td>1</td></tr><tr><td>MEDICO - IMAGINOLOGISTA       </td><td>1</td></tr><tr><td>RESID.MED.ELETROFISIOLOGIA    </td><td>1</td></tr><tr><td>PAGINADOR                     </td><td>1</td></tr><tr><td>MED.RES-NEUROFISIOLOGIA       </td><td>1</td></tr><tr><td>MED.RES.CIRUR.GERAL AVANCADA  </td><td>1</td></tr><tr><td>MEDICO-ONCOLOGIA PEDIATRICA   </td><td>1</td></tr><tr><td>MEDICO-CLINICA MEDICA-APO.    </td><td>1</td></tr><tr><td>RESID. - ENFERM. EMERGENCIA   </td><td>1</td></tr><tr><td>3 SARG PM MNT MOTOMECANIZACA  </td><td>1</td></tr><tr><td>MESTRE DE OBRAS               </td><td>1</td></tr><tr><td>MED.OTORRINOL.CABECA/PESCOCO  </td><td>1</td></tr><tr><td>ANALISTA G.E.- MED VETERINAR  </td><td>1</td></tr><tr><td>TECNICO G.E.- SERV DE AGROPE  </td><td>1</td></tr><tr><td>TECNICO G.E.- MESTRE O.CIVIS  </td><td>1</td></tr><tr><td>PROFESSOR NIVEL 1 40 HORAS    </td><td>1</td></tr><tr><td>TECNICO G.E.- AF MAN INSTRUM  </td><td>1</td></tr><tr><td>TECNICO GESTAO EDUC \"B\"       </td><td>1</td></tr><tr><td>TEC.ASS.SOC.-BOMBEIRO HIDR.   </td><td>1</td></tr><tr><td>FISCAL ATIV URBANAS - AEU     </td><td>1</td></tr><tr><td>EE - AUXILIAR DE MANUTENCAO   </td><td>1</td></tr><tr><td>GESTOR POL PUBL GEST GOV      </td><td>1</td></tr><tr><td>ESP.ASS.SOC.-TEC.ASS.EDUC.    </td><td>1</td></tr><tr><td>ESPECIALISTA DE TRANSP. URB   </td><td>1</td></tr><tr><td>MEDICO - PEDIATRA             </td><td>1</td></tr><tr><td>TSOCIO - AUX. SERV. ADM.      </td><td>1</td></tr><tr><td>ESOCIO - ODONTOLOGO           </td><td>1</td></tr><tr><td>ESPECIALISTA DE EDUC BASICA   </td><td>1</td></tr><tr><td>TMF - DESENHISTA-PROJETISTA   </td><td>1</td></tr><tr><td>EE - TELEFONISTA              </td><td>1</td></tr><tr><td>AUX.ASS.SOC.-AUX.OBRA CIV.    </td><td>1</td></tr><tr><td>ASCENSORISTA CLASSE ESPECIAL  </td><td>1</td></tr><tr><td>AUX DE ED SERV AUX OBRAS CIV  </td><td>1</td></tr><tr><td>MEDICO-PEDIATRA               </td><td>1</td></tr><tr><td>TEC.ASS.SOC.-LANT.PINTOR      </td><td>1</td></tr><tr><td>TEC.ASS.SOC.-PEDREIRO         </td><td>1</td></tr><tr><td>DIRETOR                       </td><td>1</td></tr><tr><td>TSOCIO - MECANICO             </td><td>1</td></tr><tr><td>MEDICO DO TRABALHO            </td><td>1</td></tr><tr><td>PROCURADOR AUTARQUICO-2A. CA  </td><td>1</td></tr><tr><td>TEC.ASS.SOC.-AUX.DE ENFERM.   </td><td>1</td></tr><tr><td>ESP.ASS.SOCIAL ECONOMISTA     </td><td>1</td></tr><tr><td>ESP.ASS.SOCIAL ESTATISTICO    </td><td>1</td></tr><tr><td>TECNICO GE COND DE VEICULOS   </td><td>1</td></tr><tr><td>AUXILIAR DE TRANSP. URBANOS   </td><td>1</td></tr><tr><td>TECNICO DE TRANSP. URBANOS    </td><td>1</td></tr><tr><td>ASSIST INTER. SERVICOS SOCIAIS</td><td>1</td></tr><tr><td>AUX.ASS.SOC.-AUX.OP.EM AGR    </td><td>1</td></tr><tr><td>TEC.ASS.SOC.-PROF.CLASSE A    </td><td>1</td></tr><tr><td>GESTOR DE APOIO AS ATIV PCDF  </td><td>1</td></tr><tr><td>ASSISTENTE APOIO ATIV PCDF    </td><td>1</td></tr><tr><td>ESP.ASS.SOC - MEDICO          </td><td>1</td></tr><tr><td>ESP.ASS.SOC.-SOCIOLOGO        </td><td>1</td></tr><tr><td>ANALISTA EDUC SERVICO SOCIAL  </td><td>1</td></tr><tr><td>AUX DE EDUC COPA E COZINHA    </td><td>1</td></tr><tr><td>TSOCIO - ELETR. MANUTENCAO    </td><td>1</td></tr><tr><td>TEC.ASS.SOC. - VIDRACEIRO     </td><td>1</td></tr><tr><td>AMD - MEDICO DO TRABALHO      </td><td>1</td></tr><tr><td>ESP.ASS.SOC.-MEDICO           </td><td>1</td></tr><tr><td>ESP.ASS.SOC - CONTADOR        </td><td>1</td></tr><tr><td>AMT - ENGENHEIRO CONT. QUAL.  </td><td>1</td></tr><tr><td>TECNICO JUR-CARP. MARCENARIA  </td><td>1</td></tr><tr><td>ESP.ASS.SOCIAL ODONTOLOGO(A)  </td><td>1</td></tr><tr><td>EE - AUX. SERVICOS DE APOIO   </td><td>1</td></tr><tr><td>ESP.ASS.SOC.-PENS VITAL ASSS  </td><td>1</td></tr><tr><td>TECNICO GE COND VEIC AUTOMOT  </td><td>1</td></tr><tr><td>AUX.ASS.SOC.-ASS BAS.S SOC.   </td><td>1</td></tr><tr><td>EE - AUXILIAR DE ELETRONICA   </td><td>1</td></tr><tr><td>ESP DE ASS A EDUC AP TEC ADM  </td><td>1</td></tr><tr><td>TEC. ATIV. CULTURAIS L5195/13 </td><td>1</td></tr></tbody></table></div>"
      ]
     },
     "metadata": {
      "application/vnd.databricks.v1+output": {
       "addedWidgets": {},
       "aggData": [],
       "aggError": "",
       "aggOverflow": false,
       "aggSchema": [],
       "aggSeriesLimitReached": false,
       "aggType": "",
       "arguments": {},
       "columnCustomDisplayInfos": {},
       "data": [
        [
         "PROFESSOR DE EDUC. BASICA     ",
         46505
        ],
        [
         "TECNICO ENFERMAGEM            ",
         14653
        ],
        [
         "CONTRATO TEMPORARIO           ",
         13594
        ],
        [
         "                              ",
         11334
        ],
        [
         null,
         9238
        ],
        [
         "PRIMEIRO SARGENTO",
         7976
        ],
        [
         "ANALISTA GEST ASS PUB SAUDE   ",
         6560
        ],
        [
         "ANALISTA POL PUBL E GEST GOV  ",
         6332
        ],
        [
         "ANALISTA TECNICO-ASSIST.PPGG  ",
         6032
        ],
        [
         "SEGUNDO SARGENTO",
         5703
        ],
        [
         "AGENTE G.E.- CONS E LIMPEZA   ",
         4483
        ],
        [
         "ENFERMEIRO                    ",
         4406
        ],
        [
         "TECNICO GEST ASS PUB SAUDE    ",
         4257
        ],
        [
         "AGENTE DE POLICIA - CLASSE ESP",
         3787
        ],
        [
         "TERCEIRO SARGENTO",
         3749
        ],
        [
         "SUBTENENTE",
         3244
        ],
        [
         "TECNICO G.E.- APOIO ADMINIST  ",
         3167
        ],
        [
         "ESCRITUR�RIO",
         2963
        ],
        [
         "AGENTE G.E.- VIGILANCIA       ",
         2546
        ],
        [
         "CABO",
         2523
        ],
        [
         "AGENTE DE POLICIA             ",
         2210
        ],
        [
         "SOLDADO PRIMEIRA CLASSE",
         2203
        ],
        [
         "POLICIA PENAL                 ",
         1745
        ],
        [
         "AGENTE G.E.- COPA E COZINHA   ",
         1637
        ],
        [
         "AUDITOR FISCAL ATIV. URBANAS  ",
         1605
        ],
        [
         "AGENTE G.E.- SERV GERAIS      ",
         1587
        ],
        [
         "AGENTE G.E.- PORTARIA         ",
         1575
        ],
        [
         "PEDAGOGO - ORIENT EDUC.       ",
         1504
        ],
        [
         "AGENTE SOCIOEDUCATIVO         ",
         1487
        ],
        [
         "SOLDADO SEGUNDA CLASSE",
         1413
        ],
        [
         "AUDITOR-FISCAL DA RECEITA DF  ",
         1409
        ],
        [
         "MAJOR",
         1305
        ],
        [
         "ANA. GES. FISC. RODOVIARIA    ",
         1255
        ],
        [
         "TECNICO G.E.- SEC. ESCOLAR    ",
         1186
        ],
        [
         "GESTOR POL PUB E GEST GOV     ",
         1163
        ],
        [
         "SEGUNDO TENENTE",
         1066
        ],
        [
         "AUXILIAR DE SERVICOS GERAIS   ",
         1064
        ],
        [
         "MEDICO - CLINICA MEDICA       ",
         1033
        ],
        [
         "AG. COMUNITARIO DE SAUDE      ",
         1015
        ],
        [
         "MEDICO - PEDIATRIA            ",
         989
        ],
        [
         "MEDICO - GINECO.E OBSTETRICI  ",
         967
        ],
        [
         "CAPITAO",
         827
        ],
        [
         "AGENTE DE TRANSITO            ",
         815
        ],
        [
         "AG POLICIAL DE CUSTODIA-CLASSE",
         783
        ],
        [
         "ASSISTENTE GAPS TEC LAB PAT   ",
         756
        ],
        [
         "FISIOTERAPEUTA                ",
         749
        ],
        [
         "TECNICO DE GESTAO FAZENDARIA  ",
         739
        ],
        [
         "TENENTE-CORONEL",
         736
        ],
        [
         "AGENTE DE POLICIA - SEGUNDA CL",
         731
        ],
        [
         "TEC. DESENV. FISCALIZ. AGROP  ",
         689
        ],
        [
         "TEC.ASS.SOCIAL - AG. SOCIAL   ",
         679
        ],
        [
         "INSPETOR TEC CONTR INTERNO    ",
         655
        ],
        [
         "AUDITOR DE CONTROLE INTERNO   ",
         642
        ],
        [
         "CORONEL",
         626
        ],
        [
         "ASSISTENTE GAPS TEC RAD       ",
         615
        ],
        [
         "PRIMEIRO TENENTE",
         598
        ],
        [
         "ASSISTENTE GAPS TEC THD       ",
         594
        ],
        [
         "MONITOR DE GESTAO EDUCACIONA  ",
         555
        ],
        [
         "MED. DA FAMILIA E COMUNIDADE  ",
         552
        ],
        [
         "AUDITOR ATIV. URBANAS         ",
         543
        ],
        [
         "AUX. DESENV. FISCALIZ. AGROP  ",
         525
        ],
        [
         "ENFERMEIRO-FAMILIA E COMUNID  ",
         521
        ],
        [
         "NUTRICIONISTA                 ",
         515
        ],
        [
         "FARMACEUTICO BIOQ. FARMACIA   ",
         513
        ],
        [
         "DELEGADO DE POLICIA - CLASSE E",
         506
        ],
        [
         "ANALISTA PLANEJ. URB. INFRA.  ",
         489
        ],
        [
         "AGENTE DE VIG.AMB.SAUDE AVAS  ",
         461
        ],
        [
         "ESCRIVAO DE POLICIA - CLASSE E",
         457
        ],
        [
         "MEDICO - CIRURGIA GERAL       ",
         445
        ],
        [
         "ASSISTENTE GAPS TEC NUTRICAO  ",
         442
        ],
        [
         "AGENTE COMUNITARIO DE SAUDE   ",
         431
        ],
        [
         "ODONTOLOGO                    ",
         426
        ],
        [
         "ASSISTENTE GAPS TEC LAB HEM   ",
         421
        ],
        [
         "PSICOLOGO                     ",
         418
        ],
        [
         "DELEGADO DE POLICIA           ",
         417
        ],
        [
         "MEDICO - ORT. E TRAUMATOLOGI  ",
         417
        ],
        [
         "MEDICO - ANESTESIOLOGIA       ",
         417
        ],
        [
         "ASSISTENTE SOCIAL             ",
         413
        ],
        [
         "AG.ROD.GES.FISC.RODOVIARIA    ",
         406
        ],
        [
         "AG. VIG. AMBIENTAL EM SAUDE   ",
         382
        ],
        [
         "AGENTE POLICIAL DE CUSTODIA   ",
         371
        ],
        [
         "ANALISTA EM ATIV DE TRANSITO  ",
         371
        ],
        [
         "ASSISTENTE ADMINISTRATIVO",
         366
        ],
        [
         "TECNICO SOCIOEDUCATIVO        ",
         365
        ],
        [
         "EXAMINADOR TEORICO-PRATICO    ",
         363
        ],
        [
         "BOMBEIRO HIDRAULICO",
         361
        ],
        [
         "INSPETOR FISCAL               ",
         357
        ],
        [
         "TECNICO PLANEJ. URB. INFRA.   ",
         349
        ],
        [
         "FARMACEUTICO BIOQ. LABORATOR  ",
         340
        ],
        [
         "TEC.ASS.SOC-AG.ADMINISTRATIV  ",
         332
        ],
        [
         "ESCRIVAO DE POLICIA           ",
         327
        ],
        [
         "PAPILOSCOPISTA POLICIAL-CLASSE",
         323
        ],
        [
         "ANALISTA DE TECNOLOGIA DA INFORMA��O",
         317
        ],
        [
         "TECNICO DE ATIV CULTURAIS     ",
         317
        ],
        [
         "CIRURGIAO DENTISTA            ",
         316
        ],
        [
         "TECNICO DE RESIDUOS SOLIDOS   ",
         311
        ],
        [
         "MOTORISTA                     ",
         310
        ],
        [
         "1 SARGENTO PM INATIVO         ",
         302
        ],
        [
         "AUDITOR TRIBUTARIO            ",
         297
        ],
        [
         "ADMINISTRADOR                 ",
         296
        ],
        [
         "TECNICO EM ATIV. DE TRANSITO  ",
         284
        ],
        [
         "OPERADOR DE ESTACAO DE TRATAMENTO",
         284
        ],
        [
         "AGENTE DE POLICIA - PRIMEIRA C",
         274
        ],
        [
         "MEDICO - TERAPIA INT. ADULTO  ",
         272
        ],
        [
         "PAPILOSCOPISTA POLICIAL       ",
         264
        ],
        [
         "AGENTE OPERACIONAL            ",
         263
        ],
        [
         "TECNICO JUR - APOIO ADMINIST  ",
         262
        ],
        [
         "TECNICO ATIV DO HEMOCENTRO    ",
         261
        ],
        [
         "AUXILIAR ASSISTENCIA SOCIAL   ",
         239
        ],
        [
         "TECNICO G.E.- SERV OBRAS CIV  ",
         232
        ],
        [
         "PERITO CRIMINAL - CLASSE ESPEC",
         229
        ],
        [
         "PERITO CRIMINAL               ",
         228
        ],
        [
         "AUX.ASSISTENCIA SOCIAL-ABSS   ",
         223
        ],
        [
         "MEDICO - CARDIOLOGIA          ",
         221
        ],
        [
         "SUBPROCURADOR GERAL           ",
         219
        ],
        [
         "CONSELHEIRO TUTELAR           ",
         211
        ],
        [
         "TEC.ASS.SOC.-AG.ADMINISTRATI  ",
         199
        ],
        [
         "FONOAUDIOLOGO                 ",
         197
        ],
        [
         "AGENTE DE GESTAO FAZENDARIA   ",
         197
        ],
        [
         "SUBTENENTE PM INATIVO         ",
         196
        ],
        [
         "ESCRIVAO DE POLICIA - SEGUNDA",
         195
        ],
        [
         "MEDICO - RADIOLOGISTA         ",
         194
        ],
        [
         "TECNICO G.E.- COND VEICULOS   ",
         192
        ],
        [
         "EE - AGENTE DE ESTACAO        ",
         192
        ],
        [
         "ESP.ASS.SOCIAL - ASS SOCIAL   ",
         191
        ],
        [
         "TEC.ASS.SOC.-AGENTE SOCIAL    ",
         187
        ],
        [
         "EE - PILOTO                   ",
         185
        ],
        [
         "MEDICO - NEONATOLOGIA         ",
         183
        ],
        [
         "ESP.ASS.SOCIAL - PSICOLOGO    ",
         181
        ],
        [
         "ANA ATIVIDADES DE TRANSITO    ",
         180
        ],
        [
         "ENFERMEIRO-OBSTETRA           ",
         176
        ],
        [
         "AUXILIAR ATIVIDADES CULTURAI  ",
         175
        ],
        [
         "DELEGADO DE POLICIA - SEGUNDA",
         174
        ],
        [
         "MEDICO - PSIQUIATRIA          ",
         173
        ],
        [
         "MEDICO-MEDICINA EMERGENCIA    ",
         172
        ],
        [
         "AG. DE TRANSITO RODOVIARIO    ",
         170
        ],
        [
         "ESP.ASS.SOCIAL - EDUC SOCIAL  ",
         169
        ],
        [
         "ANALISTA G.E.- PSICOLOGIA     ",
         168
        ],
        [
         "2 SARGENTO PM INATIVO         ",
         167
        ],
        [
         "ANALISTA ATIV DO HEMOCENTRO   ",
         165
        ],
        [
         "CORONEL PM INATIVO            ",
         162
        ],
        [
         "TECNICO EM ENFERMAGEM         ",
         159
        ],
        [
         "ESOCIO - ASSISTENTE SOCIAL    ",
         158
        ],
        [
         "TECNICO POL PUBL E GEST GOV   ",
         152
        ],
        [
         "MED.RESID. - PEDIATRIA        ",
         151
        ],
        [
         "MED.RESID. - CLINICA MEDICA   ",
         151
        ],
        [
         "SEM VINCULO",
         144
        ],
        [
         "ESOCIO - PSICOLOGO            ",
         142
        ],
        [
         "RESID. - ENFERMEIRO           ",
         142
        ],
        [
         "COBRADOR                      ",
         141
        ],
        [
         "EE - AGENTE SEG. OPERACIONAL  ",
         139
        ],
        [
         "DEFENSOR PUBLICO - ESPECIAL   ",
         138
        ],
        [
         "EXTENSIONISTA RURAL-NS        ",
         137
        ],
        [
         "PENSIONISTA PM                ",
         130
        ],
        [
         "TSOCIO - AGENTE SOCIAL        ",
         126
        ],
        [
         "3 SARGENTO PM INATIVO         ",
         126
        ],
        [
         "TERAPEUTA OCUPACIONAL         ",
         122
        ],
        [
         "PAPILOSCOPISTA POLICIAL-SEGUND",
         119
        ],
        [
         "CORONEL COMBATENTE            ",
         115
        ],
        [
         "OTM - OP DE TRANSP METROFER   ",
         115
        ],
        [
         "MED.RESID. - GINECO.E OBSTET  ",
         114
        ],
        [
         "MUSICO NIVEL SUPERIOR         ",
         113
        ],
        [
         "MEDICO - OFTALMOLOGIA         ",
         112
        ],
        [
         "AGENTE DE SERVICOS GERAIS     ",
         110
        ],
        [
         "AG GESTAO FAZ - AG. PORTARIA  ",
         107
        ],
        [
         "AUXILIAR SOCIOEDUCATIVO       ",
         106
        ],
        [
         "RESID.- ENFERMAGEM CIRURGICA  ",
         106
        ],
        [
         "TECNICO DE SANEAMENTO",
         104
        ],
        [
         "DEFENSOR PUBLICO CLASSE INTE  ",
         103
        ],
        [
         "TECNICO G.E.- HIG. DENTAL     ",
         103
        ],
        [
         "ANALISTA TRANSPORTE URBANO    ",
         102
        ],
        [
         "TEC.ASS.SOC.-CUIDADOR SOCIAL  ",
         101
        ],
        [
         "MEDICO - NEFROLOGIA           ",
         101
        ],
        [
         "TEC.ASS.SOC.-ASSIST.INTER.SS  ",
         101
        ],
        [
         "ANALISTA DE RESIDUOS SOLIDOS  ",
         100
        ],
        [
         "PRIMEIRO SARGENTO             ",
         100
        ],
        [
         "AGENTE ADMINISTRATIVO         ",
         99
        ],
        [
         "MED.RESID. - CIRURGIA GERAL   ",
         96
        ],
        [
         "ESOCIO - PEDAGOGO             ",
         95
        ],
        [
         "PERITO CRIMINAL - PRIMEIRA CLA",
         94
        ],
        [
         "MED.RESID. - MED FAM E COMUN  ",
         94
        ],
        [
         "TECNICO G.E.- EDUC EM SAUDE   ",
         94
        ],
        [
         "DELEGADO DE POLICIA - PRIMEIRA",
         93
        ],
        [
         "PADIOLEIRO                    ",
         92
        ],
        [
         "MAJOR PM INATIVO              ",
         91
        ],
        [
         "ENGENHEIRO CIVIL",
         90
        ],
        [
         "MEDICO - TER. INT. PEDIATRIC  ",
         90
        ],
        [
         "2 TENENTE PM INATIVO          ",
         89
        ],
        [
         "ANA. DESENV. FISCALIZ. AGROP  ",
         89
        ],
        [
         "PROCURADOR DF CATEGORIA II    ",
         88
        ],
        [
         "MED.RESID. - ORT. E TRAUMATO  ",
         88
        ],
        [
         "MEDICO - OTORRINOLARINGOLOGI  ",
         87
        ],
        [
         "CARGO PARA SUBSTITUICAO       ",
         84
        ],
        [
         "GAE ESPECIALIZACAO            ",
         84
        ],
        [
         "PERITO MEDICO LEGISTA-CLASSE E",
         83
        ],
        [
         "ADVOGADO",
         83
        ],
        [
         "PSM - PROF SUPORT METROFER    ",
         83
        ],
        [
         "PENSAO ESPECIAL ADMINISTRATI  ",
         83
        ],
        [
         "DIGITADOR                     ",
         81
        ],
        [
         "MEDICO - UROLOGIA             ",
         81
        ],
        [
         "TSOCIO - AG. ADMINISTRATIVO   ",
         80
        ],
        [
         "TEC ATIVIDADES DE TRANSITO    ",
         80
        ],
        [
         "TENENTE-CORONEL PM            ",
         78
        ],
        [
         "RESID. - NUTRICIONISTA        ",
         78
        ],
        [
         "MEDICO - NEUROLOGIA           ",
         78
        ],
        [
         "AUXILIAR ADMINISTRATIVO       ",
         77
        ],
        [
         "RESID. - PSICOLOGO            ",
         76
        ],
        [
         "MEDICO-CIRURGIA GERAL-TRAUMA  ",
         76
        ],
        [
         "AUX.ASS.SOC. - VIGIA          ",
         76
        ],
        [
         "ANALISTA G.E.- NUTRICAO       ",
         75
        ],
        [
         "TEC. ASS.SOCIAL - AISS        ",
         74
        ],
        [
         "REGULADOR SERV PUBLICOS       ",
         74
        ],
        [
         "PERITO CRIMINAL - TERCEIRA CLA",
         73
        ],
        [
         "MEDICO - MEDICINA DO TRABALH  ",
         73
        ],
        [
         "PERITO MEDICO-LEGISTA         ",
         73
        ],
        [
         "MEDICO - SANITARISTA          ",
         71
        ],
        [
         "ESP.ASS.SOC.-ASS.SUP.S.SOCIA  ",
         70
        ],
        [
         "EE - INSPETOR DE ESTACAO      ",
         70
        ],
        [
         "TENENTE CORONEL COMBATENTE    ",
         69
        ],
        [
         "ENGENHEIRO                    ",
         69
        ],
        [
         "RESID.FISIOTERAPEUTA          ",
         69
        ],
        [
         "ANAL.DE APOIO A ASSIST. JUD.  ",
         68
        ],
        [
         "AUXILIAR OPERACIONAL          ",
         68
        ],
        [
         "ASSISTENTE ADMINISTRATIVO     ",
         67
        ],
        [
         "EXAM.TEOR.-PRAT.DE INSTRUCAO  ",
         67
        ],
        [
         "GAE MESTRADO                  ",
         66
        ],
        [
         "MEDICO - ANATOMIA PATOLOGICA  ",
         66
        ],
        [
         "PSO - PROF SEG OP METROFER    ",
         66
        ],
        [
         "AUXILIAR DE PROCESSAMENTO     ",
         65
        ],
        [
         "MEDICO-MEDICINA DO TRABALHO   ",
         65
        ],
        [
         "AUXILIAR DE SERVICOS GERAIS",
         64
        ],
        [
         "DEFENSOR PUBLICO CLASSE INIC  ",
         64
        ],
        [
         "MED.RESID. - ANESTESIOLOGIA   ",
         64
        ],
        [
         "ESP ATIVIDADES DE TRANSITO    ",
         63
        ],
        [
         "MEDICO - GASTROENTEROLOGIA    ",
         63
        ],
        [
         "AGENTE FISCAL TRIBUTARIO      ",
         63
        ],
        [
         "TECNICO DE EDIFICACOES",
         62
        ],
        [
         "CAPITAO PM INATIVO            ",
         62
        ],
        [
         "AUX.ASS.SOC-ASSIST. BAS.SSOC  ",
         62
        ],
        [
         "ATENDENTE COMERCIAL",
         61
        ],
        [
         "MEDICO - ENDOCRINOLOGIA       ",
         61
        ],
        [
         "ANALISTA DE ATIV.CULTURAIS    ",
         60
        ],
        [
         "TEC.ASS.SOC.-MOTORISTA        ",
         60
        ],
        [
         "AUX.ASS.SOC.-ABSS APOSENTADO  ",
         60
        ],
        [
         "ASSISTENTE GAPS TEC LAB ANAT  ",
         59
        ],
        [
         "ESP.ASS.SOCIAL - PEDAGOGO     ",
         58
        ],
        [
         "MEDICO - CIRURGIA PEDIATRICA  ",
         58
        ],
        [
         "COMISSIONADO                  ",
         58
        ],
        [
         "SUBTENENTE                    ",
         57
        ],
        [
         "EMPREGADO APRENDIZ",
         57
        ],
        [
         "ASSESSORAMENTO",
         56
        ],
        [
         "MEDICO - DERMATOLOGIA         ",
         56
        ],
        [
         "TEC.ASS.SOC. - APOSENTADO     ",
         56
        ],
        [
         "AGENTE - ANATOMIA             ",
         55
        ],
        [
         "ENGENHEIRO",
         54
        ],
        [
         "CADETE-ULTIMO ANO",
         53
        ],
        [
         "CABO                          ",
         53
        ],
        [
         "1 TENENTE PM INATIVO          ",
         53
        ],
        [
         "ANALISTA ATIV MEIO AMBIENTE   ",
         52
        ],
        [
         "BIOMEDICO                     ",
         52
        ],
        [
         "MEDICO - CIRURGIA VASCULAR    ",
         52
        ],
        [
         "MEDICO - CIRURGIA PLASTICA    ",
         52
        ],
        [
         "TECNICO ATIV MEIO AMBIENTE    ",
         51
        ],
        [
         "ANALISTA G.E.- ODONTOLOGIA    ",
         51
        ],
        [
         "TECNICO ADMINISTRATIVO",
         50
        ],
        [
         "CONTADOR",
         50
        ],
        [
         "BIOLOGO                       ",
         50
        ],
        [
         "PROCURADOR CATEGORIA - II     ",
         50
        ],
        [
         "TECNICO EM EDIFICACOES        ",
         50
        ],
        [
         "MECANICO",
         49
        ],
        [
         "MEDICO - CITOLOGIA            ",
         49
        ],
        [
         "AGENTE G.E.- AUX OBRAS CIVIS  ",
         49
        ],
        [
         "TECNICO AGRICOLA              ",
         49
        ],
        [
         "MEDICO - PNEUMOLOGIA          ",
         48
        ],
        [
         "ENFERMEIRO DO TRABALHO        ",
         48
        ],
        [
         "ESP. GES. FISC. RODOVIARIA    ",
         48
        ],
        [
         "ADMINISTRADOR",
         47
        ],
        [
         "ESP. ASS. SOCIAL - DIR LEG    ",
         47
        ],
        [
         "ASSIST.TEC. DE ADMINISTRACAO  ",
         47
        ],
        [
         "MEDICO-INFECTOLOGISTA         ",
         47
        ],
        [
         "SECRETARIO APOIO              ",
         46
        ],
        [
         "MEDICO - BIOMET.E PER. MEDIC  ",
         46
        ],
        [
         "TENENTE-CORONEL PM INATIVO    ",
         45
        ],
        [
         "ASPIRANTE A OFICIAL",
         45
        ],
        [
         "AGENTE GE VIGILANCIA          ",
         45
        ],
        [
         "TECNICO TRANSPORTE URBANO     ",
         45
        ],
        [
         "TEC.FINANCAS CONTROLE         ",
         45
        ],
        [
         "AGENTE JUR - APOIO OPERAC.    ",
         44
        ],
        [
         "AUXILIAR DE FISCALIZACAO",
         44
        ],
        [
         "CONSELHEIRO",
         44
        ],
        [
         "MEDICO - NEUROCIRURGIA        ",
         44
        ],
        [
         "EXTENSIONISTA RURAL-NM        ",
         43
        ],
        [
         "SEGUNDO SARGENTO              ",
         43
        ],
        [
         "SOLDADO PRIMEIRA CLASSE       ",
         43
        ],
        [
         "ELETRICISTA DE MANUTENCAO INDUSTRIAL",
         42
        ],
        [
         "TECNICO DE MANUTENCAO         ",
         41
        ],
        [
         "MOTORISTA",
         40
        ],
        [
         "ANALISTA DE SISTEMAS",
         40
        ],
        [
         "REQUISITADO",
         40
        ],
        [
         "AUX.ASS.SOC.-AG.CON.LIMPEZA   ",
         40
        ],
        [
         "TECNICO G.E.- SERV MARCENARI  ",
         39
        ],
        [
         "AGENTE DE EXECUCAO PENAL      ",
         39
        ],
        [
         "MEDICO - MASTOLOGIA           ",
         38
        ],
        [
         "PERITO MED LEGISTA-SEGUNDA CLA",
         37
        ],
        [
         "TRABALHADOR DA MANUTENCAO DE EDIFICACOES",
         37
        ],
        [
         "MEDICO - REUMATOLOGIA         ",
         37
        ],
        [
         "GESTOR POL PUBL E GEST GOV    ",
         36
        ],
        [
         "RESID. SERVICO SOCIAL         ",
         36
        ],
        [
         "MAJOR COMBATENTE              ",
         35
        ],
        [
         "GAE DOUTOR                    ",
         35
        ],
        [
         "MEDICO - SAUDE PUBLICA        ",
         35
        ],
        [
         "ARQUITETO                     ",
         35
        ],
        [
         "ESCRIVAO DE POLICIA - PRIMEIRA",
         34
        ],
        [
         "AUXILIAR DE ADMINISTRACAO",
         34
        ],
        [
         "TERCEIRO SARGENTO             ",
         34
        ],
        [
         "TSOCIO - MOTORISTA            ",
         34
        ],
        [
         "ESP.ASS.SOCIAL- ASS. SOCIAL   ",
         34
        ],
        [
         "TECNICO QUIMICO",
         33
        ],
        [
         "MEDICO-CANCEROL./ONC.CLINICA  ",
         33
        ],
        [
         "MED.RESID. - PSIQUIATRIA      ",
         33
        ],
        [
         "ANALISTA DE SISTEMAS          ",
         32
        ],
        [
         "PAPILOSCOPISTA POLICIAL- TERCE",
         32
        ],
        [
         "ANALISTA JUR - DIREITO E LEG  ",
         31
        ],
        [
         "TECNICO ESPECIALIZADO         ",
         31
        ],
        [
         "MEDICO - CL. MED. QUEIMADOS   ",
         31
        ],
        [
         "RESID. FARMACIA               ",
         31
        ],
        [
         "MEDICO - HEMATOLOGIA          ",
         31
        ],
        [
         "OPERADOR DE CAIXA             ",
         30
        ],
        [
         "AUX.PORTARIA-ATIV.CULT.-ESPE  ",
         30
        ],
        [
         "TECNICO ELETRICISTA",
         30
        ],
        [
         "FISCAL DE DEFESA DO CONSUMID  ",
         30
        ],
        [
         "MEDICO - PATOLOGIA CLINICA    ",
         30
        ],
        [
         "RESID. - ENFERM. OBSTETRICA   ",
         30
        ],
        [
         "FISCAL DE TRAFEGO             ",
         29
        ],
        [
         "MEDICO - GENERALISTA          ",
         29
        ],
        [
         "BIBLIOTECARIO                 ",
         29
        ],
        [
         "EE - INSPETOR DE TRAFEGO      ",
         29
        ],
        [
         "ANALISTA GESTAO FAZENDARIA    ",
         29
        ],
        [
         "PROFISSIONAL DE N�VEL SUPERIOR - PNS",
         28
        ],
        [
         "TECNICO ELETRONICO",
         28
        ],
        [
         "TEC.ASS.SOCIAL-AGENTE SOCIAL  ",
         28
        ],
        [
         "ANALISTA ASS EDUC - MEDICINA  ",
         28
        ],
        [
         "ECONOMISTA",
         27
        ],
        [
         "PAPILOSCOPISTA POLICIAL- PRIME",
         27
        ],
        [
         "ASSISTENTE ADM./DMTU II       ",
         27
        ],
        [
         "SECRETARIO LOGISTICO          ",
         27
        ],
        [
         "RESID. TERAPIA OCUPACIONAL    ",
         27
        ],
        [
         "MED.RESID. - OFTALMOLOGIA     ",
         27
        ],
        [
         "MEDICO - ACUPUNTURA           ",
         27
        ],
        [
         "AGENTE GE CONS LIMP           ",
         27
        ],
        [
         "AUXILIAR ATIV DO HEMOCENTRO   ",
         27
        ],
        [
         "AUX. DE SERV. GERAIS          ",
         26
        ],
        [
         "MAJOR PM                      ",
         26
        ],
        [
         "MUSICO                        ",
         26
        ],
        [
         "REPOSITOR                     ",
         26
        ],
        [
         "PROFISSIONAL DE SERVI�OS ADMINISTRATIVOS - PSA",
         26
        ],
        [
         "TECNICO EM COMUNICACAO SOCIA  ",
         26
        ],
        [
         "AUX.ASS.SOC.-ASS BAS SERVSOC  ",
         26
        ],
        [
         "CORONEL PM                    ",
         25
        ],
        [
         "TECNICO - AG. ADMINISTRATIVO  ",
         25
        ],
        [
         "PENSAO INDENIZATORIA          ",
         25
        ],
        [
         "ANALISTA G.E.- SERV. SOCIAL   ",
         25
        ],
        [
         "PROCURADOR DF CATEGORIA I     ",
         24
        ],
        [
         "CAPITAO COMBATENTE            ",
         24
        ],
        [
         "AUX.PORTARIA-ATIV.CULTURAIS   ",
         24
        ],
        [
         "AUX.ASS.SOC.- AUX. COZINHA    ",
         24
        ],
        [
         "COORDENADOR                   ",
         23
        ],
        [
         "MEDICO - GERIATRIA            ",
         23
        ],
        [
         "RESID. SAUDE COLETIVA         ",
         23
        ],
        [
         "AGENTE - ENFERMAGEM           ",
         23
        ],
        [
         "TEC.ASS.SOC.-TEC.ASS.SOCIAL   ",
         23
        ],
        [
         "CADETE-DEMAIS ANOS",
         22
        ],
        [
         "ARQUITETO",
         22
        ],
        [
         "RESID. - ODONTOLOGO           ",
         22
        ],
        [
         "MEDICO - HOMEOPATIA           ",
         22
        ],
        [
         "ESP.ASS.SOC.-ASS APOSENTADO   ",
         22
        ],
        [
         "PERITO MED LEGISTA-PRIMEIRA CL",
         21
        ],
        [
         "2 TENENTE PM                  ",
         21
        ],
        [
         "ESOCIO - ADMINISTRADOR        ",
         21
        ],
        [
         "INSTRUTOR EGOV                ",
         21
        ],
        [
         "ENGENHEIRO ELETRICISTA",
         21
        ],
        [
         "MEDICO - PROCTOLOGIA          ",
         21
        ],
        [
         "MEDICO - ALERGIA E IMUNOLOGI  ",
         21
        ],
        [
         "MEDICO - CIR. CARDIOVASC. CA  ",
         21
        ],
        [
         "MEDICO - BRONCOESOFAGOLOGIA   ",
         21
        ],
        [
         "TEC.ASS.SOC.-ASS INTER S.SOC  ",
         21
        ],
        [
         "AUXILIAR ATIVIDADES CULTURAIS ",
         21
        ],
        [
         "AGENTE GE PORTARIA            ",
         21
        ],
        [
         "ANALISTA PLANEJ. ORCAMENTO    ",
         21
        ],
        [
         "AUXILIAR DE TOPOGRAFIA",
         20
        ],
        [
         "AGENTE JUR - AG. PORTARIA     ",
         20
        ],
        [
         "MEDICO - MED. FIS. E REABILI  ",
         20
        ],
        [
         "JETON                         ",
         20
        ],
        [
         "CAIXA                         ",
         19
        ],
        [
         "ASSISTENTE TECNICO            ",
         19
        ],
        [
         "TECNICO MECANICO",
         19
        ],
        [
         "AGENTE DE ATIV DO HEMOCENTRO  ",
         19
        ],
        [
         "TECNICO G.E.- TELEFONIA       ",
         19
        ],
        [
         "ANALISTA G.E.- AN. SISTEMA    ",
         19
        ],
        [
         "TEC.PLANEJ. ORCAMENTO         ",
         19
        ],
        [
         "AGENTE JUR - AG.PORTARIA.     ",
         19
        ],
        [
         "BALCONISTA                    ",
         18
        ],
        [
         "TEC.ASS.SOCIAL - MOTORISTA    ",
         18
        ],
        [
         "CORONEL 10%                   ",
         18
        ],
        [
         "MEDICO - TISIOLOGIA           ",
         18
        ],
        [
         "MEDICO-NEUROLOGIA PEDIATRICA  ",
         18
        ],
        [
         "MED.RESID-MEDICINA URGENCIA   ",
         18
        ],
        [
         "RESID. - SAUDE MENTAL         ",
         18
        ],
        [
         "TMF - TEC EM EDIFICACOES      ",
         18
        ],
        [
         "ESP.ASS.SOCIAL - ASSIST.SOC.  ",
         17
        ],
        [
         "ESP.ASS.SOCIAL - NUTRICAO     ",
         17
        ],
        [
         "PERITO CRIMINAL - SEGUNDA CLAS",
         17
        ],
        [
         "MEDICO - GENETICA CLINICA     ",
         17
        ],
        [
         "MED.RESID. - NEUROCIRURGIA    ",
         17
        ],
        [
         "MED.RESID. - NEFROLOGIA       ",
         17
        ],
        [
         "TMF - TEC EM ELETROTECNICA    ",
         17
        ],
        [
         "ESP POL PUBL E GESTAO GOV     ",
         17
        ],
        [
         "AG POLICIAL DE CUSTODIA-PRIMEI",
         16
        ],
        [
         "DELEGADO DE POLICIA - TERCEIRA",
         16
        ],
        [
         "CONDUTOR DE VEICULOS",
         16
        ],
        [
         "SOLDADO PM INATIVO            ",
         16
        ],
        [
         "TECNICO JUR - DATILOGRAFO     ",
         16
        ],
        [
         "MED.RESID. - DERMATOLOGIA     ",
         16
        ],
        [
         "CONTADOR                      ",
         16
        ],
        [
         "MED.RES.RAD.E DIAG.P/IMAGEM   ",
         16
        ],
        [
         "MED.RESID. - CARDIOLOGIA      ",
         16
        ],
        [
         "MED.RESID. - NEUROLOGIA       ",
         16
        ],
        [
         "ANALISTA FINANCAS CONTROLE    ",
         16
        ],
        [
         "ANALISTA JUR - AN. SISTEMAS   ",
         15
        ],
        [
         "MECANICO DE VEICULOS",
         15
        ],
        [
         "TECNICO DE CONTABILIDADE",
         15
        ],
        [
         "ANALISTA JUR - CONTABILIDADE  ",
         15
        ],
        [
         "MEDICO - CIRURGIA TORAXICA    ",
         15
        ],
        [
         "MEDICO ..                     ",
         15
        ],
        [
         "PERITO MED LEGISTA-TERCEIRA CL",
         14
        ],
        [
         "AUXILIAR DE MANUTENCAO        ",
         14
        ],
        [
         "ANALISTA - DIREITO E LEGISL   ",
         14
        ],
        [
         "AUXILIAR DE LABORATORIO",
         14
        ],
        [
         "TECNICO JUR - MOTORISTA       ",
         14
        ],
        [
         "DESENHISTA                    ",
         14
        ],
        [
         "PRIMEIRO TENENTE COMBATENTE   ",
         14
        ],
        [
         "FISICO                        ",
         14
        ],
        [
         "AGENTE G.E.- AUX MECANICA     ",
         14
        ],
        [
         "PROFESSOR CLASSE A            ",
         14
        ],
        [
         "TECNICO G.E.- SERV ART GRAFI  ",
         14
        ],
        [
         "EE - MECANICO                 ",
         14
        ],
        [
         "TMF - TEC EM CONTABILIDADE    ",
         14
        ],
        [
         "AMD - ADMINISTRADOR           ",
         14
        ],
        [
         "QUIMICO",
         13
        ],
        [
         "OPERACAO DE MAQUINAS PESADAS",
         13
        ],
        [
         "ASSISTENTE TECNICO/DMTU  I    ",
         13
        ],
        [
         "ESP.ASS.SOCIAL-ADMINISTRADOR  ",
         13
        ],
        [
         "MEDICO-HEMATO.E HEMOTERAPIA   ",
         13
        ],
        [
         "MEDICO - RADIOTERAPIA         ",
         13
        ],
        [
         "ANALISTA DE PROD. E SUPORTE   ",
         13
        ],
        [
         "RESID. FONOAUDIOLOGIA         ",
         13
        ],
        [
         "MED.RESID. - ENDOCRINOLOGIA   ",
         13
        ],
        [
         "AGENTE - RADIOLOGIA           ",
         13
        ],
        [
         "AGENTE - LABORATORIO          ",
         13
        ],
        [
         "TECNICO DE PROC. DE DADOS     ",
         13
        ],
        [
         "ANALISTA G.E.-C. CONTABEIS    ",
         13
        ],
        [
         "ANALISTA G.E.-DIR E LEGISLAC  ",
         13
        ],
        [
         "ESOCIO - ARTES MUSICA         ",
         12
        ],
        [
         "AUXILIAR DE ALMOXARIFADO      ",
         12
        ],
        [
         "ESP ATIV TRANSITO - MEDICINA  ",
         12
        ],
        [
         "ENGENHEIRO QUIMICO",
         12
        ],
        [
         "TECNICO ESPECIALISTA",
         12
        ],
        [
         "TELEDIGIFONISTA               ",
         12
        ],
        [
         "MED.RESID.MED.INT.PEDIATRICA  ",
         12
        ],
        [
         "MED.RESID-INFECTOLOGIA        ",
         12
        ],
        [
         "FARMACEUTICO BIOQUIMICO       ",
         12
        ],
        [
         "ECONOMISTA                    ",
         12
        ],
        [
         "MEDICO - MEDICINA NUCLEAR     ",
         12
        ],
        [
         "MED.RESID.-MED.INTENS.ADULTO  ",
         12
        ],
        [
         "ANALISTA G.E.-FONOAUDIOLOGIA  ",
         12
        ],
        [
         "TMF - TEC EM MECANICA         ",
         12
        ],
        [
         "AUX.ASS.SOC.-AUX.OP.SERV.SOC  ",
         12
        ],
        [
         "OFICIAL DE POSTO              ",
         11
        ],
        [
         "CABO PM INATIVO               ",
         11
        ],
        [
         "ENGENHEIRO ELETRONICO",
         11
        ],
        [
         "T�CNICO EM COMERCIALIZA��O",
         11
        ],
        [
         "ESOCIO - EDUCACAO FISICA      ",
         11
        ],
        [
         "ESP.ASS.SOCIAL - CONTADOR     ",
         11
        ],
        [
         "AUXILIAR DE TOPOGRAFO",
         11
        ],
        [
         "ESOCIO - DIREITO E LEGISL.    ",
         11
        ],
        [
         "ANALISTA - ADMINISTRADOR      ",
         11
        ],
        [
         "MED.RESID. - NEONATALOGIA     ",
         11
        ],
        [
         "ANALISTA HEM - MEDICINA       ",
         11
        ],
        [
         "MEDICO - HEMOTERAPIA          ",
         11
        ],
        [
         "ANALISTA G.E.- BIBLIOTECA     ",
         11
        ],
        [
         "ANALISTA G.E.- MEDICINA       ",
         11
        ],
        [
         "ESP.ASS.SOC.-TEC.EDUC.FISICA  ",
         11
        ],
        [
         "TECNICO GE APOIO ADMINISTRAT  ",
         11
        ],
        [
         "AUX.ASS.SOC.-AUX.OP.SER.ADM.  ",
         11
        ],
        [
         "ESP.SERV.SOC-ASS.SUP.S.SOCIA  ",
         11
        ],
        [
         "EE - MOTORISTA                ",
         11
        ],
        [
         "ANA. APOIO AS ATIV. PCDF      ",
         11
        ],
        [
         "TEC.ASS.SOC.-ASS.INTER.S.SOC  ",
         11
        ],
        [
         "ENGENHEIRO FLORESTAL",
         10
        ],
        [
         "ARTIFICE ESPECIALIZADO",
         10
        ],
        [
         "ESOCIO - ARTES CENICAS        ",
         10
        ],
        [
         "ENGENHEIRO AMBIENTAL",
         10
        ],
        [
         "CAPITAO ADMINISTRATIVO        ",
         10
        ],
        [
         "AUXILIAR DE ADMINISTRACAO     ",
         10
        ],
        [
         "PROCURADOR CAT. ESP. - QE     ",
         10
        ],
        [
         "MED.RESID.ALERGIA IMUNO.PED.  ",
         10
        ],
        [
         "MEDICO-CIR.CABECA E PESCOCO   ",
         10
        ],
        [
         "MED.RESID. - PNEUMOLOGIA      ",
         10
        ],
        [
         "AGENTE G.E.- ART GRAFICAS     ",
         10
        ],
        [
         "TECNICO G.E.- SERV MECANICA   ",
         10
        ],
        [
         "PROCURADOR 2 CAT. - QE        ",
         9
        ],
        [
         "JOVEM APRENDIZ                ",
         9
        ],
        [
         "TORNEIRO MECANICO",
         9
        ],
        [
         "TOPOGRAFO",
         9
        ],
        [
         "2 TENENTE QOPMA               ",
         9
        ],
        [
         "SOLDADO PM COMBATENTE         ",
         9
        ],
        [
         "EDUCADOR SOCIAL-3A CLASSE     ",
         9
        ],
        [
         "PROFISSIONAL DE SUPORTE OPERACIONAL - PSO",
         9
        ],
        [
         "SEGUNDO TENENTE COMBATENTE    ",
         9
        ],
        [
         "MED.RESID. - GASTROENTEROLOG  ",
         9
        ],
        [
         "MED.RESID. - UROLOGIA         ",
         9
        ],
        [
         "ASSISTENTE GAPS TEC LAB HIST  ",
         9
        ],
        [
         "MED.RESID. - RADIOLOGISTA     ",
         9
        ],
        [
         "MED.RESID. - ONCOLOGIA CLINI  ",
         9
        ],
        [
         "AUXILIAR TECNICO DE PESQUISA  ",
         9
        ],
        [
         "MEDICO-PALIATIVISTA           ",
         9
        ],
        [
         "MED.RESID. - PATOLOGIA CLINI  ",
         9
        ],
        [
         "TECNICO G.E.- MESTRE A.GRAFI  ",
         9
        ],
        [
         "AMD - ADVOGADO                ",
         9
        ],
        [
         "AUX.ASS.SOC.-ASS BAS.S. SOC.  ",
         9
        ],
        [
         "AMT - ENGENHEIRO CIVIL        ",
         9
        ],
        [
         "AUX.ASS.SOC.-AG. DE PORTARIA  ",
         9
        ],
        [
         "AMT - ENGENHEIRO MECANICO     ",
         9
        ],
        [
         "TEC.ASS.SOC.-TELEFONISTA      ",
         9
        ],
        [
         "TEC.ASS.SOC.-AUX.SERV.ADMINI  ",
         9
        ],
        [
         "AMT - ENGENHEIRO ELETRICISTA  ",
         9
        ],
        [
         "TECNICO EM SEGURANCA DO TRABALHO",
         8
        ],
        [
         "ARMAZENISTA",
         8
        ],
        [
         "AGENTE DE POLICIA - TERCEIRA C",
         8
        ],
        [
         "ASSISTENTE TECNICO/DMTU II    ",
         8
        ],
        [
         "AVALIADOR",
         8
        ],
        [
         "MOTORISTA MANOBREIRO          ",
         8
        ],
        [
         "ENGENHEIRO MECANICO",
         8
        ],
        [
         "TELEFONISTA                   ",
         8
        ],
        [
         "PROFISSIONAL DE APOIO T�CNICO - PAT",
         8
        ],
        [
         "RES.ODO.C.TRAUM.BUCO M.FAC.   ",
         8
        ],
        [
         "PROGRAMADOR                   ",
         8
        ],
        [
         "ANALISTA G.E.-ADMINISTRACAO   ",
         8
        ],
        [
         "AGENTE GE COPA E COZINHA      ",
         8
        ],
        [
         "EE - ELETRICISTA              ",
         8
        ],
        [
         "AUX.ASS.SOC.-COPEIRA/MERENDE  ",
         8
        ],
        [
         "PROCURADOR CATEGORIA - I      ",
         8
        ],
        [
         "ESP.ASS.SOC.-TEC.ASS.EDUC     ",
         8
        ],
        [
         "ESPECIALISTA SOCIOEDUCATIVO   ",
         8
        ],
        [
         "ASSISTENTE ADMINISTRATIVO II",
         7
        ],
        [
         "DIRETOR",
         7
        ],
        [
         "ESP.ASS.SOCIAL-TEC.EDUC.FISI  ",
         7
        ],
        [
         "3 SARGENTO PM COMBATENTE      ",
         7
        ],
        [
         "TECNICO JUR - TECNOL.INFORM   ",
         7
        ],
        [
         "ASPIRANTE A OFICIAL           ",
         7
        ],
        [
         "MED.RESID. - CIRURGIA PLASTI  ",
         7
        ],
        [
         "MEDICO - CIR. CARD.-PERIFERI  ",
         7
        ],
        [
         "TECNICO EM ENFERMAGEM-APO     ",
         7
        ],
        [
         "TECNICO EM ASSUNTOS EDUC.     ",
         7
        ],
        [
         "MEDICO-CIRURGIA ONCOLOGICA    ",
         7
        ],
        [
         "AGENTE GE SERVICOS GERAIS     ",
         7
        ],
        [
         "ESP.ASS.SOC- ASS. SOCIAL      ",
         7
        ],
        [
         "TECNICO GE SERV ESP OB CIVIS  ",
         7
        ],
        [
         "TECNICO EM CONTABILIDADE      ",
         7
        ],
        [
         "AUX.ASS.SOC.-AUX.OP.SER.DIV.  ",
         7
        ],
        [
         "AUXILIAR TRANSPORTE URBANO    ",
         7
        ],
        [
         "TMF - TEC EM ELETRONICA       ",
         7
        ],
        [
         "PROCURADOR AUTARQUICO-ESPECIAL",
         7
        ],
        [
         "MEDICO-PSIQUIATRIA            ",
         7
        ],
        [
         "DIRETOR EXECUTIVO BRB",
         6
        ],
        [
         "ESOCIO - TEC. ASS. EDUCAC.    ",
         6
        ],
        [
         "AGENTE COMERCIAL              ",
         6
        ],
        [
         "ASSESSOR ESPECIAL             ",
         6
        ],
        [
         "ESOCIO - TEC. EDUC. FISICA    ",
         6
        ],
        [
         "SEGUNDO TENENTE ADMINISTRATIVO",
         6
        ],
        [
         "ESOCIO - EDUCADOR SOCIAL      ",
         6
        ],
        [
         "ACOUGUEIRO                    ",
         6
        ],
        [
         "TECNICO DE CONTABILIDADE      ",
         6
        ],
        [
         "AUXILIAR DE ENFERMAGEM DO TRABALHO",
         6
        ],
        [
         "CONSULTOR DA PRESID�NCIA",
         6
        ],
        [
         "CORONEL 20%                   ",
         6
        ],
        [
         "TECNICO DE INFORMATICA (EM EXTINCAO)",
         6
        ],
        [
         "T�CNICO EM PROC. DE DADOS",
         6
        ],
        [
         "ASSISTENTE ADMINISTRATIVO LL",
         6
        ],
        [
         "CONSELHEIRO DO CONSAD - BRB",
         6
        ],
        [
         "ESOCIO - ARTES PLASTICAS      ",
         6
        ],
        [
         "ASSISTENTE GEST ASS PUB SAUD  ",
         6
        ],
        [
         "MED.RESID. - CIRURGIA PEDIAT  ",
         6
        ],
        [
         "MED.RESID. - REUMATOLOGIA     ",
         6
        ],
        [
         "MED.RESID. - TERAPIA INT. AD  ",
         6
        ],
        [
         "MED.RESID. - OTORRINOLARINGO  ",
         6
        ],
        [
         "ESTATISTICO                   ",
         6
        ],
        [
         "MED.RESID.-CIRURGIA VASCULAR  ",
         6
        ],
        [
         "MEDICO-ENDOSCOPIA             ",
         6
        ],
        [
         "MED.RESID. - GENETICA MEDICA  ",
         6
        ],
        [
         "MEDICO-CIRURG. AP. DIGESTIVO  ",
         6
        ],
        [
         "AGENTE G.E.- MAN DE PISCINA   ",
         6
        ],
        [
         "TECNICO G.E.- CONTABILIDADE   ",
         6
        ],
        [
         "AMT - ENGENHEIRO DE TELECOM.  ",
         6
        ],
        [
         "REQUISITADO                   ",
         6
        ],
        [
         "AUX.ASS.SOC-ASSIST.BAS.S.SOC  ",
         6
        ],
        [
         "ANA.GES.FISC.ROD.LEI 5195/13  ",
         6
        ],
        [
         "AUXILIAR DE EDUC VIGILANCIA   ",
         6
        ],
        [
         "TMF - TECNICO EM ESTRADAS     ",
         6
        ],
        [
         "ANALISTA JUR - BIBLIOTECONOM  ",
         5
        ],
        [
         "CONSELHEIRO DO CONFIS - BRB",
         5
        ],
        [
         "BIOLOGO",
         5
        ],
        [
         "BORRACHEIRO                   ",
         5
        ],
        [
         "SOLDADOR",
         5
        ],
        [
         "ALUNO OFICIAL DEMAIS ANOS     ",
         5
        ],
        [
         "PEDAGOGO",
         5
        ],
        [
         "DESENHISTA",
         5
        ],
        [
         "VIGIA                         ",
         5
        ],
        [
         "TEC REGUL SERV PUBLICOS       ",
         5
        ],
        [
         "TEC. NIVEL SUPERIOR/DMTU I    ",
         5
        ],
        [
         "MEDICO DO TRABALHO",
         5
        ],
        [
         "TECNICO DE TELECOMUNICACOES",
         5
        ],
        [
         "CABO PM COMBATENTE            ",
         5
        ],
        [
         "ESOCIO - CONTADOR             ",
         5
        ],
        [
         "INSTRUTOR FUNAB               ",
         5
        ],
        [
         "MED.RESID. FISICA E REABILIT  ",
         5
        ],
        [
         "AGENTE DE COLETA              ",
         5
        ],
        [
         "MED.RESID. - REPROD. HUMANA   ",
         5
        ],
        [
         "PASUS                         ",
         5
        ],
        [
         "RESID. MEDICO DO TRABALHO     ",
         5
        ],
        [
         "MED.PEDIATRIA-C/FORM.CARDIOL  ",
         5
        ],
        [
         "ANALISTA G.E.- ARQUIVO        ",
         5
        ],
        [
         "AGENTE G.E.- SERV AUX AGROPE  ",
         5
        ],
        [
         "AMT - ARQUITETO               ",
         5
        ],
        [
         "ANALISTA EDUC.ADVOCACIA       ",
         5
        ],
        [
         "PROCURADOR AUTARQUICO-1A. CAT.",
         5
        ],
        [
         "TEC. DES. FISC. AGROP L5195/13",
         5
        ],
        [
         "TOPOGRAFO                     ",
         5
        ],
        [
         "TECNICO DE NIVEL SUPERIOR     ",
         5
        ],
        [
         "TMF - TEC EM INFORMATICA      ",
         5
        ],
        [
         "AMD - ANALISTA DE SISTEMAS    ",
         5
        ],
        [
         "ANALISTA DE TRANSP. URBANOS   ",
         5
        ],
        [
         "ANALISTA DES FISC AGRO-MEDIC  ",
         5
        ],
        [
         "ESOCIO - ESTATISTICO          ",
         4
        ],
        [
         "ANALISTA JUR - ADMINISTRADOR  ",
         4
        ],
        [
         "CONSULTOR DA DIRETORIA",
         4
        ],
        [
         "RECAUCHUTADOR                 ",
         4
        ],
        [
         "TENENTE-CORONEL PM MEDICO     ",
         4
        ],
        [
         "ESP.ASS.SOCIAL - ECONOMISTA   ",
         4
        ],
        [
         "PRIMEIRO TENENTE ADMINIST.    ",
         4
        ],
        [
         "ENGENHEIRO DE SEGURANCA DO TRABALHO",
         4
        ],
        [
         "GESTOR DE RESIDUOS SOLIDOS    ",
         4
        ],
        [
         "TECNICO EM FISCALIZA��O",
         4
        ],
        [
         "ANA. DE APOIO ATIV. PCDF      ",
         4
        ],
        [
         "ADVOGADO                      ",
         4
        ],
        [
         "CORONEL PM MEDICO             ",
         4
        ],
        [
         "PROCURADOR 1 CAT. - QE        ",
         4
        ],
        [
         "MED.RESID. - M.GERAL E COMUN  ",
         4
        ],
        [
         "MED RESID CIRURGIA DIGESTIVA  ",
         4
        ],
        [
         "MED.RES-ENDOCRINOPEDIATRIA    ",
         4
        ],
        [
         "AUDITOR DE ATIV. URBANAS      ",
         4
        ],
        [
         "MED.RES-NEUROLOGIA PEDIATRIC  ",
         4
        ],
        [
         "MED.RESID. - MASTOLOGIA       ",
         4
        ],
        [
         "MED.RESID.MEDICINA FETAL      ",
         4
        ],
        [
         "AUX.OP.SERV.DIV. - LAVANDERI  ",
         4
        ],
        [
         "MED.RESID-PNEUMOLOGIA PEDIAT  ",
         4
        ],
        [
         "MED.RESID.-CANCEROL. CLINICA  ",
         4
        ],
        [
         "1 SARGENTO PM COMBATENTE      ",
         4
        ],
        [
         "MEDICO - MEDICINA DE EMERG.   ",
         4
        ],
        [
         "MED.RESID. - COLOPROCTOLOGIA  ",
         4
        ],
        [
         "MED.RESID. - HEMATOLOGIA      ",
         4
        ],
        [
         "MED.RESID. - ACUPUNTURA       ",
         4
        ],
        [
         "PROFESSOR CLASSE C            ",
         4
        ],
        [
         "AGENTE G.E.- AUX MARCENARIA   ",
         4
        ],
        [
         "ANALISTA G.E.- COM. SOCIAL    ",
         4
        ],
        [
         "TSOCIO - AUX.ENFERMAGEM       ",
         4
        ],
        [
         "ESP.ASS.SOC.-ESP.ASS.SOCIAL   ",
         4
        ],
        [
         "MEDICO-CARDIOLOGIA            ",
         4
        ],
        [
         "MEDICO -MEDICINA DO TRABALHO  ",
         4
        ],
        [
         "TEC.ASS.SOC.-ELET.MANUTENCAO  ",
         4
        ],
        [
         "TEC.ASS.SOC. - MECANICO       ",
         4
        ],
        [
         "AUX DE EDUCAC  CONS LIMP      ",
         4
        ],
        [
         "TMF - TEC TELECOMUNICACOES    ",
         4
        ],
        [
         "EE - AUX. SERVICOS GERAIS     ",
         4
        ],
        [
         "AMD - CONTADOR                ",
         4
        ],
        [
         "TMF - TEC SEG DO TRABALHO     ",
         4
        ],
        [
         "MEDICO-ORTOP.E TRAUMATOLOGIA  ",
         4
        ],
        [
         "TEC.ASS.SOCIAL - MARCENEIRO   ",
         3
        ],
        [
         "MEMBRO EFETIVO DO COMIT� DE REMUNERA��O",
         3
        ],
        [
         "GESTOR EM ASSUNTOS T�TICOS",
         3
        ],
        [
         "DIRETOR DISTRIB.TITULOS E VALORES MOBILIARIOS S.A.",
         3
        ],
        [
         "TECNICO FLORESTAL",
         3
        ],
        [
         "ASSESSORA ASSUNTOS ESTRAT�GICOS",
         3
        ],
        [
         "MAJOR COMPLEMENTAR            ",
         3
        ],
        [
         "EMPREGO EM COMISSAO",
         3
        ],
        [
         "ENGENHEIRO/DMTU II            ",
         3
        ],
        [
         "TSOCIO - PINTOR               ",
         3
        ],
        [
         "ALMOXARIFE",
         3
        ],
        [
         "MEMBRO DO CAE",
         3
        ],
        [
         "ESP.ASS.SOCIAL-TEC.ASS.EDUCA  ",
         3
        ],
        [
         "TSOCIO - AUX. ENFERMAGEM      ",
         3
        ],
        [
         "TEC.ASS.SOCIAL - SERRALHEIRO  ",
         3
        ],
        [
         "CONSELHEIRO DO CONFIS - CFI",
         3
        ],
        [
         "TECNICO POL PUB E GEST GOV    ",
         3
        ],
        [
         "ANALISTA DE BANCO DE DADOS",
         3
        ],
        [
         "TECNICO - TEC CONTABILIDADE   ",
         3
        ],
        [
         "ANALISTA DE ORGANIZ. E SISTEMAS",
         3
        ],
        [
         "AUXILIAR DE ADMINISTRACAO (EM EXTINCAO)",
         3
        ],
        [
         "DESENHISTA (EM EXTINCAO)",
         3
        ],
        [
         "OPERADOR DE TACOGRAFIA        ",
         3
        ],
        [
         "CONSELHEIRO                   ",
         3
        ],
        [
         "CARTAZISTA                    ",
         3
        ],
        [
         "CARREGADOR                    ",
         3
        ],
        [
         "ARTIFICE ESPECIALIZADO        ",
         3
        ],
        [
         "M�DICO DO TRABALHO",
         3
        ],
        [
         "GEOLOGO",
         3
        ],
        [
         "ANAL. DE TRANSITO L5195/13    ",
         3
        ],
        [
         "CONSELHEIRO DO CONFIS - DTVM",
         3
        ],
        [
         "RESID. PSIQUIAT.INFAN.ADOLES  ",
         3
        ],
        [
         "MED.RESID.MEDICINA PALIATIVA  ",
         3
        ],
        [
         "MEDICO RADIOLOGISTA           ",
         3
        ],
        [
         "MEDICO-COLOPROCTOLOGISTA      ",
         3
        ],
        [
         "ANALISTA DE O & M             ",
         3
        ],
        [
         "SUBTENENTE PM COMBATENTE      ",
         3
        ],
        [
         "MEDICO - ELETROMIOGRAFIA      ",
         3
        ],
        [
         "1 TENENTE QOPMA               ",
         3
        ],
        [
         "MED.RESID. - TER. INT. PEDIA  ",
         3
        ],
        [
         "MED.RES.GASTROENT.PEDIATRICA  ",
         3
        ],
        [
         "RESIDENTE- ENFERMAGEM EM UTI  ",
         3
        ],
        [
         "GEOGRAFO                      ",
         3
        ],
        [
         "ENFERMEIRO-APO.               ",
         3
        ],
        [
         "TECNICO G.E.- DESENHO         ",
         3
        ],
        [
         "CARGO NAO CADASTRADO          ",
         3
        ],
        [
         "ESP.GES.FISC.ROD.LEI 5195/13  ",
         3
        ],
        [
         "AG.ATIV.COMPLEM.SSP-ANATOMIA  ",
         3
        ],
        [
         "AMT - ENGENHEIRO ELETRONICO   ",
         3
        ],
        [
         "AUXILIA DE EDUC PORTARIA      ",
         3
        ],
        [
         "CARGO P/PG.AUX.ALIMENTACAO    ",
         3
        ],
        [
         "AUXILIAR DE APOIO ATIV PCDF   ",
         3
        ],
        [
         "ANA. DES. FISC. AGROP L5195/13",
         3
        ],
        [
         "ENG DE SEG DO TRABALHO        ",
         3
        ],
        [
         "FISCAL TRIBUTARIO             ",
         3
        ],
        [
         "TECNICO EM SEG DO TRABALHO    ",
         3
        ],
        [
         "AMD - ECONOMISTA              ",
         3
        ],
        [
         "GESTOR POL PUBL GESTAO GOV    ",
         3
        ],
        [
         "ANA. APOIO AS ATIV PCDF       ",
         3
        ],
        [
         "TEC.ASS.SOCIAL - PINTOR       ",
         3
        ],
        [
         "AMD - PEDAGOGO                ",
         3
        ],
        [
         "MEMBRO EFETIVO DO COMIT� DE AUDITORIA",
         2
        ],
        [
         "TSOCIO - DESENHISTA           ",
         2
        ],
        [
         "ASSISTENTE ADM./DMTU III      ",
         2
        ],
        [
         "TEC.ASS.SOC.-AG.ATIV.AGROP.   ",
         2
        ],
        [
         "JORNALISTA",
         2
        ],
        [
         "PEDREIRO                      ",
         2
        ],
        [
         "TEC. ESPEC. EM MANUTENCAO     ",
         2
        ],
        [
         "AUXILIAR ADM./DMTU            ",
         2
        ],
        [
         "TECNICO EM AGRIMENSURA",
         2
        ],
        [
         "TEC.ASS.SOCIAL - AG. ADM.     ",
         2
        ],
        [
         "GEN BRIGADA                   ",
         2
        ],
        [
         "FUNDIDOR",
         2
        ],
        [
         "ESTOFADOR                     ",
         2
        ],
        [
         "AG POLICIAL DE CUSTODIA-SEGUND",
         2
        ],
        [
         "GESTOR EM ADMINISTRA��O POR OBJETIVOS",
         2
        ],
        [
         "GEOGRAFO",
         2
        ],
        [
         "PSICOLOGO",
         2
        ],
        [
         "DIRETOR DA CFI",
         2
        ],
        [
         "COORDENADOR DE PLANEJAMENTO",
         2
        ],
        [
         "TEC.ASS.SOCIAL-COSTUREIRO     ",
         2
        ],
        [
         "ANALISTA JUR - ARQUIVOLOGIA   ",
         2
        ],
        [
         "CONSULTOR JURIDICO",
         2
        ],
        [
         "AUX. DE ENFERM. DO TRABALHO",
         2
        ],
        [
         "1 TENENTE PM MEDICO           ",
         2
        ],
        [
         "ASSISTENTE ADMINISTRATIVO L",
         2
        ],
        [
         "TECNICO JUR - ELET E COMUNIC  ",
         2
        ],
        [
         "T�CNICO EM SEG. DO TRABALHO",
         2
        ],
        [
         "PEDAGOGO/DMTU                 ",
         2
        ],
        [
         "AJUDANTE DE POSTO",
         2
        ],
        [
         "ASSISTENTE SOCIAL",
         2
        ],
        [
         "TECNICO DE INFORMATICA        ",
         2
        ],
        [
         "TECNICO EM RECURSOS HUMANOS",
         2
        ],
        [
         "TECNICO EM COMUNICACAO SOCIAL",
         2
        ],
        [
         "ANALISTA JUR - FARMACIA       ",
         2
        ],
        [
         "AUXILIAR DE PROCESSAMENTO DE DADOS",
         2
        ],
        [
         "ARQUIVISTA",
         2
        ],
        [
         "ELETRICISTA DE INSTALACOES",
         2
        ],
        [
         "CHEFE DE GABINETE",
         2
        ],
        [
         "ANALISTA JUR - JORNALISMO     ",
         2
        ],
        [
         "ASSISTENTE OPERACIONAL",
         2
        ],
        [
         "ESCRIVAO DE POLICIA - TERCEIRA",
         2
        ],
        [
         "CONTADORA",
         2
        ],
        [
         "GESTOR EM ASSUNTOS ESTRAT�GICOS",
         2
        ],
        [
         "TECNICO DE SEGURAN�A DO TRABALHO",
         2
        ],
        [
         "CAPITAO MANUTENCAO            ",
         2
        ],
        [
         "GESTOR EM ASSUNTOS OPERACIONAIS",
         2
        ],
        [
         "BIBLIOTECARIO",
         2
        ],
        [
         "CONFEITEIRO                   ",
         2
        ],
        [
         "PRIMEIRO SARGENTO MANUTENCAO  ",
         2
        ],
        [
         "MEDICO - CITOPATOLOGIA        ",
         2
        ],
        [
         "RESID. ENFERM. NEFROLOGIA     ",
         2
        ],
        [
         "MED.RESID. - ENDOSCOPIA RESP  ",
         2
        ],
        [
         "ANA. GEST EDUCACIONAL L5195/  ",
         2
        ],
        [
         "ASSIST.DE SERV.DE ENGENHARIA  ",
         2
        ],
        [
         "MED.RESID. - CIRURGIA TORAXI  ",
         2
        ],
        [
         "MED.RESID. - HEPATOLOGIA      ",
         2
        ],
        [
         "TECNICO DE PLANEJAMENTO       ",
         2
        ],
        [
         "DOCUMENTADOR                  ",
         2
        ],
        [
         "RECEPCIONISTA                 ",
         2
        ],
        [
         "FISIOTERAPEUTA-APO.           ",
         2
        ],
        [
         "RESID.MED.CIRURGIA TRAUMA     ",
         2
        ],
        [
         "REVISOR                       ",
         2
        ],
        [
         "2 SARGENTO PM COMBATENTE      ",
         2
        ],
        [
         "MED RESID ENDOSC. GINECOLOGI  ",
         2
        ],
        [
         "RESID.MED. ECOCARDIOGRAFIA    ",
         2
        ],
        [
         "MED.RESID. - ALERGIA E IMUNO  ",
         2
        ],
        [
         "TECNICO G.E.- OP MAQ PESADAS  ",
         2
        ],
        [
         "GESTOR POL PUB E GET GOV      ",
         2
        ],
        [
         "ANALISTA G.E.- ECONOMIA       ",
         2
        ],
        [
         "AMT - ENGENHEIRO SEG. TRAB.   ",
         2
        ],
        [
         "PROFESSOR DE EDUCACAO BASICA  ",
         2
        ],
        [
         "AMD - COMUNICOLOGO            ",
         2
        ],
        [
         "AMT - ENGENHEIRO AMBIENTAL    ",
         2
        ],
        [
         "MARCENEIRO CLASSE ESPECIAL    ",
         2
        ],
        [
         "ASSIST.DE APOIO ATIV. PCDF    ",
         2
        ],
        [
         "TEC.ASS.SOC.-ALET.MANUT.TEL.  ",
         2
        ],
        [
         "ESP.ASS.SOC.-ADMINISTRADOR    ",
         2
        ],
        [
         "AUX.PORTARIA-ATIV.CULTURAIS1  ",
         2
        ],
        [
         "TEC.EM CONTAB. CLASSE ESPECI  ",
         2
        ],
        [
         "TSOCIO - PROFESSOR CLASSE A   ",
         2
        ],
        [
         "TEC.ASS.SOC.-COSTUREIRO       ",
         2
        ],
        [
         "AUX.ASS.SOC.-AUX.DE MAR.      ",
         2
        ],
        [
         "AUX.ASS.SOC.-LAVADEIRA/PASSA  ",
         2
        ],
        [
         "GEST POL PUB GEST GOV L5195/13",
         2
        ],
        [
         "TMF - ENFERMAGEM DO TRABALHO  ",
         2
        ],
        [
         "FISCAL ATIV URBANAS - OEU     ",
         2
        ],
        [
         "AMD - PSICOLOGO               ",
         2
        ],
        [
         "AMD - ASSISTENTE SOCIAL       ",
         2
        ],
        [
         "TECNICO GE SEC ESCOLAR        ",
         2
        ],
        [
         "AMD - ARQUIVISTA              ",
         2
        ],
        [
         "TEC.ASS.SOC.-AG.ATIV AGROP.   ",
         2
        ],
        [
         "TSOCIO - OPERADOR GRAFICO     ",
         1
        ],
        [
         "ASSESSOR JUR�DICO",
         1
        ],
        [
         "EDUCADOR SOCIAL-1A CLASSE     ",
         1
        ],
        [
         "ESP.ASS.SOCIAL - COM. SOCIAL  ",
         1
        ],
        [
         "CORREGEDOR",
         1
        ],
        [
         "COORD. DE SA�DE, SEGURAN�A E DESENV. HUMANO",
         1
        ],
        [
         "PSICOLOGO/DMTU                ",
         1
        ],
        [
         "TENENTE CORONEL MEDICO        ",
         1
        ],
        [
         "ELETRICISTA/DMTU              ",
         1
        ],
        [
         "ASSESSORA DE IMPRENSA",
         1
        ],
        [
         "PUBLICITARIO",
         1
        ],
        [
         "GERENTE DE TECNOLOGIA DA INFORMA��O",
         1
        ],
        [
         "PINTOR/DMTU                   ",
         1
        ],
        [
         "TECNICO ESPECIALIZADO (EM EXTINCAO)",
         1
        ],
        [
         "ENGENHEIRA CIVIL",
         1
        ],
        [
         "COORD. DE APOIO AOS �RG�OS COLEGIADOS",
         1
        ],
        [
         "ASSESSOR DA DIRETORIA ADM-FINANCEIRA E REL C/ INVESTIDORES",
         1
        ],
        [
         "ENGENHEIRO DE SEG. DO TRABALHO",
         1
        ],
        [
         "DIRETOR GERAL DE EMPRESA E ORGANIZACAO",
         1
        ],
        [
         "AUDITOR CHEFE",
         1
        ],
        [
         "ARQUITETO/DMTU                ",
         1
        ],
        [
         "ASSISTENTE  APOIO ATIV. PCDF  ",
         1
        ],
        [
         "SEGUNDO TENENTE MANUTENCAO    ",
         1
        ],
        [
         "GERENTE DE �RG�OS COLEGIADOS",
         1
        ],
        [
         "PADEIRO                       ",
         1
        ],
        [
         "COORDENADOR ADM E SUPORTE OPERACIONAL",
         1
        ],
        [
         "GERENTE DE RELA��ES COM INVESTIDORES",
         1
        ],
        [
         "ENGENHEIRO AGRIMENSOR",
         1
        ],
        [
         "ASSITENTE DE REFRIGERA��O",
         1
        ],
        [
         "ANALISTA - ESPECIALISTA RH    ",
         1
        ],
        [
         "ANALISTA - JORNALISMO         ",
         1
        ],
        [
         "BORRACHEIRO",
         1
        ],
        [
         "ENGENHEIRO AGRONOMO",
         1
        ],
        [
         "AGENTE DE TELECOMUNICACOES",
         1
        ],
        [
         "ENGENHEIRO/DMTU I             ",
         1
        ],
        [
         "COORDENADORA ADM DE PESSOAL",
         1
        ],
        [
         "3o. SGTO. COND. E OPE. VIATURA",
         1
        ],
        [
         "DIRETOR JUR�DICO BRB",
         1
        ],
        [
         "TESOUREIRO AUXILIAR",
         1
        ],
        [
         "TECNICO DE COMERCIALIZACAO    ",
         1
        ],
        [
         "ELETRICISTA                   ",
         1
        ],
        [
         "PRESIDENTE DO COMIT� DE AUDITORIA",
         1
        ],
        [
         "ATENDENTE DE AMBULATORIO      ",
         1
        ],
        [
         "COORD. DE GEST�O DOCUMENTAL",
         1
        ],
        [
         "GESTOR EM ASSUNTOS DOCUMENTAIS",
         1
        ],
        [
         "TENENTE-CORONEL PM DENTISTA   ",
         1
        ],
        [
         "TEC.ASS.SOCIAL- OPER GRAFICO  ",
         1
        ],
        [
         "CAPITAO COMPLEMENTAR          ",
         1
        ],
        [
         "TEC. EM RECURSOS HUMANOS      ",
         1
        ],
        [
         "TEC.ASS.SOC.-ELET.MANUT.TEL.  ",
         1
        ],
        [
         "MECANICO AUTOMOTIVO           ",
         1
        ],
        [
         "TEC.ASS.SOC -ELET.MANUTENCAO  ",
         1
        ],
        [
         "TECNICO DE ADM PUBLICA AG XV  ",
         1
        ],
        [
         "TEC. EM SEG. DO TRABALHO      ",
         1
        ],
        [
         "GERENTE DE PLANEJAMENTO E DE GEST�O DE RISCOS",
         1
        ],
        [
         "AUXILIAR DE SERVI�OS GERAIS",
         1
        ],
        [
         "OPERADOR DE VHF               ",
         1
        ],
        [
         "ASSESSOR ASSUNTOS ESTRAT�GICOS",
         1
        ],
        [
         "OUVIDORA",
         1
        ],
        [
         "COORD. OR�AMENT�RIO E PATRIMONIAL",
         1
        ],
        [
         "COORDENADORA FINANCEIRA",
         1
        ],
        [
         "MAJOR PM MEDICO               ",
         1
        ],
        [
         "ASSESSORA DA DIRETORIA DE REGULA��O E DE FISCALIZA��ES",
         1
        ],
        [
         "ESP.ASS.SOCIAL - ODONTOLOGO   ",
         1
        ],
        [
         "ADVOGADO-DMTU II              ",
         1
        ],
        [
         "ANALISTA SIST INFOR SENIOR EXT - PCS 1991",
         1
        ],
        [
         "COORDENADORA DE GEST�O DOCUMENTAL",
         1
        ],
        [
         "GERENTE ADM E SUPORTE OPERACIONAL",
         1
        ],
        [
         "MARCENEIRO                    ",
         1
        ],
        [
         "ANALISTA JUR - ESTATISTICA    ",
         1
        ],
        [
         "TECNICO DE BOMBA INJETORA     ",
         1
        ],
        [
         "SOLDADO PM 2 CLASSE           ",
         1
        ],
        [
         "TEC.ASS.SOC.-TEC. EM CONTAB.  ",
         1
        ],
        [
         "TEC.ASS.SOCIAL - AISS         ",
         1
        ],
        [
         "DENTISTA                      ",
         1
        ],
        [
         "DIRETOR PRESIDENTE DA CFI",
         1
        ],
        [
         "CAPITAO PM                    ",
         1
        ],
        [
         "AUXILIAR DE TESOUREIRO",
         1
        ],
        [
         "MEMBRO EFETIVO DO COMITE DE RISCO - BRB",
         1
        ],
        [
         "GERENTE FINANCEIRO E CONT�BIL",
         1
        ],
        [
         "ECONOMISTA/DMTU II            ",
         1
        ],
        [
         "OPERADOR DE CARRO GHINCHO     ",
         1
        ],
        [
         "GERENTE DE FISC. DE CONCESS�ES DA DIRETORIA DE REGULA��O E FISCALIZA��O DE CONCESS�ES",
         1
        ],
        [
         "PRESIDENTE BRB",
         1
        ],
        [
         "SERRALHEIRO                   ",
         1
        ],
        [
         "ASSESSOR DA PRESID�NCIA",
         1
        ],
        [
         "CAPITAO PM FEMININO           ",
         1
        ],
        [
         "AUDITOR",
         1
        ],
        [
         "GESTOR EM ASSUNTOS EXECUTIVOS",
         1
        ],
        [
         "AUX. DE SERV. GERAIS/DMTU     ",
         1
        ],
        [
         "TECNICO EM EXTINTOR           ",
         1
        ],
        [
         "T�CNICO EM CONTABILIDADE",
         1
        ],
        [
         "GESTOR EM ASSUNTOS ORGANIZACIONAIS",
         1
        ],
        [
         "TECNICO EM HIDROLOGIA",
         1
        ],
        [
         "PINTOR DE AUTOS               ",
         1
        ],
        [
         "ESCRITURARIO PCS 2000",
         1
        ],
        [
         "DIGITADOR EM EXTINCAO COM 66 666% PCCR 2012",
         1
        ],
        [
         "RECEPCIONISTA DE LOJA         ",
         1
        ],
        [
         "ASSESSOR DA DIRETORIA DE PLANEJAMENTO E GEST�O DE RISCOS",
         1
        ],
        [
         "ADVOGADO-DMTU I               ",
         1
        ],
        [
         "SECRETARIO EXECUTIVO (EM EXTINCAO)",
         1
        ],
        [
         "AGR�NOMO",
         1
        ],
        [
         "PRIMEIRO SARGENTO HIDRANTE    ",
         1
        ],
        [
         "ANALISTA - ARQUIVOLOGIA       ",
         1
        ],
        [
         "SERRALHEIRO/DMTU              ",
         1
        ],
        [
         "2o. SGTO. COND. E OPE. VIATURA",
         1
        ],
        [
         "ENGENHEIRA ELETRICISTA",
         1
        ],
        [
         "TORNEIRO MECANICO             ",
         1
        ],
        [
         "CAPITAO 20%                   ",
         1
        ],
        [
         "GEN DIVISAO                   ",
         1
        ],
        [
         "ANALISTA JUR - PSICOLOGIA     ",
         1
        ],
        [
         "ADMINISTRADOR/DMTU  I         ",
         1
        ],
        [
         "MEDICO                        ",
         1
        ],
        [
         "GESTORA EM ASSUNTOS ESTRAT�GICOS",
         1
        ],
        [
         "GERENTE DE REGULA��O E COMERCIALIZA��O",
         1
        ],
        [
         "PINTOR  CLASSE ESPECIAL       ",
         1
        ],
        [
         "TECNICO GRAFICO               ",
         1
        ],
        [
         "IMPRESSOR                     ",
         1
        ],
        [
         "FOTOGRAFO DE ARTES GRAFICAS   ",
         1
        ],
        [
         "SOCIOLOGO                     ",
         1
        ],
        [
         "CIR.DENT-ENDODONTIA           ",
         1
        ],
        [
         "MED.RES. PATOLOGIA            ",
         1
        ],
        [
         "MEDICO-EXTINCAO CLINICA MEDI  ",
         1
        ],
        [
         "MED.RES-ENDOSCOPIA DIGESTIVA  ",
         1
        ],
        [
         "CABO PM MOTORISTA             ",
         1
        ],
        [
         "OPERADOR DE COMPOSER          ",
         1
        ],
        [
         "OPERADOR DE ACABAMENTO        ",
         1
        ],
        [
         "CIR.DENT-ORTODONTIA           ",
         1
        ],
        [
         "MEDICO CIRURGIA VASC. PERIF.  ",
         1
        ],
        [
         "MED RESID TRANSPLANTE RENAL   ",
         1
        ],
        [
         "MEDICO ...                    ",
         1
        ],
        [
         "MEDICO-EXTINCAO ANESTESIOLOG  ",
         1
        ],
        [
         "CIR.DENT-RADIOLOGIA           ",
         1
        ],
        [
         "MEDICO - IMAGINOLOGISTA       ",
         1
        ],
        [
         "RESID.MED.ELETROFISIOLOGIA    ",
         1
        ],
        [
         "PAGINADOR                     ",
         1
        ],
        [
         "MED.RES-NEUROFISIOLOGIA       ",
         1
        ],
        [
         "MED.RES.CIRUR.GERAL AVANCADA  ",
         1
        ],
        [
         "MEDICO-ONCOLOGIA PEDIATRICA   ",
         1
        ],
        [
         "MEDICO-CLINICA MEDICA-APO.    ",
         1
        ],
        [
         "RESID. - ENFERM. EMERGENCIA   ",
         1
        ],
        [
         "3 SARG PM MNT MOTOMECANIZACA  ",
         1
        ],
        [
         "MESTRE DE OBRAS               ",
         1
        ],
        [
         "MED.OTORRINOL.CABECA/PESCOCO  ",
         1
        ],
        [
         "ANALISTA G.E.- MED VETERINAR  ",
         1
        ],
        [
         "TECNICO G.E.- SERV DE AGROPE  ",
         1
        ],
        [
         "TECNICO G.E.- MESTRE O.CIVIS  ",
         1
        ],
        [
         "PROFESSOR NIVEL 1 40 HORAS    ",
         1
        ],
        [
         "TECNICO G.E.- AF MAN INSTRUM  ",
         1
        ],
        [
         "TECNICO GESTAO EDUC \"B\"       ",
         1
        ],
        [
         "TEC.ASS.SOC.-BOMBEIRO HIDR.   ",
         1
        ],
        [
         "FISCAL ATIV URBANAS - AEU     ",
         1
        ],
        [
         "EE - AUXILIAR DE MANUTENCAO   ",
         1
        ],
        [
         "GESTOR POL PUBL GEST GOV      ",
         1
        ],
        [
         "ESP.ASS.SOC.-TEC.ASS.EDUC.    ",
         1
        ],
        [
         "ESPECIALISTA DE TRANSP. URB   ",
         1
        ],
        [
         "MEDICO - PEDIATRA             ",
         1
        ],
        [
         "TSOCIO - AUX. SERV. ADM.      ",
         1
        ],
        [
         "ESOCIO - ODONTOLOGO           ",
         1
        ],
        [
         "ESPECIALISTA DE EDUC BASICA   ",
         1
        ],
        [
         "TMF - DESENHISTA-PROJETISTA   ",
         1
        ],
        [
         "EE - TELEFONISTA              ",
         1
        ],
        [
         "AUX.ASS.SOC.-AUX.OBRA CIV.    ",
         1
        ],
        [
         "ASCENSORISTA CLASSE ESPECIAL  ",
         1
        ],
        [
         "AUX DE ED SERV AUX OBRAS CIV  ",
         1
        ],
        [
         "MEDICO-PEDIATRA               ",
         1
        ],
        [
         "TEC.ASS.SOC.-LANT.PINTOR      ",
         1
        ],
        [
         "TEC.ASS.SOC.-PEDREIRO         ",
         1
        ],
        [
         "DIRETOR                       ",
         1
        ],
        [
         "TSOCIO - MECANICO             ",
         1
        ],
        [
         "MEDICO DO TRABALHO            ",
         1
        ],
        [
         "PROCURADOR AUTARQUICO-2A. CA  ",
         1
        ],
        [
         "TEC.ASS.SOC.-AUX.DE ENFERM.   ",
         1
        ],
        [
         "ESP.ASS.SOCIAL ECONOMISTA     ",
         1
        ],
        [
         "ESP.ASS.SOCIAL ESTATISTICO    ",
         1
        ],
        [
         "TECNICO GE COND DE VEICULOS   ",
         1
        ],
        [
         "AUXILIAR DE TRANSP. URBANOS   ",
         1
        ],
        [
         "TECNICO DE TRANSP. URBANOS    ",
         1
        ],
        [
         "ASSIST INTER. SERVICOS SOCIAIS",
         1
        ],
        [
         "AUX.ASS.SOC.-AUX.OP.EM AGR    ",
         1
        ],
        [
         "TEC.ASS.SOC.-PROF.CLASSE A    ",
         1
        ],
        [
         "GESTOR DE APOIO AS ATIV PCDF  ",
         1
        ],
        [
         "ASSISTENTE APOIO ATIV PCDF    ",
         1
        ],
        [
         "ESP.ASS.SOC - MEDICO          ",
         1
        ],
        [
         "ESP.ASS.SOC.-SOCIOLOGO        ",
         1
        ],
        [
         "ANALISTA EDUC SERVICO SOCIAL  ",
         1
        ],
        [
         "AUX DE EDUC COPA E COZINHA    ",
         1
        ],
        [
         "TSOCIO - ELETR. MANUTENCAO    ",
         1
        ],
        [
         "TEC.ASS.SOC. - VIDRACEIRO     ",
         1
        ],
        [
         "AMD - MEDICO DO TRABALHO      ",
         1
        ],
        [
         "ESP.ASS.SOC.-MEDICO           ",
         1
        ],
        [
         "ESP.ASS.SOC - CONTADOR        ",
         1
        ],
        [
         "AMT - ENGENHEIRO CONT. QUAL.  ",
         1
        ],
        [
         "TECNICO JUR-CARP. MARCENARIA  ",
         1
        ],
        [
         "ESP.ASS.SOCIAL ODONTOLOGO(A)  ",
         1
        ],
        [
         "EE - AUX. SERVICOS DE APOIO   ",
         1
        ],
        [
         "ESP.ASS.SOC.-PENS VITAL ASSS  ",
         1
        ],
        [
         "TECNICO GE COND VEIC AUTOMOT  ",
         1
        ],
        [
         "AUX.ASS.SOC.-ASS BAS.S SOC.   ",
         1
        ],
        [
         "EE - AUXILIAR DE ELETRONICA   ",
         1
        ],
        [
         "ESP DE ASS A EDUC AP TEC ADM  ",
         1
        ],
        [
         "TEC. ATIV. CULTURAIS L5195/13 ",
         1
        ]
       ],
       "datasetInfos": [],
       "dbfsResultPath": null,
       "isJsonSchema": true,
       "metadata": {},
       "overflow": false,
       "plotOptions": {
        "customPlotOptions": {},
        "displayType": "table",
        "pivotAggregation": null,
        "pivotColumns": null,
        "xColumns": null,
        "yColumns": null
       },
       "removedWidgets": [],
       "schema": [
        {
         "metadata": "{\"comment\":\"POSIÇÃO QUE O SERVIDOR OCUPA NO ÓRGÃO DE FORMA PERMANENTE\"}",
         "name": "cargo",
         "type": "\"string\""
        },
        {
         "metadata": "{}",
         "name": "TOTAL",
         "type": "\"long\""
        }
       ],
       "type": "table"
      }
     },
     "output_type": "display_data"
    }
   ],
   "source": [
    "display(spark.sql(\n",
    "\"SELECT + \\\n",
    "\"    cargo,\" + \\\n",
    "\"    COUNT(cpf) AS TOTAL\" + \\\n",
    "\"FROM\" + \\\n",
    "\"    remuneracao_day\" + \\\n",
    "\"GROUP BY CARGO\" + \\\n",
    "\"ORDER BY 2 DESC\"\n",
    "))"
   ]
  },
  {
   "cell_type": "code",
   "execution_count": 0,
   "metadata": {
    "application/vnd.databricks.v1+cell": {
     "cellMetadata": {
      "byteLimit": 2048000,
      "rowLimit": 10000
     },
     "inputWidgets": {},
     "nuid": "cdbcabe7-f86e-44e4-a2e9-132e1c5bd6d2",
     "showTitle": false,
     "title": ""
    }
   },
   "outputs": [
    {
     "output_type": "display_data",
     "data": {
      "text/html": [
       "<style scoped>\n",
       "  .table-result-container {\n",
       "    max-height: 300px;\n",
       "    overflow: auto;\n",
       "  }\n",
       "  table, th, td {\n",
       "    border: 1px solid black;\n",
       "    border-collapse: collapse;\n",
       "  }\n",
       "  th, td {\n",
       "    padding: 5px;\n",
       "  }\n",
       "  th {\n",
       "    text-align: left;\n",
       "  }\n",
       "</style><div class='table-result-container'><table class='table-result'><thead style='background-color: white'><tr></tr></thead><tbody></tbody></table></div>"
      ]
     },
     "metadata": {
      "application/vnd.databricks.v1+output": {
       "addedWidgets": {},
       "aggData": [],
       "aggError": "",
       "aggOverflow": false,
       "aggSchema": [],
       "aggSeriesLimitReached": false,
       "aggType": "",
       "arguments": {},
       "columnCustomDisplayInfos": {},
       "data": [],
       "datasetInfos": [],
       "dbfsResultPath": null,
       "isJsonSchema": true,
       "metadata": {
        "isDbfsCommandResult": false
       },
       "overflow": false,
       "plotOptions": {
        "customPlotOptions": {},
        "displayType": "table",
        "pivotAggregation": null,
        "pivotColumns": null,
        "xColumns": null,
        "yColumns": null
       },
       "removedWidgets": [],
       "schema": [],
       "type": "table"
      }
     },
     "output_type": "display_data"
    }
   ],
   "source": [
    "spark.sql(\n",
    "\"CREATE VIEW remuneracao_row_column_security AS \" + \\\n",
    "\"SELECT\" + \\\n",
    "\"    CASE\" + \\\n",
    "\"      WHEN is_account_group_member(\"ML_Team\") THEN \"ACCESSO NEGADO\"\" + \\\n",
    "\"      ELSE cpf\" + \\\n",
    "\"    END AS cpf,\" + \\\n",
    "\"    cargo,\" + \\\n",
    "\"    ano,\" + \\\n",
    "\"    bruto\" + \\\n",
    "\"FROM\" + \\\n",
    "\"    remuneracao_day\" + \\\n",
    "\"WHERE\" + \\\n",
    "\"    CASE\" + \\\n",
    "\"      WHEN is_account_group_member('ML_Team') THEN CARGO NOT LIKE '%TECNICO ENFERMAGEM%'\" + \\\n",
    "\"      ELSE TRUE\" + \\\n",
    "\"    END\"\n",
    ")"
   ]
  },
  {
   "cell_type": "code",
   "execution_count": 0,
   "metadata": {
    "application/vnd.databricks.v1+cell": {
     "cellMetadata": {
      "byteLimit": 2048000,
      "rowLimit": 10000
     },
     "inputWidgets": {},
     "nuid": "ad93e0e8-1470-40a5-b0fe-05c3abec1103",
     "showTitle": false,
     "title": ""
    }
   },
   "outputs": [
    {
     "output_type": "display_data",
     "data": {
      "text/html": [
       "<style scoped>\n",
       "  .table-result-container {\n",
       "    max-height: 300px;\n",
       "    overflow: auto;\n",
       "  }\n",
       "  table, th, td {\n",
       "    border: 1px solid black;\n",
       "    border-collapse: collapse;\n",
       "  }\n",
       "  th, td {\n",
       "    padding: 5px;\n",
       "  }\n",
       "  th {\n",
       "    text-align: left;\n",
       "  }\n",
       "</style><div class='table-result-container'><table class='table-result'><thead style='background-color: white'><tr><th>cargo</th><th>TOTAL</th></tr></thead><tbody><tr><td>PROFESSOR DE EDUC. BASICA     </td><td>46505</td></tr><tr><td>CONTRATO TEMPORARIO           </td><td>13594</td></tr><tr><td>                              </td><td>11334</td></tr><tr><td>PRIMEIRO SARGENTO</td><td>7976</td></tr><tr><td>ANALISTA GEST ASS PUB SAUDE   </td><td>6560</td></tr><tr><td>ANALISTA POL PUBL E GEST GOV  </td><td>6332</td></tr><tr><td>ANALISTA TECNICO-ASSIST.PPGG  </td><td>6032</td></tr><tr><td>SEGUNDO SARGENTO</td><td>5703</td></tr><tr><td>AGENTE G.E.- CONS E LIMPEZA   </td><td>4483</td></tr><tr><td>ENFERMEIRO                    </td><td>4406</td></tr><tr><td>TECNICO GEST ASS PUB SAUDE    </td><td>4257</td></tr><tr><td>AGENTE DE POLICIA - CLASSE ESP</td><td>3787</td></tr><tr><td>TERCEIRO SARGENTO</td><td>3749</td></tr><tr><td>SUBTENENTE</td><td>3244</td></tr><tr><td>TECNICO G.E.- APOIO ADMINIST  </td><td>3167</td></tr><tr><td>ESCRITUR�RIO</td><td>2963</td></tr><tr><td>AGENTE G.E.- VIGILANCIA       </td><td>2546</td></tr><tr><td>CABO</td><td>2523</td></tr><tr><td>AGENTE DE POLICIA             </td><td>2210</td></tr><tr><td>SOLDADO PRIMEIRA CLASSE</td><td>2203</td></tr><tr><td>POLICIA PENAL                 </td><td>1745</td></tr><tr><td>AGENTE G.E.- COPA E COZINHA   </td><td>1637</td></tr><tr><td>AUDITOR FISCAL ATIV. URBANAS  </td><td>1605</td></tr><tr><td>AGENTE G.E.- SERV GERAIS      </td><td>1587</td></tr><tr><td>AGENTE G.E.- PORTARIA         </td><td>1575</td></tr><tr><td>PEDAGOGO - ORIENT EDUC.       </td><td>1504</td></tr><tr><td>AGENTE SOCIOEDUCATIVO         </td><td>1487</td></tr><tr><td>SOLDADO SEGUNDA CLASSE</td><td>1413</td></tr><tr><td>AUDITOR-FISCAL DA RECEITA DF  </td><td>1409</td></tr><tr><td>MAJOR</td><td>1305</td></tr><tr><td>ANA. GES. FISC. RODOVIARIA    </td><td>1255</td></tr><tr><td>TECNICO G.E.- SEC. ESCOLAR    </td><td>1186</td></tr><tr><td>GESTOR POL PUB E GEST GOV     </td><td>1163</td></tr><tr><td>SEGUNDO TENENTE</td><td>1066</td></tr><tr><td>AUXILIAR DE SERVICOS GERAIS   </td><td>1064</td></tr><tr><td>MEDICO - CLINICA MEDICA       </td><td>1033</td></tr><tr><td>AG. COMUNITARIO DE SAUDE      </td><td>1015</td></tr><tr><td>MEDICO - PEDIATRIA            </td><td>989</td></tr><tr><td>MEDICO - GINECO.E OBSTETRICI  </td><td>967</td></tr><tr><td>CAPITAO</td><td>827</td></tr><tr><td>AGENTE DE TRANSITO            </td><td>815</td></tr><tr><td>AG POLICIAL DE CUSTODIA-CLASSE</td><td>783</td></tr><tr><td>ASSISTENTE GAPS TEC LAB PAT   </td><td>756</td></tr><tr><td>FISIOTERAPEUTA                </td><td>749</td></tr><tr><td>TECNICO DE GESTAO FAZENDARIA  </td><td>739</td></tr><tr><td>TENENTE-CORONEL</td><td>736</td></tr><tr><td>AGENTE DE POLICIA - SEGUNDA CL</td><td>731</td></tr><tr><td>TEC. DESENV. FISCALIZ. AGROP  </td><td>689</td></tr><tr><td>TEC.ASS.SOCIAL - AG. SOCIAL   </td><td>679</td></tr><tr><td>INSPETOR TEC CONTR INTERNO    </td><td>655</td></tr><tr><td>AUDITOR DE CONTROLE INTERNO   </td><td>642</td></tr><tr><td>CORONEL</td><td>626</td></tr><tr><td>ASSISTENTE GAPS TEC RAD       </td><td>615</td></tr><tr><td>PRIMEIRO TENENTE</td><td>598</td></tr><tr><td>ASSISTENTE GAPS TEC THD       </td><td>594</td></tr><tr><td>MONITOR DE GESTAO EDUCACIONA  </td><td>555</td></tr><tr><td>MED. DA FAMILIA E COMUNIDADE  </td><td>552</td></tr><tr><td>AUDITOR ATIV. URBANAS         </td><td>543</td></tr><tr><td>AUX. DESENV. FISCALIZ. AGROP  </td><td>525</td></tr><tr><td>ENFERMEIRO-FAMILIA E COMUNID  </td><td>521</td></tr><tr><td>NUTRICIONISTA                 </td><td>515</td></tr><tr><td>FARMACEUTICO BIOQ. FARMACIA   </td><td>513</td></tr><tr><td>DELEGADO DE POLICIA - CLASSE E</td><td>506</td></tr><tr><td>ANALISTA PLANEJ. URB. INFRA.  </td><td>489</td></tr><tr><td>AGENTE DE VIG.AMB.SAUDE AVAS  </td><td>461</td></tr><tr><td>ESCRIVAO DE POLICIA - CLASSE E</td><td>457</td></tr><tr><td>MEDICO - CIRURGIA GERAL       </td><td>445</td></tr><tr><td>ASSISTENTE GAPS TEC NUTRICAO  </td><td>442</td></tr><tr><td>AGENTE COMUNITARIO DE SAUDE   </td><td>431</td></tr><tr><td>ODONTOLOGO                    </td><td>426</td></tr><tr><td>ASSISTENTE GAPS TEC LAB HEM   </td><td>421</td></tr><tr><td>PSICOLOGO                     </td><td>418</td></tr><tr><td>DELEGADO DE POLICIA           </td><td>417</td></tr><tr><td>MEDICO - ORT. E TRAUMATOLOGI  </td><td>417</td></tr><tr><td>MEDICO - ANESTESIOLOGIA       </td><td>417</td></tr><tr><td>ASSISTENTE SOCIAL             </td><td>413</td></tr><tr><td>AG.ROD.GES.FISC.RODOVIARIA    </td><td>406</td></tr><tr><td>AG. VIG. AMBIENTAL EM SAUDE   </td><td>382</td></tr><tr><td>AGENTE POLICIAL DE CUSTODIA   </td><td>371</td></tr><tr><td>ANALISTA EM ATIV DE TRANSITO  </td><td>371</td></tr><tr><td>ASSISTENTE ADMINISTRATIVO</td><td>366</td></tr><tr><td>TECNICO SOCIOEDUCATIVO        </td><td>365</td></tr><tr><td>EXAMINADOR TEORICO-PRATICO    </td><td>363</td></tr><tr><td>BOMBEIRO HIDRAULICO</td><td>361</td></tr><tr><td>INSPETOR FISCAL               </td><td>357</td></tr><tr><td>TECNICO PLANEJ. URB. INFRA.   </td><td>349</td></tr><tr><td>FARMACEUTICO BIOQ. LABORATOR  </td><td>340</td></tr><tr><td>TEC.ASS.SOC-AG.ADMINISTRATIV  </td><td>332</td></tr><tr><td>ESCRIVAO DE POLICIA           </td><td>327</td></tr><tr><td>PAPILOSCOPISTA POLICIAL-CLASSE</td><td>323</td></tr><tr><td>ANALISTA DE TECNOLOGIA DA INFORMA��O</td><td>317</td></tr><tr><td>TECNICO DE ATIV CULTURAIS     </td><td>317</td></tr><tr><td>CIRURGIAO DENTISTA            </td><td>316</td></tr><tr><td>TECNICO DE RESIDUOS SOLIDOS   </td><td>311</td></tr><tr><td>MOTORISTA                     </td><td>310</td></tr><tr><td>1 SARGENTO PM INATIVO         </td><td>302</td></tr><tr><td>AUDITOR TRIBUTARIO            </td><td>297</td></tr><tr><td>ADMINISTRADOR                 </td><td>296</td></tr><tr><td>TECNICO EM ATIV. DE TRANSITO  </td><td>284</td></tr><tr><td>OPERADOR DE ESTACAO DE TRATAMENTO</td><td>284</td></tr><tr><td>AGENTE DE POLICIA - PRIMEIRA C</td><td>274</td></tr><tr><td>MEDICO - TERAPIA INT. ADULTO  </td><td>272</td></tr><tr><td>PAPILOSCOPISTA POLICIAL       </td><td>264</td></tr><tr><td>AGENTE OPERACIONAL            </td><td>263</td></tr><tr><td>TECNICO JUR - APOIO ADMINIST  </td><td>262</td></tr><tr><td>TECNICO ATIV DO HEMOCENTRO    </td><td>261</td></tr><tr><td>AUXILIAR ASSISTENCIA SOCIAL   </td><td>239</td></tr><tr><td>TECNICO G.E.- SERV OBRAS CIV  </td><td>232</td></tr><tr><td>PERITO CRIMINAL - CLASSE ESPEC</td><td>229</td></tr><tr><td>PERITO CRIMINAL               </td><td>228</td></tr><tr><td>AUX.ASSISTENCIA SOCIAL-ABSS   </td><td>223</td></tr><tr><td>MEDICO - CARDIOLOGIA          </td><td>221</td></tr><tr><td>SUBPROCURADOR GERAL           </td><td>219</td></tr><tr><td>CONSELHEIRO TUTELAR           </td><td>211</td></tr><tr><td>TEC.ASS.SOC.-AG.ADMINISTRATI  </td><td>199</td></tr><tr><td>FONOAUDIOLOGO                 </td><td>197</td></tr><tr><td>AGENTE DE GESTAO FAZENDARIA   </td><td>197</td></tr><tr><td>SUBTENENTE PM INATIVO         </td><td>196</td></tr><tr><td>ESCRIVAO DE POLICIA - SEGUNDA</td><td>195</td></tr><tr><td>MEDICO - RADIOLOGISTA         </td><td>194</td></tr><tr><td>TECNICO G.E.- COND VEICULOS   </td><td>192</td></tr><tr><td>EE - AGENTE DE ESTACAO        </td><td>192</td></tr><tr><td>ESP.ASS.SOCIAL - ASS SOCIAL   </td><td>191</td></tr><tr><td>TEC.ASS.SOC.-AGENTE SOCIAL    </td><td>187</td></tr><tr><td>EE - PILOTO                   </td><td>185</td></tr><tr><td>MEDICO - NEONATOLOGIA         </td><td>183</td></tr><tr><td>ESP.ASS.SOCIAL - PSICOLOGO    </td><td>181</td></tr><tr><td>ANA ATIVIDADES DE TRANSITO    </td><td>180</td></tr><tr><td>ENFERMEIRO-OBSTETRA           </td><td>176</td></tr><tr><td>AUXILIAR ATIVIDADES CULTURAI  </td><td>175</td></tr><tr><td>DELEGADO DE POLICIA - SEGUNDA</td><td>174</td></tr><tr><td>MEDICO - PSIQUIATRIA          </td><td>173</td></tr><tr><td>MEDICO-MEDICINA EMERGENCIA    </td><td>172</td></tr><tr><td>AG. DE TRANSITO RODOVIARIO    </td><td>170</td></tr><tr><td>ESP.ASS.SOCIAL - EDUC SOCIAL  </td><td>169</td></tr><tr><td>ANALISTA G.E.- PSICOLOGIA     </td><td>168</td></tr><tr><td>2 SARGENTO PM INATIVO         </td><td>167</td></tr><tr><td>ANALISTA ATIV DO HEMOCENTRO   </td><td>165</td></tr><tr><td>CORONEL PM INATIVO            </td><td>162</td></tr><tr><td>TECNICO EM ENFERMAGEM         </td><td>159</td></tr><tr><td>ESOCIO - ASSISTENTE SOCIAL    </td><td>158</td></tr><tr><td>TECNICO POL PUBL E GEST GOV   </td><td>152</td></tr><tr><td>MED.RESID. - PEDIATRIA        </td><td>151</td></tr><tr><td>MED.RESID. - CLINICA MEDICA   </td><td>151</td></tr><tr><td>SEM VINCULO</td><td>144</td></tr><tr><td>ESOCIO - PSICOLOGO            </td><td>142</td></tr><tr><td>RESID. - ENFERMEIRO           </td><td>142</td></tr><tr><td>COBRADOR                      </td><td>141</td></tr><tr><td>EE - AGENTE SEG. OPERACIONAL  </td><td>139</td></tr><tr><td>DEFENSOR PUBLICO - ESPECIAL   </td><td>138</td></tr><tr><td>EXTENSIONISTA RURAL-NS        </td><td>137</td></tr><tr><td>PENSIONISTA PM                </td><td>130</td></tr><tr><td>TSOCIO - AGENTE SOCIAL        </td><td>126</td></tr><tr><td>3 SARGENTO PM INATIVO         </td><td>126</td></tr><tr><td>TERAPEUTA OCUPACIONAL         </td><td>122</td></tr><tr><td>PAPILOSCOPISTA POLICIAL-SEGUND</td><td>119</td></tr><tr><td>CORONEL COMBATENTE            </td><td>115</td></tr><tr><td>OTM - OP DE TRANSP METROFER   </td><td>115</td></tr><tr><td>MED.RESID. - GINECO.E OBSTET  </td><td>114</td></tr><tr><td>MUSICO NIVEL SUPERIOR         </td><td>113</td></tr><tr><td>MEDICO - OFTALMOLOGIA         </td><td>112</td></tr><tr><td>AGENTE DE SERVICOS GERAIS     </td><td>110</td></tr><tr><td>AG GESTAO FAZ - AG. PORTARIA  </td><td>107</td></tr><tr><td>AUXILIAR SOCIOEDUCATIVO       </td><td>106</td></tr><tr><td>RESID.- ENFERMAGEM CIRURGICA  </td><td>106</td></tr><tr><td>TECNICO DE SANEAMENTO</td><td>104</td></tr><tr><td>DEFENSOR PUBLICO CLASSE INTE  </td><td>103</td></tr><tr><td>TECNICO G.E.- HIG. DENTAL     </td><td>103</td></tr><tr><td>ANALISTA TRANSPORTE URBANO    </td><td>102</td></tr><tr><td>TEC.ASS.SOC.-CUIDADOR SOCIAL  </td><td>101</td></tr><tr><td>MEDICO - NEFROLOGIA           </td><td>101</td></tr><tr><td>TEC.ASS.SOC.-ASSIST.INTER.SS  </td><td>101</td></tr><tr><td>ANALISTA DE RESIDUOS SOLIDOS  </td><td>100</td></tr><tr><td>PRIMEIRO SARGENTO             </td><td>100</td></tr><tr><td>AGENTE ADMINISTRATIVO         </td><td>99</td></tr><tr><td>MED.RESID. - CIRURGIA GERAL   </td><td>96</td></tr><tr><td>ESOCIO - PEDAGOGO             </td><td>95</td></tr><tr><td>PERITO CRIMINAL - PRIMEIRA CLA</td><td>94</td></tr><tr><td>MED.RESID. - MED FAM E COMUN  </td><td>94</td></tr><tr><td>TECNICO G.E.- EDUC EM SAUDE   </td><td>94</td></tr><tr><td>DELEGADO DE POLICIA - PRIMEIRA</td><td>93</td></tr><tr><td>PADIOLEIRO                    </td><td>92</td></tr><tr><td>MAJOR PM INATIVO              </td><td>91</td></tr><tr><td>ENGENHEIRO CIVIL</td><td>90</td></tr><tr><td>MEDICO - TER. INT. PEDIATRIC  </td><td>90</td></tr><tr><td>2 TENENTE PM INATIVO          </td><td>89</td></tr><tr><td>ANA. DESENV. FISCALIZ. AGROP  </td><td>89</td></tr><tr><td>PROCURADOR DF CATEGORIA II    </td><td>88</td></tr><tr><td>MED.RESID. - ORT. E TRAUMATO  </td><td>88</td></tr><tr><td>MEDICO - OTORRINOLARINGOLOGI  </td><td>87</td></tr><tr><td>CARGO PARA SUBSTITUICAO       </td><td>84</td></tr><tr><td>GAE ESPECIALIZACAO            </td><td>84</td></tr><tr><td>PERITO MEDICO LEGISTA-CLASSE E</td><td>83</td></tr><tr><td>ADVOGADO</td><td>83</td></tr><tr><td>PSM - PROF SUPORT METROFER    </td><td>83</td></tr><tr><td>PENSAO ESPECIAL ADMINISTRATI  </td><td>83</td></tr><tr><td>DIGITADOR                     </td><td>81</td></tr><tr><td>MEDICO - UROLOGIA             </td><td>81</td></tr><tr><td>TSOCIO - AG. ADMINISTRATIVO   </td><td>80</td></tr><tr><td>TEC ATIVIDADES DE TRANSITO    </td><td>80</td></tr><tr><td>TENENTE-CORONEL PM            </td><td>78</td></tr><tr><td>RESID. - NUTRICIONISTA        </td><td>78</td></tr><tr><td>MEDICO - NEUROLOGIA           </td><td>78</td></tr><tr><td>AUXILIAR ADMINISTRATIVO       </td><td>77</td></tr><tr><td>RESID. - PSICOLOGO            </td><td>76</td></tr><tr><td>MEDICO-CIRURGIA GERAL-TRAUMA  </td><td>76</td></tr><tr><td>AUX.ASS.SOC. - VIGIA          </td><td>76</td></tr><tr><td>ANALISTA G.E.- NUTRICAO       </td><td>75</td></tr><tr><td>TEC. ASS.SOCIAL - AISS        </td><td>74</td></tr><tr><td>REGULADOR SERV PUBLICOS       </td><td>74</td></tr><tr><td>PERITO CRIMINAL - TERCEIRA CLA</td><td>73</td></tr><tr><td>MEDICO - MEDICINA DO TRABALH  </td><td>73</td></tr><tr><td>PERITO MEDICO-LEGISTA         </td><td>73</td></tr><tr><td>MEDICO - SANITARISTA          </td><td>71</td></tr><tr><td>ESP.ASS.SOC.-ASS.SUP.S.SOCIA  </td><td>70</td></tr><tr><td>EE - INSPETOR DE ESTACAO      </td><td>70</td></tr><tr><td>TENENTE CORONEL COMBATENTE    </td><td>69</td></tr><tr><td>ENGENHEIRO                    </td><td>69</td></tr><tr><td>RESID.FISIOTERAPEUTA          </td><td>69</td></tr><tr><td>ANAL.DE APOIO A ASSIST. JUD.  </td><td>68</td></tr><tr><td>AUXILIAR OPERACIONAL          </td><td>68</td></tr><tr><td>ASSISTENTE ADMINISTRATIVO     </td><td>67</td></tr><tr><td>EXAM.TEOR.-PRAT.DE INSTRUCAO  </td><td>67</td></tr><tr><td>GAE MESTRADO                  </td><td>66</td></tr><tr><td>MEDICO - ANATOMIA PATOLOGICA  </td><td>66</td></tr><tr><td>PSO - PROF SEG OP METROFER    </td><td>66</td></tr><tr><td>AUXILIAR DE PROCESSAMENTO     </td><td>65</td></tr><tr><td>MEDICO-MEDICINA DO TRABALHO   </td><td>65</td></tr><tr><td>AUXILIAR DE SERVICOS GERAIS</td><td>64</td></tr><tr><td>DEFENSOR PUBLICO CLASSE INIC  </td><td>64</td></tr><tr><td>MED.RESID. - ANESTESIOLOGIA   </td><td>64</td></tr><tr><td>ESP ATIVIDADES DE TRANSITO    </td><td>63</td></tr><tr><td>MEDICO - GASTROENTEROLOGIA    </td><td>63</td></tr><tr><td>AGENTE FISCAL TRIBUTARIO      </td><td>63</td></tr><tr><td>TECNICO DE EDIFICACOES</td><td>62</td></tr><tr><td>CAPITAO PM INATIVO            </td><td>62</td></tr><tr><td>AUX.ASS.SOC-ASSIST. BAS.SSOC  </td><td>62</td></tr><tr><td>ATENDENTE COMERCIAL</td><td>61</td></tr><tr><td>MEDICO - ENDOCRINOLOGIA       </td><td>61</td></tr><tr><td>ANALISTA DE ATIV.CULTURAIS    </td><td>60</td></tr><tr><td>TEC.ASS.SOC.-MOTORISTA        </td><td>60</td></tr><tr><td>AUX.ASS.SOC.-ABSS APOSENTADO  </td><td>60</td></tr><tr><td>ASSISTENTE GAPS TEC LAB ANAT  </td><td>59</td></tr><tr><td>ESP.ASS.SOCIAL - PEDAGOGO     </td><td>58</td></tr><tr><td>MEDICO - CIRURGIA PEDIATRICA  </td><td>58</td></tr><tr><td>COMISSIONADO                  </td><td>58</td></tr><tr><td>SUBTENENTE                    </td><td>57</td></tr><tr><td>EMPREGADO APRENDIZ</td><td>57</td></tr><tr><td>ASSESSORAMENTO</td><td>56</td></tr><tr><td>MEDICO - DERMATOLOGIA         </td><td>56</td></tr><tr><td>TEC.ASS.SOC. - APOSENTADO     </td><td>56</td></tr><tr><td>AGENTE - ANATOMIA             </td><td>55</td></tr><tr><td>ENGENHEIRO</td><td>54</td></tr><tr><td>CADETE-ULTIMO ANO</td><td>53</td></tr><tr><td>CABO                          </td><td>53</td></tr><tr><td>1 TENENTE PM INATIVO          </td><td>53</td></tr><tr><td>ANALISTA ATIV MEIO AMBIENTE   </td><td>52</td></tr><tr><td>BIOMEDICO                     </td><td>52</td></tr><tr><td>MEDICO - CIRURGIA VASCULAR    </td><td>52</td></tr><tr><td>MEDICO - CIRURGIA PLASTICA    </td><td>52</td></tr><tr><td>TECNICO ATIV MEIO AMBIENTE    </td><td>51</td></tr><tr><td>ANALISTA G.E.- ODONTOLOGIA    </td><td>51</td></tr><tr><td>TECNICO ADMINISTRATIVO</td><td>50</td></tr><tr><td>CONTADOR</td><td>50</td></tr><tr><td>BIOLOGO                       </td><td>50</td></tr><tr><td>PROCURADOR CATEGORIA - II     </td><td>50</td></tr><tr><td>TECNICO EM EDIFICACOES        </td><td>50</td></tr><tr><td>MECANICO</td><td>49</td></tr><tr><td>MEDICO - CITOLOGIA            </td><td>49</td></tr><tr><td>AGENTE G.E.- AUX OBRAS CIVIS  </td><td>49</td></tr><tr><td>TECNICO AGRICOLA              </td><td>49</td></tr><tr><td>MEDICO - PNEUMOLOGIA          </td><td>48</td></tr><tr><td>ENFERMEIRO DO TRABALHO        </td><td>48</td></tr><tr><td>ESP. GES. FISC. RODOVIARIA    </td><td>48</td></tr><tr><td>ADMINISTRADOR</td><td>47</td></tr><tr><td>ESP. ASS. SOCIAL - DIR LEG    </td><td>47</td></tr><tr><td>ASSIST.TEC. DE ADMINISTRACAO  </td><td>47</td></tr><tr><td>MEDICO-INFECTOLOGISTA         </td><td>47</td></tr><tr><td>SECRETARIO APOIO              </td><td>46</td></tr><tr><td>MEDICO - BIOMET.E PER. MEDIC  </td><td>46</td></tr><tr><td>TENENTE-CORONEL PM INATIVO    </td><td>45</td></tr><tr><td>ASPIRANTE A OFICIAL</td><td>45</td></tr><tr><td>AGENTE GE VIGILANCIA          </td><td>45</td></tr><tr><td>TECNICO TRANSPORTE URBANO     </td><td>45</td></tr><tr><td>TEC.FINANCAS CONTROLE         </td><td>45</td></tr><tr><td>AGENTE JUR - APOIO OPERAC.    </td><td>44</td></tr><tr><td>AUXILIAR DE FISCALIZACAO</td><td>44</td></tr><tr><td>CONSELHEIRO</td><td>44</td></tr><tr><td>MEDICO - NEUROCIRURGIA        </td><td>44</td></tr><tr><td>EXTENSIONISTA RURAL-NM        </td><td>43</td></tr><tr><td>SEGUNDO SARGENTO              </td><td>43</td></tr><tr><td>SOLDADO PRIMEIRA CLASSE       </td><td>43</td></tr><tr><td>ELETRICISTA DE MANUTENCAO INDUSTRIAL</td><td>42</td></tr><tr><td>TECNICO DE MANUTENCAO         </td><td>41</td></tr><tr><td>MOTORISTA</td><td>40</td></tr><tr><td>ANALISTA DE SISTEMAS</td><td>40</td></tr><tr><td>REQUISITADO</td><td>40</td></tr><tr><td>AUX.ASS.SOC.-AG.CON.LIMPEZA   </td><td>40</td></tr><tr><td>TECNICO G.E.- SERV MARCENARI  </td><td>39</td></tr><tr><td>AGENTE DE EXECUCAO PENAL      </td><td>39</td></tr><tr><td>MEDICO - MASTOLOGIA           </td><td>38</td></tr><tr><td>PERITO MED LEGISTA-SEGUNDA CLA</td><td>37</td></tr><tr><td>TRABALHADOR DA MANUTENCAO DE EDIFICACOES</td><td>37</td></tr><tr><td>MEDICO - REUMATOLOGIA         </td><td>37</td></tr><tr><td>GESTOR POL PUBL E GEST GOV    </td><td>36</td></tr><tr><td>RESID. SERVICO SOCIAL         </td><td>36</td></tr><tr><td>MAJOR COMBATENTE              </td><td>35</td></tr><tr><td>GAE DOUTOR                    </td><td>35</td></tr><tr><td>MEDICO - SAUDE PUBLICA        </td><td>35</td></tr><tr><td>ARQUITETO                     </td><td>35</td></tr><tr><td>ESCRIVAO DE POLICIA - PRIMEIRA</td><td>34</td></tr><tr><td>AUXILIAR DE ADMINISTRACAO</td><td>34</td></tr><tr><td>TERCEIRO SARGENTO             </td><td>34</td></tr><tr><td>TSOCIO - MOTORISTA            </td><td>34</td></tr><tr><td>ESP.ASS.SOCIAL- ASS. SOCIAL   </td><td>34</td></tr><tr><td>TECNICO QUIMICO</td><td>33</td></tr><tr><td>MEDICO-CANCEROL./ONC.CLINICA  </td><td>33</td></tr><tr><td>MED.RESID. - PSIQUIATRIA      </td><td>33</td></tr><tr><td>ANALISTA DE SISTEMAS          </td><td>32</td></tr><tr><td>PAPILOSCOPISTA POLICIAL- TERCE</td><td>32</td></tr><tr><td>ANALISTA JUR - DIREITO E LEG  </td><td>31</td></tr><tr><td>TECNICO ESPECIALIZADO         </td><td>31</td></tr><tr><td>MEDICO - CL. MED. QUEIMADOS   </td><td>31</td></tr><tr><td>RESID. FARMACIA               </td><td>31</td></tr><tr><td>MEDICO - HEMATOLOGIA          </td><td>31</td></tr><tr><td>OPERADOR DE CAIXA             </td><td>30</td></tr><tr><td>AUX.PORTARIA-ATIV.CULT.-ESPE  </td><td>30</td></tr><tr><td>TECNICO ELETRICISTA</td><td>30</td></tr><tr><td>FISCAL DE DEFESA DO CONSUMID  </td><td>30</td></tr><tr><td>MEDICO - PATOLOGIA CLINICA    </td><td>30</td></tr><tr><td>RESID. - ENFERM. OBSTETRICA   </td><td>30</td></tr><tr><td>FISCAL DE TRAFEGO             </td><td>29</td></tr><tr><td>MEDICO - GENERALISTA          </td><td>29</td></tr><tr><td>BIBLIOTECARIO                 </td><td>29</td></tr><tr><td>EE - INSPETOR DE TRAFEGO      </td><td>29</td></tr><tr><td>ANALISTA GESTAO FAZENDARIA    </td><td>29</td></tr><tr><td>PROFISSIONAL DE N�VEL SUPERIOR - PNS</td><td>28</td></tr><tr><td>TECNICO ELETRONICO</td><td>28</td></tr><tr><td>TEC.ASS.SOCIAL-AGENTE SOCIAL  </td><td>28</td></tr><tr><td>ANALISTA ASS EDUC - MEDICINA  </td><td>28</td></tr><tr><td>ECONOMISTA</td><td>27</td></tr><tr><td>PAPILOSCOPISTA POLICIAL- PRIME</td><td>27</td></tr><tr><td>ASSISTENTE ADM./DMTU II       </td><td>27</td></tr><tr><td>SECRETARIO LOGISTICO          </td><td>27</td></tr><tr><td>RESID. TERAPIA OCUPACIONAL    </td><td>27</td></tr><tr><td>MED.RESID. - OFTALMOLOGIA     </td><td>27</td></tr><tr><td>MEDICO - ACUPUNTURA           </td><td>27</td></tr><tr><td>AGENTE GE CONS LIMP           </td><td>27</td></tr><tr><td>AUXILIAR ATIV DO HEMOCENTRO   </td><td>27</td></tr><tr><td>AUX. DE SERV. GERAIS          </td><td>26</td></tr><tr><td>MAJOR PM                      </td><td>26</td></tr><tr><td>MUSICO                        </td><td>26</td></tr><tr><td>REPOSITOR                     </td><td>26</td></tr><tr><td>PROFISSIONAL DE SERVI�OS ADMINISTRATIVOS - PSA</td><td>26</td></tr><tr><td>TECNICO EM COMUNICACAO SOCIA  </td><td>26</td></tr><tr><td>AUX.ASS.SOC.-ASS BAS SERVSOC  </td><td>26</td></tr><tr><td>CORONEL PM                    </td><td>25</td></tr><tr><td>TECNICO - AG. ADMINISTRATIVO  </td><td>25</td></tr><tr><td>PENSAO INDENIZATORIA          </td><td>25</td></tr><tr><td>ANALISTA G.E.- SERV. SOCIAL   </td><td>25</td></tr><tr><td>PROCURADOR DF CATEGORIA I     </td><td>24</td></tr><tr><td>CAPITAO COMBATENTE            </td><td>24</td></tr><tr><td>AUX.PORTARIA-ATIV.CULTURAIS   </td><td>24</td></tr><tr><td>AUX.ASS.SOC.- AUX. COZINHA    </td><td>24</td></tr><tr><td>COORDENADOR                   </td><td>23</td></tr><tr><td>MEDICO - GERIATRIA            </td><td>23</td></tr><tr><td>RESID. SAUDE COLETIVA         </td><td>23</td></tr><tr><td>AGENTE - ENFERMAGEM           </td><td>23</td></tr><tr><td>TEC.ASS.SOC.-TEC.ASS.SOCIAL   </td><td>23</td></tr><tr><td>CADETE-DEMAIS ANOS</td><td>22</td></tr><tr><td>ARQUITETO</td><td>22</td></tr><tr><td>RESID. - ODONTOLOGO           </td><td>22</td></tr><tr><td>MEDICO - HOMEOPATIA           </td><td>22</td></tr><tr><td>ESP.ASS.SOC.-ASS APOSENTADO   </td><td>22</td></tr><tr><td>PERITO MED LEGISTA-PRIMEIRA CL</td><td>21</td></tr><tr><td>2 TENENTE PM                  </td><td>21</td></tr><tr><td>ESOCIO - ADMINISTRADOR        </td><td>21</td></tr><tr><td>INSTRUTOR EGOV                </td><td>21</td></tr><tr><td>ENGENHEIRO ELETRICISTA</td><td>21</td></tr><tr><td>MEDICO - PROCTOLOGIA          </td><td>21</td></tr><tr><td>MEDICO - ALERGIA E IMUNOLOGI  </td><td>21</td></tr><tr><td>MEDICO - CIR. CARDIOVASC. CA  </td><td>21</td></tr><tr><td>MEDICO - BRONCOESOFAGOLOGIA   </td><td>21</td></tr><tr><td>TEC.ASS.SOC.-ASS INTER S.SOC  </td><td>21</td></tr><tr><td>AUXILIAR ATIVIDADES CULTURAIS </td><td>21</td></tr><tr><td>AGENTE GE PORTARIA            </td><td>21</td></tr><tr><td>ANALISTA PLANEJ. ORCAMENTO    </td><td>21</td></tr><tr><td>AUXILIAR DE TOPOGRAFIA</td><td>20</td></tr><tr><td>AGENTE JUR - AG. PORTARIA     </td><td>20</td></tr><tr><td>MEDICO - MED. FIS. E REABILI  </td><td>20</td></tr><tr><td>JETON                         </td><td>20</td></tr><tr><td>CAIXA                         </td><td>19</td></tr><tr><td>ASSISTENTE TECNICO            </td><td>19</td></tr><tr><td>TECNICO MECANICO</td><td>19</td></tr><tr><td>AGENTE DE ATIV DO HEMOCENTRO  </td><td>19</td></tr><tr><td>TECNICO G.E.- TELEFONIA       </td><td>19</td></tr><tr><td>ANALISTA G.E.- AN. SISTEMA    </td><td>19</td></tr><tr><td>TEC.PLANEJ. ORCAMENTO         </td><td>19</td></tr><tr><td>AGENTE JUR - AG.PORTARIA.     </td><td>19</td></tr><tr><td>BALCONISTA                    </td><td>18</td></tr><tr><td>TEC.ASS.SOCIAL - MOTORISTA    </td><td>18</td></tr><tr><td>CORONEL 10%                   </td><td>18</td></tr><tr><td>MEDICO - TISIOLOGIA           </td><td>18</td></tr><tr><td>MEDICO-NEUROLOGIA PEDIATRICA  </td><td>18</td></tr><tr><td>MED.RESID-MEDICINA URGENCIA   </td><td>18</td></tr><tr><td>RESID. - SAUDE MENTAL         </td><td>18</td></tr><tr><td>TMF - TEC EM EDIFICACOES      </td><td>18</td></tr><tr><td>ESP.ASS.SOCIAL - ASSIST.SOC.  </td><td>17</td></tr><tr><td>ESP.ASS.SOCIAL - NUTRICAO     </td><td>17</td></tr><tr><td>PERITO CRIMINAL - SEGUNDA CLAS</td><td>17</td></tr><tr><td>MEDICO - GENETICA CLINICA     </td><td>17</td></tr><tr><td>MED.RESID. - NEUROCIRURGIA    </td><td>17</td></tr><tr><td>MED.RESID. - NEFROLOGIA       </td><td>17</td></tr><tr><td>TMF - TEC EM ELETROTECNICA    </td><td>17</td></tr><tr><td>ESP POL PUBL E GESTAO GOV     </td><td>17</td></tr><tr><td>AG POLICIAL DE CUSTODIA-PRIMEI</td><td>16</td></tr><tr><td>DELEGADO DE POLICIA - TERCEIRA</td><td>16</td></tr><tr><td>CONDUTOR DE VEICULOS</td><td>16</td></tr><tr><td>SOLDADO PM INATIVO            </td><td>16</td></tr><tr><td>TECNICO JUR - DATILOGRAFO     </td><td>16</td></tr><tr><td>MED.RESID. - DERMATOLOGIA     </td><td>16</td></tr><tr><td>CONTADOR                      </td><td>16</td></tr><tr><td>MED.RES.RAD.E DIAG.P/IMAGEM   </td><td>16</td></tr><tr><td>MED.RESID. - CARDIOLOGIA      </td><td>16</td></tr><tr><td>MED.RESID. - NEUROLOGIA       </td><td>16</td></tr><tr><td>ANALISTA FINANCAS CONTROLE    </td><td>16</td></tr><tr><td>ANALISTA JUR - AN. SISTEMAS   </td><td>15</td></tr><tr><td>MECANICO DE VEICULOS</td><td>15</td></tr><tr><td>TECNICO DE CONTABILIDADE</td><td>15</td></tr><tr><td>ANALISTA JUR - CONTABILIDADE  </td><td>15</td></tr><tr><td>MEDICO - CIRURGIA TORAXICA    </td><td>15</td></tr><tr><td>MEDICO ..                     </td><td>15</td></tr><tr><td>PERITO MED LEGISTA-TERCEIRA CL</td><td>14</td></tr><tr><td>AUXILIAR DE MANUTENCAO        </td><td>14</td></tr><tr><td>ANALISTA - DIREITO E LEGISL   </td><td>14</td></tr><tr><td>AUXILIAR DE LABORATORIO</td><td>14</td></tr><tr><td>TECNICO JUR - MOTORISTA       </td><td>14</td></tr><tr><td>DESENHISTA                    </td><td>14</td></tr><tr><td>PRIMEIRO TENENTE COMBATENTE   </td><td>14</td></tr><tr><td>FISICO                        </td><td>14</td></tr><tr><td>AGENTE G.E.- AUX MECANICA     </td><td>14</td></tr><tr><td>PROFESSOR CLASSE A            </td><td>14</td></tr><tr><td>TECNICO G.E.- SERV ART GRAFI  </td><td>14</td></tr><tr><td>EE - MECANICO                 </td><td>14</td></tr><tr><td>TMF - TEC EM CONTABILIDADE    </td><td>14</td></tr><tr><td>AMD - ADMINISTRADOR           </td><td>14</td></tr><tr><td>QUIMICO</td><td>13</td></tr><tr><td>OPERACAO DE MAQUINAS PESADAS</td><td>13</td></tr><tr><td>ASSISTENTE TECNICO/DMTU  I    </td><td>13</td></tr><tr><td>ESP.ASS.SOCIAL-ADMINISTRADOR  </td><td>13</td></tr><tr><td>MEDICO-HEMATO.E HEMOTERAPIA   </td><td>13</td></tr><tr><td>MEDICO - RADIOTERAPIA         </td><td>13</td></tr><tr><td>ANALISTA DE PROD. E SUPORTE   </td><td>13</td></tr><tr><td>RESID. FONOAUDIOLOGIA         </td><td>13</td></tr><tr><td>MED.RESID. - ENDOCRINOLOGIA   </td><td>13</td></tr><tr><td>AGENTE - RADIOLOGIA           </td><td>13</td></tr><tr><td>AGENTE - LABORATORIO          </td><td>13</td></tr><tr><td>TECNICO DE PROC. DE DADOS     </td><td>13</td></tr><tr><td>ANALISTA G.E.-C. CONTABEIS    </td><td>13</td></tr><tr><td>ANALISTA G.E.-DIR E LEGISLAC  </td><td>13</td></tr><tr><td>ESOCIO - ARTES MUSICA         </td><td>12</td></tr><tr><td>AUXILIAR DE ALMOXARIFADO      </td><td>12</td></tr><tr><td>ESP ATIV TRANSITO - MEDICINA  </td><td>12</td></tr><tr><td>ENGENHEIRO QUIMICO</td><td>12</td></tr><tr><td>TECNICO ESPECIALISTA</td><td>12</td></tr><tr><td>TELEDIGIFONISTA               </td><td>12</td></tr><tr><td>MED.RESID.MED.INT.PEDIATRICA  </td><td>12</td></tr><tr><td>MED.RESID-INFECTOLOGIA        </td><td>12</td></tr><tr><td>FARMACEUTICO BIOQUIMICO       </td><td>12</td></tr><tr><td>ECONOMISTA                    </td><td>12</td></tr><tr><td>MEDICO - MEDICINA NUCLEAR     </td><td>12</td></tr><tr><td>MED.RESID.-MED.INTENS.ADULTO  </td><td>12</td></tr><tr><td>ANALISTA G.E.-FONOAUDIOLOGIA  </td><td>12</td></tr><tr><td>TMF - TEC EM MECANICA         </td><td>12</td></tr><tr><td>AUX.ASS.SOC.-AUX.OP.SERV.SOC  </td><td>12</td></tr><tr><td>OFICIAL DE POSTO              </td><td>11</td></tr><tr><td>CABO PM INATIVO               </td><td>11</td></tr><tr><td>ENGENHEIRO ELETRONICO</td><td>11</td></tr><tr><td>T�CNICO EM COMERCIALIZA��O</td><td>11</td></tr><tr><td>ESOCIO - EDUCACAO FISICA      </td><td>11</td></tr><tr><td>ESP.ASS.SOCIAL - CONTADOR     </td><td>11</td></tr><tr><td>AUXILIAR DE TOPOGRAFO</td><td>11</td></tr><tr><td>ESOCIO - DIREITO E LEGISL.    </td><td>11</td></tr><tr><td>ANALISTA - ADMINISTRADOR      </td><td>11</td></tr><tr><td>MED.RESID. - NEONATALOGIA     </td><td>11</td></tr><tr><td>ANALISTA HEM - MEDICINA       </td><td>11</td></tr><tr><td>MEDICO - HEMOTERAPIA          </td><td>11</td></tr><tr><td>ANALISTA G.E.- BIBLIOTECA     </td><td>11</td></tr><tr><td>ANALISTA G.E.- MEDICINA       </td><td>11</td></tr><tr><td>ESP.ASS.SOC.-TEC.EDUC.FISICA  </td><td>11</td></tr><tr><td>TECNICO GE APOIO ADMINISTRAT  </td><td>11</td></tr><tr><td>AUX.ASS.SOC.-AUX.OP.SER.ADM.  </td><td>11</td></tr><tr><td>ESP.SERV.SOC-ASS.SUP.S.SOCIA  </td><td>11</td></tr><tr><td>EE - MOTORISTA                </td><td>11</td></tr><tr><td>ANA. APOIO AS ATIV. PCDF      </td><td>11</td></tr><tr><td>TEC.ASS.SOC.-ASS.INTER.S.SOC  </td><td>11</td></tr><tr><td>ENGENHEIRO FLORESTAL</td><td>10</td></tr><tr><td>ARTIFICE ESPECIALIZADO</td><td>10</td></tr><tr><td>ESOCIO - ARTES CENICAS        </td><td>10</td></tr><tr><td>ENGENHEIRO AMBIENTAL</td><td>10</td></tr><tr><td>CAPITAO ADMINISTRATIVO        </td><td>10</td></tr><tr><td>AUXILIAR DE ADMINISTRACAO     </td><td>10</td></tr><tr><td>PROCURADOR CAT. ESP. - QE     </td><td>10</td></tr><tr><td>MED.RESID.ALERGIA IMUNO.PED.  </td><td>10</td></tr><tr><td>MEDICO-CIR.CABECA E PESCOCO   </td><td>10</td></tr><tr><td>MED.RESID. - PNEUMOLOGIA      </td><td>10</td></tr><tr><td>AGENTE G.E.- ART GRAFICAS     </td><td>10</td></tr><tr><td>TECNICO G.E.- SERV MECANICA   </td><td>10</td></tr><tr><td>PROCURADOR 2 CAT. - QE        </td><td>9</td></tr><tr><td>JOVEM APRENDIZ                </td><td>9</td></tr><tr><td>TORNEIRO MECANICO</td><td>9</td></tr><tr><td>TOPOGRAFO</td><td>9</td></tr><tr><td>2 TENENTE QOPMA               </td><td>9</td></tr><tr><td>SOLDADO PM COMBATENTE         </td><td>9</td></tr><tr><td>EDUCADOR SOCIAL-3A CLASSE     </td><td>9</td></tr><tr><td>PROFISSIONAL DE SUPORTE OPERACIONAL - PSO</td><td>9</td></tr><tr><td>SEGUNDO TENENTE COMBATENTE    </td><td>9</td></tr><tr><td>MED.RESID. - GASTROENTEROLOG  </td><td>9</td></tr><tr><td>MED.RESID. - UROLOGIA         </td><td>9</td></tr><tr><td>ASSISTENTE GAPS TEC LAB HIST  </td><td>9</td></tr><tr><td>MED.RESID. - RADIOLOGISTA     </td><td>9</td></tr><tr><td>MED.RESID. - ONCOLOGIA CLINI  </td><td>9</td></tr><tr><td>AUXILIAR TECNICO DE PESQUISA  </td><td>9</td></tr><tr><td>MEDICO-PALIATIVISTA           </td><td>9</td></tr><tr><td>MED.RESID. - PATOLOGIA CLINI  </td><td>9</td></tr><tr><td>TECNICO G.E.- MESTRE A.GRAFI  </td><td>9</td></tr><tr><td>AMD - ADVOGADO                </td><td>9</td></tr><tr><td>AUX.ASS.SOC.-ASS BAS.S. SOC.  </td><td>9</td></tr><tr><td>AMT - ENGENHEIRO CIVIL        </td><td>9</td></tr><tr><td>AUX.ASS.SOC.-AG. DE PORTARIA  </td><td>9</td></tr><tr><td>AMT - ENGENHEIRO MECANICO     </td><td>9</td></tr><tr><td>TEC.ASS.SOC.-TELEFONISTA      </td><td>9</td></tr><tr><td>TEC.ASS.SOC.-AUX.SERV.ADMINI  </td><td>9</td></tr><tr><td>AMT - ENGENHEIRO ELETRICISTA  </td><td>9</td></tr><tr><td>TECNICO EM SEGURANCA DO TRABALHO</td><td>8</td></tr><tr><td>ARMAZENISTA</td><td>8</td></tr><tr><td>AGENTE DE POLICIA - TERCEIRA C</td><td>8</td></tr><tr><td>ASSISTENTE TECNICO/DMTU II    </td><td>8</td></tr><tr><td>AVALIADOR</td><td>8</td></tr><tr><td>MOTORISTA MANOBREIRO          </td><td>8</td></tr><tr><td>ENGENHEIRO MECANICO</td><td>8</td></tr><tr><td>TELEFONISTA                   </td><td>8</td></tr><tr><td>PROFISSIONAL DE APOIO T�CNICO - PAT</td><td>8</td></tr><tr><td>RES.ODO.C.TRAUM.BUCO M.FAC.   </td><td>8</td></tr><tr><td>PROGRAMADOR                   </td><td>8</td></tr><tr><td>ANALISTA G.E.-ADMINISTRACAO   </td><td>8</td></tr><tr><td>AGENTE GE COPA E COZINHA      </td><td>8</td></tr><tr><td>EE - ELETRICISTA              </td><td>8</td></tr><tr><td>AUX.ASS.SOC.-COPEIRA/MERENDE  </td><td>8</td></tr><tr><td>PROCURADOR CATEGORIA - I      </td><td>8</td></tr><tr><td>ESP.ASS.SOC.-TEC.ASS.EDUC     </td><td>8</td></tr><tr><td>ESPECIALISTA SOCIOEDUCATIVO   </td><td>8</td></tr><tr><td>ASSISTENTE ADMINISTRATIVO II</td><td>7</td></tr><tr><td>DIRETOR</td><td>7</td></tr><tr><td>ESP.ASS.SOCIAL-TEC.EDUC.FISI  </td><td>7</td></tr><tr><td>3 SARGENTO PM COMBATENTE      </td><td>7</td></tr><tr><td>TECNICO JUR - TECNOL.INFORM   </td><td>7</td></tr><tr><td>ASPIRANTE A OFICIAL           </td><td>7</td></tr><tr><td>MED.RESID. - CIRURGIA PLASTI  </td><td>7</td></tr><tr><td>MEDICO - CIR. CARD.-PERIFERI  </td><td>7</td></tr><tr><td>TECNICO EM ENFERMAGEM-APO     </td><td>7</td></tr><tr><td>TECNICO EM ASSUNTOS EDUC.     </td><td>7</td></tr><tr><td>MEDICO-CIRURGIA ONCOLOGICA    </td><td>7</td></tr><tr><td>AGENTE GE SERVICOS GERAIS     </td><td>7</td></tr><tr><td>ESP.ASS.SOC- ASS. SOCIAL      </td><td>7</td></tr><tr><td>TECNICO GE SERV ESP OB CIVIS  </td><td>7</td></tr><tr><td>TECNICO EM CONTABILIDADE      </td><td>7</td></tr><tr><td>AUX.ASS.SOC.-AUX.OP.SER.DIV.  </td><td>7</td></tr><tr><td>AUXILIAR TRANSPORTE URBANO    </td><td>7</td></tr><tr><td>TMF - TEC EM ELETRONICA       </td><td>7</td></tr><tr><td>PROCURADOR AUTARQUICO-ESPECIAL</td><td>7</td></tr><tr><td>MEDICO-PSIQUIATRIA            </td><td>7</td></tr><tr><td>DIRETOR EXECUTIVO BRB</td><td>6</td></tr><tr><td>ESOCIO - TEC. ASS. EDUCAC.    </td><td>6</td></tr><tr><td>AGENTE COMERCIAL              </td><td>6</td></tr><tr><td>ASSESSOR ESPECIAL             </td><td>6</td></tr><tr><td>ESOCIO - TEC. EDUC. FISICA    </td><td>6</td></tr><tr><td>SEGUNDO TENENTE ADMINISTRATIVO</td><td>6</td></tr><tr><td>ESOCIO - EDUCADOR SOCIAL      </td><td>6</td></tr><tr><td>ACOUGUEIRO                    </td><td>6</td></tr><tr><td>TECNICO DE CONTABILIDADE      </td><td>6</td></tr><tr><td>AUXILIAR DE ENFERMAGEM DO TRABALHO</td><td>6</td></tr><tr><td>CONSULTOR DA PRESID�NCIA</td><td>6</td></tr><tr><td>CORONEL 20%                   </td><td>6</td></tr><tr><td>TECNICO DE INFORMATICA (EM EXTINCAO)</td><td>6</td></tr><tr><td>T�CNICO EM PROC. DE DADOS</td><td>6</td></tr><tr><td>ASSISTENTE ADMINISTRATIVO LL</td><td>6</td></tr><tr><td>CONSELHEIRO DO CONSAD - BRB</td><td>6</td></tr><tr><td>ESOCIO - ARTES PLASTICAS      </td><td>6</td></tr><tr><td>ASSISTENTE GEST ASS PUB SAUD  </td><td>6</td></tr><tr><td>MED.RESID. - CIRURGIA PEDIAT  </td><td>6</td></tr><tr><td>MED.RESID. - REUMATOLOGIA     </td><td>6</td></tr><tr><td>MED.RESID. - TERAPIA INT. AD  </td><td>6</td></tr><tr><td>MED.RESID. - OTORRINOLARINGO  </td><td>6</td></tr><tr><td>ESTATISTICO                   </td><td>6</td></tr><tr><td>MED.RESID.-CIRURGIA VASCULAR  </td><td>6</td></tr><tr><td>MEDICO-ENDOSCOPIA             </td><td>6</td></tr><tr><td>MED.RESID. - GENETICA MEDICA  </td><td>6</td></tr><tr><td>MEDICO-CIRURG. AP. DIGESTIVO  </td><td>6</td></tr><tr><td>AGENTE G.E.- MAN DE PISCINA   </td><td>6</td></tr><tr><td>TECNICO G.E.- CONTABILIDADE   </td><td>6</td></tr><tr><td>AMT - ENGENHEIRO DE TELECOM.  </td><td>6</td></tr><tr><td>REQUISITADO                   </td><td>6</td></tr><tr><td>AUX.ASS.SOC-ASSIST.BAS.S.SOC  </td><td>6</td></tr><tr><td>ANA.GES.FISC.ROD.LEI 5195/13  </td><td>6</td></tr><tr><td>AUXILIAR DE EDUC VIGILANCIA   </td><td>6</td></tr><tr><td>TMF - TECNICO EM ESTRADAS     </td><td>6</td></tr><tr><td>ANALISTA JUR - BIBLIOTECONOM  </td><td>5</td></tr><tr><td>CONSELHEIRO DO CONFIS - BRB</td><td>5</td></tr><tr><td>BIOLOGO</td><td>5</td></tr><tr><td>BORRACHEIRO                   </td><td>5</td></tr><tr><td>SOLDADOR</td><td>5</td></tr><tr><td>ALUNO OFICIAL DEMAIS ANOS     </td><td>5</td></tr><tr><td>PEDAGOGO</td><td>5</td></tr><tr><td>DESENHISTA</td><td>5</td></tr><tr><td>VIGIA                         </td><td>5</td></tr><tr><td>TEC REGUL SERV PUBLICOS       </td><td>5</td></tr><tr><td>TEC. NIVEL SUPERIOR/DMTU I    </td><td>5</td></tr><tr><td>MEDICO DO TRABALHO</td><td>5</td></tr><tr><td>TECNICO DE TELECOMUNICACOES</td><td>5</td></tr><tr><td>CABO PM COMBATENTE            </td><td>5</td></tr><tr><td>ESOCIO - CONTADOR             </td><td>5</td></tr><tr><td>INSTRUTOR FUNAB               </td><td>5</td></tr><tr><td>MED.RESID. FISICA E REABILIT  </td><td>5</td></tr><tr><td>AGENTE DE COLETA              </td><td>5</td></tr><tr><td>MED.RESID. - REPROD. HUMANA   </td><td>5</td></tr><tr><td>PASUS                         </td><td>5</td></tr><tr><td>RESID. MEDICO DO TRABALHO     </td><td>5</td></tr><tr><td>MED.PEDIATRIA-C/FORM.CARDIOL  </td><td>5</td></tr><tr><td>ANALISTA G.E.- ARQUIVO        </td><td>5</td></tr><tr><td>AGENTE G.E.- SERV AUX AGROPE  </td><td>5</td></tr><tr><td>AMT - ARQUITETO               </td><td>5</td></tr><tr><td>ANALISTA EDUC.ADVOCACIA       </td><td>5</td></tr><tr><td>PROCURADOR AUTARQUICO-1A. CAT.</td><td>5</td></tr><tr><td>TEC. DES. FISC. AGROP L5195/13</td><td>5</td></tr><tr><td>TOPOGRAFO                     </td><td>5</td></tr><tr><td>TECNICO DE NIVEL SUPERIOR     </td><td>5</td></tr><tr><td>TMF - TEC EM INFORMATICA      </td><td>5</td></tr><tr><td>AMD - ANALISTA DE SISTEMAS    </td><td>5</td></tr><tr><td>ANALISTA DE TRANSP. URBANOS   </td><td>5</td></tr><tr><td>ANALISTA DES FISC AGRO-MEDIC  </td><td>5</td></tr><tr><td>ESOCIO - ESTATISTICO          </td><td>4</td></tr><tr><td>ANALISTA JUR - ADMINISTRADOR  </td><td>4</td></tr><tr><td>CONSULTOR DA DIRETORIA</td><td>4</td></tr><tr><td>RECAUCHUTADOR                 </td><td>4</td></tr><tr><td>TENENTE-CORONEL PM MEDICO     </td><td>4</td></tr><tr><td>ESP.ASS.SOCIAL - ECONOMISTA   </td><td>4</td></tr><tr><td>PRIMEIRO TENENTE ADMINIST.    </td><td>4</td></tr><tr><td>ENGENHEIRO DE SEGURANCA DO TRABALHO</td><td>4</td></tr><tr><td>GESTOR DE RESIDUOS SOLIDOS    </td><td>4</td></tr><tr><td>TECNICO EM FISCALIZA��O</td><td>4</td></tr><tr><td>ANA. DE APOIO ATIV. PCDF      </td><td>4</td></tr><tr><td>ADVOGADO                      </td><td>4</td></tr><tr><td>CORONEL PM MEDICO             </td><td>4</td></tr><tr><td>PROCURADOR 1 CAT. - QE        </td><td>4</td></tr><tr><td>MED.RESID. - M.GERAL E COMUN  </td><td>4</td></tr><tr><td>MED RESID CIRURGIA DIGESTIVA  </td><td>4</td></tr><tr><td>MED.RES-ENDOCRINOPEDIATRIA    </td><td>4</td></tr><tr><td>AUDITOR DE ATIV. URBANAS      </td><td>4</td></tr><tr><td>MED.RES-NEUROLOGIA PEDIATRIC  </td><td>4</td></tr><tr><td>MED.RESID. - MASTOLOGIA       </td><td>4</td></tr><tr><td>MED.RESID.MEDICINA FETAL      </td><td>4</td></tr><tr><td>AUX.OP.SERV.DIV. - LAVANDERI  </td><td>4</td></tr><tr><td>MED.RESID-PNEUMOLOGIA PEDIAT  </td><td>4</td></tr><tr><td>MED.RESID.-CANCEROL. CLINICA  </td><td>4</td></tr><tr><td>1 SARGENTO PM COMBATENTE      </td><td>4</td></tr><tr><td>MEDICO - MEDICINA DE EMERG.   </td><td>4</td></tr><tr><td>MED.RESID. - COLOPROCTOLOGIA  </td><td>4</td></tr><tr><td>MED.RESID. - HEMATOLOGIA      </td><td>4</td></tr><tr><td>MED.RESID. - ACUPUNTURA       </td><td>4</td></tr><tr><td>PROFESSOR CLASSE C            </td><td>4</td></tr><tr><td>AGENTE G.E.- AUX MARCENARIA   </td><td>4</td></tr><tr><td>ANALISTA G.E.- COM. SOCIAL    </td><td>4</td></tr><tr><td>TSOCIO - AUX.ENFERMAGEM       </td><td>4</td></tr><tr><td>ESP.ASS.SOC.-ESP.ASS.SOCIAL   </td><td>4</td></tr><tr><td>MEDICO-CARDIOLOGIA            </td><td>4</td></tr><tr><td>MEDICO -MEDICINA DO TRABALHO  </td><td>4</td></tr><tr><td>TEC.ASS.SOC.-ELET.MANUTENCAO  </td><td>4</td></tr><tr><td>TEC.ASS.SOC. - MECANICO       </td><td>4</td></tr><tr><td>AUX DE EDUCAC  CONS LIMP      </td><td>4</td></tr><tr><td>TMF - TEC TELECOMUNICACOES    </td><td>4</td></tr><tr><td>EE - AUX. SERVICOS GERAIS     </td><td>4</td></tr><tr><td>AMD - CONTADOR                </td><td>4</td></tr><tr><td>TMF - TEC SEG DO TRABALHO     </td><td>4</td></tr><tr><td>MEDICO-ORTOP.E TRAUMATOLOGIA  </td><td>4</td></tr><tr><td>TEC.ASS.SOCIAL - MARCENEIRO   </td><td>3</td></tr><tr><td>MEMBRO EFETIVO DO COMIT� DE REMUNERA��O</td><td>3</td></tr><tr><td>GESTOR EM ASSUNTOS T�TICOS</td><td>3</td></tr><tr><td>DIRETOR DISTRIB.TITULOS E VALORES MOBILIARIOS S.A.</td><td>3</td></tr><tr><td>TECNICO FLORESTAL</td><td>3</td></tr><tr><td>ASSESSORA ASSUNTOS ESTRAT�GICOS</td><td>3</td></tr><tr><td>MAJOR COMPLEMENTAR            </td><td>3</td></tr><tr><td>EMPREGO EM COMISSAO</td><td>3</td></tr><tr><td>ENGENHEIRO/DMTU II            </td><td>3</td></tr><tr><td>TSOCIO - PINTOR               </td><td>3</td></tr><tr><td>ALMOXARIFE</td><td>3</td></tr><tr><td>MEMBRO DO CAE</td><td>3</td></tr><tr><td>ESP.ASS.SOCIAL-TEC.ASS.EDUCA  </td><td>3</td></tr><tr><td>TSOCIO - AUX. ENFERMAGEM      </td><td>3</td></tr><tr><td>TEC.ASS.SOCIAL - SERRALHEIRO  </td><td>3</td></tr><tr><td>CONSELHEIRO DO CONFIS - CFI</td><td>3</td></tr><tr><td>TECNICO POL PUB E GEST GOV    </td><td>3</td></tr><tr><td>ANALISTA DE BANCO DE DADOS</td><td>3</td></tr><tr><td>TECNICO - TEC CONTABILIDADE   </td><td>3</td></tr><tr><td>ANALISTA DE ORGANIZ. E SISTEMAS</td><td>3</td></tr><tr><td>AUXILIAR DE ADMINISTRACAO (EM EXTINCAO)</td><td>3</td></tr><tr><td>DESENHISTA (EM EXTINCAO)</td><td>3</td></tr><tr><td>OPERADOR DE TACOGRAFIA        </td><td>3</td></tr><tr><td>CONSELHEIRO                   </td><td>3</td></tr><tr><td>CARTAZISTA                    </td><td>3</td></tr><tr><td>CARREGADOR                    </td><td>3</td></tr><tr><td>ARTIFICE ESPECIALIZADO        </td><td>3</td></tr><tr><td>M�DICO DO TRABALHO</td><td>3</td></tr><tr><td>GEOLOGO</td><td>3</td></tr><tr><td>ANAL. DE TRANSITO L5195/13    </td><td>3</td></tr><tr><td>CONSELHEIRO DO CONFIS - DTVM</td><td>3</td></tr><tr><td>RESID. PSIQUIAT.INFAN.ADOLES  </td><td>3</td></tr><tr><td>MED.RESID.MEDICINA PALIATIVA  </td><td>3</td></tr><tr><td>MEDICO RADIOLOGISTA           </td><td>3</td></tr><tr><td>MEDICO-COLOPROCTOLOGISTA      </td><td>3</td></tr><tr><td>ANALISTA DE O & M             </td><td>3</td></tr><tr><td>SUBTENENTE PM COMBATENTE      </td><td>3</td></tr><tr><td>MEDICO - ELETROMIOGRAFIA      </td><td>3</td></tr><tr><td>1 TENENTE QOPMA               </td><td>3</td></tr><tr><td>MED.RESID. - TER. INT. PEDIA  </td><td>3</td></tr><tr><td>MED.RES.GASTROENT.PEDIATRICA  </td><td>3</td></tr><tr><td>RESIDENTE- ENFERMAGEM EM UTI  </td><td>3</td></tr><tr><td>GEOGRAFO                      </td><td>3</td></tr><tr><td>ENFERMEIRO-APO.               </td><td>3</td></tr><tr><td>TECNICO G.E.- DESENHO         </td><td>3</td></tr><tr><td>CARGO NAO CADASTRADO          </td><td>3</td></tr><tr><td>ESP.GES.FISC.ROD.LEI 5195/13  </td><td>3</td></tr><tr><td>AG.ATIV.COMPLEM.SSP-ANATOMIA  </td><td>3</td></tr><tr><td>AMT - ENGENHEIRO ELETRONICO   </td><td>3</td></tr><tr><td>AUXILIA DE EDUC PORTARIA      </td><td>3</td></tr><tr><td>CARGO P/PG.AUX.ALIMENTACAO    </td><td>3</td></tr><tr><td>AUXILIAR DE APOIO ATIV PCDF   </td><td>3</td></tr><tr><td>ANA. DES. FISC. AGROP L5195/13</td><td>3</td></tr><tr><td>ENG DE SEG DO TRABALHO        </td><td>3</td></tr><tr><td>FISCAL TRIBUTARIO             </td><td>3</td></tr><tr><td>TECNICO EM SEG DO TRABALHO    </td><td>3</td></tr><tr><td>AMD - ECONOMISTA              </td><td>3</td></tr><tr><td>GESTOR POL PUBL GESTAO GOV    </td><td>3</td></tr><tr><td>ANA. APOIO AS ATIV PCDF       </td><td>3</td></tr><tr><td>TEC.ASS.SOCIAL - PINTOR       </td><td>3</td></tr><tr><td>AMD - PEDAGOGO                </td><td>3</td></tr><tr><td>MEMBRO EFETIVO DO COMIT� DE AUDITORIA</td><td>2</td></tr><tr><td>TSOCIO - DESENHISTA           </td><td>2</td></tr><tr><td>ASSISTENTE ADM./DMTU III      </td><td>2</td></tr><tr><td>TEC.ASS.SOC.-AG.ATIV.AGROP.   </td><td>2</td></tr><tr><td>JORNALISTA</td><td>2</td></tr><tr><td>PEDREIRO                      </td><td>2</td></tr><tr><td>TEC. ESPEC. EM MANUTENCAO     </td><td>2</td></tr><tr><td>AUXILIAR ADM./DMTU            </td><td>2</td></tr><tr><td>TECNICO EM AGRIMENSURA</td><td>2</td></tr><tr><td>TEC.ASS.SOCIAL - AG. ADM.     </td><td>2</td></tr><tr><td>GEN BRIGADA                   </td><td>2</td></tr><tr><td>FUNDIDOR</td><td>2</td></tr><tr><td>ESTOFADOR                     </td><td>2</td></tr><tr><td>AG POLICIAL DE CUSTODIA-SEGUND</td><td>2</td></tr><tr><td>GESTOR EM ADMINISTRA��O POR OBJETIVOS</td><td>2</td></tr><tr><td>GEOGRAFO</td><td>2</td></tr><tr><td>PSICOLOGO</td><td>2</td></tr><tr><td>DIRETOR DA CFI</td><td>2</td></tr><tr><td>COORDENADOR DE PLANEJAMENTO</td><td>2</td></tr><tr><td>TEC.ASS.SOCIAL-COSTUREIRO     </td><td>2</td></tr><tr><td>ANALISTA JUR - ARQUIVOLOGIA   </td><td>2</td></tr><tr><td>CONSULTOR JURIDICO</td><td>2</td></tr><tr><td>AUX. DE ENFERM. DO TRABALHO</td><td>2</td></tr><tr><td>1 TENENTE PM MEDICO           </td><td>2</td></tr><tr><td>ASSISTENTE ADMINISTRATIVO L</td><td>2</td></tr><tr><td>TECNICO JUR - ELET E COMUNIC  </td><td>2</td></tr><tr><td>T�CNICO EM SEG. DO TRABALHO</td><td>2</td></tr><tr><td>PEDAGOGO/DMTU                 </td><td>2</td></tr><tr><td>AJUDANTE DE POSTO</td><td>2</td></tr><tr><td>ASSISTENTE SOCIAL</td><td>2</td></tr><tr><td>TECNICO DE INFORMATICA        </td><td>2</td></tr><tr><td>TECNICO EM RECURSOS HUMANOS</td><td>2</td></tr><tr><td>TECNICO EM COMUNICACAO SOCIAL</td><td>2</td></tr><tr><td>ANALISTA JUR - FARMACIA       </td><td>2</td></tr><tr><td>AUXILIAR DE PROCESSAMENTO DE DADOS</td><td>2</td></tr><tr><td>ARQUIVISTA</td><td>2</td></tr><tr><td>ELETRICISTA DE INSTALACOES</td><td>2</td></tr><tr><td>CHEFE DE GABINETE</td><td>2</td></tr><tr><td>ANALISTA JUR - JORNALISMO     </td><td>2</td></tr><tr><td>ASSISTENTE OPERACIONAL</td><td>2</td></tr><tr><td>ESCRIVAO DE POLICIA - TERCEIRA</td><td>2</td></tr><tr><td>CONTADORA</td><td>2</td></tr><tr><td>GESTOR EM ASSUNTOS ESTRAT�GICOS</td><td>2</td></tr><tr><td>TECNICO DE SEGURAN�A DO TRABALHO</td><td>2</td></tr><tr><td>CAPITAO MANUTENCAO            </td><td>2</td></tr><tr><td>GESTOR EM ASSUNTOS OPERACIONAIS</td><td>2</td></tr><tr><td>BIBLIOTECARIO</td><td>2</td></tr><tr><td>CONFEITEIRO                   </td><td>2</td></tr><tr><td>PRIMEIRO SARGENTO MANUTENCAO  </td><td>2</td></tr><tr><td>MEDICO - CITOPATOLOGIA        </td><td>2</td></tr><tr><td>RESID. ENFERM. NEFROLOGIA     </td><td>2</td></tr><tr><td>MED.RESID. - ENDOSCOPIA RESP  </td><td>2</td></tr><tr><td>ANA. GEST EDUCACIONAL L5195/  </td><td>2</td></tr><tr><td>ASSIST.DE SERV.DE ENGENHARIA  </td><td>2</td></tr><tr><td>MED.RESID. - CIRURGIA TORAXI  </td><td>2</td></tr><tr><td>MED.RESID. - HEPATOLOGIA      </td><td>2</td></tr><tr><td>TECNICO DE PLANEJAMENTO       </td><td>2</td></tr><tr><td>DOCUMENTADOR                  </td><td>2</td></tr><tr><td>RECEPCIONISTA                 </td><td>2</td></tr><tr><td>FISIOTERAPEUTA-APO.           </td><td>2</td></tr><tr><td>RESID.MED.CIRURGIA TRAUMA     </td><td>2</td></tr><tr><td>REVISOR                       </td><td>2</td></tr><tr><td>2 SARGENTO PM COMBATENTE      </td><td>2</td></tr><tr><td>MED RESID ENDOSC. GINECOLOGI  </td><td>2</td></tr><tr><td>RESID.MED. ECOCARDIOGRAFIA    </td><td>2</td></tr><tr><td>MED.RESID. - ALERGIA E IMUNO  </td><td>2</td></tr><tr><td>TECNICO G.E.- OP MAQ PESADAS  </td><td>2</td></tr><tr><td>GESTOR POL PUB E GET GOV      </td><td>2</td></tr><tr><td>ANALISTA G.E.- ECONOMIA       </td><td>2</td></tr><tr><td>AMT - ENGENHEIRO SEG. TRAB.   </td><td>2</td></tr><tr><td>PROFESSOR DE EDUCACAO BASICA  </td><td>2</td></tr><tr><td>AMD - COMUNICOLOGO            </td><td>2</td></tr><tr><td>AMT - ENGENHEIRO AMBIENTAL    </td><td>2</td></tr><tr><td>MARCENEIRO CLASSE ESPECIAL    </td><td>2</td></tr><tr><td>ASSIST.DE APOIO ATIV. PCDF    </td><td>2</td></tr><tr><td>TEC.ASS.SOC.-ALET.MANUT.TEL.  </td><td>2</td></tr><tr><td>ESP.ASS.SOC.-ADMINISTRADOR    </td><td>2</td></tr><tr><td>AUX.PORTARIA-ATIV.CULTURAIS1  </td><td>2</td></tr><tr><td>TEC.EM CONTAB. CLASSE ESPECI  </td><td>2</td></tr><tr><td>TSOCIO - PROFESSOR CLASSE A   </td><td>2</td></tr><tr><td>TEC.ASS.SOC.-COSTUREIRO       </td><td>2</td></tr><tr><td>AUX.ASS.SOC.-AUX.DE MAR.      </td><td>2</td></tr><tr><td>AUX.ASS.SOC.-LAVADEIRA/PASSA  </td><td>2</td></tr><tr><td>GEST POL PUB GEST GOV L5195/13</td><td>2</td></tr><tr><td>TMF - ENFERMAGEM DO TRABALHO  </td><td>2</td></tr><tr><td>FISCAL ATIV URBANAS - OEU     </td><td>2</td></tr><tr><td>AMD - PSICOLOGO               </td><td>2</td></tr><tr><td>AMD - ASSISTENTE SOCIAL       </td><td>2</td></tr><tr><td>TECNICO GE SEC ESCOLAR        </td><td>2</td></tr><tr><td>AMD - ARQUIVISTA              </td><td>2</td></tr><tr><td>TEC.ASS.SOC.-AG.ATIV AGROP.   </td><td>2</td></tr><tr><td>TSOCIO - OPERADOR GRAFICO     </td><td>1</td></tr><tr><td>ASSESSOR JUR�DICO</td><td>1</td></tr><tr><td>EDUCADOR SOCIAL-1A CLASSE     </td><td>1</td></tr><tr><td>ESP.ASS.SOCIAL - COM. SOCIAL  </td><td>1</td></tr><tr><td>CORREGEDOR</td><td>1</td></tr><tr><td>COORD. DE SA�DE, SEGURAN�A E DESENV. HUMANO</td><td>1</td></tr><tr><td>PSICOLOGO/DMTU                </td><td>1</td></tr><tr><td>TENENTE CORONEL MEDICO        </td><td>1</td></tr><tr><td>ELETRICISTA/DMTU              </td><td>1</td></tr><tr><td>ASSESSORA DE IMPRENSA</td><td>1</td></tr><tr><td>PUBLICITARIO</td><td>1</td></tr><tr><td>GERENTE DE TECNOLOGIA DA INFORMA��O</td><td>1</td></tr><tr><td>PINTOR/DMTU                   </td><td>1</td></tr><tr><td>TECNICO ESPECIALIZADO (EM EXTINCAO)</td><td>1</td></tr><tr><td>ENGENHEIRA CIVIL</td><td>1</td></tr><tr><td>COORD. DE APOIO AOS �RG�OS COLEGIADOS</td><td>1</td></tr><tr><td>ASSESSOR DA DIRETORIA ADM-FINANCEIRA E REL C/ INVESTIDORES</td><td>1</td></tr><tr><td>ENGENHEIRO DE SEG. DO TRABALHO</td><td>1</td></tr><tr><td>DIRETOR GERAL DE EMPRESA E ORGANIZACAO</td><td>1</td></tr><tr><td>AUDITOR CHEFE</td><td>1</td></tr><tr><td>ARQUITETO/DMTU                </td><td>1</td></tr><tr><td>ASSISTENTE  APOIO ATIV. PCDF  </td><td>1</td></tr><tr><td>SEGUNDO TENENTE MANUTENCAO    </td><td>1</td></tr><tr><td>GERENTE DE �RG�OS COLEGIADOS</td><td>1</td></tr><tr><td>PADEIRO                       </td><td>1</td></tr><tr><td>COORDENADOR ADM E SUPORTE OPERACIONAL</td><td>1</td></tr><tr><td>GERENTE DE RELA��ES COM INVESTIDORES</td><td>1</td></tr><tr><td>ENGENHEIRO AGRIMENSOR</td><td>1</td></tr><tr><td>ASSITENTE DE REFRIGERA��O</td><td>1</td></tr><tr><td>ANALISTA - ESPECIALISTA RH    </td><td>1</td></tr><tr><td>ANALISTA - JORNALISMO         </td><td>1</td></tr><tr><td>BORRACHEIRO</td><td>1</td></tr><tr><td>ENGENHEIRO AGRONOMO</td><td>1</td></tr><tr><td>AGENTE DE TELECOMUNICACOES</td><td>1</td></tr><tr><td>ENGENHEIRO/DMTU I             </td><td>1</td></tr><tr><td>COORDENADORA ADM DE PESSOAL</td><td>1</td></tr><tr><td>3o. SGTO. COND. E OPE. VIATURA</td><td>1</td></tr><tr><td>DIRETOR JUR�DICO BRB</td><td>1</td></tr><tr><td>TESOUREIRO AUXILIAR</td><td>1</td></tr><tr><td>TECNICO DE COMERCIALIZACAO    </td><td>1</td></tr><tr><td>ELETRICISTA                   </td><td>1</td></tr><tr><td>PRESIDENTE DO COMIT� DE AUDITORIA</td><td>1</td></tr><tr><td>ATENDENTE DE AMBULATORIO      </td><td>1</td></tr><tr><td>COORD. DE GEST�O DOCUMENTAL</td><td>1</td></tr><tr><td>GESTOR EM ASSUNTOS DOCUMENTAIS</td><td>1</td></tr><tr><td>TENENTE-CORONEL PM DENTISTA   </td><td>1</td></tr><tr><td>TEC.ASS.SOCIAL- OPER GRAFICO  </td><td>1</td></tr><tr><td>CAPITAO COMPLEMENTAR          </td><td>1</td></tr><tr><td>TEC. EM RECURSOS HUMANOS      </td><td>1</td></tr><tr><td>TEC.ASS.SOC.-ELET.MANUT.TEL.  </td><td>1</td></tr><tr><td>MECANICO AUTOMOTIVO           </td><td>1</td></tr><tr><td>TEC.ASS.SOC -ELET.MANUTENCAO  </td><td>1</td></tr><tr><td>TECNICO DE ADM PUBLICA AG XV  </td><td>1</td></tr><tr><td>TEC. EM SEG. DO TRABALHO      </td><td>1</td></tr><tr><td>GERENTE DE PLANEJAMENTO E DE GEST�O DE RISCOS</td><td>1</td></tr><tr><td>AUXILIAR DE SERVI�OS GERAIS</td><td>1</td></tr><tr><td>OPERADOR DE VHF               </td><td>1</td></tr><tr><td>ASSESSOR ASSUNTOS ESTRAT�GICOS</td><td>1</td></tr><tr><td>OUVIDORA</td><td>1</td></tr><tr><td>COORD. OR�AMENT�RIO E PATRIMONIAL</td><td>1</td></tr><tr><td>COORDENADORA FINANCEIRA</td><td>1</td></tr><tr><td>MAJOR PM MEDICO               </td><td>1</td></tr><tr><td>ASSESSORA DA DIRETORIA DE REGULA��O E DE FISCALIZA��ES</td><td>1</td></tr><tr><td>ESP.ASS.SOCIAL - ODONTOLOGO   </td><td>1</td></tr><tr><td>ADVOGADO-DMTU II              </td><td>1</td></tr><tr><td>ANALISTA SIST INFOR SENIOR EXT - PCS 1991</td><td>1</td></tr><tr><td>COORDENADORA DE GEST�O DOCUMENTAL</td><td>1</td></tr><tr><td>GERENTE ADM E SUPORTE OPERACIONAL</td><td>1</td></tr><tr><td>MARCENEIRO                    </td><td>1</td></tr><tr><td>ANALISTA JUR - ESTATISTICA    </td><td>1</td></tr><tr><td>TECNICO DE BOMBA INJETORA     </td><td>1</td></tr><tr><td>SOLDADO PM 2 CLASSE           </td><td>1</td></tr><tr><td>TEC.ASS.SOC.-TEC. EM CONTAB.  </td><td>1</td></tr><tr><td>TEC.ASS.SOCIAL - AISS         </td><td>1</td></tr><tr><td>DENTISTA                      </td><td>1</td></tr><tr><td>DIRETOR PRESIDENTE DA CFI</td><td>1</td></tr><tr><td>CAPITAO PM                    </td><td>1</td></tr><tr><td>AUXILIAR DE TESOUREIRO</td><td>1</td></tr><tr><td>MEMBRO EFETIVO DO COMITE DE RISCO - BRB</td><td>1</td></tr><tr><td>GERENTE FINANCEIRO E CONT�BIL</td><td>1</td></tr><tr><td>ECONOMISTA/DMTU II            </td><td>1</td></tr><tr><td>OPERADOR DE CARRO GHINCHO     </td><td>1</td></tr><tr><td>GERENTE DE FISC. DE CONCESS�ES DA DIRETORIA DE REGULA��O E FISCALIZA��O DE CONCESS�ES</td><td>1</td></tr><tr><td>PRESIDENTE BRB</td><td>1</td></tr><tr><td>SERRALHEIRO                   </td><td>1</td></tr><tr><td>ASSESSOR DA PRESID�NCIA</td><td>1</td></tr><tr><td>CAPITAO PM FEMININO           </td><td>1</td></tr><tr><td>AUDITOR</td><td>1</td></tr><tr><td>GESTOR EM ASSUNTOS EXECUTIVOS</td><td>1</td></tr><tr><td>AUX. DE SERV. GERAIS/DMTU     </td><td>1</td></tr><tr><td>TECNICO EM EXTINTOR           </td><td>1</td></tr><tr><td>T�CNICO EM CONTABILIDADE</td><td>1</td></tr><tr><td>GESTOR EM ASSUNTOS ORGANIZACIONAIS</td><td>1</td></tr><tr><td>TECNICO EM HIDROLOGIA</td><td>1</td></tr><tr><td>PINTOR DE AUTOS               </td><td>1</td></tr><tr><td>ESCRITURARIO PCS 2000</td><td>1</td></tr><tr><td>DIGITADOR EM EXTINCAO COM 66 666% PCCR 2012</td><td>1</td></tr><tr><td>RECEPCIONISTA DE LOJA         </td><td>1</td></tr><tr><td>ASSESSOR DA DIRETORIA DE PLANEJAMENTO E GEST�O DE RISCOS</td><td>1</td></tr><tr><td>ADVOGADO-DMTU I               </td><td>1</td></tr><tr><td>SECRETARIO EXECUTIVO (EM EXTINCAO)</td><td>1</td></tr><tr><td>AGR�NOMO</td><td>1</td></tr><tr><td>PRIMEIRO SARGENTO HIDRANTE    </td><td>1</td></tr><tr><td>ANALISTA - ARQUIVOLOGIA       </td><td>1</td></tr><tr><td>SERRALHEIRO/DMTU              </td><td>1</td></tr><tr><td>2o. SGTO. COND. E OPE. VIATURA</td><td>1</td></tr><tr><td>ENGENHEIRA ELETRICISTA</td><td>1</td></tr><tr><td>TORNEIRO MECANICO             </td><td>1</td></tr><tr><td>CAPITAO 20%                   </td><td>1</td></tr><tr><td>GEN DIVISAO                   </td><td>1</td></tr><tr><td>ANALISTA JUR - PSICOLOGIA     </td><td>1</td></tr><tr><td>ADMINISTRADOR/DMTU  I         </td><td>1</td></tr><tr><td>MEDICO                        </td><td>1</td></tr><tr><td>GESTORA EM ASSUNTOS ESTRAT�GICOS</td><td>1</td></tr><tr><td>GERENTE DE REGULA��O E COMERCIALIZA��O</td><td>1</td></tr><tr><td>PINTOR  CLASSE ESPECIAL       </td><td>1</td></tr><tr><td>TECNICO GRAFICO               </td><td>1</td></tr><tr><td>IMPRESSOR                     </td><td>1</td></tr><tr><td>FOTOGRAFO DE ARTES GRAFICAS   </td><td>1</td></tr><tr><td>SOCIOLOGO                     </td><td>1</td></tr><tr><td>CIR.DENT-ENDODONTIA           </td><td>1</td></tr><tr><td>MED.RES. PATOLOGIA            </td><td>1</td></tr><tr><td>MEDICO-EXTINCAO CLINICA MEDI  </td><td>1</td></tr><tr><td>MED.RES-ENDOSCOPIA DIGESTIVA  </td><td>1</td></tr><tr><td>CABO PM MOTORISTA             </td><td>1</td></tr><tr><td>OPERADOR DE COMPOSER          </td><td>1</td></tr><tr><td>OPERADOR DE ACABAMENTO        </td><td>1</td></tr><tr><td>CIR.DENT-ORTODONTIA           </td><td>1</td></tr><tr><td>MEDICO CIRURGIA VASC. PERIF.  </td><td>1</td></tr><tr><td>MED RESID TRANSPLANTE RENAL   </td><td>1</td></tr><tr><td>MEDICO ...                    </td><td>1</td></tr><tr><td>MEDICO-EXTINCAO ANESTESIOLOG  </td><td>1</td></tr><tr><td>CIR.DENT-RADIOLOGIA           </td><td>1</td></tr><tr><td>MEDICO - IMAGINOLOGISTA       </td><td>1</td></tr><tr><td>RESID.MED.ELETROFISIOLOGIA    </td><td>1</td></tr><tr><td>PAGINADOR                     </td><td>1</td></tr><tr><td>MED.RES-NEUROFISIOLOGIA       </td><td>1</td></tr><tr><td>MED.RES.CIRUR.GERAL AVANCADA  </td><td>1</td></tr><tr><td>MEDICO-ONCOLOGIA PEDIATRICA   </td><td>1</td></tr><tr><td>MEDICO-CLINICA MEDICA-APO.    </td><td>1</td></tr><tr><td>RESID. - ENFERM. EMERGENCIA   </td><td>1</td></tr><tr><td>3 SARG PM MNT MOTOMECANIZACA  </td><td>1</td></tr><tr><td>MESTRE DE OBRAS               </td><td>1</td></tr><tr><td>MED.OTORRINOL.CABECA/PESCOCO  </td><td>1</td></tr><tr><td>ANALISTA G.E.- MED VETERINAR  </td><td>1</td></tr><tr><td>TECNICO G.E.- SERV DE AGROPE  </td><td>1</td></tr><tr><td>TECNICO G.E.- MESTRE O.CIVIS  </td><td>1</td></tr><tr><td>PROFESSOR NIVEL 1 40 HORAS    </td><td>1</td></tr><tr><td>TECNICO G.E.- AF MAN INSTRUM  </td><td>1</td></tr><tr><td>TECNICO GESTAO EDUC \"B\"       </td><td>1</td></tr><tr><td>TEC.ASS.SOC.-BOMBEIRO HIDR.   </td><td>1</td></tr><tr><td>FISCAL ATIV URBANAS - AEU     </td><td>1</td></tr><tr><td>EE - AUXILIAR DE MANUTENCAO   </td><td>1</td></tr><tr><td>GESTOR POL PUBL GEST GOV      </td><td>1</td></tr><tr><td>ESP.ASS.SOC.-TEC.ASS.EDUC.    </td><td>1</td></tr><tr><td>ESPECIALISTA DE TRANSP. URB   </td><td>1</td></tr><tr><td>MEDICO - PEDIATRA             </td><td>1</td></tr><tr><td>TSOCIO - AUX. SERV. ADM.      </td><td>1</td></tr><tr><td>ESOCIO - ODONTOLOGO           </td><td>1</td></tr><tr><td>ESPECIALISTA DE EDUC BASICA   </td><td>1</td></tr><tr><td>TMF - DESENHISTA-PROJETISTA   </td><td>1</td></tr><tr><td>EE - TELEFONISTA              </td><td>1</td></tr><tr><td>AUX.ASS.SOC.-AUX.OBRA CIV.    </td><td>1</td></tr><tr><td>ASCENSORISTA CLASSE ESPECIAL  </td><td>1</td></tr><tr><td>AUX DE ED SERV AUX OBRAS CIV  </td><td>1</td></tr><tr><td>MEDICO-PEDIATRA               </td><td>1</td></tr><tr><td>TEC.ASS.SOC.-LANT.PINTOR      </td><td>1</td></tr><tr><td>TEC.ASS.SOC.-PEDREIRO         </td><td>1</td></tr><tr><td>DIRETOR                       </td><td>1</td></tr><tr><td>TSOCIO - MECANICO             </td><td>1</td></tr><tr><td>MEDICO DO TRABALHO            </td><td>1</td></tr><tr><td>PROCURADOR AUTARQUICO-2A. CA  </td><td>1</td></tr><tr><td>TEC.ASS.SOC.-AUX.DE ENFERM.   </td><td>1</td></tr><tr><td>ESP.ASS.SOCIAL ECONOMISTA     </td><td>1</td></tr><tr><td>ESP.ASS.SOCIAL ESTATISTICO    </td><td>1</td></tr><tr><td>TECNICO GE COND DE VEICULOS   </td><td>1</td></tr><tr><td>AUXILIAR DE TRANSP. URBANOS   </td><td>1</td></tr><tr><td>TECNICO DE TRANSP. URBANOS    </td><td>1</td></tr><tr><td>ASSIST INTER. SERVICOS SOCIAIS</td><td>1</td></tr><tr><td>AUX.ASS.SOC.-AUX.OP.EM AGR    </td><td>1</td></tr><tr><td>TEC.ASS.SOC.-PROF.CLASSE A    </td><td>1</td></tr><tr><td>GESTOR DE APOIO AS ATIV PCDF  </td><td>1</td></tr><tr><td>ASSISTENTE APOIO ATIV PCDF    </td><td>1</td></tr><tr><td>ESP.ASS.SOC - MEDICO          </td><td>1</td></tr><tr><td>ESP.ASS.SOC.-SOCIOLOGO        </td><td>1</td></tr><tr><td>ANALISTA EDUC SERVICO SOCIAL  </td><td>1</td></tr><tr><td>AUX DE EDUC COPA E COZINHA    </td><td>1</td></tr><tr><td>TSOCIO - ELETR. MANUTENCAO    </td><td>1</td></tr><tr><td>TEC.ASS.SOC. - VIDRACEIRO     </td><td>1</td></tr><tr><td>AMD - MEDICO DO TRABALHO      </td><td>1</td></tr><tr><td>ESP.ASS.SOC.-MEDICO           </td><td>1</td></tr><tr><td>ESP.ASS.SOC - CONTADOR        </td><td>1</td></tr><tr><td>AMT - ENGENHEIRO CONT. QUAL.  </td><td>1</td></tr><tr><td>TECNICO JUR-CARP. MARCENARIA  </td><td>1</td></tr><tr><td>ESP.ASS.SOCIAL ODONTOLOGO(A)  </td><td>1</td></tr><tr><td>EE - AUX. SERVICOS DE APOIO   </td><td>1</td></tr><tr><td>ESP.ASS.SOC.-PENS VITAL ASSS  </td><td>1</td></tr><tr><td>TECNICO GE COND VEIC AUTOMOT  </td><td>1</td></tr><tr><td>AUX.ASS.SOC.-ASS BAS.S SOC.   </td><td>1</td></tr><tr><td>EE - AUXILIAR DE ELETRONICA   </td><td>1</td></tr><tr><td>ESP DE ASS A EDUC AP TEC ADM  </td><td>1</td></tr><tr><td>TEC. ATIV. CULTURAIS L5195/13 </td><td>1</td></tr></tbody></table></div>"
      ]
     },
     "metadata": {
      "application/vnd.databricks.v1+output": {
       "addedWidgets": {},
       "aggData": [],
       "aggError": "",
       "aggOverflow": false,
       "aggSchema": [],
       "aggSeriesLimitReached": false,
       "aggType": "",
       "arguments": {},
       "columnCustomDisplayInfos": {},
       "data": [
        [
         "PROFESSOR DE EDUC. BASICA     ",
         46505
        ],
        [
         "CONTRATO TEMPORARIO           ",
         13594
        ],
        [
         "                              ",
         11334
        ],
        [
         "PRIMEIRO SARGENTO",
         7976
        ],
        [
         "ANALISTA GEST ASS PUB SAUDE   ",
         6560
        ],
        [
         "ANALISTA POL PUBL E GEST GOV  ",
         6332
        ],
        [
         "ANALISTA TECNICO-ASSIST.PPGG  ",
         6032
        ],
        [
         "SEGUNDO SARGENTO",
         5703
        ],
        [
         "AGENTE G.E.- CONS E LIMPEZA   ",
         4483
        ],
        [
         "ENFERMEIRO                    ",
         4406
        ],
        [
         "TECNICO GEST ASS PUB SAUDE    ",
         4257
        ],
        [
         "AGENTE DE POLICIA - CLASSE ESP",
         3787
        ],
        [
         "TERCEIRO SARGENTO",
         3749
        ],
        [
         "SUBTENENTE",
         3244
        ],
        [
         "TECNICO G.E.- APOIO ADMINIST  ",
         3167
        ],
        [
         "ESCRITUR�RIO",
         2963
        ],
        [
         "AGENTE G.E.- VIGILANCIA       ",
         2546
        ],
        [
         "CABO",
         2523
        ],
        [
         "AGENTE DE POLICIA             ",
         2210
        ],
        [
         "SOLDADO PRIMEIRA CLASSE",
         2203
        ],
        [
         "POLICIA PENAL                 ",
         1745
        ],
        [
         "AGENTE G.E.- COPA E COZINHA   ",
         1637
        ],
        [
         "AUDITOR FISCAL ATIV. URBANAS  ",
         1605
        ],
        [
         "AGENTE G.E.- SERV GERAIS      ",
         1587
        ],
        [
         "AGENTE G.E.- PORTARIA         ",
         1575
        ],
        [
         "PEDAGOGO - ORIENT EDUC.       ",
         1504
        ],
        [
         "AGENTE SOCIOEDUCATIVO         ",
         1487
        ],
        [
         "SOLDADO SEGUNDA CLASSE",
         1413
        ],
        [
         "AUDITOR-FISCAL DA RECEITA DF  ",
         1409
        ],
        [
         "MAJOR",
         1305
        ],
        [
         "ANA. GES. FISC. RODOVIARIA    ",
         1255
        ],
        [
         "TECNICO G.E.- SEC. ESCOLAR    ",
         1186
        ],
        [
         "GESTOR POL PUB E GEST GOV     ",
         1163
        ],
        [
         "SEGUNDO TENENTE",
         1066
        ],
        [
         "AUXILIAR DE SERVICOS GERAIS   ",
         1064
        ],
        [
         "MEDICO - CLINICA MEDICA       ",
         1033
        ],
        [
         "AG. COMUNITARIO DE SAUDE      ",
         1015
        ],
        [
         "MEDICO - PEDIATRIA            ",
         989
        ],
        [
         "MEDICO - GINECO.E OBSTETRICI  ",
         967
        ],
        [
         "CAPITAO",
         827
        ],
        [
         "AGENTE DE TRANSITO            ",
         815
        ],
        [
         "AG POLICIAL DE CUSTODIA-CLASSE",
         783
        ],
        [
         "ASSISTENTE GAPS TEC LAB PAT   ",
         756
        ],
        [
         "FISIOTERAPEUTA                ",
         749
        ],
        [
         "TECNICO DE GESTAO FAZENDARIA  ",
         739
        ],
        [
         "TENENTE-CORONEL",
         736
        ],
        [
         "AGENTE DE POLICIA - SEGUNDA CL",
         731
        ],
        [
         "TEC. DESENV. FISCALIZ. AGROP  ",
         689
        ],
        [
         "TEC.ASS.SOCIAL - AG. SOCIAL   ",
         679
        ],
        [
         "INSPETOR TEC CONTR INTERNO    ",
         655
        ],
        [
         "AUDITOR DE CONTROLE INTERNO   ",
         642
        ],
        [
         "CORONEL",
         626
        ],
        [
         "ASSISTENTE GAPS TEC RAD       ",
         615
        ],
        [
         "PRIMEIRO TENENTE",
         598
        ],
        [
         "ASSISTENTE GAPS TEC THD       ",
         594
        ],
        [
         "MONITOR DE GESTAO EDUCACIONA  ",
         555
        ],
        [
         "MED. DA FAMILIA E COMUNIDADE  ",
         552
        ],
        [
         "AUDITOR ATIV. URBANAS         ",
         543
        ],
        [
         "AUX. DESENV. FISCALIZ. AGROP  ",
         525
        ],
        [
         "ENFERMEIRO-FAMILIA E COMUNID  ",
         521
        ],
        [
         "NUTRICIONISTA                 ",
         515
        ],
        [
         "FARMACEUTICO BIOQ. FARMACIA   ",
         513
        ],
        [
         "DELEGADO DE POLICIA - CLASSE E",
         506
        ],
        [
         "ANALISTA PLANEJ. URB. INFRA.  ",
         489
        ],
        [
         "AGENTE DE VIG.AMB.SAUDE AVAS  ",
         461
        ],
        [
         "ESCRIVAO DE POLICIA - CLASSE E",
         457
        ],
        [
         "MEDICO - CIRURGIA GERAL       ",
         445
        ],
        [
         "ASSISTENTE GAPS TEC NUTRICAO  ",
         442
        ],
        [
         "AGENTE COMUNITARIO DE SAUDE   ",
         431
        ],
        [
         "ODONTOLOGO                    ",
         426
        ],
        [
         "ASSISTENTE GAPS TEC LAB HEM   ",
         421
        ],
        [
         "PSICOLOGO                     ",
         418
        ],
        [
         "DELEGADO DE POLICIA           ",
         417
        ],
        [
         "MEDICO - ORT. E TRAUMATOLOGI  ",
         417
        ],
        [
         "MEDICO - ANESTESIOLOGIA       ",
         417
        ],
        [
         "ASSISTENTE SOCIAL             ",
         413
        ],
        [
         "AG.ROD.GES.FISC.RODOVIARIA    ",
         406
        ],
        [
         "AG. VIG. AMBIENTAL EM SAUDE   ",
         382
        ],
        [
         "AGENTE POLICIAL DE CUSTODIA   ",
         371
        ],
        [
         "ANALISTA EM ATIV DE TRANSITO  ",
         371
        ],
        [
         "ASSISTENTE ADMINISTRATIVO",
         366
        ],
        [
         "TECNICO SOCIOEDUCATIVO        ",
         365
        ],
        [
         "EXAMINADOR TEORICO-PRATICO    ",
         363
        ],
        [
         "BOMBEIRO HIDRAULICO",
         361
        ],
        [
         "INSPETOR FISCAL               ",
         357
        ],
        [
         "TECNICO PLANEJ. URB. INFRA.   ",
         349
        ],
        [
         "FARMACEUTICO BIOQ. LABORATOR  ",
         340
        ],
        [
         "TEC.ASS.SOC-AG.ADMINISTRATIV  ",
         332
        ],
        [
         "ESCRIVAO DE POLICIA           ",
         327
        ],
        [
         "PAPILOSCOPISTA POLICIAL-CLASSE",
         323
        ],
        [
         "ANALISTA DE TECNOLOGIA DA INFORMA��O",
         317
        ],
        [
         "TECNICO DE ATIV CULTURAIS     ",
         317
        ],
        [
         "CIRURGIAO DENTISTA            ",
         316
        ],
        [
         "TECNICO DE RESIDUOS SOLIDOS   ",
         311
        ],
        [
         "MOTORISTA                     ",
         310
        ],
        [
         "1 SARGENTO PM INATIVO         ",
         302
        ],
        [
         "AUDITOR TRIBUTARIO            ",
         297
        ],
        [
         "ADMINISTRADOR                 ",
         296
        ],
        [
         "TECNICO EM ATIV. DE TRANSITO  ",
         284
        ],
        [
         "OPERADOR DE ESTACAO DE TRATAMENTO",
         284
        ],
        [
         "AGENTE DE POLICIA - PRIMEIRA C",
         274
        ],
        [
         "MEDICO - TERAPIA INT. ADULTO  ",
         272
        ],
        [
         "PAPILOSCOPISTA POLICIAL       ",
         264
        ],
        [
         "AGENTE OPERACIONAL            ",
         263
        ],
        [
         "TECNICO JUR - APOIO ADMINIST  ",
         262
        ],
        [
         "TECNICO ATIV DO HEMOCENTRO    ",
         261
        ],
        [
         "AUXILIAR ASSISTENCIA SOCIAL   ",
         239
        ],
        [
         "TECNICO G.E.- SERV OBRAS CIV  ",
         232
        ],
        [
         "PERITO CRIMINAL - CLASSE ESPEC",
         229
        ],
        [
         "PERITO CRIMINAL               ",
         228
        ],
        [
         "AUX.ASSISTENCIA SOCIAL-ABSS   ",
         223
        ],
        [
         "MEDICO - CARDIOLOGIA          ",
         221
        ],
        [
         "SUBPROCURADOR GERAL           ",
         219
        ],
        [
         "CONSELHEIRO TUTELAR           ",
         211
        ],
        [
         "TEC.ASS.SOC.-AG.ADMINISTRATI  ",
         199
        ],
        [
         "FONOAUDIOLOGO                 ",
         197
        ],
        [
         "AGENTE DE GESTAO FAZENDARIA   ",
         197
        ],
        [
         "SUBTENENTE PM INATIVO         ",
         196
        ],
        [
         "ESCRIVAO DE POLICIA - SEGUNDA",
         195
        ],
        [
         "MEDICO - RADIOLOGISTA         ",
         194
        ],
        [
         "TECNICO G.E.- COND VEICULOS   ",
         192
        ],
        [
         "EE - AGENTE DE ESTACAO        ",
         192
        ],
        [
         "ESP.ASS.SOCIAL - ASS SOCIAL   ",
         191
        ],
        [
         "TEC.ASS.SOC.-AGENTE SOCIAL    ",
         187
        ],
        [
         "EE - PILOTO                   ",
         185
        ],
        [
         "MEDICO - NEONATOLOGIA         ",
         183
        ],
        [
         "ESP.ASS.SOCIAL - PSICOLOGO    ",
         181
        ],
        [
         "ANA ATIVIDADES DE TRANSITO    ",
         180
        ],
        [
         "ENFERMEIRO-OBSTETRA           ",
         176
        ],
        [
         "AUXILIAR ATIVIDADES CULTURAI  ",
         175
        ],
        [
         "DELEGADO DE POLICIA - SEGUNDA",
         174
        ],
        [
         "MEDICO - PSIQUIATRIA          ",
         173
        ],
        [
         "MEDICO-MEDICINA EMERGENCIA    ",
         172
        ],
        [
         "AG. DE TRANSITO RODOVIARIO    ",
         170
        ],
        [
         "ESP.ASS.SOCIAL - EDUC SOCIAL  ",
         169
        ],
        [
         "ANALISTA G.E.- PSICOLOGIA     ",
         168
        ],
        [
         "2 SARGENTO PM INATIVO         ",
         167
        ],
        [
         "ANALISTA ATIV DO HEMOCENTRO   ",
         165
        ],
        [
         "CORONEL PM INATIVO            ",
         162
        ],
        [
         "TECNICO EM ENFERMAGEM         ",
         159
        ],
        [
         "ESOCIO - ASSISTENTE SOCIAL    ",
         158
        ],
        [
         "TECNICO POL PUBL E GEST GOV   ",
         152
        ],
        [
         "MED.RESID. - PEDIATRIA        ",
         151
        ],
        [
         "MED.RESID. - CLINICA MEDICA   ",
         151
        ],
        [
         "SEM VINCULO",
         144
        ],
        [
         "ESOCIO - PSICOLOGO            ",
         142
        ],
        [
         "RESID. - ENFERMEIRO           ",
         142
        ],
        [
         "COBRADOR                      ",
         141
        ],
        [
         "EE - AGENTE SEG. OPERACIONAL  ",
         139
        ],
        [
         "DEFENSOR PUBLICO - ESPECIAL   ",
         138
        ],
        [
         "EXTENSIONISTA RURAL-NS        ",
         137
        ],
        [
         "PENSIONISTA PM                ",
         130
        ],
        [
         "TSOCIO - AGENTE SOCIAL        ",
         126
        ],
        [
         "3 SARGENTO PM INATIVO         ",
         126
        ],
        [
         "TERAPEUTA OCUPACIONAL         ",
         122
        ],
        [
         "PAPILOSCOPISTA POLICIAL-SEGUND",
         119
        ],
        [
         "CORONEL COMBATENTE            ",
         115
        ],
        [
         "OTM - OP DE TRANSP METROFER   ",
         115
        ],
        [
         "MED.RESID. - GINECO.E OBSTET  ",
         114
        ],
        [
         "MUSICO NIVEL SUPERIOR         ",
         113
        ],
        [
         "MEDICO - OFTALMOLOGIA         ",
         112
        ],
        [
         "AGENTE DE SERVICOS GERAIS     ",
         110
        ],
        [
         "AG GESTAO FAZ - AG. PORTARIA  ",
         107
        ],
        [
         "AUXILIAR SOCIOEDUCATIVO       ",
         106
        ],
        [
         "RESID.- ENFERMAGEM CIRURGICA  ",
         106
        ],
        [
         "TECNICO DE SANEAMENTO",
         104
        ],
        [
         "DEFENSOR PUBLICO CLASSE INTE  ",
         103
        ],
        [
         "TECNICO G.E.- HIG. DENTAL     ",
         103
        ],
        [
         "ANALISTA TRANSPORTE URBANO    ",
         102
        ],
        [
         "TEC.ASS.SOC.-CUIDADOR SOCIAL  ",
         101
        ],
        [
         "MEDICO - NEFROLOGIA           ",
         101
        ],
        [
         "TEC.ASS.SOC.-ASSIST.INTER.SS  ",
         101
        ],
        [
         "ANALISTA DE RESIDUOS SOLIDOS  ",
         100
        ],
        [
         "PRIMEIRO SARGENTO             ",
         100
        ],
        [
         "AGENTE ADMINISTRATIVO         ",
         99
        ],
        [
         "MED.RESID. - CIRURGIA GERAL   ",
         96
        ],
        [
         "ESOCIO - PEDAGOGO             ",
         95
        ],
        [
         "PERITO CRIMINAL - PRIMEIRA CLA",
         94
        ],
        [
         "MED.RESID. - MED FAM E COMUN  ",
         94
        ],
        [
         "TECNICO G.E.- EDUC EM SAUDE   ",
         94
        ],
        [
         "DELEGADO DE POLICIA - PRIMEIRA",
         93
        ],
        [
         "PADIOLEIRO                    ",
         92
        ],
        [
         "MAJOR PM INATIVO              ",
         91
        ],
        [
         "ENGENHEIRO CIVIL",
         90
        ],
        [
         "MEDICO - TER. INT. PEDIATRIC  ",
         90
        ],
        [
         "2 TENENTE PM INATIVO          ",
         89
        ],
        [
         "ANA. DESENV. FISCALIZ. AGROP  ",
         89
        ],
        [
         "PROCURADOR DF CATEGORIA II    ",
         88
        ],
        [
         "MED.RESID. - ORT. E TRAUMATO  ",
         88
        ],
        [
         "MEDICO - OTORRINOLARINGOLOGI  ",
         87
        ],
        [
         "CARGO PARA SUBSTITUICAO       ",
         84
        ],
        [
         "GAE ESPECIALIZACAO            ",
         84
        ],
        [
         "PERITO MEDICO LEGISTA-CLASSE E",
         83
        ],
        [
         "ADVOGADO",
         83
        ],
        [
         "PSM - PROF SUPORT METROFER    ",
         83
        ],
        [
         "PENSAO ESPECIAL ADMINISTRATI  ",
         83
        ],
        [
         "DIGITADOR                     ",
         81
        ],
        [
         "MEDICO - UROLOGIA             ",
         81
        ],
        [
         "TSOCIO - AG. ADMINISTRATIVO   ",
         80
        ],
        [
         "TEC ATIVIDADES DE TRANSITO    ",
         80
        ],
        [
         "TENENTE-CORONEL PM            ",
         78
        ],
        [
         "RESID. - NUTRICIONISTA        ",
         78
        ],
        [
         "MEDICO - NEUROLOGIA           ",
         78
        ],
        [
         "AUXILIAR ADMINISTRATIVO       ",
         77
        ],
        [
         "RESID. - PSICOLOGO            ",
         76
        ],
        [
         "MEDICO-CIRURGIA GERAL-TRAUMA  ",
         76
        ],
        [
         "AUX.ASS.SOC. - VIGIA          ",
         76
        ],
        [
         "ANALISTA G.E.- NUTRICAO       ",
         75
        ],
        [
         "TEC. ASS.SOCIAL - AISS        ",
         74
        ],
        [
         "REGULADOR SERV PUBLICOS       ",
         74
        ],
        [
         "PERITO CRIMINAL - TERCEIRA CLA",
         73
        ],
        [
         "MEDICO - MEDICINA DO TRABALH  ",
         73
        ],
        [
         "PERITO MEDICO-LEGISTA         ",
         73
        ],
        [
         "MEDICO - SANITARISTA          ",
         71
        ],
        [
         "ESP.ASS.SOC.-ASS.SUP.S.SOCIA  ",
         70
        ],
        [
         "EE - INSPETOR DE ESTACAO      ",
         70
        ],
        [
         "TENENTE CORONEL COMBATENTE    ",
         69
        ],
        [
         "ENGENHEIRO                    ",
         69
        ],
        [
         "RESID.FISIOTERAPEUTA          ",
         69
        ],
        [
         "ANAL.DE APOIO A ASSIST. JUD.  ",
         68
        ],
        [
         "AUXILIAR OPERACIONAL          ",
         68
        ],
        [
         "ASSISTENTE ADMINISTRATIVO     ",
         67
        ],
        [
         "EXAM.TEOR.-PRAT.DE INSTRUCAO  ",
         67
        ],
        [
         "GAE MESTRADO                  ",
         66
        ],
        [
         "MEDICO - ANATOMIA PATOLOGICA  ",
         66
        ],
        [
         "PSO - PROF SEG OP METROFER    ",
         66
        ],
        [
         "AUXILIAR DE PROCESSAMENTO     ",
         65
        ],
        [
         "MEDICO-MEDICINA DO TRABALHO   ",
         65
        ],
        [
         "AUXILIAR DE SERVICOS GERAIS",
         64
        ],
        [
         "DEFENSOR PUBLICO CLASSE INIC  ",
         64
        ],
        [
         "MED.RESID. - ANESTESIOLOGIA   ",
         64
        ],
        [
         "ESP ATIVIDADES DE TRANSITO    ",
         63
        ],
        [
         "MEDICO - GASTROENTEROLOGIA    ",
         63
        ],
        [
         "AGENTE FISCAL TRIBUTARIO      ",
         63
        ],
        [
         "TECNICO DE EDIFICACOES",
         62
        ],
        [
         "CAPITAO PM INATIVO            ",
         62
        ],
        [
         "AUX.ASS.SOC-ASSIST. BAS.SSOC  ",
         62
        ],
        [
         "ATENDENTE COMERCIAL",
         61
        ],
        [
         "MEDICO - ENDOCRINOLOGIA       ",
         61
        ],
        [
         "ANALISTA DE ATIV.CULTURAIS    ",
         60
        ],
        [
         "TEC.ASS.SOC.-MOTORISTA        ",
         60
        ],
        [
         "AUX.ASS.SOC.-ABSS APOSENTADO  ",
         60
        ],
        [
         "ASSISTENTE GAPS TEC LAB ANAT  ",
         59
        ],
        [
         "ESP.ASS.SOCIAL - PEDAGOGO     ",
         58
        ],
        [
         "MEDICO - CIRURGIA PEDIATRICA  ",
         58
        ],
        [
         "COMISSIONADO                  ",
         58
        ],
        [
         "SUBTENENTE                    ",
         57
        ],
        [
         "EMPREGADO APRENDIZ",
         57
        ],
        [
         "ASSESSORAMENTO",
         56
        ],
        [
         "MEDICO - DERMATOLOGIA         ",
         56
        ],
        [
         "TEC.ASS.SOC. - APOSENTADO     ",
         56
        ],
        [
         "AGENTE - ANATOMIA             ",
         55
        ],
        [
         "ENGENHEIRO",
         54
        ],
        [
         "CADETE-ULTIMO ANO",
         53
        ],
        [
         "CABO                          ",
         53
        ],
        [
         "1 TENENTE PM INATIVO          ",
         53
        ],
        [
         "ANALISTA ATIV MEIO AMBIENTE   ",
         52
        ],
        [
         "BIOMEDICO                     ",
         52
        ],
        [
         "MEDICO - CIRURGIA VASCULAR    ",
         52
        ],
        [
         "MEDICO - CIRURGIA PLASTICA    ",
         52
        ],
        [
         "TECNICO ATIV MEIO AMBIENTE    ",
         51
        ],
        [
         "ANALISTA G.E.- ODONTOLOGIA    ",
         51
        ],
        [
         "TECNICO ADMINISTRATIVO",
         50
        ],
        [
         "CONTADOR",
         50
        ],
        [
         "BIOLOGO                       ",
         50
        ],
        [
         "PROCURADOR CATEGORIA - II     ",
         50
        ],
        [
         "TECNICO EM EDIFICACOES        ",
         50
        ],
        [
         "MECANICO",
         49
        ],
        [
         "MEDICO - CITOLOGIA            ",
         49
        ],
        [
         "AGENTE G.E.- AUX OBRAS CIVIS  ",
         49
        ],
        [
         "TECNICO AGRICOLA              ",
         49
        ],
        [
         "MEDICO - PNEUMOLOGIA          ",
         48
        ],
        [
         "ENFERMEIRO DO TRABALHO        ",
         48
        ],
        [
         "ESP. GES. FISC. RODOVIARIA    ",
         48
        ],
        [
         "ADMINISTRADOR",
         47
        ],
        [
         "ESP. ASS. SOCIAL - DIR LEG    ",
         47
        ],
        [
         "ASSIST.TEC. DE ADMINISTRACAO  ",
         47
        ],
        [
         "MEDICO-INFECTOLOGISTA         ",
         47
        ],
        [
         "SECRETARIO APOIO              ",
         46
        ],
        [
         "MEDICO - BIOMET.E PER. MEDIC  ",
         46
        ],
        [
         "TENENTE-CORONEL PM INATIVO    ",
         45
        ],
        [
         "ASPIRANTE A OFICIAL",
         45
        ],
        [
         "AGENTE GE VIGILANCIA          ",
         45
        ],
        [
         "TECNICO TRANSPORTE URBANO     ",
         45
        ],
        [
         "TEC.FINANCAS CONTROLE         ",
         45
        ],
        [
         "AGENTE JUR - APOIO OPERAC.    ",
         44
        ],
        [
         "AUXILIAR DE FISCALIZACAO",
         44
        ],
        [
         "CONSELHEIRO",
         44
        ],
        [
         "MEDICO - NEUROCIRURGIA        ",
         44
        ],
        [
         "EXTENSIONISTA RURAL-NM        ",
         43
        ],
        [
         "SEGUNDO SARGENTO              ",
         43
        ],
        [
         "SOLDADO PRIMEIRA CLASSE       ",
         43
        ],
        [
         "ELETRICISTA DE MANUTENCAO INDUSTRIAL",
         42
        ],
        [
         "TECNICO DE MANUTENCAO         ",
         41
        ],
        [
         "MOTORISTA",
         40
        ],
        [
         "ANALISTA DE SISTEMAS",
         40
        ],
        [
         "REQUISITADO",
         40
        ],
        [
         "AUX.ASS.SOC.-AG.CON.LIMPEZA   ",
         40
        ],
        [
         "TECNICO G.E.- SERV MARCENARI  ",
         39
        ],
        [
         "AGENTE DE EXECUCAO PENAL      ",
         39
        ],
        [
         "MEDICO - MASTOLOGIA           ",
         38
        ],
        [
         "PERITO MED LEGISTA-SEGUNDA CLA",
         37
        ],
        [
         "TRABALHADOR DA MANUTENCAO DE EDIFICACOES",
         37
        ],
        [
         "MEDICO - REUMATOLOGIA         ",
         37
        ],
        [
         "GESTOR POL PUBL E GEST GOV    ",
         36
        ],
        [
         "RESID. SERVICO SOCIAL         ",
         36
        ],
        [
         "MAJOR COMBATENTE              ",
         35
        ],
        [
         "GAE DOUTOR                    ",
         35
        ],
        [
         "MEDICO - SAUDE PUBLICA        ",
         35
        ],
        [
         "ARQUITETO                     ",
         35
        ],
        [
         "ESCRIVAO DE POLICIA - PRIMEIRA",
         34
        ],
        [
         "AUXILIAR DE ADMINISTRACAO",
         34
        ],
        [
         "TERCEIRO SARGENTO             ",
         34
        ],
        [
         "TSOCIO - MOTORISTA            ",
         34
        ],
        [
         "ESP.ASS.SOCIAL- ASS. SOCIAL   ",
         34
        ],
        [
         "TECNICO QUIMICO",
         33
        ],
        [
         "MEDICO-CANCEROL./ONC.CLINICA  ",
         33
        ],
        [
         "MED.RESID. - PSIQUIATRIA      ",
         33
        ],
        [
         "ANALISTA DE SISTEMAS          ",
         32
        ],
        [
         "PAPILOSCOPISTA POLICIAL- TERCE",
         32
        ],
        [
         "ANALISTA JUR - DIREITO E LEG  ",
         31
        ],
        [
         "TECNICO ESPECIALIZADO         ",
         31
        ],
        [
         "MEDICO - CL. MED. QUEIMADOS   ",
         31
        ],
        [
         "RESID. FARMACIA               ",
         31
        ],
        [
         "MEDICO - HEMATOLOGIA          ",
         31
        ],
        [
         "OPERADOR DE CAIXA             ",
         30
        ],
        [
         "AUX.PORTARIA-ATIV.CULT.-ESPE  ",
         30
        ],
        [
         "TECNICO ELETRICISTA",
         30
        ],
        [
         "FISCAL DE DEFESA DO CONSUMID  ",
         30
        ],
        [
         "MEDICO - PATOLOGIA CLINICA    ",
         30
        ],
        [
         "RESID. - ENFERM. OBSTETRICA   ",
         30
        ],
        [
         "FISCAL DE TRAFEGO             ",
         29
        ],
        [
         "MEDICO - GENERALISTA          ",
         29
        ],
        [
         "BIBLIOTECARIO                 ",
         29
        ],
        [
         "EE - INSPETOR DE TRAFEGO      ",
         29
        ],
        [
         "ANALISTA GESTAO FAZENDARIA    ",
         29
        ],
        [
         "PROFISSIONAL DE N�VEL SUPERIOR - PNS",
         28
        ],
        [
         "TECNICO ELETRONICO",
         28
        ],
        [
         "TEC.ASS.SOCIAL-AGENTE SOCIAL  ",
         28
        ],
        [
         "ANALISTA ASS EDUC - MEDICINA  ",
         28
        ],
        [
         "ECONOMISTA",
         27
        ],
        [
         "PAPILOSCOPISTA POLICIAL- PRIME",
         27
        ],
        [
         "ASSISTENTE ADM./DMTU II       ",
         27
        ],
        [
         "SECRETARIO LOGISTICO          ",
         27
        ],
        [
         "RESID. TERAPIA OCUPACIONAL    ",
         27
        ],
        [
         "MED.RESID. - OFTALMOLOGIA     ",
         27
        ],
        [
         "MEDICO - ACUPUNTURA           ",
         27
        ],
        [
         "AGENTE GE CONS LIMP           ",
         27
        ],
        [
         "AUXILIAR ATIV DO HEMOCENTRO   ",
         27
        ],
        [
         "AUX. DE SERV. GERAIS          ",
         26
        ],
        [
         "MAJOR PM                      ",
         26
        ],
        [
         "MUSICO                        ",
         26
        ],
        [
         "REPOSITOR                     ",
         26
        ],
        [
         "PROFISSIONAL DE SERVI�OS ADMINISTRATIVOS - PSA",
         26
        ],
        [
         "TECNICO EM COMUNICACAO SOCIA  ",
         26
        ],
        [
         "AUX.ASS.SOC.-ASS BAS SERVSOC  ",
         26
        ],
        [
         "CORONEL PM                    ",
         25
        ],
        [
         "TECNICO - AG. ADMINISTRATIVO  ",
         25
        ],
        [
         "PENSAO INDENIZATORIA          ",
         25
        ],
        [
         "ANALISTA G.E.- SERV. SOCIAL   ",
         25
        ],
        [
         "PROCURADOR DF CATEGORIA I     ",
         24
        ],
        [
         "CAPITAO COMBATENTE            ",
         24
        ],
        [
         "AUX.PORTARIA-ATIV.CULTURAIS   ",
         24
        ],
        [
         "AUX.ASS.SOC.- AUX. COZINHA    ",
         24
        ],
        [
         "COORDENADOR                   ",
         23
        ],
        [
         "MEDICO - GERIATRIA            ",
         23
        ],
        [
         "RESID. SAUDE COLETIVA         ",
         23
        ],
        [
         "AGENTE - ENFERMAGEM           ",
         23
        ],
        [
         "TEC.ASS.SOC.-TEC.ASS.SOCIAL   ",
         23
        ],
        [
         "CADETE-DEMAIS ANOS",
         22
        ],
        [
         "ARQUITETO",
         22
        ],
        [
         "RESID. - ODONTOLOGO           ",
         22
        ],
        [
         "MEDICO - HOMEOPATIA           ",
         22
        ],
        [
         "ESP.ASS.SOC.-ASS APOSENTADO   ",
         22
        ],
        [
         "PERITO MED LEGISTA-PRIMEIRA CL",
         21
        ],
        [
         "2 TENENTE PM                  ",
         21
        ],
        [
         "ESOCIO - ADMINISTRADOR        ",
         21
        ],
        [
         "INSTRUTOR EGOV                ",
         21
        ],
        [
         "ENGENHEIRO ELETRICISTA",
         21
        ],
        [
         "MEDICO - PROCTOLOGIA          ",
         21
        ],
        [
         "MEDICO - ALERGIA E IMUNOLOGI  ",
         21
        ],
        [
         "MEDICO - CIR. CARDIOVASC. CA  ",
         21
        ],
        [
         "MEDICO - BRONCOESOFAGOLOGIA   ",
         21
        ],
        [
         "TEC.ASS.SOC.-ASS INTER S.SOC  ",
         21
        ],
        [
         "AUXILIAR ATIVIDADES CULTURAIS ",
         21
        ],
        [
         "AGENTE GE PORTARIA            ",
         21
        ],
        [
         "ANALISTA PLANEJ. ORCAMENTO    ",
         21
        ],
        [
         "AUXILIAR DE TOPOGRAFIA",
         20
        ],
        [
         "AGENTE JUR - AG. PORTARIA     ",
         20
        ],
        [
         "MEDICO - MED. FIS. E REABILI  ",
         20
        ],
        [
         "JETON                         ",
         20
        ],
        [
         "CAIXA                         ",
         19
        ],
        [
         "ASSISTENTE TECNICO            ",
         19
        ],
        [
         "TECNICO MECANICO",
         19
        ],
        [
         "AGENTE DE ATIV DO HEMOCENTRO  ",
         19
        ],
        [
         "TECNICO G.E.- TELEFONIA       ",
         19
        ],
        [
         "ANALISTA G.E.- AN. SISTEMA    ",
         19
        ],
        [
         "TEC.PLANEJ. ORCAMENTO         ",
         19
        ],
        [
         "AGENTE JUR - AG.PORTARIA.     ",
         19
        ],
        [
         "BALCONISTA                    ",
         18
        ],
        [
         "TEC.ASS.SOCIAL - MOTORISTA    ",
         18
        ],
        [
         "CORONEL 10%                   ",
         18
        ],
        [
         "MEDICO - TISIOLOGIA           ",
         18
        ],
        [
         "MEDICO-NEUROLOGIA PEDIATRICA  ",
         18
        ],
        [
         "MED.RESID-MEDICINA URGENCIA   ",
         18
        ],
        [
         "RESID. - SAUDE MENTAL         ",
         18
        ],
        [
         "TMF - TEC EM EDIFICACOES      ",
         18
        ],
        [
         "ESP.ASS.SOCIAL - ASSIST.SOC.  ",
         17
        ],
        [
         "ESP.ASS.SOCIAL - NUTRICAO     ",
         17
        ],
        [
         "PERITO CRIMINAL - SEGUNDA CLAS",
         17
        ],
        [
         "MEDICO - GENETICA CLINICA     ",
         17
        ],
        [
         "MED.RESID. - NEUROCIRURGIA    ",
         17
        ],
        [
         "MED.RESID. - NEFROLOGIA       ",
         17
        ],
        [
         "TMF - TEC EM ELETROTECNICA    ",
         17
        ],
        [
         "ESP POL PUBL E GESTAO GOV     ",
         17
        ],
        [
         "AG POLICIAL DE CUSTODIA-PRIMEI",
         16
        ],
        [
         "DELEGADO DE POLICIA - TERCEIRA",
         16
        ],
        [
         "CONDUTOR DE VEICULOS",
         16
        ],
        [
         "SOLDADO PM INATIVO            ",
         16
        ],
        [
         "TECNICO JUR - DATILOGRAFO     ",
         16
        ],
        [
         "MED.RESID. - DERMATOLOGIA     ",
         16
        ],
        [
         "CONTADOR                      ",
         16
        ],
        [
         "MED.RES.RAD.E DIAG.P/IMAGEM   ",
         16
        ],
        [
         "MED.RESID. - CARDIOLOGIA      ",
         16
        ],
        [
         "MED.RESID. - NEUROLOGIA       ",
         16
        ],
        [
         "ANALISTA FINANCAS CONTROLE    ",
         16
        ],
        [
         "ANALISTA JUR - AN. SISTEMAS   ",
         15
        ],
        [
         "MECANICO DE VEICULOS",
         15
        ],
        [
         "TECNICO DE CONTABILIDADE",
         15
        ],
        [
         "ANALISTA JUR - CONTABILIDADE  ",
         15
        ],
        [
         "MEDICO - CIRURGIA TORAXICA    ",
         15
        ],
        [
         "MEDICO ..                     ",
         15
        ],
        [
         "PERITO MED LEGISTA-TERCEIRA CL",
         14
        ],
        [
         "AUXILIAR DE MANUTENCAO        ",
         14
        ],
        [
         "ANALISTA - DIREITO E LEGISL   ",
         14
        ],
        [
         "AUXILIAR DE LABORATORIO",
         14
        ],
        [
         "TECNICO JUR - MOTORISTA       ",
         14
        ],
        [
         "DESENHISTA                    ",
         14
        ],
        [
         "PRIMEIRO TENENTE COMBATENTE   ",
         14
        ],
        [
         "FISICO                        ",
         14
        ],
        [
         "AGENTE G.E.- AUX MECANICA     ",
         14
        ],
        [
         "PROFESSOR CLASSE A            ",
         14
        ],
        [
         "TECNICO G.E.- SERV ART GRAFI  ",
         14
        ],
        [
         "EE - MECANICO                 ",
         14
        ],
        [
         "TMF - TEC EM CONTABILIDADE    ",
         14
        ],
        [
         "AMD - ADMINISTRADOR           ",
         14
        ],
        [
         "QUIMICO",
         13
        ],
        [
         "OPERACAO DE MAQUINAS PESADAS",
         13
        ],
        [
         "ASSISTENTE TECNICO/DMTU  I    ",
         13
        ],
        [
         "ESP.ASS.SOCIAL-ADMINISTRADOR  ",
         13
        ],
        [
         "MEDICO-HEMATO.E HEMOTERAPIA   ",
         13
        ],
        [
         "MEDICO - RADIOTERAPIA         ",
         13
        ],
        [
         "ANALISTA DE PROD. E SUPORTE   ",
         13
        ],
        [
         "RESID. FONOAUDIOLOGIA         ",
         13
        ],
        [
         "MED.RESID. - ENDOCRINOLOGIA   ",
         13
        ],
        [
         "AGENTE - RADIOLOGIA           ",
         13
        ],
        [
         "AGENTE - LABORATORIO          ",
         13
        ],
        [
         "TECNICO DE PROC. DE DADOS     ",
         13
        ],
        [
         "ANALISTA G.E.-C. CONTABEIS    ",
         13
        ],
        [
         "ANALISTA G.E.-DIR E LEGISLAC  ",
         13
        ],
        [
         "ESOCIO - ARTES MUSICA         ",
         12
        ],
        [
         "AUXILIAR DE ALMOXARIFADO      ",
         12
        ],
        [
         "ESP ATIV TRANSITO - MEDICINA  ",
         12
        ],
        [
         "ENGENHEIRO QUIMICO",
         12
        ],
        [
         "TECNICO ESPECIALISTA",
         12
        ],
        [
         "TELEDIGIFONISTA               ",
         12
        ],
        [
         "MED.RESID.MED.INT.PEDIATRICA  ",
         12
        ],
        [
         "MED.RESID-INFECTOLOGIA        ",
         12
        ],
        [
         "FARMACEUTICO BIOQUIMICO       ",
         12
        ],
        [
         "ECONOMISTA                    ",
         12
        ],
        [
         "MEDICO - MEDICINA NUCLEAR     ",
         12
        ],
        [
         "MED.RESID.-MED.INTENS.ADULTO  ",
         12
        ],
        [
         "ANALISTA G.E.-FONOAUDIOLOGIA  ",
         12
        ],
        [
         "TMF - TEC EM MECANICA         ",
         12
        ],
        [
         "AUX.ASS.SOC.-AUX.OP.SERV.SOC  ",
         12
        ],
        [
         "OFICIAL DE POSTO              ",
         11
        ],
        [
         "CABO PM INATIVO               ",
         11
        ],
        [
         "ENGENHEIRO ELETRONICO",
         11
        ],
        [
         "T�CNICO EM COMERCIALIZA��O",
         11
        ],
        [
         "ESOCIO - EDUCACAO FISICA      ",
         11
        ],
        [
         "ESP.ASS.SOCIAL - CONTADOR     ",
         11
        ],
        [
         "AUXILIAR DE TOPOGRAFO",
         11
        ],
        [
         "ESOCIO - DIREITO E LEGISL.    ",
         11
        ],
        [
         "ANALISTA - ADMINISTRADOR      ",
         11
        ],
        [
         "MED.RESID. - NEONATALOGIA     ",
         11
        ],
        [
         "ANALISTA HEM - MEDICINA       ",
         11
        ],
        [
         "MEDICO - HEMOTERAPIA          ",
         11
        ],
        [
         "ANALISTA G.E.- BIBLIOTECA     ",
         11
        ],
        [
         "ANALISTA G.E.- MEDICINA       ",
         11
        ],
        [
         "ESP.ASS.SOC.-TEC.EDUC.FISICA  ",
         11
        ],
        [
         "TECNICO GE APOIO ADMINISTRAT  ",
         11
        ],
        [
         "AUX.ASS.SOC.-AUX.OP.SER.ADM.  ",
         11
        ],
        [
         "ESP.SERV.SOC-ASS.SUP.S.SOCIA  ",
         11
        ],
        [
         "EE - MOTORISTA                ",
         11
        ],
        [
         "ANA. APOIO AS ATIV. PCDF      ",
         11
        ],
        [
         "TEC.ASS.SOC.-ASS.INTER.S.SOC  ",
         11
        ],
        [
         "ENGENHEIRO FLORESTAL",
         10
        ],
        [
         "ARTIFICE ESPECIALIZADO",
         10
        ],
        [
         "ESOCIO - ARTES CENICAS        ",
         10
        ],
        [
         "ENGENHEIRO AMBIENTAL",
         10
        ],
        [
         "CAPITAO ADMINISTRATIVO        ",
         10
        ],
        [
         "AUXILIAR DE ADMINISTRACAO     ",
         10
        ],
        [
         "PROCURADOR CAT. ESP. - QE     ",
         10
        ],
        [
         "MED.RESID.ALERGIA IMUNO.PED.  ",
         10
        ],
        [
         "MEDICO-CIR.CABECA E PESCOCO   ",
         10
        ],
        [
         "MED.RESID. - PNEUMOLOGIA      ",
         10
        ],
        [
         "AGENTE G.E.- ART GRAFICAS     ",
         10
        ],
        [
         "TECNICO G.E.- SERV MECANICA   ",
         10
        ],
        [
         "PROCURADOR 2 CAT. - QE        ",
         9
        ],
        [
         "JOVEM APRENDIZ                ",
         9
        ],
        [
         "TORNEIRO MECANICO",
         9
        ],
        [
         "TOPOGRAFO",
         9
        ],
        [
         "2 TENENTE QOPMA               ",
         9
        ],
        [
         "SOLDADO PM COMBATENTE         ",
         9
        ],
        [
         "EDUCADOR SOCIAL-3A CLASSE     ",
         9
        ],
        [
         "PROFISSIONAL DE SUPORTE OPERACIONAL - PSO",
         9
        ],
        [
         "SEGUNDO TENENTE COMBATENTE    ",
         9
        ],
        [
         "MED.RESID. - GASTROENTEROLOG  ",
         9
        ],
        [
         "MED.RESID. - UROLOGIA         ",
         9
        ],
        [
         "ASSISTENTE GAPS TEC LAB HIST  ",
         9
        ],
        [
         "MED.RESID. - RADIOLOGISTA     ",
         9
        ],
        [
         "MED.RESID. - ONCOLOGIA CLINI  ",
         9
        ],
        [
         "AUXILIAR TECNICO DE PESQUISA  ",
         9
        ],
        [
         "MEDICO-PALIATIVISTA           ",
         9
        ],
        [
         "MED.RESID. - PATOLOGIA CLINI  ",
         9
        ],
        [
         "TECNICO G.E.- MESTRE A.GRAFI  ",
         9
        ],
        [
         "AMD - ADVOGADO                ",
         9
        ],
        [
         "AUX.ASS.SOC.-ASS BAS.S. SOC.  ",
         9
        ],
        [
         "AMT - ENGENHEIRO CIVIL        ",
         9
        ],
        [
         "AUX.ASS.SOC.-AG. DE PORTARIA  ",
         9
        ],
        [
         "AMT - ENGENHEIRO MECANICO     ",
         9
        ],
        [
         "TEC.ASS.SOC.-TELEFONISTA      ",
         9
        ],
        [
         "TEC.ASS.SOC.-AUX.SERV.ADMINI  ",
         9
        ],
        [
         "AMT - ENGENHEIRO ELETRICISTA  ",
         9
        ],
        [
         "TECNICO EM SEGURANCA DO TRABALHO",
         8
        ],
        [
         "ARMAZENISTA",
         8
        ],
        [
         "AGENTE DE POLICIA - TERCEIRA C",
         8
        ],
        [
         "ASSISTENTE TECNICO/DMTU II    ",
         8
        ],
        [
         "AVALIADOR",
         8
        ],
        [
         "MOTORISTA MANOBREIRO          ",
         8
        ],
        [
         "ENGENHEIRO MECANICO",
         8
        ],
        [
         "TELEFONISTA                   ",
         8
        ],
        [
         "PROFISSIONAL DE APOIO T�CNICO - PAT",
         8
        ],
        [
         "RES.ODO.C.TRAUM.BUCO M.FAC.   ",
         8
        ],
        [
         "PROGRAMADOR                   ",
         8
        ],
        [
         "ANALISTA G.E.-ADMINISTRACAO   ",
         8
        ],
        [
         "AGENTE GE COPA E COZINHA      ",
         8
        ],
        [
         "EE - ELETRICISTA              ",
         8
        ],
        [
         "AUX.ASS.SOC.-COPEIRA/MERENDE  ",
         8
        ],
        [
         "PROCURADOR CATEGORIA - I      ",
         8
        ],
        [
         "ESP.ASS.SOC.-TEC.ASS.EDUC     ",
         8
        ],
        [
         "ESPECIALISTA SOCIOEDUCATIVO   ",
         8
        ],
        [
         "ASSISTENTE ADMINISTRATIVO II",
         7
        ],
        [
         "DIRETOR",
         7
        ],
        [
         "ESP.ASS.SOCIAL-TEC.EDUC.FISI  ",
         7
        ],
        [
         "3 SARGENTO PM COMBATENTE      ",
         7
        ],
        [
         "TECNICO JUR - TECNOL.INFORM   ",
         7
        ],
        [
         "ASPIRANTE A OFICIAL           ",
         7
        ],
        [
         "MED.RESID. - CIRURGIA PLASTI  ",
         7
        ],
        [
         "MEDICO - CIR. CARD.-PERIFERI  ",
         7
        ],
        [
         "TECNICO EM ENFERMAGEM-APO     ",
         7
        ],
        [
         "TECNICO EM ASSUNTOS EDUC.     ",
         7
        ],
        [
         "MEDICO-CIRURGIA ONCOLOGICA    ",
         7
        ],
        [
         "AGENTE GE SERVICOS GERAIS     ",
         7
        ],
        [
         "ESP.ASS.SOC- ASS. SOCIAL      ",
         7
        ],
        [
         "TECNICO GE SERV ESP OB CIVIS  ",
         7
        ],
        [
         "TECNICO EM CONTABILIDADE      ",
         7
        ],
        [
         "AUX.ASS.SOC.-AUX.OP.SER.DIV.  ",
         7
        ],
        [
         "AUXILIAR TRANSPORTE URBANO    ",
         7
        ],
        [
         "TMF - TEC EM ELETRONICA       ",
         7
        ],
        [
         "PROCURADOR AUTARQUICO-ESPECIAL",
         7
        ],
        [
         "MEDICO-PSIQUIATRIA            ",
         7
        ],
        [
         "DIRETOR EXECUTIVO BRB",
         6
        ],
        [
         "ESOCIO - TEC. ASS. EDUCAC.    ",
         6
        ],
        [
         "AGENTE COMERCIAL              ",
         6
        ],
        [
         "ASSESSOR ESPECIAL             ",
         6
        ],
        [
         "ESOCIO - TEC. EDUC. FISICA    ",
         6
        ],
        [
         "SEGUNDO TENENTE ADMINISTRATIVO",
         6
        ],
        [
         "ESOCIO - EDUCADOR SOCIAL      ",
         6
        ],
        [
         "ACOUGUEIRO                    ",
         6
        ],
        [
         "TECNICO DE CONTABILIDADE      ",
         6
        ],
        [
         "AUXILIAR DE ENFERMAGEM DO TRABALHO",
         6
        ],
        [
         "CONSULTOR DA PRESID�NCIA",
         6
        ],
        [
         "CORONEL 20%                   ",
         6
        ],
        [
         "TECNICO DE INFORMATICA (EM EXTINCAO)",
         6
        ],
        [
         "T�CNICO EM PROC. DE DADOS",
         6
        ],
        [
         "ASSISTENTE ADMINISTRATIVO LL",
         6
        ],
        [
         "CONSELHEIRO DO CONSAD - BRB",
         6
        ],
        [
         "ESOCIO - ARTES PLASTICAS      ",
         6
        ],
        [
         "ASSISTENTE GEST ASS PUB SAUD  ",
         6
        ],
        [
         "MED.RESID. - CIRURGIA PEDIAT  ",
         6
        ],
        [
         "MED.RESID. - REUMATOLOGIA     ",
         6
        ],
        [
         "MED.RESID. - TERAPIA INT. AD  ",
         6
        ],
        [
         "MED.RESID. - OTORRINOLARINGO  ",
         6
        ],
        [
         "ESTATISTICO                   ",
         6
        ],
        [
         "MED.RESID.-CIRURGIA VASCULAR  ",
         6
        ],
        [
         "MEDICO-ENDOSCOPIA             ",
         6
        ],
        [
         "MED.RESID. - GENETICA MEDICA  ",
         6
        ],
        [
         "MEDICO-CIRURG. AP. DIGESTIVO  ",
         6
        ],
        [
         "AGENTE G.E.- MAN DE PISCINA   ",
         6
        ],
        [
         "TECNICO G.E.- CONTABILIDADE   ",
         6
        ],
        [
         "AMT - ENGENHEIRO DE TELECOM.  ",
         6
        ],
        [
         "REQUISITADO                   ",
         6
        ],
        [
         "AUX.ASS.SOC-ASSIST.BAS.S.SOC  ",
         6
        ],
        [
         "ANA.GES.FISC.ROD.LEI 5195/13  ",
         6
        ],
        [
         "AUXILIAR DE EDUC VIGILANCIA   ",
         6
        ],
        [
         "TMF - TECNICO EM ESTRADAS     ",
         6
        ],
        [
         "ANALISTA JUR - BIBLIOTECONOM  ",
         5
        ],
        [
         "CONSELHEIRO DO CONFIS - BRB",
         5
        ],
        [
         "BIOLOGO",
         5
        ],
        [
         "BORRACHEIRO                   ",
         5
        ],
        [
         "SOLDADOR",
         5
        ],
        [
         "ALUNO OFICIAL DEMAIS ANOS     ",
         5
        ],
        [
         "PEDAGOGO",
         5
        ],
        [
         "DESENHISTA",
         5
        ],
        [
         "VIGIA                         ",
         5
        ],
        [
         "TEC REGUL SERV PUBLICOS       ",
         5
        ],
        [
         "TEC. NIVEL SUPERIOR/DMTU I    ",
         5
        ],
        [
         "MEDICO DO TRABALHO",
         5
        ],
        [
         "TECNICO DE TELECOMUNICACOES",
         5
        ],
        [
         "CABO PM COMBATENTE            ",
         5
        ],
        [
         "ESOCIO - CONTADOR             ",
         5
        ],
        [
         "INSTRUTOR FUNAB               ",
         5
        ],
        [
         "MED.RESID. FISICA E REABILIT  ",
         5
        ],
        [
         "AGENTE DE COLETA              ",
         5
        ],
        [
         "MED.RESID. - REPROD. HUMANA   ",
         5
        ],
        [
         "PASUS                         ",
         5
        ],
        [
         "RESID. MEDICO DO TRABALHO     ",
         5
        ],
        [
         "MED.PEDIATRIA-C/FORM.CARDIOL  ",
         5
        ],
        [
         "ANALISTA G.E.- ARQUIVO        ",
         5
        ],
        [
         "AGENTE G.E.- SERV AUX AGROPE  ",
         5
        ],
        [
         "AMT - ARQUITETO               ",
         5
        ],
        [
         "ANALISTA EDUC.ADVOCACIA       ",
         5
        ],
        [
         "PROCURADOR AUTARQUICO-1A. CAT.",
         5
        ],
        [
         "TEC. DES. FISC. AGROP L5195/13",
         5
        ],
        [
         "TOPOGRAFO                     ",
         5
        ],
        [
         "TECNICO DE NIVEL SUPERIOR     ",
         5
        ],
        [
         "TMF - TEC EM INFORMATICA      ",
         5
        ],
        [
         "AMD - ANALISTA DE SISTEMAS    ",
         5
        ],
        [
         "ANALISTA DE TRANSP. URBANOS   ",
         5
        ],
        [
         "ANALISTA DES FISC AGRO-MEDIC  ",
         5
        ],
        [
         "ESOCIO - ESTATISTICO          ",
         4
        ],
        [
         "ANALISTA JUR - ADMINISTRADOR  ",
         4
        ],
        [
         "CONSULTOR DA DIRETORIA",
         4
        ],
        [
         "RECAUCHUTADOR                 ",
         4
        ],
        [
         "TENENTE-CORONEL PM MEDICO     ",
         4
        ],
        [
         "ESP.ASS.SOCIAL - ECONOMISTA   ",
         4
        ],
        [
         "PRIMEIRO TENENTE ADMINIST.    ",
         4
        ],
        [
         "ENGENHEIRO DE SEGURANCA DO TRABALHO",
         4
        ],
        [
         "GESTOR DE RESIDUOS SOLIDOS    ",
         4
        ],
        [
         "TECNICO EM FISCALIZA��O",
         4
        ],
        [
         "ANA. DE APOIO ATIV. PCDF      ",
         4
        ],
        [
         "ADVOGADO                      ",
         4
        ],
        [
         "CORONEL PM MEDICO             ",
         4
        ],
        [
         "PROCURADOR 1 CAT. - QE        ",
         4
        ],
        [
         "MED.RESID. - M.GERAL E COMUN  ",
         4
        ],
        [
         "MED RESID CIRURGIA DIGESTIVA  ",
         4
        ],
        [
         "MED.RES-ENDOCRINOPEDIATRIA    ",
         4
        ],
        [
         "AUDITOR DE ATIV. URBANAS      ",
         4
        ],
        [
         "MED.RES-NEUROLOGIA PEDIATRIC  ",
         4
        ],
        [
         "MED.RESID. - MASTOLOGIA       ",
         4
        ],
        [
         "MED.RESID.MEDICINA FETAL      ",
         4
        ],
        [
         "AUX.OP.SERV.DIV. - LAVANDERI  ",
         4
        ],
        [
         "MED.RESID-PNEUMOLOGIA PEDIAT  ",
         4
        ],
        [
         "MED.RESID.-CANCEROL. CLINICA  ",
         4
        ],
        [
         "1 SARGENTO PM COMBATENTE      ",
         4
        ],
        [
         "MEDICO - MEDICINA DE EMERG.   ",
         4
        ],
        [
         "MED.RESID. - COLOPROCTOLOGIA  ",
         4
        ],
        [
         "MED.RESID. - HEMATOLOGIA      ",
         4
        ],
        [
         "MED.RESID. - ACUPUNTURA       ",
         4
        ],
        [
         "PROFESSOR CLASSE C            ",
         4
        ],
        [
         "AGENTE G.E.- AUX MARCENARIA   ",
         4
        ],
        [
         "ANALISTA G.E.- COM. SOCIAL    ",
         4
        ],
        [
         "TSOCIO - AUX.ENFERMAGEM       ",
         4
        ],
        [
         "ESP.ASS.SOC.-ESP.ASS.SOCIAL   ",
         4
        ],
        [
         "MEDICO-CARDIOLOGIA            ",
         4
        ],
        [
         "MEDICO -MEDICINA DO TRABALHO  ",
         4
        ],
        [
         "TEC.ASS.SOC.-ELET.MANUTENCAO  ",
         4
        ],
        [
         "TEC.ASS.SOC. - MECANICO       ",
         4
        ],
        [
         "AUX DE EDUCAC  CONS LIMP      ",
         4
        ],
        [
         "TMF - TEC TELECOMUNICACOES    ",
         4
        ],
        [
         "EE - AUX. SERVICOS GERAIS     ",
         4
        ],
        [
         "AMD - CONTADOR                ",
         4
        ],
        [
         "TMF - TEC SEG DO TRABALHO     ",
         4
        ],
        [
         "MEDICO-ORTOP.E TRAUMATOLOGIA  ",
         4
        ],
        [
         "TEC.ASS.SOCIAL - MARCENEIRO   ",
         3
        ],
        [
         "MEMBRO EFETIVO DO COMIT� DE REMUNERA��O",
         3
        ],
        [
         "GESTOR EM ASSUNTOS T�TICOS",
         3
        ],
        [
         "DIRETOR DISTRIB.TITULOS E VALORES MOBILIARIOS S.A.",
         3
        ],
        [
         "TECNICO FLORESTAL",
         3
        ],
        [
         "ASSESSORA ASSUNTOS ESTRAT�GICOS",
         3
        ],
        [
         "MAJOR COMPLEMENTAR            ",
         3
        ],
        [
         "EMPREGO EM COMISSAO",
         3
        ],
        [
         "ENGENHEIRO/DMTU II            ",
         3
        ],
        [
         "TSOCIO - PINTOR               ",
         3
        ],
        [
         "ALMOXARIFE",
         3
        ],
        [
         "MEMBRO DO CAE",
         3
        ],
        [
         "ESP.ASS.SOCIAL-TEC.ASS.EDUCA  ",
         3
        ],
        [
         "TSOCIO - AUX. ENFERMAGEM      ",
         3
        ],
        [
         "TEC.ASS.SOCIAL - SERRALHEIRO  ",
         3
        ],
        [
         "CONSELHEIRO DO CONFIS - CFI",
         3
        ],
        [
         "TECNICO POL PUB E GEST GOV    ",
         3
        ],
        [
         "ANALISTA DE BANCO DE DADOS",
         3
        ],
        [
         "TECNICO - TEC CONTABILIDADE   ",
         3
        ],
        [
         "ANALISTA DE ORGANIZ. E SISTEMAS",
         3
        ],
        [
         "AUXILIAR DE ADMINISTRACAO (EM EXTINCAO)",
         3
        ],
        [
         "DESENHISTA (EM EXTINCAO)",
         3
        ],
        [
         "OPERADOR DE TACOGRAFIA        ",
         3
        ],
        [
         "CONSELHEIRO                   ",
         3
        ],
        [
         "CARTAZISTA                    ",
         3
        ],
        [
         "CARREGADOR                    ",
         3
        ],
        [
         "ARTIFICE ESPECIALIZADO        ",
         3
        ],
        [
         "M�DICO DO TRABALHO",
         3
        ],
        [
         "GEOLOGO",
         3
        ],
        [
         "ANAL. DE TRANSITO L5195/13    ",
         3
        ],
        [
         "CONSELHEIRO DO CONFIS - DTVM",
         3
        ],
        [
         "RESID. PSIQUIAT.INFAN.ADOLES  ",
         3
        ],
        [
         "MED.RESID.MEDICINA PALIATIVA  ",
         3
        ],
        [
         "MEDICO RADIOLOGISTA           ",
         3
        ],
        [
         "MEDICO-COLOPROCTOLOGISTA      ",
         3
        ],
        [
         "ANALISTA DE O & M             ",
         3
        ],
        [
         "SUBTENENTE PM COMBATENTE      ",
         3
        ],
        [
         "MEDICO - ELETROMIOGRAFIA      ",
         3
        ],
        [
         "1 TENENTE QOPMA               ",
         3
        ],
        [
         "MED.RESID. - TER. INT. PEDIA  ",
         3
        ],
        [
         "MED.RES.GASTROENT.PEDIATRICA  ",
         3
        ],
        [
         "RESIDENTE- ENFERMAGEM EM UTI  ",
         3
        ],
        [
         "GEOGRAFO                      ",
         3
        ],
        [
         "ENFERMEIRO-APO.               ",
         3
        ],
        [
         "TECNICO G.E.- DESENHO         ",
         3
        ],
        [
         "CARGO NAO CADASTRADO          ",
         3
        ],
        [
         "ESP.GES.FISC.ROD.LEI 5195/13  ",
         3
        ],
        [
         "AG.ATIV.COMPLEM.SSP-ANATOMIA  ",
         3
        ],
        [
         "AMT - ENGENHEIRO ELETRONICO   ",
         3
        ],
        [
         "AUXILIA DE EDUC PORTARIA      ",
         3
        ],
        [
         "CARGO P/PG.AUX.ALIMENTACAO    ",
         3
        ],
        [
         "AUXILIAR DE APOIO ATIV PCDF   ",
         3
        ],
        [
         "ANA. DES. FISC. AGROP L5195/13",
         3
        ],
        [
         "ENG DE SEG DO TRABALHO        ",
         3
        ],
        [
         "FISCAL TRIBUTARIO             ",
         3
        ],
        [
         "TECNICO EM SEG DO TRABALHO    ",
         3
        ],
        [
         "AMD - ECONOMISTA              ",
         3
        ],
        [
         "GESTOR POL PUBL GESTAO GOV    ",
         3
        ],
        [
         "ANA. APOIO AS ATIV PCDF       ",
         3
        ],
        [
         "TEC.ASS.SOCIAL - PINTOR       ",
         3
        ],
        [
         "AMD - PEDAGOGO                ",
         3
        ],
        [
         "MEMBRO EFETIVO DO COMIT� DE AUDITORIA",
         2
        ],
        [
         "TSOCIO - DESENHISTA           ",
         2
        ],
        [
         "ASSISTENTE ADM./DMTU III      ",
         2
        ],
        [
         "TEC.ASS.SOC.-AG.ATIV.AGROP.   ",
         2
        ],
        [
         "JORNALISTA",
         2
        ],
        [
         "PEDREIRO                      ",
         2
        ],
        [
         "TEC. ESPEC. EM MANUTENCAO     ",
         2
        ],
        [
         "AUXILIAR ADM./DMTU            ",
         2
        ],
        [
         "TECNICO EM AGRIMENSURA",
         2
        ],
        [
         "TEC.ASS.SOCIAL - AG. ADM.     ",
         2
        ],
        [
         "GEN BRIGADA                   ",
         2
        ],
        [
         "FUNDIDOR",
         2
        ],
        [
         "ESTOFADOR                     ",
         2
        ],
        [
         "AG POLICIAL DE CUSTODIA-SEGUND",
         2
        ],
        [
         "GESTOR EM ADMINISTRA��O POR OBJETIVOS",
         2
        ],
        [
         "GEOGRAFO",
         2
        ],
        [
         "PSICOLOGO",
         2
        ],
        [
         "DIRETOR DA CFI",
         2
        ],
        [
         "COORDENADOR DE PLANEJAMENTO",
         2
        ],
        [
         "TEC.ASS.SOCIAL-COSTUREIRO     ",
         2
        ],
        [
         "ANALISTA JUR - ARQUIVOLOGIA   ",
         2
        ],
        [
         "CONSULTOR JURIDICO",
         2
        ],
        [
         "AUX. DE ENFERM. DO TRABALHO",
         2
        ],
        [
         "1 TENENTE PM MEDICO           ",
         2
        ],
        [
         "ASSISTENTE ADMINISTRATIVO L",
         2
        ],
        [
         "TECNICO JUR - ELET E COMUNIC  ",
         2
        ],
        [
         "T�CNICO EM SEG. DO TRABALHO",
         2
        ],
        [
         "PEDAGOGO/DMTU                 ",
         2
        ],
        [
         "AJUDANTE DE POSTO",
         2
        ],
        [
         "ASSISTENTE SOCIAL",
         2
        ],
        [
         "TECNICO DE INFORMATICA        ",
         2
        ],
        [
         "TECNICO EM RECURSOS HUMANOS",
         2
        ],
        [
         "TECNICO EM COMUNICACAO SOCIAL",
         2
        ],
        [
         "ANALISTA JUR - FARMACIA       ",
         2
        ],
        [
         "AUXILIAR DE PROCESSAMENTO DE DADOS",
         2
        ],
        [
         "ARQUIVISTA",
         2
        ],
        [
         "ELETRICISTA DE INSTALACOES",
         2
        ],
        [
         "CHEFE DE GABINETE",
         2
        ],
        [
         "ANALISTA JUR - JORNALISMO     ",
         2
        ],
        [
         "ASSISTENTE OPERACIONAL",
         2
        ],
        [
         "ESCRIVAO DE POLICIA - TERCEIRA",
         2
        ],
        [
         "CONTADORA",
         2
        ],
        [
         "GESTOR EM ASSUNTOS ESTRAT�GICOS",
         2
        ],
        [
         "TECNICO DE SEGURAN�A DO TRABALHO",
         2
        ],
        [
         "CAPITAO MANUTENCAO            ",
         2
        ],
        [
         "GESTOR EM ASSUNTOS OPERACIONAIS",
         2
        ],
        [
         "BIBLIOTECARIO",
         2
        ],
        [
         "CONFEITEIRO                   ",
         2
        ],
        [
         "PRIMEIRO SARGENTO MANUTENCAO  ",
         2
        ],
        [
         "MEDICO - CITOPATOLOGIA        ",
         2
        ],
        [
         "RESID. ENFERM. NEFROLOGIA     ",
         2
        ],
        [
         "MED.RESID. - ENDOSCOPIA RESP  ",
         2
        ],
        [
         "ANA. GEST EDUCACIONAL L5195/  ",
         2
        ],
        [
         "ASSIST.DE SERV.DE ENGENHARIA  ",
         2
        ],
        [
         "MED.RESID. - CIRURGIA TORAXI  ",
         2
        ],
        [
         "MED.RESID. - HEPATOLOGIA      ",
         2
        ],
        [
         "TECNICO DE PLANEJAMENTO       ",
         2
        ],
        [
         "DOCUMENTADOR                  ",
         2
        ],
        [
         "RECEPCIONISTA                 ",
         2
        ],
        [
         "FISIOTERAPEUTA-APO.           ",
         2
        ],
        [
         "RESID.MED.CIRURGIA TRAUMA     ",
         2
        ],
        [
         "REVISOR                       ",
         2
        ],
        [
         "2 SARGENTO PM COMBATENTE      ",
         2
        ],
        [
         "MED RESID ENDOSC. GINECOLOGI  ",
         2
        ],
        [
         "RESID.MED. ECOCARDIOGRAFIA    ",
         2
        ],
        [
         "MED.RESID. - ALERGIA E IMUNO  ",
         2
        ],
        [
         "TECNICO G.E.- OP MAQ PESADAS  ",
         2
        ],
        [
         "GESTOR POL PUB E GET GOV      ",
         2
        ],
        [
         "ANALISTA G.E.- ECONOMIA       ",
         2
        ],
        [
         "AMT - ENGENHEIRO SEG. TRAB.   ",
         2
        ],
        [
         "PROFESSOR DE EDUCACAO BASICA  ",
         2
        ],
        [
         "AMD - COMUNICOLOGO            ",
         2
        ],
        [
         "AMT - ENGENHEIRO AMBIENTAL    ",
         2
        ],
        [
         "MARCENEIRO CLASSE ESPECIAL    ",
         2
        ],
        [
         "ASSIST.DE APOIO ATIV. PCDF    ",
         2
        ],
        [
         "TEC.ASS.SOC.-ALET.MANUT.TEL.  ",
         2
        ],
        [
         "ESP.ASS.SOC.-ADMINISTRADOR    ",
         2
        ],
        [
         "AUX.PORTARIA-ATIV.CULTURAIS1  ",
         2
        ],
        [
         "TEC.EM CONTAB. CLASSE ESPECI  ",
         2
        ],
        [
         "TSOCIO - PROFESSOR CLASSE A   ",
         2
        ],
        [
         "TEC.ASS.SOC.-COSTUREIRO       ",
         2
        ],
        [
         "AUX.ASS.SOC.-AUX.DE MAR.      ",
         2
        ],
        [
         "AUX.ASS.SOC.-LAVADEIRA/PASSA  ",
         2
        ],
        [
         "GEST POL PUB GEST GOV L5195/13",
         2
        ],
        [
         "TMF - ENFERMAGEM DO TRABALHO  ",
         2
        ],
        [
         "FISCAL ATIV URBANAS - OEU     ",
         2
        ],
        [
         "AMD - PSICOLOGO               ",
         2
        ],
        [
         "AMD - ASSISTENTE SOCIAL       ",
         2
        ],
        [
         "TECNICO GE SEC ESCOLAR        ",
         2
        ],
        [
         "AMD - ARQUIVISTA              ",
         2
        ],
        [
         "TEC.ASS.SOC.-AG.ATIV AGROP.   ",
         2
        ],
        [
         "TSOCIO - OPERADOR GRAFICO     ",
         1
        ],
        [
         "ASSESSOR JUR�DICO",
         1
        ],
        [
         "EDUCADOR SOCIAL-1A CLASSE     ",
         1
        ],
        [
         "ESP.ASS.SOCIAL - COM. SOCIAL  ",
         1
        ],
        [
         "CORREGEDOR",
         1
        ],
        [
         "COORD. DE SA�DE, SEGURAN�A E DESENV. HUMANO",
         1
        ],
        [
         "PSICOLOGO/DMTU                ",
         1
        ],
        [
         "TENENTE CORONEL MEDICO        ",
         1
        ],
        [
         "ELETRICISTA/DMTU              ",
         1
        ],
        [
         "ASSESSORA DE IMPRENSA",
         1
        ],
        [
         "PUBLICITARIO",
         1
        ],
        [
         "GERENTE DE TECNOLOGIA DA INFORMA��O",
         1
        ],
        [
         "PINTOR/DMTU                   ",
         1
        ],
        [
         "TECNICO ESPECIALIZADO (EM EXTINCAO)",
         1
        ],
        [
         "ENGENHEIRA CIVIL",
         1
        ],
        [
         "COORD. DE APOIO AOS �RG�OS COLEGIADOS",
         1
        ],
        [
         "ASSESSOR DA DIRETORIA ADM-FINANCEIRA E REL C/ INVESTIDORES",
         1
        ],
        [
         "ENGENHEIRO DE SEG. DO TRABALHO",
         1
        ],
        [
         "DIRETOR GERAL DE EMPRESA E ORGANIZACAO",
         1
        ],
        [
         "AUDITOR CHEFE",
         1
        ],
        [
         "ARQUITETO/DMTU                ",
         1
        ],
        [
         "ASSISTENTE  APOIO ATIV. PCDF  ",
         1
        ],
        [
         "SEGUNDO TENENTE MANUTENCAO    ",
         1
        ],
        [
         "GERENTE DE �RG�OS COLEGIADOS",
         1
        ],
        [
         "PADEIRO                       ",
         1
        ],
        [
         "COORDENADOR ADM E SUPORTE OPERACIONAL",
         1
        ],
        [
         "GERENTE DE RELA��ES COM INVESTIDORES",
         1
        ],
        [
         "ENGENHEIRO AGRIMENSOR",
         1
        ],
        [
         "ASSITENTE DE REFRIGERA��O",
         1
        ],
        [
         "ANALISTA - ESPECIALISTA RH    ",
         1
        ],
        [
         "ANALISTA - JORNALISMO         ",
         1
        ],
        [
         "BORRACHEIRO",
         1
        ],
        [
         "ENGENHEIRO AGRONOMO",
         1
        ],
        [
         "AGENTE DE TELECOMUNICACOES",
         1
        ],
        [
         "ENGENHEIRO/DMTU I             ",
         1
        ],
        [
         "COORDENADORA ADM DE PESSOAL",
         1
        ],
        [
         "3o. SGTO. COND. E OPE. VIATURA",
         1
        ],
        [
         "DIRETOR JUR�DICO BRB",
         1
        ],
        [
         "TESOUREIRO AUXILIAR",
         1
        ],
        [
         "TECNICO DE COMERCIALIZACAO    ",
         1
        ],
        [
         "ELETRICISTA                   ",
         1
        ],
        [
         "PRESIDENTE DO COMIT� DE AUDITORIA",
         1
        ],
        [
         "ATENDENTE DE AMBULATORIO      ",
         1
        ],
        [
         "COORD. DE GEST�O DOCUMENTAL",
         1
        ],
        [
         "GESTOR EM ASSUNTOS DOCUMENTAIS",
         1
        ],
        [
         "TENENTE-CORONEL PM DENTISTA   ",
         1
        ],
        [
         "TEC.ASS.SOCIAL- OPER GRAFICO  ",
         1
        ],
        [
         "CAPITAO COMPLEMENTAR          ",
         1
        ],
        [
         "TEC. EM RECURSOS HUMANOS      ",
         1
        ],
        [
         "TEC.ASS.SOC.-ELET.MANUT.TEL.  ",
         1
        ],
        [
         "MECANICO AUTOMOTIVO           ",
         1
        ],
        [
         "TEC.ASS.SOC -ELET.MANUTENCAO  ",
         1
        ],
        [
         "TECNICO DE ADM PUBLICA AG XV  ",
         1
        ],
        [
         "TEC. EM SEG. DO TRABALHO      ",
         1
        ],
        [
         "GERENTE DE PLANEJAMENTO E DE GEST�O DE RISCOS",
         1
        ],
        [
         "AUXILIAR DE SERVI�OS GERAIS",
         1
        ],
        [
         "OPERADOR DE VHF               ",
         1
        ],
        [
         "ASSESSOR ASSUNTOS ESTRAT�GICOS",
         1
        ],
        [
         "OUVIDORA",
         1
        ],
        [
         "COORD. OR�AMENT�RIO E PATRIMONIAL",
         1
        ],
        [
         "COORDENADORA FINANCEIRA",
         1
        ],
        [
         "MAJOR PM MEDICO               ",
         1
        ],
        [
         "ASSESSORA DA DIRETORIA DE REGULA��O E DE FISCALIZA��ES",
         1
        ],
        [
         "ESP.ASS.SOCIAL - ODONTOLOGO   ",
         1
        ],
        [
         "ADVOGADO-DMTU II              ",
         1
        ],
        [
         "ANALISTA SIST INFOR SENIOR EXT - PCS 1991",
         1
        ],
        [
         "COORDENADORA DE GEST�O DOCUMENTAL",
         1
        ],
        [
         "GERENTE ADM E SUPORTE OPERACIONAL",
         1
        ],
        [
         "MARCENEIRO                    ",
         1
        ],
        [
         "ANALISTA JUR - ESTATISTICA    ",
         1
        ],
        [
         "TECNICO DE BOMBA INJETORA     ",
         1
        ],
        [
         "SOLDADO PM 2 CLASSE           ",
         1
        ],
        [
         "TEC.ASS.SOC.-TEC. EM CONTAB.  ",
         1
        ],
        [
         "TEC.ASS.SOCIAL - AISS         ",
         1
        ],
        [
         "DENTISTA                      ",
         1
        ],
        [
         "DIRETOR PRESIDENTE DA CFI",
         1
        ],
        [
         "CAPITAO PM                    ",
         1
        ],
        [
         "AUXILIAR DE TESOUREIRO",
         1
        ],
        [
         "MEMBRO EFETIVO DO COMITE DE RISCO - BRB",
         1
        ],
        [
         "GERENTE FINANCEIRO E CONT�BIL",
         1
        ],
        [
         "ECONOMISTA/DMTU II            ",
         1
        ],
        [
         "OPERADOR DE CARRO GHINCHO     ",
         1
        ],
        [
         "GERENTE DE FISC. DE CONCESS�ES DA DIRETORIA DE REGULA��O E FISCALIZA��O DE CONCESS�ES",
         1
        ],
        [
         "PRESIDENTE BRB",
         1
        ],
        [
         "SERRALHEIRO                   ",
         1
        ],
        [
         "ASSESSOR DA PRESID�NCIA",
         1
        ],
        [
         "CAPITAO PM FEMININO           ",
         1
        ],
        [
         "AUDITOR",
         1
        ],
        [
         "GESTOR EM ASSUNTOS EXECUTIVOS",
         1
        ],
        [
         "AUX. DE SERV. GERAIS/DMTU     ",
         1
        ],
        [
         "TECNICO EM EXTINTOR           ",
         1
        ],
        [
         "T�CNICO EM CONTABILIDADE",
         1
        ],
        [
         "GESTOR EM ASSUNTOS ORGANIZACIONAIS",
         1
        ],
        [
         "TECNICO EM HIDROLOGIA",
         1
        ],
        [
         "PINTOR DE AUTOS               ",
         1
        ],
        [
         "ESCRITURARIO PCS 2000",
         1
        ],
        [
         "DIGITADOR EM EXTINCAO COM 66 666% PCCR 2012",
         1
        ],
        [
         "RECEPCIONISTA DE LOJA         ",
         1
        ],
        [
         "ASSESSOR DA DIRETORIA DE PLANEJAMENTO E GEST�O DE RISCOS",
         1
        ],
        [
         "ADVOGADO-DMTU I               ",
         1
        ],
        [
         "SECRETARIO EXECUTIVO (EM EXTINCAO)",
         1
        ],
        [
         "AGR�NOMO",
         1
        ],
        [
         "PRIMEIRO SARGENTO HIDRANTE    ",
         1
        ],
        [
         "ANALISTA - ARQUIVOLOGIA       ",
         1
        ],
        [
         "SERRALHEIRO/DMTU              ",
         1
        ],
        [
         "2o. SGTO. COND. E OPE. VIATURA",
         1
        ],
        [
         "ENGENHEIRA ELETRICISTA",
         1
        ],
        [
         "TORNEIRO MECANICO             ",
         1
        ],
        [
         "CAPITAO 20%                   ",
         1
        ],
        [
         "GEN DIVISAO                   ",
         1
        ],
        [
         "ANALISTA JUR - PSICOLOGIA     ",
         1
        ],
        [
         "ADMINISTRADOR/DMTU  I         ",
         1
        ],
        [
         "MEDICO                        ",
         1
        ],
        [
         "GESTORA EM ASSUNTOS ESTRAT�GICOS",
         1
        ],
        [
         "GERENTE DE REGULA��O E COMERCIALIZA��O",
         1
        ],
        [
         "PINTOR  CLASSE ESPECIAL       ",
         1
        ],
        [
         "TECNICO GRAFICO               ",
         1
        ],
        [
         "IMPRESSOR                     ",
         1
        ],
        [
         "FOTOGRAFO DE ARTES GRAFICAS   ",
         1
        ],
        [
         "SOCIOLOGO                     ",
         1
        ],
        [
         "CIR.DENT-ENDODONTIA           ",
         1
        ],
        [
         "MED.RES. PATOLOGIA            ",
         1
        ],
        [
         "MEDICO-EXTINCAO CLINICA MEDI  ",
         1
        ],
        [
         "MED.RES-ENDOSCOPIA DIGESTIVA  ",
         1
        ],
        [
         "CABO PM MOTORISTA             ",
         1
        ],
        [
         "OPERADOR DE COMPOSER          ",
         1
        ],
        [
         "OPERADOR DE ACABAMENTO        ",
         1
        ],
        [
         "CIR.DENT-ORTODONTIA           ",
         1
        ],
        [
         "MEDICO CIRURGIA VASC. PERIF.  ",
         1
        ],
        [
         "MED RESID TRANSPLANTE RENAL   ",
         1
        ],
        [
         "MEDICO ...                    ",
         1
        ],
        [
         "MEDICO-EXTINCAO ANESTESIOLOG  ",
         1
        ],
        [
         "CIR.DENT-RADIOLOGIA           ",
         1
        ],
        [
         "MEDICO - IMAGINOLOGISTA       ",
         1
        ],
        [
         "RESID.MED.ELETROFISIOLOGIA    ",
         1
        ],
        [
         "PAGINADOR                     ",
         1
        ],
        [
         "MED.RES-NEUROFISIOLOGIA       ",
         1
        ],
        [
         "MED.RES.CIRUR.GERAL AVANCADA  ",
         1
        ],
        [
         "MEDICO-ONCOLOGIA PEDIATRICA   ",
         1
        ],
        [
         "MEDICO-CLINICA MEDICA-APO.    ",
         1
        ],
        [
         "RESID. - ENFERM. EMERGENCIA   ",
         1
        ],
        [
         "3 SARG PM MNT MOTOMECANIZACA  ",
         1
        ],
        [
         "MESTRE DE OBRAS               ",
         1
        ],
        [
         "MED.OTORRINOL.CABECA/PESCOCO  ",
         1
        ],
        [
         "ANALISTA G.E.- MED VETERINAR  ",
         1
        ],
        [
         "TECNICO G.E.- SERV DE AGROPE  ",
         1
        ],
        [
         "TECNICO G.E.- MESTRE O.CIVIS  ",
         1
        ],
        [
         "PROFESSOR NIVEL 1 40 HORAS    ",
         1
        ],
        [
         "TECNICO G.E.- AF MAN INSTRUM  ",
         1
        ],
        [
         "TECNICO GESTAO EDUC \"B\"       ",
         1
        ],
        [
         "TEC.ASS.SOC.-BOMBEIRO HIDR.   ",
         1
        ],
        [
         "FISCAL ATIV URBANAS - AEU     ",
         1
        ],
        [
         "EE - AUXILIAR DE MANUTENCAO   ",
         1
        ],
        [
         "GESTOR POL PUBL GEST GOV      ",
         1
        ],
        [
         "ESP.ASS.SOC.-TEC.ASS.EDUC.    ",
         1
        ],
        [
         "ESPECIALISTA DE TRANSP. URB   ",
         1
        ],
        [
         "MEDICO - PEDIATRA             ",
         1
        ],
        [
         "TSOCIO - AUX. SERV. ADM.      ",
         1
        ],
        [
         "ESOCIO - ODONTOLOGO           ",
         1
        ],
        [
         "ESPECIALISTA DE EDUC BASICA   ",
         1
        ],
        [
         "TMF - DESENHISTA-PROJETISTA   ",
         1
        ],
        [
         "EE - TELEFONISTA              ",
         1
        ],
        [
         "AUX.ASS.SOC.-AUX.OBRA CIV.    ",
         1
        ],
        [
         "ASCENSORISTA CLASSE ESPECIAL  ",
         1
        ],
        [
         "AUX DE ED SERV AUX OBRAS CIV  ",
         1
        ],
        [
         "MEDICO-PEDIATRA               ",
         1
        ],
        [
         "TEC.ASS.SOC.-LANT.PINTOR      ",
         1
        ],
        [
         "TEC.ASS.SOC.-PEDREIRO         ",
         1
        ],
        [
         "DIRETOR                       ",
         1
        ],
        [
         "TSOCIO - MECANICO             ",
         1
        ],
        [
         "MEDICO DO TRABALHO            ",
         1
        ],
        [
         "PROCURADOR AUTARQUICO-2A. CA  ",
         1
        ],
        [
         "TEC.ASS.SOC.-AUX.DE ENFERM.   ",
         1
        ],
        [
         "ESP.ASS.SOCIAL ECONOMISTA     ",
         1
        ],
        [
         "ESP.ASS.SOCIAL ESTATISTICO    ",
         1
        ],
        [
         "TECNICO GE COND DE VEICULOS   ",
         1
        ],
        [
         "AUXILIAR DE TRANSP. URBANOS   ",
         1
        ],
        [
         "TECNICO DE TRANSP. URBANOS    ",
         1
        ],
        [
         "ASSIST INTER. SERVICOS SOCIAIS",
         1
        ],
        [
         "AUX.ASS.SOC.-AUX.OP.EM AGR    ",
         1
        ],
        [
         "TEC.ASS.SOC.-PROF.CLASSE A    ",
         1
        ],
        [
         "GESTOR DE APOIO AS ATIV PCDF  ",
         1
        ],
        [
         "ASSISTENTE APOIO ATIV PCDF    ",
         1
        ],
        [
         "ESP.ASS.SOC - MEDICO          ",
         1
        ],
        [
         "ESP.ASS.SOC.-SOCIOLOGO        ",
         1
        ],
        [
         "ANALISTA EDUC SERVICO SOCIAL  ",
         1
        ],
        [
         "AUX DE EDUC COPA E COZINHA    ",
         1
        ],
        [
         "TSOCIO - ELETR. MANUTENCAO    ",
         1
        ],
        [
         "TEC.ASS.SOC. - VIDRACEIRO     ",
         1
        ],
        [
         "AMD - MEDICO DO TRABALHO      ",
         1
        ],
        [
         "ESP.ASS.SOC.-MEDICO           ",
         1
        ],
        [
         "ESP.ASS.SOC - CONTADOR        ",
         1
        ],
        [
         "AMT - ENGENHEIRO CONT. QUAL.  ",
         1
        ],
        [
         "TECNICO JUR-CARP. MARCENARIA  ",
         1
        ],
        [
         "ESP.ASS.SOCIAL ODONTOLOGO(A)  ",
         1
        ],
        [
         "EE - AUX. SERVICOS DE APOIO   ",
         1
        ],
        [
         "ESP.ASS.SOC.-PENS VITAL ASSS  ",
         1
        ],
        [
         "TECNICO GE COND VEIC AUTOMOT  ",
         1
        ],
        [
         "AUX.ASS.SOC.-ASS BAS.S SOC.   ",
         1
        ],
        [
         "EE - AUXILIAR DE ELETRONICA   ",
         1
        ],
        [
         "ESP DE ASS A EDUC AP TEC ADM  ",
         1
        ],
        [
         "TEC. ATIV. CULTURAIS L5195/13 ",
         1
        ]
       ],
       "datasetInfos": [],
       "dbfsResultPath": null,
       "isJsonSchema": true,
       "metadata": {},
       "overflow": false,
       "plotOptions": {
        "customPlotOptions": {},
        "displayType": "table",
        "pivotAggregation": null,
        "pivotColumns": null,
        "xColumns": null,
        "yColumns": null
       },
       "removedWidgets": [],
       "schema": [
        {
         "metadata": "{\"comment\":\"POSIÇÃO QUE O SERVIDOR OCUPA NO ÓRGÃO DE FORMA PERMANENTE\"}",
         "name": "cargo",
         "type": "\"string\""
        },
        {
         "metadata": "{}",
         "name": "TOTAL",
         "type": "\"long\""
        }
       ],
       "type": "table"
      }
     },
     "output_type": "display_data"
    }
   ],
   "source": [
    "display(spark.sql(\n",
    "\"SELECT\" + \\\n",
    "\"    cargo,\" + \\\n",
    "\"    COUNT(cpf) AS TOTAL\" + \\\n",
    "\"FROM\" + \\\n",
    "\"    hive_to_uc_sync.sync_data.remuneracao_row_column_security\" + \\\n",
    "\"GROUP BY cargo\" + \\\n",
    "\"ORDER BY 2 DESC\"\n",
    "))"
   ]
  },
  {
   "cell_type": "markdown",
   "metadata": {
    "application/vnd.databricks.v1+cell": {
     "cellMetadata": {},
     "inputWidgets": {},
     "nuid": "f62726cd-d7b3-44c5-be1f-b21aabe17752",
     "showTitle": false,
     "title": ""
    }
   },
   "source": [
    "## VOLUMES"
   ]
  },
  {
   "cell_type": "code",
   "execution_count": 0,
   "metadata": {
    "application/vnd.databricks.v1+cell": {
     "cellMetadata": {
      "byteLimit": 2048000,
      "rowLimit": 10000
     },
     "inputWidgets": {},
     "nuid": "e4bc7b20-f0a7-4592-9f78-5d67af01bb37",
     "showTitle": false,
     "title": ""
    }
   },
   "outputs": [
    {
     "output_type": "stream",
     "name": "stdout",
     "output_type": "stream",
     "text": [
      "+------+--------+--------------------+------+------+-----+-----+--------+--------+-------+--------+----+----+--------------------+\n|pclass|survived|                name|   sex|   age|sibsp|parch|  ticket|    fare|  cabin|embarked|boat|body|           home.dest|\n+------+--------+--------------------+------+------+-----+-----+--------+--------+-------+--------+----+----+--------------------+\n|     1|       1|Allen, Miss. Elis...|female|    29|    0|    0|   24160|211.3375|     B5|       S|   2|null|        St Louis, MO|\n|     1|       1|Allison, Master. ...|  male|0.9167|    1|    2|  113781|151.5500|C22 C26|       S|  11|null|Montreal, PQ / Ch...|\n|     1|       0|Allison, Miss. He...|female|     2|    1|    2|  113781|151.5500|C22 C26|       S|null|null|Montreal, PQ / Ch...|\n|     1|       0|Allison, Mr. Huds...|  male|    30|    1|    2|  113781|151.5500|C22 C26|       S|null| 135|Montreal, PQ / Ch...|\n|     1|       0|Allison, Mrs. Hud...|female|    25|    1|    2|  113781|151.5500|C22 C26|       S|null|null|Montreal, PQ / Ch...|\n|     1|       1| Anderson, Mr. Harry|  male|    48|    0|    0|   19952| 26.5500|    E12|       S|   3|null|        New York, NY|\n|     1|       1|Andrews, Miss. Ko...|female|    63|    1|    0|   13502| 77.9583|     D7|       S|  10|null|          Hudson, NY|\n|     1|       0|Andrews, Mr. Thom...|  male|    39|    0|    0|  112050|  0.0000|    A36|       S|null|null|         Belfast, NI|\n|     1|       1|Appleton, Mrs. Ed...|female|    53|    2|    0|   11769| 51.4792|   C101|       S|   D|null| Bayside, Queens, NY|\n|     1|       0|Artagaveytia, Mr....|  male|    71|    0|    0|PC 17609| 49.5042|   null|       C|null|  22| Montevideo, Uruguay|\n|     1|       0|Astor, Col. John ...|  male|    47|    1|    0|PC 17757|227.5250|C62 C64|       C|null| 124|        New York, NY|\n|     1|       1|Astor, Mrs. John ...|female|    18|    1|    0|PC 17757|227.5250|C62 C64|       C|   4|null|        New York, NY|\n|     1|       1|Aubart, Mme. Leon...|female|    24|    0|    0|PC 17477| 69.3000|    B35|       C|   9|null|       Paris, France|\n|     1|       1|\"Barber, Miss. El...|female|    26|    0|    0|   19877| 78.8500|   null|       S|   6|null|                null|\n|     1|       1|Barkworth, Mr. Al...|  male|    80|    0|    0|   27042| 30.0000|    A23|       S|   B|null|       Hessle, Yorks|\n|     1|       0| Baumann, Mr. John D|  male|  null|    0|    0|PC 17318| 25.9250|   null|       S|null|null|        New York, NY|\n|     1|       0|Baxter, Mr. Quigg...|  male|    24|    0|    1|PC 17558|247.5208|B58 B60|       C|null|null|        Montreal, PQ|\n|     1|       1|Baxter, Mrs. Jame...|female|    50|    0|    1|PC 17558|247.5208|B58 B60|       C|   6|null|        Montreal, PQ|\n|     1|       1|Bazzani, Miss. Al...|female|    32|    0|    0|   11813| 76.2917|    D15|       C|   8|null|                null|\n|     1|       0|Beattie, Mr. Thomson|  male|    36|    0|    0|   13050| 75.2417|     C6|       C|   A|null|        Winnipeg, MN|\n+------+--------+--------------------+------+------+-----+-----+--------+--------+-------+--------+----+----+--------------------+\nonly showing top 20 rows\n\n"
     ]
    }
   ],
   "source": [
    "spark.read.option(\"header\", True).format(\"csv\").load('/Volumes/titanic/clean/volume/titanic.csv').show()"
   ]
  },
  {
   "cell_type": "code",
   "execution_count": 0,
   "metadata": {
    "application/vnd.databricks.v1+cell": {
     "cellMetadata": {
      "byteLimit": 2048000,
      "rowLimit": 10000
     },
     "inputWidgets": {},
     "nuid": "3ff408d8-8158-4686-bcfe-f477f4c4d332",
     "showTitle": false,
     "title": ""
    }
   },
   "outputs": [
    {
     "output_type": "display_data",
     "data": {
      "text/html": [
       "<style scoped>\n",
       "  .table-result-container {\n",
       "    max-height: 300px;\n",
       "    overflow: auto;\n",
       "  }\n",
       "  table, th, td {\n",
       "    border: 1px solid black;\n",
       "    border-collapse: collapse;\n",
       "  }\n",
       "  th, td {\n",
       "    padding: 5px;\n",
       "  }\n",
       "  th {\n",
       "    text-align: left;\n",
       "  }\n",
       "</style><div class='table-result-container'><table class='table-result'><thead style='background-color: white'><tr><th>source_table_size</th><th>source_num_of_files</th><th>num_removed_files</th><th>num_copied_files</th><th>removed_files_size</th><th>copied_files_size</th></tr></thead><tbody><tr><td>15030736</td><td>4</td><td>0</td><td>4</td><td>0</td><td>15030736</td></tr></tbody></table></div>"
      ]
     },
     "metadata": {
      "application/vnd.databricks.v1+output": {
       "addedWidgets": {},
       "aggData": [],
       "aggError": "",
       "aggOverflow": false,
       "aggSchema": [],
       "aggSeriesLimitReached": false,
       "aggType": "",
       "arguments": {},
       "columnCustomDisplayInfos": {},
       "data": [
        [
         15030736,
         4,
         0,
         4,
         0,
         15030736
        ]
       ],
       "datasetInfos": [],
       "dbfsResultPath": null,
       "isJsonSchema": true,
       "metadata": {
        "isDbfsCommandResult": false
       },
       "overflow": false,
       "plotOptions": {
        "customPlotOptions": {},
        "displayType": "table",
        "pivotAggregation": null,
        "pivotColumns": null,
        "xColumns": null,
        "yColumns": null
       },
       "removedWidgets": [],
       "schema": [
        {
         "metadata": "{}",
         "name": "source_table_size",
         "type": "\"long\""
        },
        {
         "metadata": "{}",
         "name": "source_num_of_files",
         "type": "\"long\""
        },
        {
         "metadata": "{}",
         "name": "num_removed_files",
         "type": "\"long\""
        },
        {
         "metadata": "{}",
         "name": "num_copied_files",
         "type": "\"long\""
        },
        {
         "metadata": "{}",
         "name": "removed_files_size",
         "type": "\"long\""
        },
        {
         "metadata": "{}",
         "name": "copied_files_size",
         "type": "\"long\""
        }
       ],
       "type": "table"
      }
     },
     "output_type": "display_data"
    }
   ],
   "source": [
    "#df_clone_covid_shallow = df_covid_clone.clone('dbfs://hive_to_uc_sync/deep_clone', isShallow = True)\n",
    "df_remuneracao_volume = spark.read.load('dbfs://hive_to_uc_sync/remuneracao_deep_clone')\n",
    "df_remuneracao_volume.write.saveAsTable(\"hive_to_uc_sync.sync_data.remuneracao_volume\")"
   ]
  },
  {
   "cell_type": "code",
   "execution_count": 0,
   "metadata": {
    "application/vnd.databricks.v1+cell": {
     "cellMetadata": {
      "byteLimit": 2048000,
      "rowLimit": 10000
     },
     "inputWidgets": {},
     "nuid": "d9f13a07-a612-4ac1-b329-cb1f013e8f55",
     "showTitle": false,
     "title": ""
    }
   },
   "outputs": [
    {
     "output_type": "display_data",
     "data": {
      "text/html": [
       "<style scoped>\n",
       "  .table-result-container {\n",
       "    max-height: 300px;\n",
       "    overflow: auto;\n",
       "  }\n",
       "  table, th, td {\n",
       "    border: 1px solid black;\n",
       "    border-collapse: collapse;\n",
       "  }\n",
       "  th, td {\n",
       "    padding: 5px;\n",
       "  }\n",
       "  th {\n",
       "    text-align: left;\n",
       "  }\n",
       "</style><div class='table-result-container'><table class='table-result'><thead style='background-color: white'><tr></tr></thead><tbody></tbody></table></div>"
      ]
     },
     "metadata": {
      "application/vnd.databricks.v1+output": {
       "addedWidgets": {},
       "aggData": [],
       "aggError": "",
       "aggOverflow": false,
       "aggSchema": [],
       "aggSeriesLimitReached": false,
       "aggType": "",
       "arguments": {},
       "columnCustomDisplayInfos": {},
       "data": [],
       "datasetInfos": [],
       "dbfsResultPath": null,
       "isJsonSchema": true,
       "metadata": {
        "isDbfsCommandResult": false
       },
       "overflow": false,
       "plotOptions": {
        "customPlotOptions": {},
        "displayType": "table",
        "pivotAggregation": null,
        "pivotColumns": null,
        "xColumns": null,
        "yColumns": null
       },
       "removedWidgets": [],
       "schema": [],
       "type": "table"
      }
     },
     "output_type": "display_data"
    }
   ],
   "source": [
    "#df_remuneracao_volume.write.mode(\"overwrite\").option(\"truncate\", \"true\").save()\n",
    "spark.sql(\"TRUNCATE TABLE hive_to_uc_sync.sync_data.remuneracao_volume\")"
   ]
  },
  {
   "cell_type": "code",
   "execution_count": 0,
   "metadata": {
    "application/vnd.databricks.v1+cell": {
     "cellMetadata": {
      "byteLimit": 2048000,
      "rowLimit": 10000
     },
     "inputWidgets": {},
     "nuid": "efbbeb2c-48d7-43b4-9f10-edc0836daf85",
     "showTitle": false,
     "title": ""
    }
   },
   "outputs": [
    {
     "output_type": "display_data",
     "data": {
      "text/html": [
       "<style scoped>\n",
       "  .table-result-container {\n",
       "    max-height: 300px;\n",
       "    overflow: auto;\n",
       "  }\n",
       "  table, th, td {\n",
       "    border: 1px solid black;\n",
       "    border-collapse: collapse;\n",
       "  }\n",
       "  th, td {\n",
       "    padding: 5px;\n",
       "  }\n",
       "  th {\n",
       "    text-align: left;\n",
       "  }\n",
       "</style><div class='table-result-container'><table class='table-result'><thead style='background-color: white'><tr><th>num_affected_rows</th><th>num_inserted_rows</th><th>num_skipped_corrupt_files</th></tr></thead><tbody><tr><td>248355</td><td>248355</td><td>0</td></tr></tbody></table></div>"
      ]
     },
     "metadata": {
      "application/vnd.databricks.v1+output": {
       "addedWidgets": {},
       "aggData": [],
       "aggError": "",
       "aggOverflow": false,
       "aggSchema": [],
       "aggSeriesLimitReached": false,
       "aggType": "",
       "arguments": {},
       "columnCustomDisplayInfos": {},
       "data": [
        [
         248355,
         248355,
         0
        ]
       ],
       "datasetInfos": [],
       "dbfsResultPath": null,
       "isJsonSchema": true,
       "metadata": {
        "isDbfsCommandResult": false
       },
       "overflow": false,
       "plotOptions": {
        "customPlotOptions": {},
        "displayType": "table",
        "pivotAggregation": null,
        "pivotColumns": null,
        "xColumns": null,
        "yColumns": null
       },
       "removedWidgets": [],
       "schema": [
        {
         "metadata": "{}",
         "name": "num_affected_rows",
         "type": "\"long\""
        },
        {
         "metadata": "{}",
         "name": "num_inserted_rows",
         "type": "\"long\""
        },
        {
         "metadata": "{}",
         "name": "num_skipped_corrupt_files",
         "type": "\"integer\""
        }
       ],
       "type": "table"
      }
     },
     "output_type": "display_data"
    }
   ],
   "source": [
    "spark.sql(\n",
    "\"COPY INTO remuneracao_volume\" + \\\n",
    "\"FROM '/Volumes/hive_to_uc_sync/sync_data/volume'\" + \\\n",
    "\"FILEFORMAT = CSV\" + \\\n",
    "\"FORMAT_OPTIONS ('mergeSchema' = 'true',\" + \\\n",
    "\"                  'inferSchema' = 'true',\" + \\\n",
    "\"                  'delimiter' = ';',\" + \\\n",
    "\"                  'encoding' = 'ISO-8859-1',\" + \\\n",
    "\"                  'header' = 'true')\" + \\\n",
    "\"COPY_OPTIONS ('mergeSchema' = 'true')\"\n",
    ")"
   ]
  },
  {
   "cell_type": "code",
   "execution_count": 0,
   "metadata": {
    "application/vnd.databricks.v1+cell": {
     "cellMetadata": {
      "byteLimit": 2048000,
      "rowLimit": 10000
     },
     "inputWidgets": {},
     "nuid": "133d9ba4-04d5-4150-ba7a-84931dff561a",
     "showTitle": false,
     "title": ""
    }
   },
   "outputs": [
    {
     "output_type": "display_data",
     "data": {
      "text/html": [
       "<style scoped>\n",
       "  .table-result-container {\n",
       "    max-height: 300px;\n",
       "    overflow: auto;\n",
       "  }\n",
       "  table, th, td {\n",
       "    border: 1px solid black;\n",
       "    border-collapse: collapse;\n",
       "  }\n",
       "  th, td {\n",
       "    padding: 5px;\n",
       "  }\n",
       "  th {\n",
       "    text-align: left;\n",
       "  }\n",
       "</style><div class='table-result-container'><table class='table-result'><thead style='background-color: white'><tr><th>count(1)</th></tr></thead><tbody><tr><td>495922</td></tr></tbody></table></div>"
      ]
     },
     "metadata": {
      "application/vnd.databricks.v1+output": {
       "addedWidgets": {},
       "aggData": [],
       "aggError": "",
       "aggOverflow": false,
       "aggSchema": [],
       "aggSeriesLimitReached": false,
       "aggType": "",
       "arguments": {},
       "columnCustomDisplayInfos": {},
       "data": [
        [
         495922
        ]
       ],
       "datasetInfos": [],
       "dbfsResultPath": null,
       "isJsonSchema": true,
       "metadata": {
        "isDbfsCommandResult": false
       },
       "overflow": false,
       "plotOptions": {
        "customPlotOptions": {},
        "displayType": "table",
        "pivotAggregation": null,
        "pivotColumns": null,
        "xColumns": null,
        "yColumns": null
       },
       "removedWidgets": [],
       "schema": [
        {
         "metadata": "{\"__autoGeneratedAlias\":\"true\"}",
         "name": "count(1)",
         "type": "\"long\""
        }
       ],
       "type": "table"
      }
     },
     "output_type": "display_data"
    }
   ],
   "source": [
    "display(spark.sql(\"SELECT COUNT(*) FROM remuneracao_volume\"))"
   ]
  },
  {
   "cell_type": "code",
   "execution_count": 0,
   "metadata": {
    "application/vnd.databricks.v1+cell": {
     "cellMetadata": {
      "byteLimit": 2048000,
      "rowLimit": 10000
     },
     "inputWidgets": {},
     "nuid": "019a533c-fe04-4814-9bdd-ac3f9e0850cc",
     "showTitle": false,
     "title": ""
    }
   },
   "outputs": [
    {
     "output_type": "display_data",
     "data": {
      "text/html": [
       "<style scoped>\n",
       "  .table-result-container {\n",
       "    max-height: 300px;\n",
       "    overflow: auto;\n",
       "  }\n",
       "  table, th, td {\n",
       "    border: 1px solid black;\n",
       "    border-collapse: collapse;\n",
       "  }\n",
       "  th, td {\n",
       "    padding: 5px;\n",
       "  }\n",
       "  th {\n",
       "    text-align: left;\n",
       "  }\n",
       "</style><div class='table-result-container'><table class='table-result'><thead style='background-color: white'><tr><th>nome</th><th>cpf</th><th>orgao</th><th>cargo</th><th>funcao</th><th>situacao</th><th>mes</th><th>ano</th><th>codigo_do_orgao</th><th>matricula</th><th>remuneracao_basica</th><th>beneficios</th><th>valor_das_funcoes</th><th>comissao_conselheiro</th><th>hora_extra</th><th>verbas_eventuais</th><th>verbas_judiciais</th><th>descontos_a_maior</th><th>licenca_premio</th><th>irrf</th><th>seguridade_social</th><th>teto_redutor</th><th>outros_recebimentos</th><th>outros_descontos_obrigatorios</th><th>pagamento_a_maior</th><th>bruto</th><th>liquido</th></tr></thead><tbody><tr><td>EDMUNDO BARBOSA DE FREITAS</td><td>***898181**</td><td>BRB-BANCO DE BRASILIA S.A.</td><td>ESCRITURÁRIO</td><td>CAIXA BANCÁRIO</td><td>AFASTADO/ABONO ASSIDUIDADE</td><td>6</td><td>2022</td><td>300001</td><td>1569</td><td>6111,26</td><td>1895,30</td><td>1284,59</td><td>,00</td><td>,00</td><td>7941,15</td><td>,00</td><td>,00</td><td>,00</td><td>8509,87</td><td>4193,59</td><td>,00</td><td>,00</td><td>,00</td><td>,00</td><td>17232,30</td><td>4528,84</td></tr><tr><td>CLEUSA MARIA DE CAMPOS MORAIS</td><td>***939691**</td><td>BRB-BANCO DE BRASILIA S.A.</td><td>ESCRITURÁRIO</td><td>null</td><td>AFASTADO/ABONO ASSIDUIDADE</td><td>6</td><td>2022</td><td>300001</td><td>1877</td><td>11763,12</td><td>1895,30</td><td>,00</td><td>,00</td><td>,00</td><td>,00</td><td>,00</td><td>,00</td><td>,00</td><td>1742,28</td><td>2579,98</td><td>,00</td><td>,00</td><td>,00</td><td>,00</td><td>13658,42</td><td>9336,16</td></tr><tr><td>DIVINO CARLOS SEROZINO</td><td>***730581**</td><td>BRB-BANCO DE BRASILIA S.A.</td><td>ESCRITURÁRIO</td><td>CAIXA BANCÁRIO</td><td>AFASTADO/ABONO ASSIDUIDADE</td><td>6</td><td>2022</td><td>300001</td><td>2485</td><td>14770,48</td><td>1895,30</td><td>3853,77</td><td>,00</td><td>,00</td><td>,00</td><td>,00</td><td>,00</td><td>,00</td><td>3436,61</td><td>3262,64</td><td>,00</td><td>,00</td><td>,00</td><td>,00</td><td>20519,55</td><td>13820,30</td></tr><tr><td>ADEMILSON CARNEIRO</td><td>***749601**</td><td>BRB-BANCO DE BRASILIA S.A.</td><td>ESCRITURÁRIO</td><td>null</td><td>AFASTADO/ABONO ASSIDUIDADE</td><td>6</td><td>2022</td><td>300001</td><td>3264</td><td>17955,43</td><td>1995,20</td><td>,00</td><td>,00</td><td>,00</td><td>,00</td><td>,00</td><td>,00</td><td>,00</td><td>3304,07</td><td>3429,73</td><td>,00</td><td>,00</td><td>,00</td><td>,00</td><td>19950,63</td><td>13216,83</td></tr><tr><td>ANA MARIA NOGUEIRA</td><td>***040221**</td><td>BRB-BANCO DE BRASILIA S.A.</td><td>ESCRITURÁRIO</td><td>null</td><td>AFASTADO/ABONO ASSIDUIDADE</td><td>6</td><td>2022</td><td>300001</td><td>4674</td><td>9204,04</td><td>1895,30</td><td>,00</td><td>,00</td><td>,00</td><td>,00</td><td>,00</td><td>,00</td><td>,00</td><td>1228,66</td><td>1871,80</td><td>,00</td><td>,00</td><td>,00</td><td>,00</td><td>11099,34</td><td>7998,88</td></tr></tbody></table></div>"
      ]
     },
     "metadata": {
      "application/vnd.databricks.v1+output": {
       "addedWidgets": {},
       "aggData": [],
       "aggError": "",
       "aggOverflow": false,
       "aggSchema": [],
       "aggSeriesLimitReached": false,
       "aggType": "",
       "arguments": {},
       "columnCustomDisplayInfos": {},
       "data": [
        [
         "EDMUNDO BARBOSA DE FREITAS",
         "***898181**",
         "BRB-BANCO DE BRASILIA S.A.",
         "ESCRITURÁRIO",
         "CAIXA BANCÁRIO",
         "AFASTADO/ABONO ASSIDUIDADE",
         6,
         2022,
         300001,
         "1569",
         "6111,26",
         "1895,30",
         "1284,59",
         ",00",
         ",00",
         "7941,15",
         ",00",
         ",00",
         ",00",
         "8509,87",
         "4193,59",
         ",00",
         ",00",
         ",00",
         ",00",
         "17232,30",
         "4528,84"
        ],
        [
         "CLEUSA MARIA DE CAMPOS MORAIS",
         "***939691**",
         "BRB-BANCO DE BRASILIA S.A.",
         "ESCRITURÁRIO",
         null,
         "AFASTADO/ABONO ASSIDUIDADE",
         6,
         2022,
         300001,
         "1877",
         "11763,12",
         "1895,30",
         ",00",
         ",00",
         ",00",
         ",00",
         ",00",
         ",00",
         ",00",
         "1742,28",
         "2579,98",
         ",00",
         ",00",
         ",00",
         ",00",
         "13658,42",
         "9336,16"
        ],
        [
         "DIVINO CARLOS SEROZINO",
         "***730581**",
         "BRB-BANCO DE BRASILIA S.A.",
         "ESCRITURÁRIO",
         "CAIXA BANCÁRIO",
         "AFASTADO/ABONO ASSIDUIDADE",
         6,
         2022,
         300001,
         "2485",
         "14770,48",
         "1895,30",
         "3853,77",
         ",00",
         ",00",
         ",00",
         ",00",
         ",00",
         ",00",
         "3436,61",
         "3262,64",
         ",00",
         ",00",
         ",00",
         ",00",
         "20519,55",
         "13820,30"
        ],
        [
         "ADEMILSON CARNEIRO",
         "***749601**",
         "BRB-BANCO DE BRASILIA S.A.",
         "ESCRITURÁRIO",
         null,
         "AFASTADO/ABONO ASSIDUIDADE",
         6,
         2022,
         300001,
         "3264",
         "17955,43",
         "1995,20",
         ",00",
         ",00",
         ",00",
         ",00",
         ",00",
         ",00",
         ",00",
         "3304,07",
         "3429,73",
         ",00",
         ",00",
         ",00",
         ",00",
         "19950,63",
         "13216,83"
        ],
        [
         "ANA MARIA NOGUEIRA",
         "***040221**",
         "BRB-BANCO DE BRASILIA S.A.",
         "ESCRITURÁRIO",
         null,
         "AFASTADO/ABONO ASSIDUIDADE",
         6,
         2022,
         300001,
         "4674",
         "9204,04",
         "1895,30",
         ",00",
         ",00",
         ",00",
         ",00",
         ",00",
         ",00",
         ",00",
         "1228,66",
         "1871,80",
         ",00",
         ",00",
         ",00",
         ",00",
         "11099,34",
         "7998,88"
        ]
       ],
       "datasetInfos": [],
       "dbfsResultPath": null,
       "isJsonSchema": true,
       "metadata": {
        "isDbfsCommandResult": false
       },
       "overflow": false,
       "plotOptions": {
        "customPlotOptions": {},
        "displayType": "table",
        "pivotAggregation": null,
        "pivotColumns": null,
        "xColumns": null,
        "yColumns": null
       },
       "removedWidgets": [],
       "schema": [
        {
         "metadata": "{\"comment\":\"NOME COMPLETO DO SERVIDOR\"}",
         "name": "nome",
         "type": "\"string\""
        },
        {
         "metadata": "{\"comment\":\"Nº DO CADASTRO DE PESSOA FÍSICA MASCARADO\"}",
         "name": "cpf",
         "type": "\"string\""
        },
        {
         "metadata": "{\"comment\":\"ÓRGÃO VINCULADO AO SERVIDOR\"}",
         "name": "orgao",
         "type": "\"string\""
        },
        {
         "metadata": "{\"comment\":\"POSIÇÃO QUE O SERVIDOR OCUPA NO ÓRGÃO DE FORMA PERMANENTE\"}",
         "name": "cargo",
         "type": "\"string\""
        },
        {
         "metadata": "{\"comment\":\"DESIGNAÇÃO TEMPORÁRIA PARA DESEMPENHO DE DETERMINADAS ATRIBUIÇÕES (CARGO COMISSIONADO)\"}",
         "name": "funcao",
         "type": "\"string\""
        },
        {
         "metadata": "{\"comment\":\"CONDIÇÃO DO SERVIDOR EM RELAÇÃO AO EXERCÍCIO DE SUAS ATIVIDADES\"}",
         "name": "situacao",
         "type": "\"string\""
        },
        {
         "metadata": "{\"comment\":\"MÊS DE REFERÊNCIA\"}",
         "name": "mes",
         "type": "\"integer\""
        },
        {
         "metadata": "{\"comment\":\"ANO DE REFERÊNCIA\"}",
         "name": "ano",
         "type": "\"integer\""
        },
        {
         "metadata": "{\"comment\":\"ÓRGÃO VINCULADO AO SERVIDOR\"}",
         "name": "codigo_do_orgao",
         "type": "\"integer\""
        },
        {
         "metadata": "{\"comment\":\"MATRÍCULA DO SERVIDOR NO ÓRGÃO VINCULADO\"}",
         "name": "matricula",
         "type": "\"string\""
        },
        {
         "metadata": "{\"comment\":\"REMUNERAÇÃO BÁSICA\"}",
         "name": "remuneracao_basica",
         "type": "\"string\""
        },
        {
         "metadata": "{\"comment\":\"VALOR DOS BENEFÍCIOS\"}",
         "name": "beneficios",
         "type": "\"string\""
        },
        {
         "metadata": "{\"comment\":\"VALOR DAS FUNÇÕES\"}",
         "name": "valor_das_funcoes",
         "type": "\"string\""
        },
        {
         "metadata": "{\"comment\":\"COMISSÃO CONSELHEIRO\"}",
         "name": "comissao_conselheiro",
         "type": "\"string\""
        },
        {
         "metadata": "{\"comment\":\"TOTAL DE HORA EXTRA\"}",
         "name": "hora_extra",
         "type": "\"string\""
        },
        {
         "metadata": "{\"comment\":\"VALOR DAS VERBAS EVENTUAIS\"}",
         "name": "verbas_eventuais",
         "type": "\"string\""
        },
        {
         "metadata": "{\"comment\":\"VALOR DAS VERBAS JUDICIAIS\"}",
         "name": "verbas_judiciais",
         "type": "\"string\""
        },
        {
         "metadata": "{\"comment\":\"VALOR DA REPOSIÇÃO DE DESCONTOS A MAIOR\"}",
         "name": "descontos_a_maior",
         "type": "\"string\""
        },
        {
         "metadata": "{\"comment\":\"VALOR DA LICENÇA PRÊMIO\"}",
         "name": "licenca_premio",
         "type": "\"string\""
        },
        {
         "metadata": "{\"comment\":\"VALOR DO DESCONTO DE IMPOSTO DE RENDA RETIDO NA FONTE\"}",
         "name": "irrf",
         "type": "\"string\""
        },
        {
         "metadata": "{\"comment\":\"VALOR DO DESCONTO DE SEGURIDADE SOCIAL\"}",
         "name": "seguridade_social",
         "type": "\"string\""
        },
        {
         "metadata": "{\"comment\":\"VALOR DO DESCONTO DE TETO REDUTOR\"}",
         "name": "teto_redutor",
         "type": "\"string\""
        },
        {
         "metadata": "{\"comment\":\"VALOR DE OUTROS RECEBIMENTOS\"}",
         "name": "outros_recebimentos",
         "type": "\"string\""
        },
        {
         "metadata": "{\"comment\":\"VALOR DE OUTROS DESCONTOS OBRIGATÓRIOS\"}",
         "name": "outros_descontos_obrigatorios",
         "type": "\"string\""
        },
        {
         "metadata": "{\"comment\":\"VALOR DOS DESCONTOS DE PAGAMENTOS A MAIOR\"}",
         "name": "pagamento_a_maior",
         "type": "\"string\""
        },
        {
         "metadata": "{\"comment\":\"VALOR BRUTO DA REMUNERAÇÃO\"}",
         "name": "bruto",
         "type": "\"string\""
        },
        {
         "metadata": "{\"comment\":\"VALOR LÍQUIDO APÓS DESCONTOS OBRIGATÓRIOS\"}",
         "name": "liquido",
         "type": "\"string\""
        }
       ],
       "type": "table"
      }
     },
     "output_type": "display_data"
    }
   ],
   "source": [
    "display(spark.sql(\"SELECT * FROM remuneracao_volume LIMIT 5\"))"
   ]
  }
 ],
 "metadata": {
  "application/vnd.databricks.v1+notebook": {
   "dashboards": [],
   "language": "python",
   "notebookMetadata": {
    "mostRecentlyExecutedCommandWithImplicitDF": {
     "commandId": 3528786731747191,
     "dataframes": [
      "_sqldf"
     ]
    },
    "pythonIndentUnit": 4
   },
   "notebookName": "Day 2 [Fighter] - Data Explorer",
   "widgets": {}
  }
 },
 "nbformat": 4,
 "nbformat_minor": 0
}

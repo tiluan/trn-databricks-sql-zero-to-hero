{
 "cells": [
  {
   "cell_type": "markdown",
   "metadata": {
    "application/vnd.databricks.v1+cell": {
     "cellMetadata": {},
     "inputWidgets": {},
     "nuid": "77be82f5-3158-46ae-a9dd-c66a76701e4c",
     "showTitle": false,
     "title": ""
    }
   },
   "source": [
    "# AWS"
   ]
  },
  {
   "cell_type": "code",
   "execution_count": 0,
   "metadata": {
    "application/vnd.databricks.v1+cell": {
     "cellMetadata": {},
     "inputWidgets": {},
     "nuid": "5e179200-f8e9-47c4-a109-d6ec9de10bbf",
     "showTitle": false,
     "title": ""
    }
   },
   "outputs": [],
   "source": [
    "access_key = dbutils.secrets.get(scope = \"aws\", key = \"aws-access-key\")\n",
    "secret_key = dbutils.secrets.get(scope = \"aws\", key = \"aws-secret-key\")\n",
    "encoded_secret_key = secret_key.replace(\"/\", \"%2F\")\n",
    "aws_bucket_name = \"example-aws-bucket\"\n",
    "mount_name = \"mount-name\"\n",
    "\n",
    "dbutils.fs.mount(\n",
    "    f\"s3a://{access_key}:{encoded_secret_key}@{aws_bucket_name}\", \n",
    "    f\"/mnt/{mount_name}\"\n",
    ")"
   ]
  },
  {
   "cell_type": "markdown",
   "metadata": {
    "application/vnd.databricks.v1+cell": {
     "cellMetadata": {},
     "inputWidgets": {},
     "nuid": "ad490976-ba61-4b89-8aac-24156e56fe91",
     "showTitle": false,
     "title": ""
    }
   },
   "source": [
    "# GCP"
   ]
  },
  {
   "cell_type": "code",
   "execution_count": 0,
   "metadata": {
    "application/vnd.databricks.v1+cell": {
     "cellMetadata": {},
     "inputWidgets": {},
     "nuid": "ec292362-5cf1-4eac-b20e-96f83503304a",
     "showTitle": false,
     "title": ""
    }
   },
   "outputs": [],
   "source": [
    "bucket_name = \"example-gcs-bucket\"\n",
    "mount_name = \"mount-name\"\n",
    "dbutils.fs.mount(\n",
    "  f\"gs://{bucket_name}\",\n",
    "  f\"/mnt/databricks/{mount_name}\",\n",
    "  extra_configs = {\"fs.gs.project.id\": \"<example-project-id>\"}\n",
    ")"
   ]
  },
  {
   "cell_type": "markdown",
   "metadata": {
    "application/vnd.databricks.v1+cell": {
     "cellMetadata": {},
     "inputWidgets": {},
     "nuid": "d7372da7-95aa-4008-b4ef-b107c1eb2a08",
     "showTitle": false,
     "title": ""
    }
   },
   "source": [
    "# Azure"
   ]
  },
  {
   "cell_type": "code",
   "execution_count": 0,
   "metadata": {
    "application/vnd.databricks.v1+cell": {
     "cellMetadata": {},
     "inputWidgets": {},
     "nuid": "a2d42fdf-a61a-4e2a-8a86-c4f19eb66b91",
     "showTitle": false,
     "title": ""
    }
   },
   "outputs": [],
   "source": [
    "configs = {\"fs.azure.account.auth.type\": \"OAuth\",\n",
    "          \"fs.azure.account.oauth.provider.type\": \"org.apache.hadoop.fs.azurebfs.oauth2.ClientCredsTokenProvider\",\n",
    "          \"fs.azure.account.oauth2.client.id\": \"<application-id>\",\n",
    "          \"fs.azure.account.oauth2.client.secret\": dbutils.secrets.get(scope=\"<scope-name>\",key=\"<service-credential-key-name>\"),\n",
    "          \"fs.azure.account.oauth2.client.endpoint\": \"https://login.microsoftonline.com/<directory-id>/oauth2/token\"}\n",
    "\n",
    "dbutils.fs.mount(\n",
    "  source = f\"abfss://<example-container-name>@<storage-account>.dfs.core.windows.net/\",\n",
    "  mount_point = \"/mnt/<mount-name>\",\n",
    "  extra_configs = configs)"
   ]
  }
 ],
 "metadata": {
  "application/vnd.databricks.v1+notebook": {
   "dashboards": [],
   "language": "python",
   "notebookMetadata": {
    "pythonIndentUnit": 4
   },
   "notebookName": "Day 2 [Fighter] - Montando armazenamentos de objetos",
   "widgets": {}
  }
 },
 "nbformat": 4,
 "nbformat_minor": 0
}

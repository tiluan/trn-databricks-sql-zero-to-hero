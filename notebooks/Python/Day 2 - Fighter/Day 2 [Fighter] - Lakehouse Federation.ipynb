{
 "cells": [
  {
   "cell_type": "markdown",
   "metadata": {
    "application/vnd.databricks.v1+cell": {
     "cellMetadata": {
      "byteLimit": 2048000,
      "rowLimit": 10000
     },
     "inputWidgets": {},
     "nuid": "65dfbd7d-9657-41ea-965f-71d3b45770f4",
     "showTitle": false,
     "title": ""
    }
   },
   "source": [
    "### Importante!\n",
    "\n",
    "Este notebook funcionou com uma versão 13.3 LTS Runtime!\n",
    "\n",
    "Não há preocupações quanto ao tamanho do cluster (memória e núcleos).\n",
    "\n",
    "Importante: não use clusters de usuário único (escolha opções compartilhadas) para lidar com dados da Federação Lakehouse.\n",
    "\n",
    "Insira `spark.databricks.delta.retentionDurationCheck.enabled false` durante a criação das configurações do cluster para poder usar o VACUUM corretamente neste notebook.\n",
    "\n",
    "O objetivo deste notebook é apenas mostrar a versão dos comandos SQL para Python, **use sempre a versão SQL como referência**, pois foi a usada durante o curso SQL do Databricks."
   ]
  },
  {
   "cell_type": "code",
   "execution_count": 0,
   "metadata": {
    "application/vnd.databricks.v1+cell": {
     "cellMetadata": {
      "byteLimit": 2048000,
      "implicitDf": true,
      "rowLimit": 10000
     },
     "inputWidgets": {},
     "nuid": "eb884702-f776-48f1-a1cc-ddd04b687bfe",
     "showTitle": false,
     "title": ""
    }
   },
   "outputs": [],
   "source": [
    "%sql\n",
    "CREATE FOREIGN CATALOG databricks_postgres USING CONNECTION postgres_conn \n",
    "OPTIONS (database 'lakehouse_federation')"
   ]
  },
  {
   "cell_type": "code",
   "execution_count": 0,
   "metadata": {
    "application/vnd.databricks.v1+cell": {
     "cellMetadata": {
      "byteLimit": 2048000,
      "implicitDf": true,
      "rowLimit": 10000
     },
     "inputWidgets": {},
     "nuid": "ead86def-da9f-474e-a97b-9cec61aac1dc",
     "showTitle": false,
     "title": ""
    }
   },
   "outputs": [],
   "source": [
    "display(spark.read.table(\"databricks_postgres.public.remuneracao_day2\"))"
   ]
  },
  {
   "cell_type": "code",
   "execution_count": 0,
   "metadata": {
    "application/vnd.databricks.v1+cell": {
     "cellMetadata": {
      "byteLimit": 2048000,
      "rowLimit": 10000
     },
     "inputWidgets": {},
     "nuid": "b0c3ebf4-e72d-41c0-a6da-0f7737c52f15",
     "showTitle": false,
     "title": ""
    }
   },
   "outputs": [],
   "source": [
    "spark.sql(\"CREATE CATALOG remuneracao;\")\n",
    "spark.sql(\"USE CATALOG remuneracao;\")\n",
    "spark.sql(\"CREATE SCHEMA explorer;\")\n",
    "spark.sql(\"USE explorer;\")"
   ]
  },
  {
   "cell_type": "code",
   "execution_count": 0,
   "metadata": {
    "application/vnd.databricks.v1+cell": {
     "cellMetadata": {
      "byteLimit": 2048000,
      "rowLimit": 10000
     },
     "inputWidgets": {},
     "nuid": "354f1370-08ec-45f8-a9f5-05d77cbbe122",
     "showTitle": false,
     "title": ""
    }
   },
   "outputs": [],
   "source": [
    "spark.sql(\n",
    "\"CREATE TABLE remuneracao.explorer.remuneracao_day2\" + \\\n",
    "\"COMMENT 'Remuneracao Monthly'\" + \\\n",
    "\"AS SELECT\" + \\\n",
    "\"      *\" + \\\n",
    "\"FROM \" + \\\n",
    "\"  databricks_postgres.public.remuneracao_day2;\"\n",
    ")"
   ]
  },
  {
   "cell_type": "code",
   "execution_count": 0,
   "metadata": {
    "application/vnd.databricks.v1+cell": {
     "cellMetadata": {
      "byteLimit": 2048000,
      "rowLimit": 10000
     },
     "inputWidgets": {},
     "nuid": "f237b2f1-5d6c-4cdb-b45f-f7c9742e514e",
     "showTitle": false,
     "title": ""
    }
   },
   "outputs": [],
   "source": [
    "display(spark.sql(\n",
    "\"SELECT \" + \\\n",
    "\"    cargo, COUNT(cpf)\" + \\\n",
    "\"FROM\" + \\\n",
    "\"    remuneracao.explorer.remuneracao_day2\" + \\\n",
    "\"WHERE\" + \\\n",
    "\"    cargo IS NOT null\" + \\\n",
    "\"GROUP BY cargo\" + \\\n",
    "\"ORDER BY 2 DESC\" + \\\n",
    "\"LIMIT 15\"\n",
    "))"
   ]
  },
  {
   "cell_type": "markdown",
   "metadata": {
    "application/vnd.databricks.v1+cell": {
     "cellMetadata": {
      "byteLimit": 2048000,
      "rowLimit": 10000
     },
     "inputWidgets": {},
     "nuid": "bf5a079a-128d-4bfe-999f-5e8796b272da",
     "showTitle": false,
     "title": ""
    }
   },
   "source": [
    "### Excluindo dados"
   ]
  },
  {
   "cell_type": "code",
   "execution_count": 0,
   "metadata": {
    "application/vnd.databricks.v1+cell": {
     "cellMetadata": {
      "byteLimit": 2048000,
      "rowLimit": 10000
     },
     "inputWidgets": {},
     "nuid": "65a5740d-1425-4aac-928d-0c5161e882de",
     "showTitle": false,
     "title": ""
    }
   },
   "outputs": [],
   "source": [
    "df_remuneracao_day2 = spark.read.table(\"remuneracao.explorer.remuneracao_day2\")\n",
    "df_remuneracao_day2.delete(\"CARGO = 'CABO'\")"
   ]
  },
  {
   "cell_type": "markdown",
   "metadata": {
    "application/vnd.databricks.v1+cell": {
     "cellMetadata": {
      "byteLimit": 2048000,
      "rowLimit": 10000
     },
     "inputWidgets": {},
     "nuid": "7a484a3e-1d16-4019-bcfc-1979fb55cbf4",
     "showTitle": false,
     "title": ""
    }
   },
   "source": [
    "### Atualizando dados"
   ]
  },
  {
   "cell_type": "code",
   "execution_count": 0,
   "metadata": {
    "application/vnd.databricks.v1+cell": {
     "cellMetadata": {
      "byteLimit": 2048000,
      "rowLimit": 10000
     },
     "inputWidgets": {},
     "nuid": "ded2978c-f12d-45ea-bc0c-2a345d3ae244",
     "showTitle": false,
     "title": ""
    }
   },
   "outputs": [],
   "source": [
    "df_remuneracao_day2.update(condition = \"cargo = 'TERCEIRO SARGENTO'\",  \\\n",
    "                           set = { \"liquido: '41.650,92'\"} )"
   ]
  },
  {
   "cell_type": "code",
   "execution_count": 0,
   "metadata": {
    "application/vnd.databricks.v1+cell": {
     "cellMetadata": {
      "byteLimit": 2048000,
      "rowLimit": 10000
     },
     "inputWidgets": {},
     "nuid": "2144c7ae-f43d-4ce2-affb-e0d5bd7aa354",
     "showTitle": false,
     "title": ""
    }
   },
   "outputs": [],
   "source": [
    "df_remuneracao_day2.select('cpf', 'cargo', 'liquido')  \\\n",
    "    .where(\"cargo = 'TERCEIRO SARGENTO'\")  \\\n",
    "    .limit(5)"
   ]
  },
  {
   "cell_type": "markdown",
   "metadata": {
    "application/vnd.databricks.v1+cell": {
     "cellMetadata": {
      "byteLimit": 2048000,
      "rowLimit": 10000
     },
     "inputWidgets": {},
     "nuid": "8c246008-9f9a-4cba-be59-e1912e0c2209",
     "showTitle": false,
     "title": ""
    }
   },
   "source": [
    "### Inserindo Dados"
   ]
  },
  {
   "cell_type": "code",
   "execution_count": 0,
   "metadata": {
    "application/vnd.databricks.v1+cell": {
     "cellMetadata": {
      "byteLimit": 2048000,
      "rowLimit": 10000
     },
     "inputWidgets": {},
     "nuid": "50fb76a8-43fb-46a4-af8d-a5164df8408c",
     "showTitle": false,
     "title": ""
    }
   },
   "outputs": [],
   "source": [
    "df_remuneracao_day2.createOrReplaceTemporaryView(\"remuneracao_day2\")\n",
    "spark.sql(\n",
    "\"INSERT INTO remuneracao_day2 VALUES\" +  \\\n",
    "\"('JONAS FULANO', '***123456**', 'NARNIA', 'SABATICO', 'APRENDIZ', 'ATIVO', 2, 2022, 62, '104151', ',00', 'NENHUM', ',00', ',00', ',00', ',00', ',00', ',00', ',00', ',00', ',00', ',00', ',00', ',00', ',00', '500000,00', '378000,00'),\" +  \\\n",
    "\"('NEYMAR', '***456789**', 'BRASIL', 'FUTEBOL', 'ATLETA', 'ATIVO', 2, 2022, 62, '1051621', ',00', 'NENHUM', ',00', ',00', ',00', ',00', ',00', ',00', ',00', ',00', ',00', ',00', ',00', ',00', ',00', '500000,00', '378000,00')\"\n",
    ")"
   ]
  },
  {
   "cell_type": "code",
   "execution_count": 0,
   "metadata": {
    "application/vnd.databricks.v1+cell": {
     "cellMetadata": {
      "byteLimit": 2048000,
      "rowLimit": 10000
     },
     "inputWidgets": {},
     "nuid": "b15aa279-701e-4e42-a666-62c75caf8253",
     "showTitle": false,
     "title": ""
    }
   },
   "outputs": [],
   "source": [
    "display(spark.sql(\n",
    "\"SELECT *\" + \\\n",
    "\"FROM remuneracao_day2\" + \\\n",
    "\"WHERE\" + \\\n",
    "\"  cargo IN ('SABATICO', 'FUTEBOL')\"\n",
    "))"
   ]
  },
  {
   "cell_type": "code",
   "execution_count": 0,
   "metadata": {
    "application/vnd.databricks.v1+cell": {
     "cellMetadata": {
      "byteLimit": 2048000,
      "rowLimit": 10000
     },
     "inputWidgets": {},
     "nuid": "e0601ce8-48bc-4eda-8dbc-b232003ee283",
     "showTitle": false,
     "title": ""
    }
   },
   "outputs": [],
   "source": [
    "df_remuneracao_day2 = spark.sql(\"SELECT * FROM remuneracao_day2\")"
   ]
  },
  {
   "cell_type": "markdown",
   "metadata": {
    "application/vnd.databricks.v1+cell": {
     "cellMetadata": {
      "byteLimit": 2048000,
      "rowLimit": 10000
     },
     "inputWidgets": {},
     "nuid": "4411b6eb-6659-4af2-a032-3458a418949e",
     "showTitle": false,
     "title": ""
    }
   },
   "source": [
    "## Mesclando dados com atualizações!"
   ]
  },
  {
   "cell_type": "code",
   "execution_count": 0,
   "metadata": {
    "application/vnd.databricks.v1+cell": {
     "cellMetadata": {
      "byteLimit": 2048000,
      "rowLimit": 10000
     },
     "inputWidgets": {},
     "nuid": "d0069181-1826-45f8-99d9-27c02a6eadb8",
     "showTitle": false,
     "title": ""
    }
   },
   "outputs": [],
   "source": [
    "df_remuneracao_day2.clone('dbfs://hive_to_uc_sync/remuneracao_day2_deep_clone', isShallow = False)\n",
    "remuneracao_day2 = spark.read.load('dbfs://hive_to_uc_sync/remuneracao_day2_deep_clone')\n",
    "remuneracao_day2.write.saveAsTable(\"remuneracao.explorer.remuneracao_deep_clone\")"
   ]
  },
  {
   "cell_type": "code",
   "execution_count": 0,
   "metadata": {
    "application/vnd.databricks.v1+cell": {
     "cellMetadata": {
      "byteLimit": 2048000,
      "rowLimit": 10000
     },
     "inputWidgets": {},
     "nuid": "1091d2cd-923e-499a-a627-d25a3e8015aa",
     "showTitle": false,
     "title": ""
    }
   },
   "outputs": [],
   "source": [
    "#df_remuneracao_deep_clone = spark.read.load('dbfs://hive_to_uc_sync/remuneracao_day2_deep_clone')\n",
    "#df_remuneracao_deep_clone.write.mode(\"overwrite\").option(\"truncate\", \"true\").save()\n",
    "spark.sql(\"TRUNCATE TABLE remuneracao.explorer.remuneracao_deep_clone\")"
   ]
  },
  {
   "cell_type": "code",
   "execution_count": 0,
   "metadata": {
    "application/vnd.databricks.v1+cell": {
     "cellMetadata": {
      "byteLimit": 2048000,
      "rowLimit": 10000
     },
     "inputWidgets": {},
     "nuid": "6a0dd22c-b294-41a7-96fd-b62cc0191b28",
     "showTitle": false,
     "title": ""
    }
   },
   "outputs": [],
   "source": [
    "#df_remuneracao_deep_clone.count()\n",
    "display(spark.sql(\"SELECT COUNT(*) FROM remuneracao.explorer.remuneracao_deep_clone\"))"
   ]
  },
  {
   "cell_type": "code",
   "execution_count": 0,
   "metadata": {
    "application/vnd.databricks.v1+cell": {
     "cellMetadata": {
      "byteLimit": 2048000,
      "rowLimit": 10000
     },
     "inputWidgets": {},
     "nuid": "e87c3a0e-c4cf-47f5-a1c3-123e8b62feb3",
     "showTitle": false,
     "title": ""
    }
   },
   "outputs": [],
   "source": [
    "#df_remuneracao_deep_clone.history()\n",
    "display(spark.sql(\"DESCRIBE HISTORY remuneracao.explorer.remuneracao_deep_clone\"))"
   ]
  },
  {
   "cell_type": "code",
   "execution_count": 0,
   "metadata": {
    "application/vnd.databricks.v1+cell": {
     "cellMetadata": {
      "byteLimit": 2048000,
      "rowLimit": 10000
     },
     "inputWidgets": {},
     "nuid": "0289e639-c515-4fd1-bcd9-b432a2f5e6e4",
     "showTitle": false,
     "title": ""
    }
   },
   "outputs": [],
   "source": [
    "spark.sql(\"ALTER TABLE remuneracao.explorer.remuneracao_deep_clone\" + \\\n",
    "\"RENAME TO remuneracao.explorer.remuneracao_updates;\")"
   ]
  },
  {
   "cell_type": "code",
   "execution_count": 0,
   "metadata": {
    "application/vnd.databricks.v1+cell": {
     "cellMetadata": {
      "byteLimit": 2048000,
      "rowLimit": 10000
     },
     "inputWidgets": {},
     "nuid": "5ff0431c-7814-46ff-8b1c-37a2282b9cd5",
     "showTitle": false,
     "title": ""
    }
   },
   "outputs": [],
   "source": [
    "display(spark.sql(\"DESCRIBE HISTORY remuneracao.explorer.remuneracao_updates\"))"
   ]
  },
  {
   "cell_type": "code",
   "execution_count": 0,
   "metadata": {
    "application/vnd.databricks.v1+cell": {
     "cellMetadata": {
      "byteLimit": 2048000,
      "rowLimit": 10000
     },
     "inputWidgets": {},
     "nuid": "7477860c-8f18-4d95-85b1-3d431ebf5316",
     "showTitle": false,
     "title": ""
    }
   },
   "outputs": [],
   "source": [
    "spark.sql(\"DESCRIBE DETAIL remuneracao.explorer.remuneracao_updates;\")"
   ]
  },
  {
   "cell_type": "code",
   "execution_count": 0,
   "metadata": {
    "application/vnd.databricks.v1+cell": {
     "cellMetadata": {
      "byteLimit": 2048000,
      "rowLimit": 10000
     },
     "inputWidgets": {},
     "nuid": "9b238232-80b1-4dac-be4b-af72d5588348",
     "showTitle": false,
     "title": ""
    }
   },
   "outputs": [],
   "source": [
    "spark.sql(\"INSERT INTO remuneracao.explorer.remuneracao_updates VALUES\" + \\\n",
    "\"('JONAS FULANO', '***123456**', 'NARNIA', 'SABATICO', 'APRENDIZ', 'ATIVO', 2, 2022, 62, '104151', ',00', 'NENHUM', ',00', ',00', ',00', ',00', ',00', ',00', ',00', ',00', ',00', ',00', ',00', ',00', ',00', ',00', ',00'),\" + \\\n",
    "\"('NEYMAR', '***456789**', 'COMUNICACOES', 'MARKETING', 'INFLUENCER', 'ATIVO', 2, 2022, 215, '1426', ',00', 'ESPORTE', ',00', ',00', ',00', ',00', ',00', ',00', ',00', ',00', ',00', ',00', ',00', ',00', ',00', '690000,00', '200000,00'),\" + \\\n",
    "\"('SILVIO SANTOS', '***519612**', 'COMUNICACOES', 'TELEVISAO', 'APRESENTADOR', 'INATIVO', 2, 2022, 627, '62473', ',00', 'NENHUM', ',00', ',00', ',00', ',00', ',00', ',00', ',00', ',00', ',00', ',00', ',00', ',00', ',00', '100000,00', '99999,00'),\" + \\\n",
    "\"('AYRTON SENNA', '***696262**', 'ESPORTES', 'CORRIDA', 'ATLETA', 'INATIVO', 2, 2022, 682, '52677', ',00', 'NENHUM', ',00', ',00', ',00', ',00', ',00', ',00', ',00', ',00', ',00', ',00', ',00', ',00', ',00', '259416,00', '150161,00');\""
   ]
  },
  {
   "cell_type": "code",
   "execution_count": 0,
   "metadata": {
    "application/vnd.databricks.v1+cell": {
     "cellMetadata": {
      "byteLimit": 2048000,
      "rowLimit": 10000
     },
     "inputWidgets": {},
     "nuid": "0b77ecac-2669-4076-8347-7d9d3ce0b248",
     "showTitle": false,
     "title": ""
    }
   },
   "outputs": [],
   "source": [
    "spark.sql(\n",
    "\"MERGE INTO remuneracao.explorer.remuneracao_day2 AS re\" + \\\n",
    "\"USING remuneracao.explorer.remuneracao_updates AS up\" + \\\n",
    "\"ON re.nome = up.nome AND re.cpf = up.cpf AND re.mes = up.mes\" + \\\n",
    "\"--WHEN MATCHED THEN\" + \\\n",
    "\"--  DELETE\" + \\\n",
    "\"WHEN MATCHED AND up.funcao != \"INFLUENCER\" THEN\" + \\\n",
    "\"  UPDATE SET *\" + \\\n",
    "\"WHEN NOT MATCHED THEN\" + \\\n",
    "\"  INSERT *\"\n",
    ")"
   ]
  },
  {
   "cell_type": "code",
   "execution_count": 0,
   "metadata": {
    "application/vnd.databricks.v1+cell": {
     "cellMetadata": {
      "byteLimit": 2048000,
      "rowLimit": 10000
     },
     "inputWidgets": {},
     "nuid": "f85afd5c-adcc-49d1-960c-ca010f12aab6",
     "showTitle": false,
     "title": ""
    }
   },
   "outputs": [],
   "source": [
    "display(df_remuneracao_day2.history())"
   ]
  },
  {
   "cell_type": "code",
   "execution_count": 0,
   "metadata": {
    "application/vnd.databricks.v1+cell": {
     "cellMetadata": {
      "byteLimit": 2048000,
      "rowLimit": 10000
     },
     "inputWidgets": {},
     "nuid": "44cba763-e29f-4ee7-8d14-696931fa1855",
     "showTitle": false,
     "title": ""
    }
   },
   "outputs": [],
   "source": [
    "#names = ['JONAS FULANO', 'NEYMAR', 'SILVIO SANTOS', 'AYRTON SENNA']\n",
    "#display(df_remuneracao_day2.filter(df_remuneracao_day2.nome.isin(names)))\n",
    "display(df_remuneracao_day2.where(\"nome IN ('JONAS FULANO', 'NEYMAR', 'SILVIO SANTOS', 'AYRTON SENNA')\"))"
   ]
  },
  {
   "cell_type": "code",
   "execution_count": 0,
   "metadata": {
    "application/vnd.databricks.v1+cell": {
     "cellMetadata": {
      "byteLimit": 2048000,
      "rowLimit": 10000
     },
     "inputWidgets": {},
     "nuid": "4d887786-8dce-44f1-a335-1212e36e71b4",
     "showTitle": false,
     "title": ""
    }
   },
   "outputs": [],
   "source": [
    "display(spark.sql(\n",
    "\"SELECT * FROM remuneracao.explorer.remuneracao_day2 VERSION AS OF 4\" + \\\n",
    "\"EXCEPT ALL\" + \\\n",
    "\"SELECT * FROM\" + \\\n",
    "\"remuneracao.explorer.remuneracao_day2 VERSION AS OF 2\"))"
   ]
  },
  {
   "cell_type": "code",
   "execution_count": 0,
   "metadata": {
    "application/vnd.databricks.v1+cell": {
     "cellMetadata": {
      "byteLimit": 2048000,
      "rowLimit": 10000
     },
     "inputWidgets": {},
     "nuid": "f2ebfc96-a755-4f97-9df0-546bfe039d98",
     "showTitle": false,
     "title": ""
    }
   },
   "outputs": [],
   "source": [
    "df_remuneracao_day2.restoreToVersion(0)"
   ]
  },
  {
   "cell_type": "code",
   "execution_count": 0,
   "metadata": {
    "application/vnd.databricks.v1+cell": {
     "cellMetadata": {
      "byteLimit": 2048000,
      "rowLimit": 10000
     },
     "inputWidgets": {},
     "nuid": "d88c4402-4ead-4166-bf5d-2bbfb3bbdee2",
     "showTitle": false,
     "title": ""
    }
   },
   "outputs": [],
   "source": [
    "display(df_remuneracao_day2.count(0))"
   ]
  },
  {
   "cell_type": "code",
   "execution_count": 0,
   "metadata": {
    "application/vnd.databricks.v1+cell": {
     "cellMetadata": {
      "byteLimit": 2048000,
      "rowLimit": 10000
     },
     "inputWidgets": {},
     "nuid": "b0c0b6b1-0bad-41a2-ac28-6613c6e4595f",
     "showTitle": false,
     "title": ""
    }
   },
   "outputs": [],
   "source": [
    "#names = ['JONAS FULANO', 'NEYMAR', 'SILVIO SANTOS', 'AYRTON SENNA']\n",
    "#display(df_remuneracao_day2.filter(df_remuneracao_day2.nome.isin(names)))\n",
    "display(df_remuneracao_day2.where(\"nome IN ('JONAS FULANO', 'NEYMAR', 'SILVIO SANTOS', 'AYRTON SENNA')\"))"
   ]
  },
  {
   "cell_type": "markdown",
   "metadata": {
    "application/vnd.databricks.v1+cell": {
     "cellMetadata": {
      "byteLimit": 2048000,
      "rowLimit": 10000
     },
     "inputWidgets": {},
     "nuid": "df252784-5f42-46f9-bdf0-472266718522",
     "showTitle": false,
     "title": ""
    }
   },
   "source": [
    "# LEMBRAR:\n",
    "#### Para habilitar uma duração fora do mínimo permitido (168h / 1semana) você deve definir:\n",
    "`spark.databricks.delta.retentionDurationCheck.enabled falso`\n",
    "como configurações de parâmetros em seu cluster ou modificando as propriedades da tabela Delta, como:\n",
    "`tblProps = {`\n",
    "`\"delta.deletedFileRetentionDuration\": \"500 dias\"`\n",
    "`\"delta.logRetentionDuration\": \"90 dias\",`\n",
    "`\"databricks.delta.retentionDurationCheck.enabled\": \"falso\"`\n",
    "`}`"
   ]
  },
  {
   "cell_type": "code",
   "execution_count": 0,
   "metadata": {
    "application/vnd.databricks.v1+cell": {
     "cellMetadata": {
      "byteLimit": 2048000,
      "rowLimit": 10000
     },
     "inputWidgets": {},
     "nuid": "4a87e44b-b840-444b-8a47-2a0f1ff03611",
     "showTitle": false,
     "title": ""
    }
   },
   "outputs": [],
   "source": [
    "df_remuneracao_day2.vacuum(0);"
   ]
  }
 ],
 "metadata": {
  "application/vnd.databricks.v1+notebook": {
   "dashboards": [],
   "language": "python",
   "notebookMetadata": {
    "mostRecentlyExecutedCommandWithImplicitDF": {
     "commandId": 4142316991058962,
     "dataframes": [
      "_sqldf"
     ]
    },
    "pythonIndentUnit": 4
   },
   "notebookName": "Day 2 [Fighter] - Lakehouse Federation",
   "widgets": {}
  }
 },
 "nbformat": 4,
 "nbformat_minor": 0
}

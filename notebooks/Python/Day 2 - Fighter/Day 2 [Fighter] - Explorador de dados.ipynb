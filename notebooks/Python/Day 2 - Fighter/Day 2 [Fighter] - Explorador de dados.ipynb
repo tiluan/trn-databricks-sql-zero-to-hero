{
 "cells": [
  {
   "cell_type": "markdown",
   "metadata": {
    "application/vnd.databricks.v1+cell": {
     "cellMetadata": {
      "byteLimit": 2048000,
      "rowLimit": 10000
     },
     "inputWidgets": {},
     "nuid": "6cae298b-d524-4f58-97d6-2457e41f04da",
     "showTitle": false,
     "title": ""
    }
   },
   "source": [
    "### Nota importante!\n",
    "\n",
    "Este notebook funcionou com uma versão 12.2 LTS Runtime!\n",
    "\n",
    "Não há preocupações quanto ao tamanho do cluster (memória e núcleos).\n",
    "\n",
    "Insira `spark.databricks.delta.retentionDurationCheck.enabled false` durante a criação das configurações do cluster para poder usar o VACUUM corretamente neste notebook.\n",
    "\n",
    "O objetivo deste notebook é apenas mostrar a versão dos comandos SQL para Python, **use sempre a versão SQL como referência**, pois foi a usada durante o curso SQL do Databricks."
   ]
  },
  {
   "cell_type": "markdown",
   "metadata": {
    "application/vnd.databricks.v1+cell": {
     "cellMetadata": {
      "byteLimit": 2048000,
      "rowLimit": 10000
     },
     "inputWidgets": {},
     "nuid": "5905cc1b-12b4-4201-b2c1-98db61d3ed89",
     "showTitle": false,
     "title": ""
    }
   },
   "source": [
    "## Usando DBFS"
   ]
  },
  {
   "cell_type": "code",
   "execution_count": 0,
   "metadata": {
    "application/vnd.databricks.v1+cell": {
     "cellMetadata": {
      "byteLimit": 2048000,
      "rowLimit": 10000
     },
     "inputWidgets": {},
     "nuid": "cd571ed5-6f94-4937-a0b1-39093d419c56",
     "showTitle": false,
     "title": ""
    }
   },
   "outputs": [],
   "source": [
    "%fs ls /"
   ]
  },
  {
   "cell_type": "code",
   "execution_count": 0,
   "metadata": {
    "application/vnd.databricks.v1+cell": {
     "cellMetadata": {
      "byteLimit": 2048000,
      "rowLimit": 10000
     },
     "inputWidgets": {},
     "nuid": "b4a97920-68c7-43b6-858b-4026cde6e839",
     "showTitle": false,
     "title": ""
    }
   },
   "outputs": [],
   "source": [
    "display(dbutils.fs.ls('/'))"
   ]
  },
  {
   "cell_type": "markdown",
   "metadata": {
    "application/vnd.databricks.v1+cell": {
     "cellMetadata": {
      "byteLimit": 2048000,
      "rowLimit": 10000
     },
     "inputWidgets": {},
     "nuid": "c0f771ed-4e64-4f48-92cf-a030e3180313",
     "showTitle": false,
     "title": ""
    }
   },
   "source": [
    "## Alguns exemplos de comandos DBFS semelhantes a Unix\n",
    "\n",
    "| Comando | Resultado |\n",
    "|--------|--------|\n",
    "| `ls` | Liste os arquivos do diretório. |\n",
    "| `mkdirs` | Crie um novo diretório. |\n",
    "| `cp` | Capaz de copiar arquivos de um diretório para outro. |\n",
    "| `mv` | Capaz de mover arquivos de um diretório para outro. |\n",
    "| `rm` | Pode remover um arquivo de um caminho. |\n",
    "| `rm -r` | Remove recursivamente pastas ou arquivos aninhados. |\n",
    "| `put` | Permite inserir dados ou até mesmo criar novos arquivos de dados. |\n",
    "| `head` | Permite a leitura de arquivos nas primeiras linhas. |\n",
    "| `mount` | Crie um link entre um espaço de trabalho e o armazenamento de objetos em nuvem. |\n",
    "| `secrets.get` | Colete um segredo de um determinado escopo de segredos do Databricks. |\n"
   ]
  },
  {
   "cell_type": "code",
   "execution_count": 0,
   "metadata": {
    "application/vnd.databricks.v1+cell": {
     "cellMetadata": {
      "byteLimit": 2048000,
      "rowLimit": 10000
     },
     "inputWidgets": {},
     "nuid": "53653966-fc9e-499a-a969-60d4299b87f7",
     "showTitle": false,
     "title": ""
    }
   },
   "outputs": [],
   "source": [
    "%fs help"
   ]
  },
  {
   "cell_type": "code",
   "execution_count": 0,
   "metadata": {
    "application/vnd.databricks.v1+cell": {
     "cellMetadata": {
      "byteLimit": 2048000,
      "rowLimit": 10000
     },
     "inputWidgets": {},
     "nuid": "3dfecc43-6776-45a7-875c-be5a831a97e4",
     "showTitle": false,
     "title": ""
    }
   },
   "outputs": [],
   "source": [
    "help(dbutils.fs)"
   ]
  },
  {
   "cell_type": "code",
   "execution_count": 0,
   "metadata": {
    "application/vnd.databricks.v1+cell": {
     "cellMetadata": {
      "byteLimit": 2048000,
      "rowLimit": 10000
     },
     "inputWidgets": {},
     "nuid": "01358624-3f50-4038-859c-25bfeeaa2554",
     "showTitle": false,
     "title": ""
    }
   },
   "outputs": [],
   "source": [
    "%fs mkdirs /databricks_cc_example"
   ]
  },
  {
   "cell_type": "code",
   "execution_count": 0,
   "metadata": {
    "application/vnd.databricks.v1+cell": {
     "cellMetadata": {
      "byteLimit": 2048000,
      "rowLimit": 10000
     },
     "inputWidgets": {},
     "nuid": "e16a4c6d-62ce-4806-abeb-5d6ddf9635c4",
     "showTitle": false,
     "title": ""
    }
   },
   "outputs": [],
   "source": [
    "%fs ls /databricks_cc_example/"
   ]
  },
  {
   "cell_type": "code",
   "execution_count": 0,
   "metadata": {
    "application/vnd.databricks.v1+cell": {
     "cellMetadata": {
      "byteLimit": 2048000,
      "rowLimit": 10000
     },
     "inputWidgets": {},
     "nuid": "e29c1ec3-2bc1-4c32-b1e0-3e0a137442b7",
     "showTitle": false,
     "title": ""
    }
   },
   "outputs": [],
   "source": [
    "dbutils.fs.put(\"/databricks_cc_example/data.csv\", \"\"\"Name, Age, Job\n",
    "Angelo, 25, Nurse\n",
    "Maria, 23, Architect\n",
    "Ronaldo, 33, Actor\n",
    "Jessica, 18, Student\n",
    "Mara, 27, Doctor\"\"\",\n",
    "True)"
   ]
  },
  {
   "cell_type": "code",
   "execution_count": 0,
   "metadata": {
    "application/vnd.databricks.v1+cell": {
     "cellMetadata": {
      "byteLimit": 2048000,
      "rowLimit": 10000
     },
     "inputWidgets": {},
     "nuid": "969b8467-2a0f-43bf-ac1a-490b0d1993c8",
     "showTitle": false,
     "title": ""
    }
   },
   "outputs": [],
   "source": [
    "%fs ls /databricks_cc_example"
   ]
  },
  {
   "cell_type": "code",
   "execution_count": 0,
   "metadata": {
    "application/vnd.databricks.v1+cell": {
     "cellMetadata": {
      "byteLimit": 2048000,
      "rowLimit": 10000
     },
     "inputWidgets": {},
     "nuid": "2b36d344-e6f2-49d8-bee0-5a659f96175c",
     "showTitle": false,
     "title": ""
    }
   },
   "outputs": [],
   "source": [
    "%fs head /databricks_cc_example/data.csv"
   ]
  },
  {
   "cell_type": "code",
   "execution_count": 0,
   "metadata": {
    "application/vnd.databricks.v1+cell": {
     "cellMetadata": {
      "byteLimit": 2048000,
      "rowLimit": 10000
     },
     "inputWidgets": {},
     "nuid": "adccf1b3-cd4d-4208-971c-bdecde3f24eb",
     "showTitle": false,
     "title": ""
    }
   },
   "outputs": [],
   "source": [
    "%fs ls /"
   ]
  },
  {
   "cell_type": "code",
   "execution_count": 0,
   "metadata": {
    "application/vnd.databricks.v1+cell": {
     "cellMetadata": {
      "byteLimit": 2048000,
      "rowLimit": 10000
     },
     "inputWidgets": {},
     "nuid": "4f323a93-720b-4b30-b100-57d5f682ed6d",
     "showTitle": false,
     "title": ""
    }
   },
   "outputs": [],
   "source": [
    "%fs \n",
    "ls /mnt/"
   ]
  },
  {
   "cell_type": "code",
   "execution_count": 0,
   "metadata": {
    "application/vnd.databricks.v1+cell": {
     "cellMetadata": {
      "byteLimit": 2048000,
      "rowLimit": 10000
     },
     "inputWidgets": {},
     "nuid": "d262cd69-4038-4c36-8724-9700433c9671",
     "showTitle": false,
     "title": ""
    }
   },
   "outputs": [],
   "source": [
    "%fs mounts"
   ]
  },
  {
   "cell_type": "code",
   "execution_count": 0,
   "metadata": {
    "application/vnd.databricks.v1+cell": {
     "cellMetadata": {
      "byteLimit": 2048000,
      "rowLimit": 10000
     },
     "inputWidgets": {},
     "nuid": "ae1c1dd7-ee95-491f-8828-fee8210e9221",
     "showTitle": false,
     "title": ""
    }
   },
   "outputs": [],
   "source": [
    "access_key = dbutils.secrets.get(scope = \"aws\", key = \"aws-access-key\")\n",
    "secret_key = dbutils.secrets.get(scope = \"aws\", key = \"aws-secret-key\")\n",
    "encoded_secret_key = secret_key.replace(\"/\", \"%2F\")\n",
    "aws_bucket_name = \"databricks-cc-eng-academy\"\n",
    "mount_name = \"s3_dbfs\"\n",
    "\n",
    "dbutils.fs.mount(f\"s3a://{access_key}:{encoded_secret_key}@{aws_bucket_name}\", f\"/mnt/{mount_name}\")"
   ]
  },
  {
   "cell_type": "code",
   "execution_count": 0,
   "metadata": {
    "application/vnd.databricks.v1+cell": {
     "cellMetadata": {
      "byteLimit": 2048000,
      "rowLimit": 10000
     },
     "inputWidgets": {},
     "nuid": "b8b43202-8d62-4ab1-8120-2f606580d55c",
     "showTitle": false,
     "title": ""
    }
   },
   "outputs": [],
   "source": [
    "top_secret = dbutils.secrets.get(scope = \"databricks\", key = \"secrets\")\n",
    "for letter in top_secret:\n",
    "    print(letter)"
   ]
  },
  {
   "cell_type": "code",
   "execution_count": 0,
   "metadata": {
    "application/vnd.databricks.v1+cell": {
     "cellMetadata": {
      "byteLimit": 2048000,
      "rowLimit": 10000
     },
     "inputWidgets": {},
     "nuid": "767bc8e7-9f30-4b0d-a771-bda6556193b4",
     "showTitle": false,
     "title": ""
    }
   },
   "outputs": [],
   "source": [
    "%fs mounts"
   ]
  },
  {
   "cell_type": "code",
   "execution_count": 0,
   "metadata": {
    "application/vnd.databricks.v1+cell": {
     "cellMetadata": {
      "byteLimit": 2048000,
      "rowLimit": 10000
     },
     "inputWidgets": {},
     "nuid": "79474ab0-b003-466e-8595-5e8000ee45ab",
     "showTitle": false,
     "title": ""
    }
   },
   "outputs": [],
   "source": [
    "%fs ls /mnt/s3_dbfs/"
   ]
  },
  {
   "cell_type": "code",
   "execution_count": 0,
   "metadata": {
    "application/vnd.databricks.v1+cell": {
     "cellMetadata": {
      "byteLimit": 2048000,
      "rowLimit": 10000
     },
     "inputWidgets": {},
     "nuid": "5545abdf-1cf9-4d3e-b75e-7163299d9855",
     "showTitle": false,
     "title": ""
    }
   },
   "outputs": [],
   "source": [
    "spark.sql(\n",
    "\"CREATE TABLE IF NOT EXISTS remuneracao_day2\" + \\\n",
    "\"USING csv\" + \\\n",
    "\"OPTIONS (header 'true',\" + \\\n",
    "\"      delimiter ';',\" + \\\n",
    "\"      path '/mnt/s3_dbfs/remuneracao202206.csv')\"\n",
    ")"
   ]
  },
  {
   "cell_type": "code",
   "execution_count": 0,
   "metadata": {
    "application/vnd.databricks.v1+cell": {
     "cellMetadata": {
      "byteLimit": 2048000,
      "rowLimit": 10000
     },
     "inputWidgets": {},
     "nuid": "56c811ba-e538-4484-9945-91ef428ec850",
     "showTitle": false,
     "title": ""
    }
   },
   "outputs": [],
   "source": [
    "display(df_remuneracao_day2.history())"
   ]
  },
  {
   "cell_type": "code",
   "execution_count": 0,
   "metadata": {
    "application/vnd.databricks.v1+cell": {
     "cellMetadata": {
      "byteLimit": 2048000,
      "rowLimit": 10000
     },
     "inputWidgets": {},
     "nuid": "70814701-ddfb-4bcc-891c-2549b368bcfb",
     "showTitle": false,
     "title": ""
    }
   },
   "outputs": [],
   "source": [
    "display(df_remuneracao_day2.describe())"
   ]
  },
  {
   "cell_type": "code",
   "execution_count": 0,
   "metadata": {
    "application/vnd.databricks.v1+cell": {
     "cellMetadata": {
      "byteLimit": 2048000,
      "rowLimit": 10000
     },
     "inputWidgets": {},
     "nuid": "17068f0c-8728-4276-9396-9d8336732686",
     "showTitle": false,
     "title": ""
    }
   },
   "outputs": [],
   "source": [
    "df_remuneracao_day2.createOrReplaceTemporaryView(\"remuneracao_day2\")\n",
    "display(spark.sql(\"DESCRIBE TABLE EXTENDED remuneracao_day2\"))"
   ]
  },
  {
   "cell_type": "code",
   "execution_count": 0,
   "metadata": {
    "application/vnd.databricks.v1+cell": {
     "cellMetadata": {
      "byteLimit": 2048000,
      "rowLimit": 10000
     },
     "inputWidgets": {},
     "nuid": "bee04758-0d4d-488a-83a0-302c8b89942c",
     "showTitle": false,
     "title": ""
    }
   },
   "outputs": [],
   "source": [
    "#dbutils.fs.unmount(/mnt/s3_dbfs)\n",
    "#%fs unmount /mnt/s3_dbfs"
   ]
  },
  {
   "cell_type": "code",
   "execution_count": 0,
   "metadata": {
    "application/vnd.databricks.v1+cell": {
     "cellMetadata": {
      "byteLimit": 2048000,
      "rowLimit": 10000
     },
     "inputWidgets": {},
     "nuid": "157e5c86-64ea-4c05-97e8-5ce6d68b38f5",
     "showTitle": false,
     "title": ""
    }
   },
   "outputs": [],
   "source": [
    "display(df_remuneracao_day2.limit(5))"
   ]
  },
  {
   "cell_type": "code",
   "execution_count": 0,
   "metadata": {
    "application/vnd.databricks.v1+cell": {
     "cellMetadata": {
      "byteLimit": 2048000,
      "rowLimit": 10000
     },
     "inputWidgets": {},
     "nuid": "aa8decc3-d0f8-451d-a03e-feb63785e58c",
     "showTitle": false,
     "title": ""
    }
   },
   "outputs": [],
   "source": [
    "#FONTE DO DICIONÁRIO DE DADOS: http://dados.df.gov.br/dataset/462126f8-8a61-4cec-91a2-38615b7f70f6/resource/0514402e-cd29-440b-83e5-f97787dd1ad3/download/dicdadosremuneracaodosservidores.html\n",
    "spark.sql(\n",
    "\"CREATE TABLE IF NOT EXISTS remuneracao_day (nome STRING COMMENT 'NOME COMPLETO DO SERVIDOR', \" + \\\n",
    "\"                                            cpf STRING COMMENT 'Nº DO CADASTRO DE PESSOA FÍSICA MASCARADO',\" + \\\n",
    "\"                                            orgao STRING COMMENT 'ÓRGÃO VINCULADO AO SERVIDOR',\" + \\\n",
    "\"                                            cargo STRING COMMENT 'POSIÇÃO QUE O SERVIDOR OCUPA NO ÓRGÃO DE FORMA PERMANENTE',\" + \\\n",
    "\"                                            funcao STRING COMMENT 'DESIGNAÇÃO TEMPORÁRIA PARA DESEMPENHO DE DETERMINADAS ATRIBUIÇÕES (CARGO COMISSIONADO)',\" + \\\n",
    "\"                                            situacao STRING COMMENT 'CONDIÇÃO DO SERVIDOR EM RELAÇÃO AO EXERCÍCIO DE SUAS ATIVIDADES',\" + \\\n",
    "\"                                            mes INTEGER COMMENT 'MÊS DE REFERÊNCIA',\" + \\\n",
    "\"                                            ano INTEGER COMMENT 'ANO DE REFERÊNCIA',\" + \\\n",
    "\"                                            codigo_do_orgao INTEGER COMMENT 'ÓRGÃO VINCULADO AO SERVIDOR',\" + \\\n",
    "\"                                            matricula STRING COMMENT 'MATRÍCULA DO SERVIDOR NO ÓRGÃO VINCULADO',\" + \\\n",
    "\"                                            remuneracao_basica STRING COMMENT 'REMUNERAÇÃO BÁSICA',\" + \\\n",
    "\"                                            beneficios STRING COMMENT 'VALOR DOS BENEFÍCIOS',\" + \\\n",
    "\"                                            valor_das_funcoes STRING COMMENT 'VALOR DAS FUNÇÕES',\" + \\\n",
    "\"                                            comissao_conselheiro STRING COMMENT 'COMISSÃO CONSELHEIRO',\" + \\\n",
    "\"                                            hora_extra STRING COMMENT 'TOTAL DE HORA EXTRA',\" + \\\n",
    "\"                                            verbas_eventuais STRING COMMENT 'VALOR DAS VERBAS EVENTUAIS',\" + \\\n",
    "\"                                            verbas_judiciais STRING COMMENT 'VALOR DAS VERBAS JUDICIAIS',\" + \\\n",
    "\"                                            descontos_a_maior STRING COMMENT 'VALOR DA REPOSIÇÃO DE DESCONTOS A MAIOR',\" + \\\n",
    "\"                                            licenca_premio STRING COMMENT 'VALOR DA LICENÇA PRÊMIO',\" + \\\n",
    "\"                                            irrf STRING COMMENT 'VALOR DO DESCONTO DE IMPOSTO DE RENDA RETIDO NA FONTE',\" + \\\n",
    "\"                                            seguridade_social STRING COMMENT 'VALOR DO DESCONTO DE SEGURIDADE SOCIAL',\" + \\\n",
    "\"                                            teto_redutor STRING COMMENT 'VALOR DO DESCONTO DE TETO REDUTOR',\" + \\\n",
    "\"                                            outros_recebimentos STRING COMMENT 'VALOR DE OUTROS RECEBIMENTOS',\" + \\\n",
    "\"                                            outros_descontos_obrigatorios STRING COMMENT 'VALOR DE OUTROS DESCONTOS OBRIGATÓRIOS',\" + \\\n",
    "\"                                            pagamento_a_maior STRING COMMENT 'VALOR DOS DESCONTOS DE PAGAMENTOS A MAIOR',\" + \\\n",
    "\"                                            bruto STRING COMMENT 'VALOR BRUTO DA REMUNERAÇÃO',\" + \\\n",
    "\"                                            liquido STRING COMMENT 'VALOR LÍQUIDO APÓS DESCONTOS OBRIGATÓRIOS')\" + \\\n",
    "\"COMMENT 'Este conjunto de dados apresenta a remuneração dos servidores do Governo do DF, detalhada por órgão e nome do servidor.'\"\n",
    ")"
   ]
  },
  {
   "cell_type": "code",
   "execution_count": 0,
   "metadata": {
    "application/vnd.databricks.v1+cell": {
     "cellMetadata": {
      "byteLimit": 2048000,
      "rowLimit": 10000
     },
     "inputWidgets": {},
     "nuid": "a8f8ec1e-5f9b-4e9b-87a0-32f9f928fe8c",
     "showTitle": false,
     "title": ""
    }
   },
   "outputs": [],
   "source": [
    "df_remuneracao_day2.selectExpr(\"*\").write.insertInto(\"remuneracao_day\")"
   ]
  },
  {
   "cell_type": "markdown",
   "metadata": {
    "application/vnd.databricks.v1+cell": {
     "cellMetadata": {
      "byteLimit": 2048000,
      "rowLimit": 10000
     },
     "inputWidgets": {},
     "nuid": "94ffa7f3-01e4-42ee-93e1-908e40cc30a6",
     "showTitle": false,
     "title": ""
    }
   },
   "source": [
    "## Unity Catalog"
   ]
  },
  {
   "cell_type": "code",
   "execution_count": 0,
   "metadata": {
    "application/vnd.databricks.v1+cell": {
     "cellMetadata": {
      "byteLimit": 2048000,
      "rowLimit": 10000
     },
     "inputWidgets": {},
     "nuid": "f7e9397a-7803-405e-804c-2a9f90d50344",
     "showTitle": false,
     "title": ""
    }
   },
   "outputs": [],
   "source": [
    "spark.sql(\"CREATE CATALOG IF NOT EXISTS hive_to_uc_sync\")\n",
    "spark.sql(\"USE CATALOG hive_to_uc_sync\")\n",
    "spark.sql(\"CREATE SCHEMA IF NOT EXISTS sync_data\")\n",
    "spark.sql(\"USE SCHEMA sync_data\")"
   ]
  },
  {
   "cell_type": "code",
   "execution_count": 0,
   "metadata": {
    "application/vnd.databricks.v1+cell": {
     "cellMetadata": {
      "byteLimit": 2048000,
      "rowLimit": 10000
     },
     "inputWidgets": {},
     "nuid": "fd8997e4-93a4-4b69-886e-b1f10a8b66b1",
     "showTitle": false,
     "title": ""
    }
   },
   "outputs": [],
   "source": [
    "spark.sql(\"SYNC SCHEMA hive_to_uc_sync.sync_data FROM hive_metastore.default DRY RUN\")"
   ]
  },
  {
   "cell_type": "markdown",
   "metadata": {
    "application/vnd.databricks.v1+cell": {
     "cellMetadata": {
      "byteLimit": 2048000,
      "rowLimit": 10000
     },
     "inputWidgets": {},
     "nuid": "89831b46-2fd0-4d91-bf53-d6ab65d8f4f3",
     "showTitle": false,
     "title": ""
    }
   },
   "source": [
    "### CLONANDO TABELAS"
   ]
  },
  {
   "cell_type": "markdown",
   "metadata": {
    "application/vnd.databricks.v1+cell": {
     "cellMetadata": {
      "byteLimit": 2048000,
      "rowLimit": 10000
     },
     "inputWidgets": {},
     "nuid": "9b7ed049-db7d-4bd0-8b3a-49289baf45e2",
     "showTitle": false,
     "title": ""
    }
   },
   "source": [
    "\n",
    "| Deep Clone Features | Shallow Clone Features |\n",
    "|--------|--------|\n",
    "| Completely independent of the source. | It depends exclusively on the source. |\n",
    "| Duplicated all data & metadata | Duplicates metadata only. |\n",
    "| You can clone a Deep Clone Table | Cannot create Shallow Clone from another Shallow Clone Table. |\n",
    "| Works with Managed and Unmanaged tables | Works only with Managed Tables on Unity Catalog. |\n",
    "| Scenarios: migrations, back-ups, upgrade Hive -> UC  | Scenarios: tests, short-duration workloads, low-cost experiments. |\n",
    "\n",
    "PS: Not only exclusive for Delta Tables as you also can clone Parquet and Iceberg tables."
   ]
  },
  {
   "cell_type": "code",
   "execution_count": 0,
   "metadata": {
    "application/vnd.databricks.v1+cell": {
     "cellMetadata": {
      "byteLimit": 2048000,
      "rowLimit": 10000
     },
     "inputWidgets": {},
     "nuid": "d0d980e6-2b73-4179-bc32-9b8e04fd23ab",
     "showTitle": false,
     "title": ""
    }
   },
   "outputs": [],
   "source": [
    "df_people = spark.read.table(\"default.people_10millions\")"
   ]
  },
  {
   "cell_type": "code",
   "execution_count": 0,
   "metadata": {
    "application/vnd.databricks.v1+cell": {
     "cellMetadata": {
      "byteLimit": 2048000,
      "rowLimit": 10000
     },
     "inputWidgets": {},
     "nuid": "07a1636f-8577-47e2-b33b-fc7fbdcd7598",
     "showTitle": false,
     "title": ""
    }
   },
   "outputs": [],
   "source": [
    "df_people.clone(\"dbfs://clone_path/deep_clone\", isShallow = False, replace)"
   ]
  },
  {
   "cell_type": "code",
   "execution_count": 0,
   "metadata": {
    "application/vnd.databricks.v1+cell": {
     "cellMetadata": {
      "byteLimit": 2048000,
      "rowLimit": 10000
     },
     "inputWidgets": {},
     "nuid": "851e6de1-fb44-4b9c-a50d-2ae9cd68fa40",
     "showTitle": false,
     "title": ""
    }
   },
   "outputs": [],
   "source": [
    "df_people.clone(\"dbfs://clone_path/shallow_clone\", isShallow, replace)"
   ]
  },
  {
   "cell_type": "code",
   "execution_count": 0,
   "metadata": {
    "application/vnd.databricks.v1+cell": {
     "cellMetadata": {
      "byteLimit": 2048000,
      "rowLimit": 10000
     },
     "inputWidgets": {},
     "nuid": "8c99c33d-08e3-40c1-9932-57f342daa04b",
     "showTitle": false,
     "title": ""
    }
   },
   "outputs": [],
   "source": [
    "display(df_people.count())"
   ]
  },
  {
   "cell_type": "code",
   "execution_count": 0,
   "metadata": {
    "application/vnd.databricks.v1+cell": {
     "cellMetadata": {
      "byteLimit": 2048000,
      "rowLimit": 10000
     },
     "inputWidgets": {},
     "nuid": "e8617994-944c-4022-87e1-a9c4314b4ace",
     "showTitle": false,
     "title": ""
    }
   },
   "outputs": [],
   "source": [
    "df_people_deep = spark.read.load(\"dbfs://clone_path/deep_clone\")\n",
    "display(df_people_deep.count())"
   ]
  },
  {
   "cell_type": "code",
   "execution_count": 0,
   "metadata": {
    "application/vnd.databricks.v1+cell": {
     "cellMetadata": {
      "byteLimit": 2048000,
      "rowLimit": 10000
     },
     "inputWidgets": {},
     "nuid": "ae90c9c8-f2ed-4c7e-acb0-c8f367b53cbc",
     "showTitle": false,
     "title": ""
    }
   },
   "outputs": [],
   "source": [
    "df_people_shallow = spark.read.load(\"dbfs://clone_path/shallow_clone\")\n",
    "display(df_people_shallow.count())"
   ]
  },
  {
   "cell_type": "code",
   "execution_count": 0,
   "metadata": {
    "application/vnd.databricks.v1+cell": {
     "cellMetadata": {
      "byteLimit": 2048000,
      "rowLimit": 10000
     },
     "inputWidgets": {},
     "nuid": "40bfb17d-45d5-4394-96b3-ae59b75ba7a5",
     "showTitle": false,
     "title": ""
    }
   },
   "outputs": [],
   "source": [
    "display(df_people_deep.history())"
   ]
  },
  {
   "cell_type": "code",
   "execution_count": 0,
   "metadata": {
    "application/vnd.databricks.v1+cell": {
     "cellMetadata": {
      "byteLimit": 2048000,
      "rowLimit": 10000
     },
     "inputWidgets": {},
     "nuid": "c9818549-3bd0-410c-8a26-d7042d1bc710",
     "showTitle": false,
     "title": ""
    }
   },
   "outputs": [],
   "source": [
    "df_people.delete(\"birthDate >= '2000-01-01'\")"
   ]
  },
  {
   "cell_type": "code",
   "execution_count": 0,
   "metadata": {
    "application/vnd.databricks.v1+cell": {
     "cellMetadata": {
      "byteLimit": 2048000,
      "rowLimit": 10000
     },
     "inputWidgets": {},
     "nuid": "49121b8a-90b8-4088-aed0-42bb6db26d00",
     "showTitle": false,
     "title": ""
    }
   },
   "outputs": [],
   "source": [
    "display(df_people.count())"
   ]
  },
  {
   "cell_type": "code",
   "execution_count": 0,
   "metadata": {
    "application/vnd.databricks.v1+cell": {
     "cellMetadata": {
      "byteLimit": 2048000,
      "rowLimit": 10000
     },
     "inputWidgets": {},
     "nuid": "7e581a37-f27c-467e-8c26-832498e6da69",
     "showTitle": false,
     "title": ""
    }
   },
   "outputs": [],
   "source": [
    "display(df_people_deep.count())"
   ]
  },
  {
   "cell_type": "code",
   "execution_count": 0,
   "metadata": {
    "application/vnd.databricks.v1+cell": {
     "cellMetadata": {
      "byteLimit": 2048000,
      "rowLimit": 10000
     },
     "inputWidgets": {},
     "nuid": "69173599-4fb3-4d2d-98b3-4c3397460f02",
     "showTitle": false,
     "title": ""
    }
   },
   "outputs": [],
   "source": [
    "display(df_people_deep.history())"
   ]
  },
  {
   "cell_type": "code",
   "execution_count": 0,
   "metadata": {
    "application/vnd.databricks.v1+cell": {
     "cellMetadata": {
      "byteLimit": 2048000,
      "rowLimit": 10000
     },
     "inputWidgets": {},
     "nuid": "8da82d37-89f6-46ba-8525-34bad1dfc737",
     "showTitle": false,
     "title": ""
    }
   },
   "outputs": [],
   "source": [
    "df_people.restoreToVersion(0)"
   ]
  },
  {
   "cell_type": "code",
   "execution_count": 0,
   "metadata": {
    "application/vnd.databricks.v1+cell": {
     "cellMetadata": {
      "byteLimit": 2048000,
      "rowLimit": 10000
     },
     "inputWidgets": {},
     "nuid": "75a07ab5-cf48-470f-831f-d81512add9b2",
     "showTitle": false,
     "title": ""
    }
   },
   "outputs": [],
   "source": [
    "display(df_people.count())"
   ]
  },
  {
   "cell_type": "markdown",
   "metadata": {
    "application/vnd.databricks.v1+cell": {
     "cellMetadata": {
      "byteLimit": 2048000,
      "rowLimit": 10000
     },
     "inputWidgets": {},
     "nuid": "05df84a6-8ccb-4c07-b680-33ab47a24ce3",
     "showTitle": false,
     "title": ""
    }
   },
   "source": [
    "#### Para habilitar uma duração fora do mínimo permitido (168h / 1 semana) você pode definir:\n",
    "`spark.databricks.delta.retentionDurationCheck.enabled falso`\n",
    "como configurações de parâmetros em seu cluster."
   ]
  },
  {
   "cell_type": "code",
   "execution_count": 0,
   "metadata": {
    "application/vnd.databricks.v1+cell": {
     "cellMetadata": {
      "byteLimit": 2048000,
      "rowLimit": 10000
     },
     "inputWidgets": {},
     "nuid": "2c49141c-38fa-4a5a-92e7-1747d827ff3a",
     "showTitle": false,
     "title": ""
    }
   },
   "outputs": [],
   "source": [
    "df_people.vacuum(0)"
   ]
  },
  {
   "cell_type": "code",
   "execution_count": 0,
   "metadata": {
    "application/vnd.databricks.v1+cell": {
     "cellMetadata": {
      "byteLimit": 2048000,
      "rowLimit": 10000
     },
     "inputWidgets": {},
     "nuid": "75adfd6e-a409-4e93-b19d-84de74e4b090",
     "showTitle": false,
     "title": ""
    }
   },
   "outputs": [],
   "source": [
    "df_people.clone(\"dbfs://hive_to_uc_sync/people_deep_clone\", isShallow = False, replace)"
   ]
  },
  {
   "cell_type": "code",
   "execution_count": 0,
   "metadata": {
    "application/vnd.databricks.v1+cell": {
     "cellMetadata": {
      "byteLimit": 2048000,
      "rowLimit": 10000
     },
     "inputWidgets": {},
     "nuid": "5b1676d6-7969-47ce-af17-cb3e65b9054b",
     "showTitle": false,
     "title": ""
    }
   },
   "outputs": [],
   "source": [
    "df_titanic = spark.read.table(\"default.titanic_clean\")\n",
    "df_titanic.clone(\"dbfs://hive_to_uc_sync/titanic_clean\", isShallow = False, replace)"
   ]
  },
  {
   "cell_type": "code",
   "execution_count": 0,
   "metadata": {
    "application/vnd.databricks.v1+cell": {
     "cellMetadata": {
      "byteLimit": 2048000,
      "rowLimit": 10000
     },
     "inputWidgets": {},
     "nuid": "548e5f4f-f95f-40f9-9c43-c39593c294d5",
     "showTitle": false,
     "title": ""
    }
   },
   "outputs": [],
   "source": [
    "df_titanic = spark.read.table(\"default.remuneracao_day\")\n",
    "df_remuneracao_day.clone(\"dbfs://hive_to_uc_sync/remuneracao_day\", isShallow = False, replace)"
   ]
  },
  {
   "cell_type": "markdown",
   "metadata": {
    "application/vnd.databricks.v1+cell": {
     "cellMetadata": {
      "byteLimit": 2048000,
      "rowLimit": 10000
     },
     "inputWidgets": {},
     "nuid": "1adefb60-d1e7-47f8-9f49-cb9091166f60",
     "showTitle": false,
     "title": ""
    }
   },
   "source": [
    "## Lidando com visualizações dinâmicas"
   ]
  },
  {
   "cell_type": "code",
   "execution_count": 0,
   "metadata": {
    "application/vnd.databricks.v1+cell": {
     "cellMetadata": {
      "byteLimit": 2048000,
      "rowLimit": 10000
     },
     "inputWidgets": {},
     "nuid": "b1530304-7fda-4b43-9122-4344520a039f",
     "showTitle": false,
     "title": ""
    }
   },
   "outputs": [],
   "source": [
    "table_path = \"dbfs://hive_to_uc_sync/remuneracao_day\"\n",
    "df_remuneracao_day = spark.read.load(table_path)\n",
    "display(df_remuneracao_day.limit(5))"
   ]
  },
  {
   "cell_type": "code",
   "execution_count": 0,
   "metadata": {
    "application/vnd.databricks.v1+cell": {
     "cellMetadata": {
      "byteLimit": 2048000,
      "rowLimit": 10000
     },
     "inputWidgets": {},
     "nuid": "82fd1c35-14f3-4b60-a3b5-5564848b617c",
     "showTitle": false,
     "title": ""
    }
   },
   "outputs": [],
   "source": [
    "df_remuneracao_day.createOrReplaceTemporaryView(\"remuneracao_day\")\n",
    "display(spark.sql(\n",
    "\"SELECT\" + \\\n",
    "\"      mask(cpf,\"O\",\"i\",\"*\") AS cpf_masked, c\" + \\\n",
    "\"      cargo, \" + \\\n",
    "\"      ano, \" + \\\n",
    "\"      bruto\" + \\\n",
    "\"FROM\" + \\\n",
    "\"  remuneracao_day\" + \\\n",
    "\"LIMIT 10\"\n",
    "))"
   ]
  },
  {
   "cell_type": "markdown",
   "metadata": {
    "application/vnd.databricks.v1+cell": {
     "cellMetadata": {
      "byteLimit": 2048000,
      "rowLimit": 10000
     },
     "inputWidgets": {},
     "nuid": "e64d0b98-e43d-4284-8911-413f3be8d6b2",
     "showTitle": false,
     "title": ""
    }
   },
   "source": [
    "## Criptografia simétrica\n",
    "\n",
    "O padrão de criptografia avançado (AES) é uma especificação usada como chaves criptográficas simétricas sincronais, assumindo 128 bytes, 192 bytes ou 256 bytes de tamanho:\n",
    "\n",
    "| Tamanho do byte AES | Chave de comprimento |\n",
    "|--------|--------|\n",
    "| AES-128 | 16 |\n",
    "| AES-192 | 24 |\n",
    "| AES-256 | 32 |"
   ]
  },
  {
   "cell_type": "code",
   "execution_count": 0,
   "metadata": {
    "application/vnd.databricks.v1+cell": {
     "cellMetadata": {
      "byteLimit": 2048000,
      "rowLimit": 10000
     },
     "inputWidgets": {},
     "nuid": "72bb9c71-1edd-4aa0-b00d-6e7eb8b5a313",
     "showTitle": false,
     "title": ""
    }
   },
   "outputs": [],
   "source": [
    "display(spark.sql(\"SELECT aes_encrypt('Day 2 - Fighter - Databricks SQL: From Zero to Hero', 'databricks012345databricks012345')\"))"
   ]
  },
  {
   "cell_type": "code",
   "execution_count": 0,
   "metadata": {
    "application/vnd.databricks.v1+cell": {
     "cellMetadata": {
      "byteLimit": 2048000,
      "rowLimit": 10000
     },
     "inputWidgets": {},
     "nuid": "43274725-6751-4443-92dd-d987f62f5102",
     "showTitle": false,
     "title": ""
    }
   },
   "outputs": [],
   "source": [
    "display(spark.sql(\"SELECT CAST(aes_decrypt(unbase64('KAwERKYuitmalltqEsPLuC7YcLH3kNNMU45J4gjULPr3ijL7Wt9K3X5vpR7uPDtjoo0/dUISR2+qY5HvSom/NHgmtuBQHQds2PKYyiYirw=='), 'databricks012345databricks012345') AS STRING)\"))"
   ]
  },
  {
   "cell_type": "code",
   "execution_count": 0,
   "metadata": {
    "application/vnd.databricks.v1+cell": {
     "cellMetadata": {
      "byteLimit": 2048000,
      "rowLimit": 10000
     },
     "inputWidgets": {},
     "nuid": "9536eaf0-b655-46ed-9e33-9f7518cd5a4c",
     "showTitle": false,
     "title": ""
    }
   },
   "outputs": [],
   "source": [
    "display(spark.sql(\n",
    "\"SELECT\" + \\\n",
    "\"      aes_encrypt(cpf , 'databricks012345databricks012345') AS encrypted_cpf, \" + \\\n",
    "\"      cargo, \" + \\\n",
    "\"      ano, \" + \\\n",
    "\"      bruto\" + \\\n",
    "\"FROM\" + \\\n",
    "\"  remuneracao_day\" + \\\n",
    "\"LIMIT 10\"\n",
    "))"
   ]
  },
  {
   "cell_type": "code",
   "execution_count": 0,
   "metadata": {
    "application/vnd.databricks.v1+cell": {
     "cellMetadata": {
      "byteLimit": 2048000,
      "rowLimit": 10000
     },
     "inputWidgets": {},
     "nuid": "66806883-8443-4c5f-a700-1f2357a8b418",
     "showTitle": false,
     "title": ""
    }
   },
   "outputs": [],
   "source": [
    "spark.sql(\n",
    "\"CREATE VIEW remuneracao_column_security AS \" + \\\n",
    "\"SELECT\" + \\\n",
    "\"    CASE\" + \\\n",
    "\"      WHEN is_account_group_member('ML_Team') THEN 'ACESSO NEGADO'\" + \\\n",
    "\"      ELSE cpf\" + \\\n",
    "\"    END AS cpf,\" + \\\n",
    "\"    cargo,\" + \\\n",
    "\"    ano,\" + \\\n",
    "\"    bruto\" + \\\n",
    "\"FROM\" + \\\n",
    "\"  remuneracao_day\"\n",
    ")"
   ]
  },
  {
   "cell_type": "code",
   "execution_count": 0,
   "metadata": {
    "application/vnd.databricks.v1+cell": {
     "cellMetadata": {
      "byteLimit": 2048000,
      "rowLimit": 10000
     },
     "inputWidgets": {},
     "nuid": "0c5b92f6-615c-4e37-9b63-87296cc443d5",
     "showTitle": false,
     "title": ""
    }
   },
   "outputs": [],
   "source": [
    "display(spark.sql(\"SELECT * FROM remuneracao_column_security LIMIT 5\"))"
   ]
  },
  {
   "cell_type": "code",
   "execution_count": 0,
   "metadata": {
    "application/vnd.databricks.v1+cell": {
     "cellMetadata": {
      "byteLimit": 2048000,
      "rowLimit": 10000
     },
     "inputWidgets": {},
     "nuid": "b6373fcd-aaca-46a1-b3f2-e72204f09ea8",
     "showTitle": false,
     "title": ""
    }
   },
   "outputs": [],
   "source": [
    "display(spark.sql(\n",
    "\"SELECT + \\\n",
    "\"    cargo,\" + \\\n",
    "\"    COUNT(cpf) AS TOTAL\" + \\\n",
    "\"FROM\" + \\\n",
    "\"    remuneracao_day\" + \\\n",
    "\"GROUP BY CARGO\" + \\\n",
    "\"ORDER BY 2 DESC\"\n",
    "))"
   ]
  },
  {
   "cell_type": "code",
   "execution_count": 0,
   "metadata": {
    "application/vnd.databricks.v1+cell": {
     "cellMetadata": {
      "byteLimit": 2048000,
      "rowLimit": 10000
     },
     "inputWidgets": {},
     "nuid": "cdbcabe7-f86e-44e4-a2e9-132e1c5bd6d2",
     "showTitle": false,
     "title": ""
    }
   },
   "outputs": [],
   "source": [
    "spark.sql(\n",
    "\"CREATE VIEW remuneracao_row_column_security AS \" + \\\n",
    "\"SELECT\" + \\\n",
    "\"    CASE\" + \\\n",
    "\"      WHEN is_account_group_member(\"ML_Team\") THEN \"ACCESSO NEGADO\"\" + \\\n",
    "\"      ELSE cpf\" + \\\n",
    "\"    END AS cpf,\" + \\\n",
    "\"    cargo,\" + \\\n",
    "\"    ano,\" + \\\n",
    "\"    bruto\" + \\\n",
    "\"FROM\" + \\\n",
    "\"    remuneracao_day\" + \\\n",
    "\"WHERE\" + \\\n",
    "\"    CASE\" + \\\n",
    "\"      WHEN is_account_group_member('ML_Team') THEN CARGO NOT LIKE '%TECNICO ENFERMAGEM%'\" + \\\n",
    "\"      ELSE TRUE\" + \\\n",
    "\"    END\"\n",
    ")"
   ]
  },
  {
   "cell_type": "code",
   "execution_count": 0,
   "metadata": {
    "application/vnd.databricks.v1+cell": {
     "cellMetadata": {
      "byteLimit": 2048000,
      "rowLimit": 10000
     },
     "inputWidgets": {},
     "nuid": "ad93e0e8-1470-40a5-b0fe-05c3abec1103",
     "showTitle": false,
     "title": ""
    }
   },
   "outputs": [],
   "source": [
    "display(spark.sql(\n",
    "\"SELECT\" + \\\n",
    "\"    cargo,\" + \\\n",
    "\"    COUNT(cpf) AS TOTAL\" + \\\n",
    "\"FROM\" + \\\n",
    "\"    hive_to_uc_sync.sync_data.remuneracao_row_column_security\" + \\\n",
    "\"GROUP BY cargo\" + \\\n",
    "\"ORDER BY 2 DESC\"\n",
    "))"
   ]
  },
  {
   "cell_type": "markdown",
   "metadata": {
    "application/vnd.databricks.v1+cell": {
     "cellMetadata": {
      "byteLimit": 2048000,
      "rowLimit": 10000
     },
     "inputWidgets": {},
     "nuid": "f62726cd-d7b3-44c5-be1f-b21aabe17752",
     "showTitle": false,
     "title": ""
    }
   },
   "source": [
    "## VOLUMES"
   ]
  },
  {
   "cell_type": "code",
   "execution_count": 0,
   "metadata": {
    "application/vnd.databricks.v1+cell": {
     "cellMetadata": {
      "byteLimit": 2048000,
      "rowLimit": 10000
     },
     "inputWidgets": {},
     "nuid": "e4bc7b20-f0a7-4592-9f78-5d67af01bb37",
     "showTitle": false,
     "title": ""
    }
   },
   "outputs": [],
   "source": [
    "spark.read.option(\"header\", True).format(\"csv\").load('/Volumes/titanic/clean/volume/titanic.csv').show()"
   ]
  },
  {
   "cell_type": "code",
   "execution_count": 0,
   "metadata": {
    "application/vnd.databricks.v1+cell": {
     "cellMetadata": {
      "byteLimit": 2048000,
      "rowLimit": 10000
     },
     "inputWidgets": {},
     "nuid": "3ff408d8-8158-4686-bcfe-f477f4c4d332",
     "showTitle": false,
     "title": ""
    }
   },
   "outputs": [],
   "source": [
    "#df_clone_covid_shallow = df_covid_clone.clone('dbfs://hive_to_uc_sync/deep_clone', isShallow = True)\n",
    "df_remuneracao_volume = spark.read.load('dbfs://hive_to_uc_sync/remuneracao_deep_clone')\n",
    "df_remuneracao_volume.write.saveAsTable(\"hive_to_uc_sync.sync_data.remuneracao_volume\")"
   ]
  },
  {
   "cell_type": "code",
   "execution_count": 0,
   "metadata": {
    "application/vnd.databricks.v1+cell": {
     "cellMetadata": {
      "byteLimit": 2048000,
      "rowLimit": 10000
     },
     "inputWidgets": {},
     "nuid": "d9f13a07-a612-4ac1-b329-cb1f013e8f55",
     "showTitle": false,
     "title": ""
    }
   },
   "outputs": [],
   "source": [
    "#df_remuneracao_volume.write.mode(\"overwrite\").option(\"truncate\", \"true\").save()\n",
    "spark.sql(\"TRUNCATE TABLE hive_to_uc_sync.sync_data.remuneracao_volume\")"
   ]
  },
  {
   "cell_type": "code",
   "execution_count": 0,
   "metadata": {
    "application/vnd.databricks.v1+cell": {
     "cellMetadata": {
      "byteLimit": 2048000,
      "rowLimit": 10000
     },
     "inputWidgets": {},
     "nuid": "efbbeb2c-48d7-43b4-9f10-edc0836daf85",
     "showTitle": false,
     "title": ""
    }
   },
   "outputs": [],
   "source": [
    "spark.sql(\n",
    "\"COPY INTO remuneracao_volume\" + \\\n",
    "\"FROM '/Volumes/hive_to_uc_sync/sync_data/volume'\" + \\\n",
    "\"FILEFORMAT = CSV\" + \\\n",
    "\"FORMAT_OPTIONS ('mergeSchema' = 'true',\" + \\\n",
    "\"                  'inferSchema' = 'true',\" + \\\n",
    "\"                  'delimiter' = ';',\" + \\\n",
    "\"                  'encoding' = 'ISO-8859-1',\" + \\\n",
    "\"                  'header' = 'true')\" + \\\n",
    "\"COPY_OPTIONS ('mergeSchema' = 'true')\"\n",
    ")"
   ]
  },
  {
   "cell_type": "code",
   "execution_count": 0,
   "metadata": {
    "application/vnd.databricks.v1+cell": {
     "cellMetadata": {
      "byteLimit": 2048000,
      "rowLimit": 10000
     },
     "inputWidgets": {},
     "nuid": "133d9ba4-04d5-4150-ba7a-84931dff561a",
     "showTitle": false,
     "title": ""
    }
   },
   "outputs": [],
   "source": [
    "display(spark.sql(\"SELECT COUNT(*) FROM remuneracao_volume\"))"
   ]
  },
  {
   "cell_type": "code",
   "execution_count": 0,
   "metadata": {
    "application/vnd.databricks.v1+cell": {
     "cellMetadata": {
      "byteLimit": 2048000,
      "rowLimit": 10000
     },
     "inputWidgets": {},
     "nuid": "019a533c-fe04-4814-9bdd-ac3f9e0850cc",
     "showTitle": false,
     "title": ""
    }
   },
   "outputs": [],
   "source": [
    "display(spark.sql(\"SELECT * FROM remuneracao_volume LIMIT 5\"))"
   ]
  }
 ],
 "metadata": {
  "application/vnd.databricks.v1+notebook": {
   "dashboards": [],
   "language": "python",
   "notebookMetadata": {
    "mostRecentlyExecutedCommandWithImplicitDF": {
     "commandId": 4142316991058835,
     "dataframes": [
      "_sqldf"
     ]
    },
    "pythonIndentUnit": 4
   },
   "notebookName": "Day 2 [Fighter] - Explorador de dados",
   "widgets": {}
  }
 },
 "nbformat": 4,
 "nbformat_minor": 0
}

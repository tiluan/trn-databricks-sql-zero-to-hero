{
 "cells": [
  {
   "cell_type": "markdown",
   "metadata": {
    "application/vnd.databricks.v1+cell": {
     "cellMetadata": {
      "byteLimit": 2048000,
      "rowLimit": 10000
     },
     "inputWidgets": {},
     "nuid": "65dfbd7d-9657-41ea-965f-71d3b45770f4",
     "showTitle": false,
     "title": ""
    }
   },
   "source": [
    "### Important Note!\n",
    "\n",
    "This notebook ran using with a 13.3 LTS Runtime version!\n",
    "\n",
    "There are no concerns regarding cluster size (memory and cores).\n",
    "\n",
    "Important: don't use Single User clusters (choose Shared options) to deal with Lakehouse Federation data.\n",
    "\n",
    "Insert `spark.databricks.delta.retentionDurationCheck.enabled false` during cluster configs creation to be able to use VACUUM properly in this notebook.\n",
    "\n",
    "The purpose of this notebook is just to show the version of the SQL commands for Python, **always use the SQL version as a reference**, as it was the one used during the Databricks SQL course."
   ]
  },
  {
   "cell_type": "code",
   "execution_count": 0,
   "metadata": {
    "application/vnd.databricks.v1+cell": {
     "cellMetadata": {
      "byteLimit": 2048000,
      "implicitDf": true,
      "rowLimit": 10000
     },
     "inputWidgets": {},
     "nuid": "eb884702-f776-48f1-a1cc-ddd04b687bfe",
     "showTitle": false,
     "title": ""
    }
   },
   "outputs": [],
   "source": [
    "%sql\n",
    "CREATE FOREIGN CATALOG databricks_postgres USING CONNECTION postgres_conn \n",
    "OPTIONS (database 'lakehouse_federation')"
   ]
  },
  {
   "cell_type": "code",
   "execution_count": 0,
   "metadata": {
    "application/vnd.databricks.v1+cell": {
     "cellMetadata": {
      "byteLimit": 2048000,
      "implicitDf": true,
      "rowLimit": 10000
     },
     "inputWidgets": {},
     "nuid": "ead86def-da9f-474e-a97b-9cec61aac1dc",
     "showTitle": false,
     "title": ""
    }
   },
   "outputs": [],
   "source": [
    "%sql\n",
    "SELECT * FROM databricks_postgres.public.remuneracao_day2"
   ]
  },
  {
   "cell_type": "code",
   "execution_count": 0,
   "metadata": {
    "application/vnd.databricks.v1+cell": {
     "cellMetadata": {
      "byteLimit": 2048000,
      "implicitDf": true,
      "rowLimit": 10000
     },
     "inputWidgets": {},
     "nuid": "b0c3ebf4-e72d-41c0-a6da-0f7737c52f15",
     "showTitle": false,
     "title": ""
    }
   },
   "outputs": [],
   "source": [
    "%sql\n",
    "CREATE CATALOG remuneracao;\n",
    "USE CATALOG remuneracao;\n",
    "CREATE SCHEMA explorer;\n",
    "USE explorer;"
   ]
  },
  {
   "cell_type": "code",
   "execution_count": 0,
   "metadata": {
    "application/vnd.databricks.v1+cell": {
     "cellMetadata": {
      "byteLimit": 2048000,
      "implicitDf": true,
      "rowLimit": 10000
     },
     "inputWidgets": {},
     "nuid": "354f1370-08ec-45f8-a9f5-05d77cbbe122",
     "showTitle": false,
     "title": ""
    }
   },
   "outputs": [],
   "source": [
    "%sql\n",
    "CREATE TABLE remuneracao.explorer.remuneracao_day2\n",
    "COMMENT 'Remuneracao Monthly'\n",
    "AS SELECT * FROM databricks_postgres.public.remuneracao_day2;"
   ]
  },
  {
   "cell_type": "code",
   "execution_count": 0,
   "metadata": {
    "application/vnd.databricks.v1+cell": {
     "cellMetadata": {
      "byteLimit": 2048000,
      "implicitDf": true,
      "rowLimit": 10000
     },
     "inputWidgets": {},
     "nuid": "f237b2f1-5d6c-4cdb-b45f-f7c9742e514e",
     "showTitle": false,
     "title": ""
    }
   },
   "outputs": [],
   "source": [
    "%sql\n",
    "SELECT cargo, COUNT(cpf) \n",
    "FROM remuneracao.explorer.remuneracao_day2\n",
    "WHER cargo IS NOT null\n",
    "GROUP BY cargo\n",
    "ORDER BY 2 DESC\n",
    "LIMIT 15"
   ]
  },
  {
   "cell_type": "markdown",
   "metadata": {
    "application/vnd.databricks.v1+cell": {
     "cellMetadata": {
      "byteLimit": 2048000,
      "rowLimit": 10000
     },
     "inputWidgets": {},
     "nuid": "bf5a079a-128d-4bfe-999f-5e8796b272da",
     "showTitle": false,
     "title": ""
    }
   },
   "source": [
    "### Deleting data"
   ]
  },
  {
   "cell_type": "code",
   "execution_count": 0,
   "metadata": {
    "application/vnd.databricks.v1+cell": {
     "cellMetadata": {
      "byteLimit": 2048000,
      "implicitDf": true,
      "rowLimit": 10000
     },
     "inputWidgets": {},
     "nuid": "65a5740d-1425-4aac-928d-0c5161e882de",
     "showTitle": false,
     "title": ""
    }
   },
   "outputs": [],
   "source": [
    "%sql\n",
    "DELETE FROM remuneracao.explorer.remuneracao_day2\n",
    "WHERE CARGO = 'CABO';"
   ]
  },
  {
   "cell_type": "markdown",
   "metadata": {
    "application/vnd.databricks.v1+cell": {
     "cellMetadata": {
      "byteLimit": 2048000,
      "rowLimit": 10000
     },
     "inputWidgets": {},
     "nuid": "7a484a3e-1d16-4019-bcfc-1979fb55cbf4",
     "showTitle": false,
     "title": ""
    }
   },
   "source": [
    "### Updating data"
   ]
  },
  {
   "cell_type": "code",
   "execution_count": 0,
   "metadata": {
    "application/vnd.databricks.v1+cell": {
     "cellMetadata": {
      "byteLimit": 2048000,
      "implicitDf": true,
      "rowLimit": 10000
     },
     "inputWidgets": {},
     "nuid": "ded2978c-f12d-45ea-bc0c-2a345d3ae244",
     "showTitle": false,
     "title": ""
    }
   },
   "outputs": [],
   "source": [
    "%sql\n",
    "UPDATE remuneracao.explorer.remuneracao_day2\n",
    "set liquido = '41.650,92' \n",
    "WHERE CARGO = 'TERCEIRO SARGENTO';"
   ]
  },
  {
   "cell_type": "code",
   "execution_count": 0,
   "metadata": {
    "application/vnd.databricks.v1+cell": {
     "cellMetadata": {
      "byteLimit": 2048000,
      "implicitDf": true,
      "rowLimit": 10000
     },
     "inputWidgets": {},
     "nuid": "2144c7ae-f43d-4ce2-affb-e0d5bd7aa354",
     "showTitle": false,
     "title": ""
    }
   },
   "outputs": [],
   "source": [
    "%sql\n",
    "SELECT CPF, CARGO, LIQUIDO\n",
    "FROM remuneracao.explorer.remuneracao_day2\n",
    "WHERE CARGO = 'TERCEIRO SARGENTO'\n",
    "LIMITE 5;"
   ]
  },
  {
   "cell_type": "markdown",
   "metadata": {
    "application/vnd.databricks.v1+cell": {
     "cellMetadata": {
      "byteLimit": 2048000,
      "rowLimit": 10000
     },
     "inputWidgets": {},
     "nuid": "8c246008-9f9a-4cba-be59-e1912e0c2209",
     "showTitle": false,
     "title": ""
    }
   },
   "source": [
    "### Inserting Data"
   ]
  },
  {
   "cell_type": "code",
   "execution_count": 0,
   "metadata": {
    "application/vnd.databricks.v1+cell": {
     "cellMetadata": {
      "byteLimit": 2048000,
      "implicitDf": true,
      "rowLimit": 10000
     },
     "inputWidgets": {},
     "nuid": "50fb76a8-43fb-46a4-af8d-a5164df8408c",
     "showTitle": false,
     "title": ""
    }
   },
   "outputs": [],
   "source": [
    "%sql\n",
    "INSERT INTO remuneracao_day2 VALUES\n",
    "('JONAS FULANO', '***123456**', 'NARNIA', 'SABATICO', 'APRENDIZ', 'ATIVO', 2, 2022, 62, '104151', ',00', 'NENHUM', ',00', ',00', ',00', ',00', ',00', ',00', ',00', ',00', ',00', ',00', ',00', ',00', ',00', '500000,00', '378000,00'),\n",
    "('NEYMAR', '***456789**', 'BRASIL', 'FUTEBOL', 'ATLETA', 'ATIVO', 2, 2022, 62, '1051621', ',00', 'NENHUM', ',00', ',00', ',00', ',00', ',00', ',00', ',00', ',00', ',00', ',00', ',00', ',00', ',00', '500000,00', '378000,00')"
   ]
  },
  {
   "cell_type": "code",
   "execution_count": 0,
   "metadata": {
    "application/vnd.databricks.v1+cell": {
     "cellMetadata": {
      "byteLimit": 2048000,
      "implicitDf": true,
      "rowLimit": 10000
     },
     "inputWidgets": {},
     "nuid": "b15aa279-701e-4e42-a666-62c75caf8253",
     "showTitle": false,
     "title": ""
    }
   },
   "outputs": [],
   "source": [
    "%sql\n",
    "SELECT * FROM remuneracao_day2\n",
    "WHERE CARGO IN ('SABATICO', 'FUTEBOL')"
   ]
  },
  {
   "cell_type": "markdown",
   "metadata": {
    "application/vnd.databricks.v1+cell": {
     "cellMetadata": {
      "byteLimit": 2048000,
      "rowLimit": 10000
     },
     "inputWidgets": {},
     "nuid": "4411b6eb-6659-4af2-a032-3458a418949e",
     "showTitle": false,
     "title": ""
    }
   },
   "source": [
    "## Merging data with updates!"
   ]
  },
  {
   "cell_type": "code",
   "execution_count": 0,
   "metadata": {
    "application/vnd.databricks.v1+cell": {
     "cellMetadata": {
      "byteLimit": 2048000,
      "implicitDf": true,
      "rowLimit": 10000
     },
     "inputWidgets": {},
     "nuid": "d0069181-1826-45f8-99d9-27c02a6eadb8",
     "showTitle": false,
     "title": ""
    }
   },
   "outputs": [],
   "source": [
    "%sql\n",
    "CREATE TABLE remuneracao.explorer.remuneracao_deep_clone\n",
    "CLONE remuneracao.explorer.remuneracao_day2"
   ]
  },
  {
   "cell_type": "code",
   "execution_count": 0,
   "metadata": {
    "application/vnd.databricks.v1+cell": {
     "cellMetadata": {
      "byteLimit": 2048000,
      "implicitDf": true,
      "rowLimit": 10000
     },
     "inputWidgets": {},
     "nuid": "1091d2cd-923e-499a-a627-d25a3e8015aa",
     "showTitle": false,
     "title": ""
    }
   },
   "outputs": [],
   "source": [
    "%sql\n",
    "TRUNCATE TABLE remuneracao.explorer.remuneracao_deep_clone;"
   ]
  },
  {
   "cell_type": "code",
   "execution_count": 0,
   "metadata": {
    "application/vnd.databricks.v1+cell": {
     "cellMetadata": {
      "byteLimit": 2048000,
      "implicitDf": true,
      "rowLimit": 10000
     },
     "inputWidgets": {},
     "nuid": "6a0dd22c-b294-41a7-96fd-b62cc0191b28",
     "showTitle": false,
     "title": ""
    }
   },
   "outputs": [],
   "source": [
    "%sql\n",
    "SELECT COUNT(*) FROM remuneracao.explorer.remuneracao_deep_clone;"
   ]
  },
  {
   "cell_type": "code",
   "execution_count": 0,
   "metadata": {
    "application/vnd.databricks.v1+cell": {
     "cellMetadata": {
      "byteLimit": 2048000,
      "implicitDf": true,
      "rowLimit": 10000
     },
     "inputWidgets": {},
     "nuid": "e87c3a0e-c4cf-47f5-a1c3-123e8b62feb3",
     "showTitle": false,
     "title": ""
    }
   },
   "outputs": [],
   "source": [
    "%sql\n",
    "DESCRIBE HISTORY remuneracao.explorer.remuneracao_deep_clone;"
   ]
  },
  {
   "cell_type": "code",
   "execution_count": 0,
   "metadata": {
    "application/vnd.databricks.v1+cell": {
     "cellMetadata": {
      "byteLimit": 2048000,
      "implicitDf": true,
      "rowLimit": 10000
     },
     "inputWidgets": {},
     "nuid": "0289e639-c515-4fd1-bcd9-b432a2f5e6e4",
     "showTitle": false,
     "title": ""
    }
   },
   "outputs": [],
   "source": [
    "%sql\n",
    "ALTER TABLE remuneracao.explorer.remuneracao_deep_clone\n",
    "RENAME TO remuneracao.explorer.remuneracao_updates;"
   ]
  },
  {
   "cell_type": "code",
   "execution_count": 0,
   "metadata": {
    "application/vnd.databricks.v1+cell": {
     "cellMetadata": {
      "byteLimit": 2048000,
      "implicitDf": true,
      "rowLimit": 10000
     },
     "inputWidgets": {},
     "nuid": "5ff0431c-7814-46ff-8b1c-37a2282b9cd5",
     "showTitle": false,
     "title": ""
    }
   },
   "outputs": [],
   "source": [
    "%sql\n",
    "\"DESCRIBE HISTORY remuneracao.explorer.remuneracao_updates;"
   ]
  },
  {
   "cell_type": "code",
   "execution_count": 0,
   "metadata": {
    "application/vnd.databricks.v1+cell": {
     "cellMetadata": {
      "byteLimit": 2048000,
      "implicitDf": true,
      "rowLimit": 10000
     },
     "inputWidgets": {},
     "nuid": "7477860c-8f18-4d95-85b1-3d431ebf5316",
     "showTitle": false,
     "title": ""
    }
   },
   "outputs": [],
   "source": [
    "%sql\n",
    "DESCRIBE DETAIL remuneracao.explorer.remuneracao_updates"
   ]
  },
  {
   "cell_type": "code",
   "execution_count": 0,
   "metadata": {
    "application/vnd.databricks.v1+cell": {
     "cellMetadata": {
      "byteLimit": 2048000,
      "implicitDf": true,
      "rowLimit": 10000
     },
     "inputWidgets": {},
     "nuid": "9b238232-80b1-4dac-be4b-af72d5588348",
     "showTitle": false,
     "title": ""
    }
   },
   "outputs": [],
   "source": [
    "%sql\n",
    "INSERT INTO remuneracao.explorer.remuneracao_updates VALUES\n",
    "('JONAS FULANO', '***123456**', 'NARNIA', 'SABATICO', 'APRENDIZ', 'ATIVO', 2, 2022, 62, '104151', ',00', 'NENHUM', ',00', ',00', ',00', ',00', ',00', ',00', ',00', ',00', ',00', ',00', ',00', ',00', ',00', ',00', ',00'),\n",
    "('NEYMAR', '***456789**', 'COMUNICACOES', 'MARKETING', 'INFLUENCER', 'ATIVO', 2, 2022, 215, '1426', ',00', 'ESPORTE', ',00', ',00', ',00', ',00', ',00', ',00', ',00', ',00', ',00', ',00', ',00', ',00', ',00', '690000,00', '200000,00'),\n",
    "('SILVIO SANTOS', '***519612**', 'COMUNICACOES', 'TELEVISAO', 'APRESENTADOR', 'INATIVO', 2, 2022, 627, '62473', ',00', 'NENHUM', ',00', ',00', ',00', ',00', ',00', ',00', ',00', ',00', ',00', ',00', ',00', ',00', ',00', '100000,00', '99999,00'),\n",
    "('AYRTON SENNA', '***696262**', 'ESPORTES', 'CORRIDA', 'ATLETA', 'INATIVO', 2, 2022, 682, '52677', ',00', 'NENHUM', ',00', ',00', ',00', ',00', ',00', ',00', ',00', ',00', ',00', ',00', ',00', ',00', ',00', '259416,00', '150161,00');"
   ]
  },
  {
   "cell_type": "code",
   "execution_count": 0,
   "metadata": {
    "application/vnd.databricks.v1+cell": {
     "cellMetadata": {
      "byteLimit": 2048000,
      "implicitDf": true,
      "rowLimit": 10000
     },
     "inputWidgets": {},
     "nuid": "0b77ecac-2669-4076-8347-7d9d3ce0b248",
     "showTitle": false,
     "title": ""
    }
   },
   "outputs": [],
   "source": [
    "%sql\n",
    "MERGE INTO remuneracao.explorer.remuneracao_day2 AS re\n",
    "USING remuneracao.explorer.remuneracao_updates AS up\n",
    "ON re.nome = up.nome AND re.cpf = up.cpf AND re.mes = up.mes\n",
    "--WHEN MATCHED THEN\" + \\\n",
    "--  DELETE\" + \\\"\n",
    "WHEN MATCHED AND up.funcao != \"INFLUENCER\" THEN\n",
    "UPDATE SET *\n",
    "WHEN NOT MATCHED THEN\n",
    "INSERT *"
   ]
  },
  {
   "cell_type": "code",
   "execution_count": 0,
   "metadata": {
    "application/vnd.databricks.v1+cell": {
     "cellMetadata": {
      "byteLimit": 2048000,
      "rowLimit": 10000
     },
     "inputWidgets": {},
     "nuid": "f85afd5c-adcc-49d1-960c-ca010f12aab6",
     "showTitle": false,
     "title": ""
    }
   },
   "outputs": [],
   "source": [
    "%sql\n",
    "DESCRIBE HISTORY remuneracao.explorer.remuneracao_day;"
   ]
  },
  {
   "cell_type": "code",
   "execution_count": 0,
   "metadata": {
    "application/vnd.databricks.v1+cell": {
     "cellMetadata": {
      "byteLimit": 2048000,
      "rowLimit": 10000
     },
     "inputWidgets": {},
     "nuid": "44cba763-e29f-4ee7-8d14-696931fa1855",
     "showTitle": false,
     "title": ""
    }
   },
   "outputs": [],
   "source": [
    "%sql\n",
    "SELECT * remuneracao.explorer.remuneracao_day\n",
    "WHERE nome IN ('JONAS FULANO', 'NEYMAR', 'SILVIO SANTOS', 'AYRTON SENNA');"
   ]
  },
  {
   "cell_type": "code",
   "execution_count": 0,
   "metadata": {
    "application/vnd.databricks.v1+cell": {
     "cellMetadata": {
      "byteLimit": 2048000,
      "rowLimit": 10000
     },
     "inputWidgets": {},
     "nuid": "4d887786-8dce-44f1-a335-1212e36e71b4",
     "showTitle": false,
     "title": ""
    }
   },
   "outputs": [],
   "source": [
    "%sql\n",
    "SELECT * FROM remuneracao.explorer.remuneracao_day2 VERSION AS OF 4\n",
    "EXCEPT ALL\n",
    "SELECT * FROM remuneracao.explorer.remuneracao_day2 VERSION AS OF 2"
   ]
  },
  {
   "cell_type": "code",
   "execution_count": 0,
   "metadata": {
    "application/vnd.databricks.v1+cell": {
     "cellMetadata": {
      "byteLimit": 2048000,
      "rowLimit": 10000
     },
     "inputWidgets": {},
     "nuid": "f2ebfc96-a755-4f97-9df0-546bfe039d98",
     "showTitle": false,
     "title": ""
    }
   },
   "outputs": [],
   "source": [
    "%sql\n",
    "RESTORE TABLE remuneracao.explorer.remuneracao_day2 VERSION AS OF 0;"
   ]
  },
  {
   "cell_type": "code",
   "execution_count": 0,
   "metadata": {
    "application/vnd.databricks.v1+cell": {
     "cellMetadata": {
      "byteLimit": 2048000,
      "rowLimit": 10000
     },
     "inputWidgets": {},
     "nuid": "d88c4402-4ead-4166-bf5d-2bbfb3bbdee2",
     "showTitle": false,
     "title": ""
    }
   },
   "outputs": [],
   "source": [
    "%sql\n",
    "SELECT * \n",
    "FROM remuneracao.explorer.remuneracao_day2\n",
    "WHERE nome IN ('JONAS FULANO', 'NEYMAR', 'SILVIO SANTOS', 'AYRTON SENNA')"
   ]
  },
  {
   "cell_type": "markdown",
   "metadata": {
    "application/vnd.databricks.v1+cell": {
     "cellMetadata": {
      "byteLimit": 2048000,
      "rowLimit": 10000
     },
     "inputWidgets": {},
     "nuid": "df252784-5f42-46f9-bdf0-472266718522",
     "showTitle": false,
     "title": ""
    }
   },
   "source": [
    "# REMEMBER:\n",
    "#### To enable a duration out of the minimum allowed (168h / 1week) you must set:\n",
    "`spark.databricks.delta.retentionDurationCheck.enabled false`\n",
    "as parameter settings on your cluster or modifying yout Delta table properties, such as:\n",
    "`tblProps = {`\n",
    "`\"delta.deletedFileRetentionDuration\": \"500 days\"`\n",
    "`\"delta.logRetentionDuration\": \"90 days\",`\n",
    "`\"databricks.delta.retentionDurationCheck.enabled\": \"false\"`\n",
    "`}`"
   ]
  },
  {
   "cell_type": "code",
   "execution_count": 0,
   "metadata": {
    "application/vnd.databricks.v1+cell": {
     "cellMetadata": {
      "byteLimit": 2048000,
      "rowLimit": 10000
     },
     "inputWidgets": {},
     "nuid": "4a87e44b-b840-444b-8a47-2a0f1ff03611",
     "showTitle": false,
     "title": ""
    }
   },
   "outputs": [],
   "source": [
    "%sql\n",
    "VACUUM remuneracao.explorer.remuneracao_day2 RETAIN 0 HOURS DRY RUN;"
   ]
  }
 ],
 "metadata": {
  "application/vnd.databricks.v1+notebook": {
   "dashboards": [],
   "language": "sql",
   "notebookMetadata": {
    "mostRecentlyExecutedCommandWithImplicitDF": {
     "commandId": 569765777084050,
     "dataframes": [
      "_sqldf"
     ]
    },
    "pythonIndentUnit": 4
   },
   "notebookName": "Day 2 [Fighter] - Lakehouse Federation",
   "widgets": {}
  }
 },
 "nbformat": 4,
 "nbformat_minor": 0
}
